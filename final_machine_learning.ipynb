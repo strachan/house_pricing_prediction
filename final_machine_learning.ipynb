{
 "cells": [
  {
   "cell_type": "code",
   "execution_count": 19,
   "metadata": {},
   "outputs": [],
   "source": [
    "import pandas as pd\n",
    "import numpy as np\n",
    "import matplotlib.pyplot as plt"
   ]
  },
  {
   "cell_type": "markdown",
   "metadata": {},
   "source": [
    "### Load Data"
   ]
  },
  {
   "cell_type": "code",
   "execution_count": 773,
   "metadata": {},
   "outputs": [],
   "source": [
    "data = pd.read_csv('../train_wo_missing_values.csv')\n",
    "test = pd.read_csv('../test.csv')"
   ]
  },
  {
   "cell_type": "markdown",
   "metadata": {},
   "source": [
    "### Drop Outliers"
   ]
  },
  {
   "cell_type": "code",
   "execution_count": 774,
   "metadata": {},
   "outputs": [],
   "source": [
    "data.drop(index=[523,1298], inplace=True)"
   ]
  },
  {
   "cell_type": "markdown",
   "metadata": {},
   "source": [
    "### Transform Data and Dummify"
   ]
  },
  {
   "cell_type": "code",
   "execution_count": 775,
   "metadata": {},
   "outputs": [],
   "source": [
    "from transform_full import transform_dataset"
   ]
  },
  {
   "cell_type": "code",
   "execution_count": 776,
   "metadata": {},
   "outputs": [],
   "source": [
    "x, y = transform_dataset(data)"
   ]
  },
  {
   "cell_type": "code",
   "execution_count": 777,
   "metadata": {},
   "outputs": [
    {
     "data": {
      "text/html": [
       "<div>\n",
       "<style scoped>\n",
       "    .dataframe tbody tr th:only-of-type {\n",
       "        vertical-align: middle;\n",
       "    }\n",
       "\n",
       "    .dataframe tbody tr th {\n",
       "        vertical-align: top;\n",
       "    }\n",
       "\n",
       "    .dataframe thead th {\n",
       "        text-align: right;\n",
       "    }\n",
       "</style>\n",
       "<table border=\"1\" class=\"dataframe\">\n",
       "  <thead>\n",
       "    <tr style=\"text-align: right;\">\n",
       "      <th></th>\n",
       "      <th>LotFrontage</th>\n",
       "      <th>LotArea</th>\n",
       "      <th>YearBuilt</th>\n",
       "      <th>YearRemodAdd</th>\n",
       "      <th>MasVnrArea</th>\n",
       "      <th>BsmtFinSF1</th>\n",
       "      <th>BsmtFinSF2</th>\n",
       "      <th>BsmtUnfSF</th>\n",
       "      <th>TotalBsmtSF</th>\n",
       "      <th>1stFlrSF</th>\n",
       "      <th>...</th>\n",
       "      <th>SaleCondition_Alloca</th>\n",
       "      <th>SaleCondition_Family</th>\n",
       "      <th>SaleCondition_Normal</th>\n",
       "      <th>SaleCondition_Partial</th>\n",
       "      <th>LotGrBsmtArea</th>\n",
       "      <th>Q406</th>\n",
       "      <th>Q407</th>\n",
       "      <th>Q408</th>\n",
       "      <th>Q409</th>\n",
       "      <th>Q410</th>\n",
       "    </tr>\n",
       "  </thead>\n",
       "  <tbody>\n",
       "    <tr>\n",
       "      <th>0</th>\n",
       "      <td>4.189655</td>\n",
       "      <td>9.042040</td>\n",
       "      <td>7.602900</td>\n",
       "      <td>7.602900</td>\n",
       "      <td>5.283204</td>\n",
       "      <td>6.561031</td>\n",
       "      <td>0.0</td>\n",
       "      <td>5.017280</td>\n",
       "      <td>6.753438</td>\n",
       "      <td>6.753438</td>\n",
       "      <td>...</td>\n",
       "      <td>0</td>\n",
       "      <td>0</td>\n",
       "      <td>1</td>\n",
       "      <td>0</td>\n",
       "      <td>454.617673</td>\n",
       "      <td>False</td>\n",
       "      <td>False</td>\n",
       "      <td>False</td>\n",
       "      <td>False</td>\n",
       "      <td>False</td>\n",
       "    </tr>\n",
       "    <tr>\n",
       "      <th>1</th>\n",
       "      <td>4.394449</td>\n",
       "      <td>9.169623</td>\n",
       "      <td>7.589336</td>\n",
       "      <td>7.589336</td>\n",
       "      <td>0.000000</td>\n",
       "      <td>6.886532</td>\n",
       "      <td>0.0</td>\n",
       "      <td>5.652489</td>\n",
       "      <td>7.141245</td>\n",
       "      <td>7.141245</td>\n",
       "      <td>...</td>\n",
       "      <td>0</td>\n",
       "      <td>0</td>\n",
       "      <td>1</td>\n",
       "      <td>0</td>\n",
       "      <td>467.626742</td>\n",
       "      <td>False</td>\n",
       "      <td>False</td>\n",
       "      <td>False</td>\n",
       "      <td>False</td>\n",
       "      <td>False</td>\n",
       "    </tr>\n",
       "    <tr>\n",
       "      <th>2</th>\n",
       "      <td>4.234107</td>\n",
       "      <td>9.328212</td>\n",
       "      <td>7.601902</td>\n",
       "      <td>7.602401</td>\n",
       "      <td>5.093750</td>\n",
       "      <td>6.188264</td>\n",
       "      <td>0.0</td>\n",
       "      <td>6.075346</td>\n",
       "      <td>6.825460</td>\n",
       "      <td>6.825460</td>\n",
       "      <td>...</td>\n",
       "      <td>0</td>\n",
       "      <td>0</td>\n",
       "      <td>1</td>\n",
       "      <td>0</td>\n",
       "      <td>476.774707</td>\n",
       "      <td>False</td>\n",
       "      <td>False</td>\n",
       "      <td>False</td>\n",
       "      <td>False</td>\n",
       "      <td>False</td>\n",
       "    </tr>\n",
       "    <tr>\n",
       "      <th>3</th>\n",
       "      <td>4.110874</td>\n",
       "      <td>9.164401</td>\n",
       "      <td>7.557995</td>\n",
       "      <td>7.586296</td>\n",
       "      <td>0.000000</td>\n",
       "      <td>5.379897</td>\n",
       "      <td>0.0</td>\n",
       "      <td>6.293419</td>\n",
       "      <td>6.629363</td>\n",
       "      <td>6.869014</td>\n",
       "      <td>...</td>\n",
       "      <td>0</td>\n",
       "      <td>0</td>\n",
       "      <td>0</td>\n",
       "      <td>0</td>\n",
       "      <td>452.552523</td>\n",
       "      <td>False</td>\n",
       "      <td>False</td>\n",
       "      <td>False</td>\n",
       "      <td>False</td>\n",
       "      <td>False</td>\n",
       "    </tr>\n",
       "    <tr>\n",
       "      <th>4</th>\n",
       "      <td>4.442651</td>\n",
       "      <td>9.565284</td>\n",
       "      <td>7.601402</td>\n",
       "      <td>7.601402</td>\n",
       "      <td>5.860786</td>\n",
       "      <td>6.486161</td>\n",
       "      <td>0.0</td>\n",
       "      <td>6.196444</td>\n",
       "      <td>7.044033</td>\n",
       "      <td>7.044033</td>\n",
       "      <td>...</td>\n",
       "      <td>0</td>\n",
       "      <td>0</td>\n",
       "      <td>1</td>\n",
       "      <td>0</td>\n",
       "      <td>518.526120</td>\n",
       "      <td>False</td>\n",
       "      <td>False</td>\n",
       "      <td>False</td>\n",
       "      <td>False</td>\n",
       "      <td>False</td>\n",
       "    </tr>\n",
       "  </tbody>\n",
       "</table>\n",
       "<p>5 rows × 323 columns</p>\n",
       "</div>"
      ],
      "text/plain": [
       "   LotFrontage   LotArea  YearBuilt  YearRemodAdd  MasVnrArea  BsmtFinSF1  \\\n",
       "0     4.189655  9.042040   7.602900      7.602900    5.283204    6.561031   \n",
       "1     4.394449  9.169623   7.589336      7.589336    0.000000    6.886532   \n",
       "2     4.234107  9.328212   7.601902      7.602401    5.093750    6.188264   \n",
       "3     4.110874  9.164401   7.557995      7.586296    0.000000    5.379897   \n",
       "4     4.442651  9.565284   7.601402      7.601402    5.860786    6.486161   \n",
       "\n",
       "   BsmtFinSF2  BsmtUnfSF  TotalBsmtSF  1stFlrSF  ...    SaleCondition_Alloca  \\\n",
       "0         0.0   5.017280     6.753438  6.753438  ...                       0   \n",
       "1         0.0   5.652489     7.141245  7.141245  ...                       0   \n",
       "2         0.0   6.075346     6.825460  6.825460  ...                       0   \n",
       "3         0.0   6.293419     6.629363  6.869014  ...                       0   \n",
       "4         0.0   6.196444     7.044033  7.044033  ...                       0   \n",
       "\n",
       "   SaleCondition_Family  SaleCondition_Normal  SaleCondition_Partial  \\\n",
       "0                     0                     1                      0   \n",
       "1                     0                     1                      0   \n",
       "2                     0                     1                      0   \n",
       "3                     0                     0                      0   \n",
       "4                     0                     1                      0   \n",
       "\n",
       "   LotGrBsmtArea   Q406   Q407   Q408   Q409   Q410  \n",
       "0     454.617673  False  False  False  False  False  \n",
       "1     467.626742  False  False  False  False  False  \n",
       "2     476.774707  False  False  False  False  False  \n",
       "3     452.552523  False  False  False  False  False  \n",
       "4     518.526120  False  False  False  False  False  \n",
       "\n",
       "[5 rows x 323 columns]"
      ]
     },
     "execution_count": 777,
     "metadata": {},
     "output_type": "execute_result"
    }
   ],
   "source": [
    "x.head()"
   ]
  },
  {
   "cell_type": "markdown",
   "metadata": {},
   "source": [
    "### Evaluation Metric"
   ]
  },
  {
   "cell_type": "code",
   "execution_count": 778,
   "metadata": {},
   "outputs": [],
   "source": [
    "def rmse_cv(model):\n",
    "    rmse= np.sqrt(-cross_val_score(model, x, y, scoring=\"neg_mean_squared_error\", cv = 5))\n",
    "    return(rmse)"
   ]
  },
  {
   "cell_type": "markdown",
   "metadata": {},
   "source": [
    "### Lasso"
   ]
  },
  {
   "cell_type": "code",
   "execution_count": 779,
   "metadata": {},
   "outputs": [],
   "source": [
    "from sklearn.linear_model import LassoCV\n",
    "from sklearn.model_selection import cross_val_score"
   ]
  },
  {
   "cell_type": "markdown",
   "metadata": {},
   "source": [
    "#### Train"
   ]
  },
  {
   "cell_type": "code",
   "execution_count": 780,
   "metadata": {},
   "outputs": [],
   "source": [
    "x3 = x.copy()"
   ]
  },
  {
   "cell_type": "code",
   "execution_count": 796,
   "metadata": {},
   "outputs": [],
   "source": [
    "lasso = LassoCV(alphas = [1, 0.1, 0.001, 0.0005], max_iter=100000).fit(x3, y)"
   ]
  },
  {
   "cell_type": "markdown",
   "metadata": {},
   "source": [
    "#### Results"
   ]
  },
  {
   "cell_type": "code",
   "execution_count": 797,
   "metadata": {},
   "outputs": [
    {
     "name": "stdout",
     "output_type": "stream",
     "text": [
      "R2 = 0.936621550195325\n",
      "RMSE = 0.11447785230853416\n"
     ]
    }
   ],
   "source": [
    "print('R2 = {}'.format(lasso.score(x, y)))\n",
    "print('RMSE = {}'.format(rmse_cv(lasso).mean()))"
   ]
  },
  {
   "cell_type": "markdown",
   "metadata": {},
   "source": [
    "#### Feature Importance"
   ]
  },
  {
   "cell_type": "code",
   "execution_count": 798,
   "metadata": {},
   "outputs": [
    {
     "name": "stdout",
     "output_type": "stream",
     "text": [
      "Lasso used 129 of 323 variables\n"
     ]
    }
   ],
   "source": [
    "coef = lasso.coef_ != 0\n",
    "print('Lasso used {} of {} variables'.format(coef.sum(), len(coef)))"
   ]
  },
  {
   "cell_type": "code",
   "execution_count": 799,
   "metadata": {},
   "outputs": [
    {
     "data": {
      "text/plain": [
       "<BarContainer object of 20 artists>"
      ]
     },
     "execution_count": 799,
     "metadata": {},
     "output_type": "execute_result"
    },
    {
     "data": {
      "image/png": "[encoded data removed]",
      "text/plain": [
       "<Figure size 432x288 with 1 Axes>"
      ]
     },
     "metadata": {},
     "output_type": "display_data"
    }
   ],
   "source": [
    "coef_sorted = pd.Series(lasso.coef_, index=x.columns).sort_values(ascending=False)\n",
    "top_coef = pd.concat([coef_sorted.head(10), coef_sorted.tail(10)]).sort_values()\n",
    "plt.barh(top_coef.index, top_coef.values)"
   ]
  },
  {
   "cell_type": "code",
   "execution_count": 800,
   "metadata": {},
   "outputs": [
    {
     "data": {
      "text/plain": [
       "0.0005"
      ]
     },
     "execution_count": 800,
     "metadata": {},
     "output_type": "execute_result"
    }
   ],
   "source": [
    "lasso.alpha_"
   ]
  },
  {
   "cell_type": "markdown",
   "metadata": {},
   "source": [
    "### GBM"
   ]
  },
  {
   "cell_type": "code",
   "execution_count": 34,
   "metadata": {},
   "outputs": [],
   "source": [
    "from sklearn.ensemble import GradientBoostingRegressor"
   ]
  },
  {
   "cell_type": "markdown",
   "metadata": {},
   "source": [
    "#### Train"
   ]
  },
  {
   "cell_type": "markdown",
   "metadata": {},
   "source": [
    "Selecting default parameters:\n",
    "min_samples_split is approximatly 1% of total number of observations\n",
    "min_samples_leaf should be lower than min_samples_split\n",
    "max_features sqrt is the thumb-rule\n",
    "max_depth based on intuition"
   ]
  },
  {
   "cell_type": "code",
   "execution_count": 72,
   "metadata": {},
   "outputs": [
    {
     "data": {
      "text/plain": [
       "GradientBoostingRegressor(alpha=0.9, criterion='friedman_mse', init=None,\n",
       "             learning_rate=0.1, loss='ls', max_depth=7,\n",
       "             max_features='sqrt', max_leaf_nodes=None,\n",
       "             min_impurity_decrease=0.0, min_impurity_split=None,\n",
       "             min_samples_leaf=10, min_samples_split=100,\n",
       "             min_weight_fraction_leaf=0.0, n_estimators=1000,\n",
       "             presort='auto', random_state=None, subsample=0.8, verbose=0,\n",
       "             warm_start=False)"
      ]
     },
     "execution_count": 72,
     "metadata": {},
     "output_type": "execute_result"
    }
   ],
   "source": [
    "gbm = GradientBoostingRegressor(n_estimators=1000, max_features='sqrt', min_samples_split=100, min_samples_leaf=10, max_depth=7, subsample=0.8, learning_rate=0.1)\n",
    "gbm.fit(x, y)"
   ]
  },
  {
   "cell_type": "markdown",
   "metadata": {},
   "source": [
    "#### Results"
   ]
  },
  {
   "cell_type": "code",
   "execution_count": 73,
   "metadata": {},
   "outputs": [
    {
     "name": "stdout",
     "output_type": "stream",
     "text": [
      "R2 = 0.9977070322181906\n",
      "RMSE = 0.1258815448571864\n"
     ]
    }
   ],
   "source": [
    "print('R2 = {}'.format(gbm.score(x, y)))\n",
    "print('RMSE = {}'.format(rmse_cv(gbm).mean()))"
   ]
  },
  {
   "cell_type": "markdown",
   "metadata": {},
   "source": [
    "#### Feature Importance"
   ]
  },
  {
   "cell_type": "code",
   "execution_count": 290,
   "metadata": {},
   "outputs": [
    {
     "data": {
      "text/plain": [
       "254"
      ]
     },
     "execution_count": 290,
     "metadata": {},
     "output_type": "execute_result"
    }
   ],
   "source": [
    "len(x.columns)"
   ]
  },
  {
   "cell_type": "code",
   "execution_count": 310,
   "metadata": {},
   "outputs": [
    {
     "data": {
      "text/plain": [
       "LotGrBsmtArea           0.038585\n",
       "GrLivAreaCubic          0.035524\n",
       "GrLivAreaSquare         0.035515\n",
       "GrLivArea               0.035299\n",
       "1stFlrSF                0.034998\n",
       "TotalBsmtSF             0.031668\n",
       "YearBuilt               0.031583\n",
       "LotArea                 0.029132\n",
       "GarageYrBlt             0.027758\n",
       "YearRemodAdd            0.026821\n",
       "GarageArea              0.025484\n",
       "BsmtFinSF1              0.023076\n",
       "BsmtUnfSF               0.020944\n",
       "OverallCond_3           0.020569\n",
       "OpenPorchSF             0.018019\n",
       "LotFrontage             0.015838\n",
       "2ndFlrSF                0.014267\n",
       "Neighborhood_Crawfor    0.013084\n",
       "GarageCars              0.013046\n",
       "Functional_Typ          0.012871\n",
       "OverallCond_4           0.012008\n",
       "OverallCond_7           0.011928\n",
       "MoSold                  0.011892\n",
       "EnclosedPorch           0.011600\n",
       "Exterior1st_BrkFace     0.011548\n",
       "dtype: float64"
      ]
     },
     "execution_count": 310,
     "metadata": {},
     "output_type": "execute_result"
    }
   ],
   "source": [
    "feature_importance_gbm = pd.Series(gbm.feature_importances_, index=x.columns).sort_values(ascending=False)\n",
    "feature_importance_gbm[:25]"
   ]
  },
  {
   "cell_type": "code",
   "execution_count": 302,
   "metadata": {},
   "outputs": [
    {
     "data": {
      "text/plain": [
       "<BarContainer object of 20 artists>"
      ]
     },
     "execution_count": 302,
     "metadata": {},
     "output_type": "execute_result"
    },
    {
     "data": {
      "image/png": "[encoded data removed]",
      "text/plain": [
       "<Figure size 432x288 with 1 Axes>"
      ]
     },
     "metadata": {},
     "output_type": "display_data"
    }
   ],
   "source": [
    "feature_top20 = feature_importance_gbm[:20].sort_values()\n",
    "plt.barh(feature_top20.index, feature_top20.values)"
   ]
  },
  {
   "cell_type": "markdown",
   "metadata": {},
   "source": [
    "#### Tuning parameters with GridSearch"
   ]
  },
  {
   "cell_type": "code",
   "execution_count": 76,
   "metadata": {},
   "outputs": [],
   "source": [
    "from sklearn.model_selection import GridSearchCV"
   ]
  },
  {
   "cell_type": "markdown",
   "metadata": {},
   "source": [
    "##### First Attempt (n_estimators)"
   ]
  },
  {
   "cell_type": "markdown",
   "metadata": {},
   "source": [
    "Train"
   ]
  },
  {
   "cell_type": "code",
   "execution_count": 79,
   "metadata": {},
   "outputs": [
    {
     "name": "stderr",
     "output_type": "stream",
     "text": [
      "/anaconda3/lib/python3.6/site-packages/sklearn/model_selection/_search.py:761: DeprecationWarning: The grid_scores_ attribute was deprecated in version 0.18 in favor of the more elaborate cv_results_ attribute. The grid_scores_ attribute will not be available from 0.20\n",
      "  DeprecationWarning)\n"
     ]
    },
    {
     "data": {
      "text/plain": [
       "([mean: -0.01559, std: 0.00146, params: {'n_estimators': 200},\n",
       "  mean: -0.01517, std: 0.00165, params: {'n_estimators': 210},\n",
       "  mean: -0.01599, std: 0.00088, params: {'n_estimators': 220},\n",
       "  mean: -0.01514, std: 0.00166, params: {'n_estimators': 230},\n",
       "  mean: -0.01557, std: 0.00140, params: {'n_estimators': 240},\n",
       "  mean: -0.01547, std: 0.00152, params: {'n_estimators': 250},\n",
       "  mean: -0.01547, std: 0.00166, params: {'n_estimators': 260},\n",
       "  mean: -0.01514, std: 0.00174, params: {'n_estimators': 270},\n",
       "  mean: -0.01590, std: 0.00126, params: {'n_estimators': 280},\n",
       "  mean: -0.01609, std: 0.00150, params: {'n_estimators': 290},\n",
       "  mean: -0.01554, std: 0.00157, params: {'n_estimators': 300},\n",
       "  mean: -0.01541, std: 0.00150, params: {'n_estimators': 310},\n",
       "  mean: -0.01585, std: 0.00136, params: {'n_estimators': 320},\n",
       "  mean: -0.01563, std: 0.00152, params: {'n_estimators': 330},\n",
       "  mean: -0.01552, std: 0.00122, params: {'n_estimators': 340},\n",
       "  mean: -0.01575, std: 0.00137, params: {'n_estimators': 350},\n",
       "  mean: -0.01587, std: 0.00198, params: {'n_estimators': 360},\n",
       "  mean: -0.01569, std: 0.00130, params: {'n_estimators': 370},\n",
       "  mean: -0.01501, std: 0.00187, params: {'n_estimators': 380},\n",
       "  mean: -0.01507, std: 0.00146, params: {'n_estimators': 390},\n",
       "  mean: -0.01548, std: 0.00167, params: {'n_estimators': 400},\n",
       "  mean: -0.01575, std: 0.00179, params: {'n_estimators': 410},\n",
       "  mean: -0.01536, std: 0.00159, params: {'n_estimators': 420},\n",
       "  mean: -0.01568, std: 0.00106, params: {'n_estimators': 430},\n",
       "  mean: -0.01585, std: 0.00137, params: {'n_estimators': 440},\n",
       "  mean: -0.01608, std: 0.00125, params: {'n_estimators': 450},\n",
       "  mean: -0.01517, std: 0.00135, params: {'n_estimators': 460},\n",
       "  mean: -0.01519, std: 0.00126, params: {'n_estimators': 470},\n",
       "  mean: -0.01575, std: 0.00175, params: {'n_estimators': 480},\n",
       "  mean: -0.01594, std: 0.00178, params: {'n_estimators': 490},\n",
       "  mean: -0.01597, std: 0.00173, params: {'n_estimators': 500},\n",
       "  mean: -0.01589, std: 0.00205, params: {'n_estimators': 510},\n",
       "  mean: -0.01593, std: 0.00154, params: {'n_estimators': 520},\n",
       "  mean: -0.01599, std: 0.00151, params: {'n_estimators': 530},\n",
       "  mean: -0.01569, std: 0.00177, params: {'n_estimators': 540},\n",
       "  mean: -0.01612, std: 0.00149, params: {'n_estimators': 550},\n",
       "  mean: -0.01524, std: 0.00198, params: {'n_estimators': 560},\n",
       "  mean: -0.01588, std: 0.00115, params: {'n_estimators': 570},\n",
       "  mean: -0.01523, std: 0.00144, params: {'n_estimators': 580},\n",
       "  mean: -0.01542, std: 0.00162, params: {'n_estimators': 590},\n",
       "  mean: -0.01616, std: 0.00160, params: {'n_estimators': 600},\n",
       "  mean: -0.01623, std: 0.00152, params: {'n_estimators': 610},\n",
       "  mean: -0.01548, std: 0.00175, params: {'n_estimators': 620},\n",
       "  mean: -0.01618, std: 0.00220, params: {'n_estimators': 630},\n",
       "  mean: -0.01549, std: 0.00129, params: {'n_estimators': 640},\n",
       "  mean: -0.01610, std: 0.00104, params: {'n_estimators': 650},\n",
       "  mean: -0.01562, std: 0.00189, params: {'n_estimators': 660},\n",
       "  mean: -0.01553, std: 0.00253, params: {'n_estimators': 670},\n",
       "  mean: -0.01544, std: 0.00170, params: {'n_estimators': 680},\n",
       "  mean: -0.01590, std: 0.00176, params: {'n_estimators': 690},\n",
       "  mean: -0.01592, std: 0.00134, params: {'n_estimators': 700},\n",
       "  mean: -0.01573, std: 0.00189, params: {'n_estimators': 710},\n",
       "  mean: -0.01603, std: 0.00205, params: {'n_estimators': 720},\n",
       "  mean: -0.01619, std: 0.00184, params: {'n_estimators': 730},\n",
       "  mean: -0.01632, std: 0.00173, params: {'n_estimators': 740},\n",
       "  mean: -0.01601, std: 0.00165, params: {'n_estimators': 750},\n",
       "  mean: -0.01619, std: 0.00186, params: {'n_estimators': 760},\n",
       "  mean: -0.01605, std: 0.00175, params: {'n_estimators': 770},\n",
       "  mean: -0.01633, std: 0.00211, params: {'n_estimators': 780},\n",
       "  mean: -0.01588, std: 0.00225, params: {'n_estimators': 790},\n",
       "  mean: -0.01592, std: 0.00171, params: {'n_estimators': 800},\n",
       "  mean: -0.01625, std: 0.00145, params: {'n_estimators': 810},\n",
       "  mean: -0.01602, std: 0.00106, params: {'n_estimators': 820},\n",
       "  mean: -0.01567, std: 0.00115, params: {'n_estimators': 830},\n",
       "  mean: -0.01611, std: 0.00150, params: {'n_estimators': 840},\n",
       "  mean: -0.01641, std: 0.00197, params: {'n_estimators': 850},\n",
       "  mean: -0.01615, std: 0.00149, params: {'n_estimators': 860},\n",
       "  mean: -0.01599, std: 0.00095, params: {'n_estimators': 870},\n",
       "  mean: -0.01621, std: 0.00233, params: {'n_estimators': 880},\n",
       "  mean: -0.01585, std: 0.00177, params: {'n_estimators': 890},\n",
       "  mean: -0.01573, std: 0.00190, params: {'n_estimators': 900},\n",
       "  mean: -0.01610, std: 0.00197, params: {'n_estimators': 910},\n",
       "  mean: -0.01599, std: 0.00177, params: {'n_estimators': 920},\n",
       "  mean: -0.01580, std: 0.00175, params: {'n_estimators': 930},\n",
       "  mean: -0.01578, std: 0.00171, params: {'n_estimators': 940},\n",
       "  mean: -0.01652, std: 0.00224, params: {'n_estimators': 950},\n",
       "  mean: -0.01590, std: 0.00139, params: {'n_estimators': 960},\n",
       "  mean: -0.01593, std: 0.00156, params: {'n_estimators': 970},\n",
       "  mean: -0.01626, std: 0.00136, params: {'n_estimators': 980},\n",
       "  mean: -0.01657, std: 0.00175, params: {'n_estimators': 990},\n",
       "  mean: -0.01626, std: 0.00198, params: {'n_estimators': 1000},\n",
       "  mean: -0.01623, std: 0.00197, params: {'n_estimators': 1010},\n",
       "  mean: -0.01574, std: 0.00182, params: {'n_estimators': 1020},\n",
       "  mean: -0.01596, std: 0.00157, params: {'n_estimators': 1030},\n",
       "  mean: -0.01596, std: 0.00179, params: {'n_estimators': 1040},\n",
       "  mean: -0.01558, std: 0.00135, params: {'n_estimators': 1050},\n",
       "  mean: -0.01616, std: 0.00194, params: {'n_estimators': 1060},\n",
       "  mean: -0.01562, std: 0.00182, params: {'n_estimators': 1070},\n",
       "  mean: -0.01587, std: 0.00155, params: {'n_estimators': 1080},\n",
       "  mean: -0.01587, std: 0.00141, params: {'n_estimators': 1090},\n",
       "  mean: -0.01594, std: 0.00223, params: {'n_estimators': 1100},\n",
       "  mean: -0.01594, std: 0.00159, params: {'n_estimators': 1110},\n",
       "  mean: -0.01622, std: 0.00157, params: {'n_estimators': 1120},\n",
       "  mean: -0.01618, std: 0.00174, params: {'n_estimators': 1130},\n",
       "  mean: -0.01593, std: 0.00211, params: {'n_estimators': 1140},\n",
       "  mean: -0.01631, std: 0.00193, params: {'n_estimators': 1150},\n",
       "  mean: -0.01630, std: 0.00196, params: {'n_estimators': 1160},\n",
       "  mean: -0.01594, std: 0.00218, params: {'n_estimators': 1170},\n",
       "  mean: -0.01585, std: 0.00153, params: {'n_estimators': 1180},\n",
       "  mean: -0.01582, std: 0.00204, params: {'n_estimators': 1190},\n",
       "  mean: -0.01640, std: 0.00166, params: {'n_estimators': 1200},\n",
       "  mean: -0.01672, std: 0.00154, params: {'n_estimators': 1210},\n",
       "  mean: -0.01627, std: 0.00204, params: {'n_estimators': 1220},\n",
       "  mean: -0.01612, std: 0.00113, params: {'n_estimators': 1230},\n",
       "  mean: -0.01593, std: 0.00184, params: {'n_estimators': 1240},\n",
       "  mean: -0.01605, std: 0.00154, params: {'n_estimators': 1250},\n",
       "  mean: -0.01647, std: 0.00170, params: {'n_estimators': 1260},\n",
       "  mean: -0.01587, std: 0.00226, params: {'n_estimators': 1270},\n",
       "  mean: -0.01635, std: 0.00174, params: {'n_estimators': 1280},\n",
       "  mean: -0.01639, std: 0.00177, params: {'n_estimators': 1290},\n",
       "  mean: -0.01634, std: 0.00216, params: {'n_estimators': 1300},\n",
       "  mean: -0.01564, std: 0.00182, params: {'n_estimators': 1310},\n",
       "  mean: -0.01632, std: 0.00118, params: {'n_estimators': 1320},\n",
       "  mean: -0.01589, std: 0.00137, params: {'n_estimators': 1330},\n",
       "  mean: -0.01607, std: 0.00285, params: {'n_estimators': 1340},\n",
       "  mean: -0.01610, std: 0.00242, params: {'n_estimators': 1350},\n",
       "  mean: -0.01631, std: 0.00213, params: {'n_estimators': 1360},\n",
       "  mean: -0.01614, std: 0.00123, params: {'n_estimators': 1370},\n",
       "  mean: -0.01629, std: 0.00178, params: {'n_estimators': 1380},\n",
       "  mean: -0.01611, std: 0.00195, params: {'n_estimators': 1390},\n",
       "  mean: -0.01644, std: 0.00182, params: {'n_estimators': 1400},\n",
       "  mean: -0.01579, std: 0.00186, params: {'n_estimators': 1410},\n",
       "  mean: -0.01669, std: 0.00227, params: {'n_estimators': 1420},\n",
       "  mean: -0.01615, std: 0.00242, params: {'n_estimators': 1430},\n",
       "  mean: -0.01627, std: 0.00139, params: {'n_estimators': 1440},\n",
       "  mean: -0.01646, std: 0.00194, params: {'n_estimators': 1450},\n",
       "  mean: -0.01660, std: 0.00185, params: {'n_estimators': 1460},\n",
       "  mean: -0.01611, std: 0.00243, params: {'n_estimators': 1470},\n",
       "  mean: -0.01647, std: 0.00171, params: {'n_estimators': 1480},\n",
       "  mean: -0.01603, std: 0.00173, params: {'n_estimators': 1490},\n",
       "  mean: -0.01655, std: 0.00222, params: {'n_estimators': 1500}],\n",
       " {'n_estimators': 380},\n",
       " -0.015014153824657706)"
      ]
     },
     "execution_count": 79,
     "metadata": {},
     "output_type": "execute_result"
    }
   ],
   "source": [
    "param_test1 = {'n_estimators':range(200,1501,10)}\n",
    "gsearch1_gbm = GridSearchCV(gbm, param_grid=param_test1, scoring='neg_mean_squared_error', n_jobs=-1, iid=False, cv=5)\n",
    "gsearch1_gbm.fit(x, y)\n",
    "gsearch1_gbm.grid_scores_, gsearch1_gbm.best_params_, gsearch1_gbm.best_score_"
   ]
  },
  {
   "cell_type": "markdown",
   "metadata": {},
   "source": [
    "Results"
   ]
  },
  {
   "cell_type": "code",
   "execution_count": 80,
   "metadata": {},
   "outputs": [
    {
     "name": "stdout",
     "output_type": "stream",
     "text": [
      "R2 = 0.9844884116047558\n",
      "RMSE = 0.124422147126992\n"
     ]
    }
   ],
   "source": [
    "print('R2 = {}'.format(gsearch1_gbm.best_estimator_.score(x, y)))\n",
    "print('RMSE = {}'.format(rmse_cv(gsearch1_gbm.best_estimator_).mean()))"
   ]
  },
  {
   "cell_type": "markdown",
   "metadata": {},
   "source": [
    "##### Second Attempt (max_depth and min_samples_split)"
   ]
  },
  {
   "cell_type": "raw",
   "metadata": {},
   "source": [
    "Train"
   ]
  },
  {
   "cell_type": "code",
   "execution_count": 94,
   "metadata": {},
   "outputs": [
    {
     "name": "stderr",
     "output_type": "stream",
     "text": [
      "/anaconda3/lib/python3.6/site-packages/sklearn/model_selection/_search.py:761: DeprecationWarning: The grid_scores_ attribute was deprecated in version 0.18 in favor of the more elaborate cv_results_ attribute. The grid_scores_ attribute will not be available from 0.20\n",
      "  DeprecationWarning)\n"
     ]
    },
    {
     "data": {
      "text/plain": [
       "([mean: -0.01493, std: 0.00135, params: {'max_depth': 3, 'min_samples_split': 20},\n",
       "  mean: -0.01460, std: 0.00131, params: {'max_depth': 3, 'min_samples_split': 40},\n",
       "  mean: -0.01507, std: 0.00173, params: {'max_depth': 3, 'min_samples_split': 60},\n",
       "  mean: -0.01518, std: 0.00121, params: {'max_depth': 3, 'min_samples_split': 80},\n",
       "  mean: -0.01515, std: 0.00175, params: {'max_depth': 3, 'min_samples_split': 100},\n",
       "  mean: -0.01514, std: 0.00099, params: {'max_depth': 3, 'min_samples_split': 120},\n",
       "  mean: -0.01501, std: 0.00183, params: {'max_depth': 5, 'min_samples_split': 20},\n",
       "  mean: -0.01569, std: 0.00153, params: {'max_depth': 5, 'min_samples_split': 40},\n",
       "  mean: -0.01565, std: 0.00176, params: {'max_depth': 5, 'min_samples_split': 60},\n",
       "  mean: -0.01494, std: 0.00138, params: {'max_depth': 5, 'min_samples_split': 80},\n",
       "  mean: -0.01570, std: 0.00153, params: {'max_depth': 5, 'min_samples_split': 100},\n",
       "  mean: -0.01543, std: 0.00140, params: {'max_depth': 5, 'min_samples_split': 120},\n",
       "  mean: -0.01635, std: 0.00204, params: {'max_depth': 7, 'min_samples_split': 20},\n",
       "  mean: -0.01580, std: 0.00148, params: {'max_depth': 7, 'min_samples_split': 40},\n",
       "  mean: -0.01526, std: 0.00100, params: {'max_depth': 7, 'min_samples_split': 60},\n",
       "  mean: -0.01555, std: 0.00105, params: {'max_depth': 7, 'min_samples_split': 80},\n",
       "  mean: -0.01567, std: 0.00124, params: {'max_depth': 7, 'min_samples_split': 100},\n",
       "  mean: -0.01568, std: 0.00179, params: {'max_depth': 7, 'min_samples_split': 120},\n",
       "  mean: -0.01628, std: 0.00214, params: {'max_depth': 9, 'min_samples_split': 20},\n",
       "  mean: -0.01626, std: 0.00188, params: {'max_depth': 9, 'min_samples_split': 40},\n",
       "  mean: -0.01587, std: 0.00087, params: {'max_depth': 9, 'min_samples_split': 60},\n",
       "  mean: -0.01648, std: 0.00178, params: {'max_depth': 9, 'min_samples_split': 80},\n",
       "  mean: -0.01606, std: 0.00166, params: {'max_depth': 9, 'min_samples_split': 100},\n",
       "  mean: -0.01541, std: 0.00137, params: {'max_depth': 9, 'min_samples_split': 120},\n",
       "  mean: -0.01648, std: 0.00162, params: {'max_depth': 11, 'min_samples_split': 20},\n",
       "  mean: -0.01694, std: 0.00153, params: {'max_depth': 11, 'min_samples_split': 40},\n",
       "  mean: -0.01599, std: 0.00103, params: {'max_depth': 11, 'min_samples_split': 60},\n",
       "  mean: -0.01582, std: 0.00167, params: {'max_depth': 11, 'min_samples_split': 80},\n",
       "  mean: -0.01602, std: 0.00130, params: {'max_depth': 11, 'min_samples_split': 100},\n",
       "  mean: -0.01579, std: 0.00157, params: {'max_depth': 11, 'min_samples_split': 120}],\n",
       " {'max_depth': 3, 'min_samples_split': 40},\n",
       " -0.014597481206112112)"
      ]
     },
     "execution_count": 94,
     "metadata": {},
     "output_type": "execute_result"
    }
   ],
   "source": [
    "param_test2 = {'max_depth':range(3,12,2), 'min_samples_split':range(20,121,20)}\n",
    "gsearch2_gbm = GridSearchCV(estimator = GradientBoostingRegressor(learning_rate=0.1, n_estimators=380, max_features='sqrt', subsample=0.8, min_samples_leaf=10), \n",
    "param_grid = param_test2, scoring='neg_mean_squared_error',n_jobs=4,iid=False, cv=5)\n",
    "gsearch2_gbm.fit(x,y)\n",
    "gsearch2_gbm.grid_scores_, gsearch2_gbm.best_params_, gsearch2_gbm.best_score_"
   ]
  },
  {
   "cell_type": "markdown",
   "metadata": {},
   "source": [
    "Results"
   ]
  },
  {
   "cell_type": "code",
   "execution_count": 95,
   "metadata": {},
   "outputs": [
    {
     "name": "stdout",
     "output_type": "stream",
     "text": [
      "R2 = 0.9593991505555762\n",
      "RMSE = 0.12177661497642918\n"
     ]
    }
   ],
   "source": [
    "print('R2 = {}'.format(gsearch2_gbm.best_estimator_.score(x, y)))\n",
    "print('RMSE = {}'.format(rmse_cv(gsearch2_gbm.best_estimator_).mean()))"
   ]
  },
  {
   "cell_type": "markdown",
   "metadata": {},
   "source": [
    "##### Third Attempt (min_samples_leaf and min_samples_split)"
   ]
  },
  {
   "cell_type": "code",
   "execution_count": 96,
   "metadata": {},
   "outputs": [
    {
     "name": "stderr",
     "output_type": "stream",
     "text": [
      "/anaconda3/lib/python3.6/site-packages/sklearn/model_selection/_search.py:761: DeprecationWarning: The grid_scores_ attribute was deprecated in version 0.18 in favor of the more elaborate cv_results_ attribute. The grid_scores_ attribute will not be available from 0.20\n",
      "  DeprecationWarning)\n"
     ]
    },
    {
     "data": {
      "text/plain": [
       "([mean: -0.01535, std: 0.00109, params: {'min_samples_leaf': 10, 'min_samples_split': 20},\n",
       "  mean: -0.01481, std: 0.00179, params: {'min_samples_leaf': 10, 'min_samples_split': 40},\n",
       "  mean: -0.01484, std: 0.00158, params: {'min_samples_leaf': 10, 'min_samples_split': 60},\n",
       "  mean: -0.01466, std: 0.00105, params: {'min_samples_leaf': 10, 'min_samples_split': 80},\n",
       "  mean: -0.01559, std: 0.00163, params: {'min_samples_leaf': 10, 'min_samples_split': 100},\n",
       "  mean: -0.01503, std: 0.00164, params: {'min_samples_leaf': 10, 'min_samples_split': 120},\n",
       "  mean: -0.01528, std: 0.00138, params: {'min_samples_leaf': 10, 'min_samples_split': 140},\n",
       "  mean: -0.01494, std: 0.00134, params: {'min_samples_leaf': 10, 'min_samples_split': 160},\n",
       "  mean: -0.01597, std: 0.00161, params: {'min_samples_leaf': 20, 'min_samples_split': 20},\n",
       "  mean: -0.01579, std: 0.00118, params: {'min_samples_leaf': 20, 'min_samples_split': 40},\n",
       "  mean: -0.01570, std: 0.00142, params: {'min_samples_leaf': 20, 'min_samples_split': 60},\n",
       "  mean: -0.01567, std: 0.00143, params: {'min_samples_leaf': 20, 'min_samples_split': 80},\n",
       "  mean: -0.01532, std: 0.00121, params: {'min_samples_leaf': 20, 'min_samples_split': 100},\n",
       "  mean: -0.01601, std: 0.00121, params: {'min_samples_leaf': 20, 'min_samples_split': 120},\n",
       "  mean: -0.01608, std: 0.00145, params: {'min_samples_leaf': 20, 'min_samples_split': 140},\n",
       "  mean: -0.01625, std: 0.00091, params: {'min_samples_leaf': 20, 'min_samples_split': 160},\n",
       "  mean: -0.01608, std: 0.00106, params: {'min_samples_leaf': 30, 'min_samples_split': 20},\n",
       "  mean: -0.01639, std: 0.00091, params: {'min_samples_leaf': 30, 'min_samples_split': 40},\n",
       "  mean: -0.01546, std: 0.00118, params: {'min_samples_leaf': 30, 'min_samples_split': 60},\n",
       "  mean: -0.01665, std: 0.00128, params: {'min_samples_leaf': 30, 'min_samples_split': 80},\n",
       "  mean: -0.01682, std: 0.00143, params: {'min_samples_leaf': 30, 'min_samples_split': 100},\n",
       "  mean: -0.01636, std: 0.00138, params: {'min_samples_leaf': 30, 'min_samples_split': 120},\n",
       "  mean: -0.01636, std: 0.00155, params: {'min_samples_leaf': 30, 'min_samples_split': 140},\n",
       "  mean: -0.01643, std: 0.00151, params: {'min_samples_leaf': 30, 'min_samples_split': 160},\n",
       "  mean: -0.01757, std: 0.00102, params: {'min_samples_leaf': 40, 'min_samples_split': 20},\n",
       "  mean: -0.01737, std: 0.00076, params: {'min_samples_leaf': 40, 'min_samples_split': 40},\n",
       "  mean: -0.01743, std: 0.00107, params: {'min_samples_leaf': 40, 'min_samples_split': 60},\n",
       "  mean: -0.01765, std: 0.00169, params: {'min_samples_leaf': 40, 'min_samples_split': 80},\n",
       "  mean: -0.01744, std: 0.00094, params: {'min_samples_leaf': 40, 'min_samples_split': 100},\n",
       "  mean: -0.01742, std: 0.00080, params: {'min_samples_leaf': 40, 'min_samples_split': 120},\n",
       "  mean: -0.01757, std: 0.00153, params: {'min_samples_leaf': 40, 'min_samples_split': 140},\n",
       "  mean: -0.01712, std: 0.00101, params: {'min_samples_leaf': 40, 'min_samples_split': 160},\n",
       "  mean: -0.01779, std: 0.00100, params: {'min_samples_leaf': 50, 'min_samples_split': 20},\n",
       "  mean: -0.01786, std: 0.00104, params: {'min_samples_leaf': 50, 'min_samples_split': 40},\n",
       "  mean: -0.01750, std: 0.00164, params: {'min_samples_leaf': 50, 'min_samples_split': 60},\n",
       "  mean: -0.01844, std: 0.00158, params: {'min_samples_leaf': 50, 'min_samples_split': 80},\n",
       "  mean: -0.01805, std: 0.00164, params: {'min_samples_leaf': 50, 'min_samples_split': 100},\n",
       "  mean: -0.01834, std: 0.00109, params: {'min_samples_leaf': 50, 'min_samples_split': 120},\n",
       "  mean: -0.01792, std: 0.00124, params: {'min_samples_leaf': 50, 'min_samples_split': 140},\n",
       "  mean: -0.01808, std: 0.00090, params: {'min_samples_leaf': 50, 'min_samples_split': 160},\n",
       "  mean: -0.01782, std: 0.00113, params: {'min_samples_leaf': 60, 'min_samples_split': 20},\n",
       "  mean: -0.01815, std: 0.00076, params: {'min_samples_leaf': 60, 'min_samples_split': 40},\n",
       "  mean: -0.01809, std: 0.00142, params: {'min_samples_leaf': 60, 'min_samples_split': 60},\n",
       "  mean: -0.01833, std: 0.00128, params: {'min_samples_leaf': 60, 'min_samples_split': 80},\n",
       "  mean: -0.01735, std: 0.00106, params: {'min_samples_leaf': 60, 'min_samples_split': 100},\n",
       "  mean: -0.01831, std: 0.00132, params: {'min_samples_leaf': 60, 'min_samples_split': 120},\n",
       "  mean: -0.01842, std: 0.00140, params: {'min_samples_leaf': 60, 'min_samples_split': 140},\n",
       "  mean: -0.01788, std: 0.00094, params: {'min_samples_leaf': 60, 'min_samples_split': 160}],\n",
       " {'min_samples_leaf': 10, 'min_samples_split': 80},\n",
       " -0.014658348921946193)"
      ]
     },
     "execution_count": 96,
     "metadata": {},
     "output_type": "execute_result"
    }
   ],
   "source": [
    "param_test3 = {'min_samples_split':range(20,161,20), 'min_samples_leaf':range(10,61,10)}\n",
    "gsearch3_gbm = GridSearchCV(estimator = GradientBoostingRegressor(learning_rate=0.1, n_estimators=380, max_features='sqrt', subsample=0.8, max_depth=3), \n",
    "param_grid = param_test3, scoring='neg_mean_squared_error',n_jobs=4,iid=False, cv=5)\n",
    "gsearch3_gbm.fit(x,y)\n",
    "gsearch3_gbm.grid_scores_, gsearch3_gbm.best_params_, gsearch3_gbm.best_score_"
   ]
  },
  {
   "cell_type": "code",
   "execution_count": 129,
   "metadata": {},
   "outputs": [
    {
     "name": "stdout",
     "output_type": "stream",
     "text": [
      "R2 = 0.9564891048272538\n",
      "RMSE = 0.12342047303647943\n"
     ]
    }
   ],
   "source": [
    "print('R2 = {}'.format(gsearch3_gbm.best_estimator_.score(x, y)))\n",
    "print('RMSE = {}'.format(rmse_cv(gsearch3_gbm.best_estimator_).mean()))"
   ]
  },
  {
   "cell_type": "markdown",
   "metadata": {},
   "source": [
    "##### Forth Attempt (max_features)"
   ]
  },
  {
   "cell_type": "code",
   "execution_count": 104,
   "metadata": {},
   "outputs": [
    {
     "name": "stderr",
     "output_type": "stream",
     "text": [
      "/anaconda3/lib/python3.6/site-packages/sklearn/model_selection/_search.py:761: DeprecationWarning: The grid_scores_ attribute was deprecated in version 0.18 in favor of the more elaborate cv_results_ attribute. The grid_scores_ attribute will not be available from 0.20\n",
      "  DeprecationWarning)\n"
     ]
    },
    {
     "data": {
      "text/plain": [
       "([mean: -0.01557, std: 0.00204, params: {'max_features': 7},\n",
       "  mean: -0.01575, std: 0.00189, params: {'max_features': 9},\n",
       "  mean: -0.01631, std: 0.00185, params: {'max_features': 11},\n",
       "  mean: -0.01551, std: 0.00147, params: {'max_features': 13},\n",
       "  mean: -0.01562, std: 0.00200, params: {'max_features': 15},\n",
       "  mean: -0.01496, std: 0.00176, params: {'max_features': 17},\n",
       "  mean: -0.01578, std: 0.00182, params: {'max_features': 19}],\n",
       " {'max_features': 17},\n",
       " -0.01495935369113261)"
      ]
     },
     "execution_count": 104,
     "metadata": {},
     "output_type": "execute_result"
    }
   ],
   "source": [
    "param_test4 = {'max_features':range(7,20,2)}\n",
    "gsearch4_gbm = GridSearchCV(estimator = GradientBoostingRegressor(learning_rate=0.1, n_estimators=380, min_samples_split=80, min_samples_leaf=10, subsample=0.8, max_depth=7), \n",
    "param_grid = param_test4, scoring='neg_mean_squared_error',n_jobs=4,iid=False, cv=5)\n",
    "gsearch4_gbm.fit(x,y)\n",
    "gsearch4_gbm.grid_scores_, gsearch4_gbm.best_params_, gsearch4_gbm.best_score_"
   ]
  },
  {
   "cell_type": "code",
   "execution_count": 127,
   "metadata": {},
   "outputs": [
    {
     "name": "stdout",
     "output_type": "stream",
     "text": [
      "R2 = 0.9888047770339554\n",
      "RMSE = 0.1261835044588583\n"
     ]
    }
   ],
   "source": [
    "print('R2 = {}'.format(gsearch4_gbm.best_estimator_.score(x, y)))\n",
    "print('RMSE = {}'.format(rmse_cv(gsearch4_gbm.best_estimator_).mean()))"
   ]
  },
  {
   "cell_type": "markdown",
   "metadata": {},
   "source": [
    "#### Fifth Attempt (subsample)"
   ]
  },
  {
   "cell_type": "code",
   "execution_count": 117,
   "metadata": {},
   "outputs": [
    {
     "name": "stderr",
     "output_type": "stream",
     "text": [
      "/anaconda3/lib/python3.6/site-packages/sklearn/model_selection/_search.py:761: DeprecationWarning: The grid_scores_ attribute was deprecated in version 0.18 in favor of the more elaborate cv_results_ attribute. The grid_scores_ attribute will not be available from 0.20\n",
      "  DeprecationWarning)\n"
     ]
    },
    {
     "data": {
      "text/plain": [
       "([mean: -0.01546, std: 0.00310, params: {'subsample': 0.6},\n",
       "  mean: -0.01537, std: 0.00391, params: {'subsample': 0.7},\n",
       "  mean: -0.01537, std: 0.00409, params: {'subsample': 0.75},\n",
       "  mean: -0.01539, std: 0.00406, params: {'subsample': 0.8},\n",
       "  mean: -0.01535, std: 0.00342, params: {'subsample': 0.85},\n",
       "  mean: -0.01556, std: 0.00453, params: {'subsample': 0.9}],\n",
       " {'subsample': 0.85},\n",
       " -0.015352018648432724)"
      ]
     },
     "execution_count": 117,
     "metadata": {},
     "output_type": "execute_result"
    }
   ],
   "source": [
    "param_test5 = {'subsample':[0.6,0.7,0.75,0.8,0.85,0.9]}\n",
    "gsearch5_gbm = GridSearchCV(estimator = GradientBoostingRegressor(learning_rate=0.1, n_estimators=380,max_depth=7,min_samples_split=80, min_samples_leaf=10, subsample=0.8, max_features=13),\n",
    "param_grid = param_test5, scoring='neg_mean_squared_error',n_jobs=4,iid=False, cv=10)\n",
    "gsearch5_gbm.fit(x, y)\n",
    "gsearch5_gbm.grid_scores_, gsearch5_gbm.best_params_, gsearch5_gbm.best_score_"
   ]
  },
  {
   "cell_type": "code",
   "execution_count": 126,
   "metadata": {},
   "outputs": [
    {
     "name": "stdout",
     "output_type": "stream",
     "text": [
      "R2 = 0.9878610628143983\n",
      "RMSE = 0.12544152637119224\n"
     ]
    }
   ],
   "source": [
    "print('R2 = {}'.format(gsearch5_gbm.best_estimator_.score(x, y)))\n",
    "print('RMSE = {}'.format(rmse_cv(gsearch5_gbm.best_estimator_).mean()))"
   ]
  },
  {
   "cell_type": "markdown",
   "metadata": {},
   "source": [
    "#### Final Attempt"
   ]
  },
  {
   "cell_type": "code",
   "execution_count": 400,
   "metadata": {},
   "outputs": [
    {
     "data": {
      "text/plain": [
       "GradientBoostingRegressor(alpha=0.9, criterion='friedman_mse', init=None,\n",
       "             learning_rate=0.05, loss='ls', max_depth=7, max_features=None,\n",
       "             max_leaf_nodes=None, min_impurity_decrease=0.0,\n",
       "             min_impurity_split=None, min_samples_leaf=10,\n",
       "             min_samples_split=80, min_weight_fraction_leaf=0.0,\n",
       "             n_estimators=760, presort='auto', random_state=None,\n",
       "             subsample=0.85, verbose=0, warm_start=False)"
      ]
     },
     "execution_count": 400,
     "metadata": {},
     "output_type": "execute_result"
    }
   ],
   "source": [
    "gbm = GradientBoostingRegressor(learning_rate=0.05, n_estimators=760, min_samples_split=80, min_samples_leaf=10, subsample=0.85, max_depth=7)\n",
    "gbm.fit(x, y)"
   ]
  },
  {
   "cell_type": "code",
   "execution_count": 401,
   "metadata": {},
   "outputs": [
    {
     "name": "stdout",
     "output_type": "stream",
     "text": [
      "R2 = 0.9962930230790022\n",
      "RMSE = 0.12520170995560514\n"
     ]
    }
   ],
   "source": [
    "print('R2 = {}'.format(gbm.score(x, y)))\n",
    "print('RMSE = {}'.format(rmse_cv(gbm).mean()))"
   ]
  },
  {
   "cell_type": "code",
   "execution_count": null,
   "metadata": {},
   "outputs": [],
   "source": []
  },
  {
   "cell_type": "markdown",
   "metadata": {},
   "source": [
    "### XGBoost"
   ]
  },
  {
   "cell_type": "code",
   "execution_count": 131,
   "metadata": {},
   "outputs": [],
   "source": [
    "from xgboost import XGBRegressor"
   ]
  },
  {
   "cell_type": "markdown",
   "metadata": {},
   "source": [
    "#### Train"
   ]
  },
  {
   "cell_type": "code",
   "execution_count": 153,
   "metadata": {},
   "outputs": [
    {
     "data": {
      "text/plain": [
       "XGBRegressor(base_score=0.5, booster='gbtree', colsample_bylevel=1,\n",
       "       colsample_bytree=1, gamma=0, learning_rate=0.01, max_delta_step=0,\n",
       "       max_depth=3, min_child_weight=1, missing=None, n_estimators=1000,\n",
       "       n_jobs=1, nthread=None, objective='reg:linear', random_state=10,\n",
       "       reg_alpha=0, reg_lambda=1, scale_pos_weight=1, seed=None,\n",
       "       silent=True, subsample=1)"
      ]
     },
     "execution_count": 153,
     "metadata": {},
     "output_type": "execute_result"
    }
   ],
   "source": [
    "xgboost = XGBRegressor(learning_rate=0.01, n_estimators=1000, random_state=10)\n",
    "xgboost.fit(x, y)"
   ]
  },
  {
   "cell_type": "markdown",
   "metadata": {},
   "source": [
    "#### Results"
   ]
  },
  {
   "cell_type": "code",
   "execution_count": 154,
   "metadata": {},
   "outputs": [
    {
     "name": "stdout",
     "output_type": "stream",
     "text": [
      "R2 = 0.9476474563331247\n",
      "RMSE = 0.12964034276402114\n"
     ]
    }
   ],
   "source": [
    "print('R2 = {}'.format(xgboost.score(x, y)))\n",
    "print('RMSE = {}'.format(rmse_cv(xgboost).mean()))"
   ]
  },
  {
   "cell_type": "markdown",
   "metadata": {},
   "source": [
    "#### Feature Importance"
   ]
  },
  {
   "cell_type": "code",
   "execution_count": 155,
   "metadata": {},
   "outputs": [
    {
     "data": {
      "text/plain": [
       "GrLivArea       0.079259\n",
       "LotArea         0.067608\n",
       "TotalBsmtSF     0.045896\n",
       "YearBuilt       0.043071\n",
       "BsmtFinSF1      0.039365\n",
       "GarageArea      0.038658\n",
       "1stFlrSF        0.030715\n",
       "YearRemodAdd    0.028773\n",
       "GarageYrBlt     0.024537\n",
       "OpenPorchSF     0.023301\n",
       "dtype: float32"
      ]
     },
     "execution_count": 155,
     "metadata": {},
     "output_type": "execute_result"
    }
   ],
   "source": [
    "feature_importance_xgboost = pd.Series(xgboost.feature_importances_, index=x.columns).sort_values(ascending=False)\n",
    "feature_importance_xgboost[:10]"
   ]
  },
  {
   "cell_type": "code",
   "execution_count": 156,
   "metadata": {},
   "outputs": [
    {
     "data": {
      "text/plain": [
       "<BarContainer object of 20 artists>"
      ]
     },
     "execution_count": 156,
     "metadata": {},
     "output_type": "execute_result"
    },
    {
     "data": {
      "image/png": "[encoded data removed]",
      "text/plain": [
       "<Figure size 432x288 with 1 Axes>"
      ]
     },
     "metadata": {},
     "output_type": "display_data"
    }
   ],
   "source": [
    "feature_top20 = feature_importance_xgboost[:20].sort_values()\n",
    "plt.barh(feature_top20.index, feature_top20.values)"
   ]
  },
  {
   "cell_type": "markdown",
   "metadata": {},
   "source": [
    "#### Tuning parameters with Bayesian Optimization"
   ]
  },
  {
   "cell_type": "code",
   "execution_count": 746,
   "metadata": {},
   "outputs": [],
   "source": [
    "x['LotGrBsmtArea'] = x['GrLivArea'] * x['LotArea'] * x['TotalBsmtSF']\n",
    "x['GrLivAreaSquare'] = x['GrLivArea']**2\n",
    "x['GrLivAreaCubic'] = x['GrLivArea']**3\n",
    "x['Q406'] = ((x['MoSold'] == 10) | (x['MoSold'] == 11) | (x['MoSold'] == 12) & (x['YrSold'] == 2006))\n",
    "x['Q407'] = ((x['MoSold'] == 10) | (x['MoSold'] == 11) | (x['MoSold'] == 12) & (x['YrSold'] == 2007))\n",
    "x['Q408'] = ((x['MoSold'] == 10) | (x['MoSold'] == 11) | (x['MoSold'] == 12) & (x['YrSold'] == 2008))\n",
    "x['Q409'] = ((x['MoSold'] == 10) | (x['MoSold'] == 11) | (x['MoSold'] == 12) & (x['YrSold'] == 2009))\n",
    "x['Q410'] = ((x['MoSold'] == 10) | (x['MoSold'] == 11) | (x['MoSold'] == 12) & (x['YrSold'] == 2010))"
   ]
  },
  {
   "cell_type": "code",
   "execution_count": 203,
   "metadata": {},
   "outputs": [],
   "source": [
    "def xgboostcv(max_depth, min_child_weight, gamma, colsample_bytree, subsample, reg_alpha, n_estimators):\n",
    "    val = cross_val_score(\n",
    "        XGBRegressor(max_depth=int(max_depth),\n",
    "            min_child_weight=int(min_child_weight),\n",
    "            gamma= max(gamma, 0),\n",
    "            colsample_bytree=max(min(colsample_bytree, 1), 0),\n",
    "            subsample=max(min(subsample, 1), 0),\n",
    "            reg_alpha=max(reg_alpha, 0),\n",
    "            learning_rate=0.01,\n",
    "            n_estimators=int(n_estimators),\n",
    "            random_state=10\n",
    "        ),\n",
    "        x, y, scoring='neg_mean_squared_error', cv=5\n",
    "    ).mean()\n",
    "    return val"
   ]
  },
  {
   "cell_type": "code",
   "execution_count": 204,
   "metadata": {},
   "outputs": [],
   "source": [
    "from bayes_opt import BayesianOptimization"
   ]
  },
  {
   "cell_type": "code",
   "execution_count": 205,
   "metadata": {},
   "outputs": [],
   "source": [
    "gp_params = {\"alpha\": 1e-5}"
   ]
  },
  {
   "cell_type": "code",
   "execution_count": 206,
   "metadata": {},
   "outputs": [],
   "source": [
    "xgboostBO = BayesianOptimization(\n",
    "        xgboostcv,\n",
    "        {'min_child_weight': (1, 20),\n",
    "         'colsample_bytree': (0.1, 1),\n",
    "         'max_depth': (5, 15),\n",
    "         'subsample': (0.5, 1),\n",
    "         'gamma': (0, 0.5),\n",
    "         'reg_alpha': (0, 10),\n",
    "         'n_estimators':(200, 1100)\n",
    "        }\n",
    "    )"
   ]
  },
  {
   "cell_type": "code",
   "execution_count": 207,
   "metadata": {},
   "outputs": [
    {
     "name": "stdout",
     "output_type": "stream",
     "text": [
      "\u001b[31mInitialization\u001b[0m\n",
      "\u001b[94m----------------------------------------------------------------------------------------------------------------------------------------------\u001b[0m\n",
      " Step |   Time |      Value |   colsample_bytree |     gamma |   max_depth |   min_child_weight |   n_estimators |   reg_alpha |   subsample | \n",
      "    1 | 00m05s | \u001b[35m  -0.02882\u001b[0m | \u001b[32m            0.1168\u001b[0m | \u001b[32m   0.1449\u001b[0m | \u001b[32m    14.1819\u001b[0m | \u001b[32m           18.7132\u001b[0m | \u001b[32m      766.3116\u001b[0m | \u001b[32m     7.3060\u001b[0m | \u001b[32m     0.7353\u001b[0m | \n",
      "    2 | 00m14s | \u001b[35m  -0.02734\u001b[0m | \u001b[32m            0.4886\u001b[0m | \u001b[32m   0.3387\u001b[0m | \u001b[32m     7.6572\u001b[0m | \u001b[32m           12.3557\u001b[0m | \u001b[32m      652.8658\u001b[0m | \u001b[32m     5.0125\u001b[0m | \u001b[32m     0.6763\u001b[0m | \n",
      "    3 | 00m28s | \u001b[35m  -0.02134\u001b[0m | \u001b[32m            0.5040\u001b[0m | \u001b[32m   0.0883\u001b[0m | \u001b[32m     9.2821\u001b[0m | \u001b[32m           15.3339\u001b[0m | \u001b[32m      934.2739\u001b[0m | \u001b[32m     4.0382\u001b[0m | \u001b[32m     0.8542\u001b[0m | \n",
      "    4 | 00m04s |   -1.22807 |             0.9820 |    0.3605 |      6.0807 |             4.9991 |       238.9891 |      7.7231 |      0.8645 | \n",
      "    5 | 00m51s | \u001b[35m  -0.02027\u001b[0m | \u001b[32m            0.6585\u001b[0m | \u001b[32m   0.2655\u001b[0m | \u001b[32m    14.6669\u001b[0m | \u001b[32m            7.6877\u001b[0m | \u001b[32m      983.3159\u001b[0m | \u001b[32m     0.7334\u001b[0m | \u001b[32m     0.6267\u001b[0m | \n",
      "\u001b[31mBayesian Optimization\u001b[0m\n",
      "\u001b[94m----------------------------------------------------------------------------------------------------------------------------------------------\u001b[0m\n",
      " Step |   Time |      Value |   colsample_bytree |     gamma |   max_depth |   min_child_weight |   n_estimators |   reg_alpha |   subsample | \n",
      "    6 | 00m17s |   -0.04428 |             0.8660 |    0.1879 |      5.4652 |             2.1200 |       465.6454 |      4.8749 |      0.8918 | \n",
      "    7 | 00m23s |   -0.02515 |             0.1000 |    0.0000 |      5.0000 |            20.0000 |      1100.0000 |     10.0000 |      1.0000 | \n",
      "    8 | 00m20s |   -0.05140 |             0.1000 |    0.0000 |     15.0000 |            20.0000 |       541.2981 |     10.0000 |      0.5000 | \n",
      "    9 | 00m58s |   -0.02168 |             1.0000 |    0.5000 |      5.0000 |             1.0000 |       835.0654 |      0.0000 |      0.5000 | \n",
      "   10 | 00m46s |   -0.02054 |             1.0000 |    0.0000 |      5.0000 |             1.0000 |       552.0624 |      0.0000 |      1.0000 | \n",
      "   11 | 02m56s |   -0.02220 |             1.0000 |    0.5000 |     15.0000 |             1.0000 |      1100.0000 |      0.0000 |      1.0000 | \n",
      "   12 | 01m01s |   -0.02756 |             0.8679 |    0.5000 |      5.0000 |             1.0000 |      1031.8272 |     10.0000 |      0.8776 | \n",
      "   13 | 01m21s |   -0.02752 |             1.0000 |    0.0000 |     15.0000 |             1.0000 |       701.9605 |     10.0000 |      1.0000 | \n",
      "   14 | 00m37s | \u001b[35m  -0.01580\u001b[0m | \u001b[32m            0.3762\u001b[0m | \u001b[32m   0.0000\u001b[0m | \u001b[32m     5.0000\u001b[0m | \u001b[32m           20.0000\u001b[0m | \u001b[32m     1051.5965\u001b[0m | \u001b[32m     0.0000\u001b[0m | \u001b[32m     1.0000\u001b[0m | \n",
      "   15 | 00m46s |   -0.02013 |             0.9416 |    0.3162 |      5.0428 |             3.6630 |       733.3924 |      0.0505 |      0.9899 | \n"
     ]
    }
   ],
   "source": [
    "xgboostBO.maximize(n_iter=10, **gp_params)"
   ]
  },
  {
   "cell_type": "code",
   "execution_count": 208,
   "metadata": {},
   "outputs": [
    {
     "name": "stdout",
     "output_type": "stream",
     "text": [
      "XGBoost: -0.015799\n"
     ]
    }
   ],
   "source": [
    "print('XGBoost: %f' % xgboostBO.res['max']['max_val'])"
   ]
  },
  {
   "cell_type": "code",
   "execution_count": 791,
   "metadata": {},
   "outputs": [
    {
     "data": {
      "text/plain": [
       "XGBRegressor(base_score=0.5, booster='gbtree', colsample_bylevel=1,\n",
       "       colsample_bytree=1, gamma=0, learning_rate=0.01, max_delta_step=0,\n",
       "       max_depth=5, min_child_weight=20, missing=None, n_estimators=1050,\n",
       "       n_jobs=1, nthread=None, objective='reg:linear', random_state=10,\n",
       "       reg_alpha=0, reg_lambda=1, scale_pos_weight=1, seed=None,\n",
       "       silent=True, subsample=1)"
      ]
     },
     "execution_count": 791,
     "metadata": {},
     "output_type": "execute_result"
    }
   ],
   "source": [
    "xgboost = XGBRegressor(learning_rate=0.01, n_estimators=1050, max_depth=5, min_child_weight=20, gamma=0, colsample_bytree=1, subsample=1, reg_alpha=0, random_state=10)\n",
    "xgboost.fit(x, y)"
   ]
  },
  {
   "cell_type": "code",
   "execution_count": 792,
   "metadata": {},
   "outputs": [
    {
     "name": "stdout",
     "output_type": "stream",
     "text": [
      "R2 = 0.9577296156489108\n",
      "RMSE = 0.1266189553082544\n"
     ]
    }
   ],
   "source": [
    "print('R2 = {}'.format(xgboost.score(x, y)))\n",
    "print('RMSE = {}'.format(rmse_cv(xgboost).mean()))"
   ]
  },
  {
   "cell_type": "code",
   "execution_count": null,
   "metadata": {},
   "outputs": [],
   "source": []
  },
  {
   "cell_type": "code",
   "execution_count": 231,
   "metadata": {},
   "outputs": [],
   "source": [
    "def gbmcv(max_depth, max_features, min_samples_leaf, min_samples_split, subsample, n_estimators):\n",
    "    val = cross_val_score(\n",
    "        GradientBoostingRegressor(max_depth=int(max_depth),\n",
    "            max_features=int(max_features),\n",
    "            min_samples_leaf= max(min(min_samples_leaf, 1), 0),\n",
    "            min_samples_split=max(min(min_samples_split, 2), 0),\n",
    "            subsample=max(min(subsample, 1), 0),\n",
    "            n_estimators=int(n_estimators),\n",
    "            learning_rate=0.01,\n",
    "            random_state=10\n",
    "        ),\n",
    "        x, y, scoring='neg_mean_squared_error', cv=5\n",
    "    ).mean()\n",
    "    return val"
   ]
  },
  {
   "cell_type": "code",
   "execution_count": 232,
   "metadata": {},
   "outputs": [],
   "source": [
    "gbmBO = BayesianOptimization(\n",
    "        gbmcv,\n",
    "        {'max_features': (4, 20),\n",
    "         'min_samples_leaf': (10, 60),\n",
    "         'max_depth': (3, 15),\n",
    "         'subsample': (0.5, 1),\n",
    "         'min_samples_split': (20, 120),\n",
    "         'n_estimators':(200, 1200)\n",
    "        }\n",
    "    )"
   ]
  },
  {
   "cell_type": "code",
   "execution_count": 233,
   "metadata": {},
   "outputs": [
    {
     "name": "stdout",
     "output_type": "stream",
     "text": [
      "\u001b[31mInitialization\u001b[0m\n",
      "\u001b[94m--------------------------------------------------------------------------------------------------------------------------------------\u001b[0m\n",
      " Step |   Time |      Value |   max_depth |   max_features |   min_samples_leaf |   min_samples_split |   n_estimators |   subsample | \n",
      "    1 | 00m08s | \u001b[35m  -0.01593\u001b[0m | \u001b[32m     8.1509\u001b[0m | \u001b[32m       12.8725\u001b[0m | \u001b[32m           30.0692\u001b[0m | \u001b[32m            88.5846\u001b[0m | \u001b[32m      705.7768\u001b[0m | \u001b[32m     0.7523\u001b[0m | \n",
      "    2 | 00m03s |   -0.02117 |     12.1065 |         5.6966 |            27.8477 |             24.5862 |       309.2079 |      0.6533 | \n",
      "    3 | 00m11s |   -0.01712 |      9.7380 |        14.8333 |            51.1682 |             38.6978 |       608.9703 |      0.9037 | \n",
      "    4 | 00m03s | \u001b[35m  -0.01563\u001b[0m | \u001b[32m     4.9762\u001b[0m | \u001b[32m        8.3618\u001b[0m | \u001b[32m           26.6382\u001b[0m | \u001b[32m            84.8744\u001b[0m | \u001b[32m      996.0290\u001b[0m | \u001b[32m     0.8818\u001b[0m | \n",
      "    5 | 00m21s |   -0.01650 |     13.4217 |        14.9990 |            56.3629 |             21.6501 |       989.3350 |      0.5065 | \n",
      "\u001b[31mBayesian Optimization\u001b[0m\n",
      "\u001b[94m--------------------------------------------------------------------------------------------------------------------------------------\u001b[0m\n",
      " Step |   Time |      Value |   max_depth |   max_features |   min_samples_leaf |   min_samples_split |   n_estimators |   subsample | \n",
      "    6 | 00m18s |   -0.01603 |      8.0458 |         6.9579 |            12.2962 |            117.2380 |      1197.6287 |      0.9558 | \n",
      "    7 | 00m25s |   -0.01572 |      9.2817 |        12.7723 |            58.8093 |             23.9152 |      1198.1737 |      0.5525 | \n",
      "    8 | 00m21s |   -0.01627 |      9.0166 |         7.3783 |            54.1795 |            119.9665 |      1199.2478 |      0.5441 | \n",
      "    9 | 00m15s |   -0.01585 |      5.6106 |         4.3546 |            10.4419 |             23.6288 |      1199.6252 |      0.9408 | \n",
      "   10 | 00m17s | \u001b[35m  -0.01495\u001b[0m | \u001b[32m     3.3810\u001b[0m | \u001b[32m       18.6703\u001b[0m | \u001b[32m           13.5148\u001b[0m | \u001b[32m           118.1326\u001b[0m | \u001b[32m     1199.0764\u001b[0m | \u001b[32m     0.6021\u001b[0m | \n",
      "   11 | 00m16s |   -0.01515 |      3.1052 |        17.4974 |            53.1772 |             20.0979 |      1198.8883 |      0.9848 | \n",
      "   12 | 00m16s |   -0.01759 |      3.0693 |         4.5276 |            57.3073 |            116.4325 |      1199.1652 |      0.9921 | \n",
      "   13 | 00m17s |   -0.02379 |      8.7801 |        17.7920 |            11.2086 |            119.6267 |       201.8981 |      0.8660 | \n",
      "   14 | 00m36s |   -0.01859 |     14.2035 |         6.9716 |            13.7608 |             20.3341 |      1196.9602 |      0.6740 | \n",
      "   15 | 00m19s |   -0.01668 |      3.9985 |         5.0106 |            59.4609 |            119.5664 |      1199.4507 |      0.5048 | \n",
      "   16 | 00m30s |   -0.01517 |      7.3263 |        17.5925 |            58.9413 |             20.5179 |      1198.6280 |      0.5663 | \n",
      "   17 | 00m25s | \u001b[35m  -0.01450\u001b[0m | \u001b[32m     6.0334\u001b[0m | \u001b[32m       12.6566\u001b[0m | \u001b[32m           11.1302\u001b[0m | \u001b[32m            20.1528\u001b[0m | \u001b[32m     1198.0334\u001b[0m | \u001b[32m     0.6818\u001b[0m | \n",
      "   18 | 00m38s |   -0.01664 |      8.1045 |        19.9617 |            10.2559 |             25.9682 |      1199.9940 |      0.9966 | \n",
      "   19 | 00m21s |   -0.01513 |      3.2007 |        12.9775 |            57.1384 |            119.8695 |      1198.4674 |      0.8415 | \n",
      "   20 | 00m35s |   -0.01591 |      8.7288 |        17.3475 |            58.2637 |             24.2125 |      1199.5828 |      0.7555 | \n"
     ]
    }
   ],
   "source": [
    "gbmBO.maximize(n_iter=15, **gp_params)"
   ]
  },
  {
   "cell_type": "code",
   "execution_count": 789,
   "metadata": {},
   "outputs": [
    {
     "data": {
      "text/plain": [
       "GradientBoostingRegressor(alpha=0.9, criterion='friedman_mse', init=None,\n",
       "             learning_rate=0.01, loss='ls', max_depth=6, max_features=12,\n",
       "             max_leaf_nodes=None, min_impurity_decrease=0.0,\n",
       "             min_impurity_split=None, min_samples_leaf=11,\n",
       "             min_samples_split=20, min_weight_fraction_leaf=0.0,\n",
       "             n_estimators=1200, presort='auto', random_state=10,\n",
       "             subsample=0.7, verbose=0, warm_start=False)"
      ]
     },
     "execution_count": 789,
     "metadata": {},
     "output_type": "execute_result"
    }
   ],
   "source": [
    "gbm = GradientBoostingRegressor(n_estimators=1200, max_features=12, min_samples_split=20, min_samples_leaf=11, max_depth=6, subsample=0.7, learning_rate=0.01,random_state=10)\n",
    "gbm.fit(x, y)"
   ]
  },
  {
   "cell_type": "code",
   "execution_count": 790,
   "metadata": {},
   "outputs": [
    {
     "name": "stdout",
     "output_type": "stream",
     "text": [
      "R2 = 0.9720017815740264\n",
      "RMSE = 0.1228535020161946\n"
     ]
    }
   ],
   "source": [
    "print('R2 = {}'.format(gbm.score(x, y)))\n",
    "print('RMSE = {}'.format(rmse_cv(gbm).mean()))"
   ]
  },
  {
   "cell_type": "code",
   "execution_count": 307,
   "metadata": {},
   "outputs": [
    {
     "name": "stdout",
     "output_type": "stream",
     "text": [
      "RMSE Train = 0.0728038901740424\n"
     ]
    }
   ],
   "source": [
    "from sklearn.metrics import mean_squared_error\n",
    "print('RMSE Train = {}'.format(np.sqrt(mean_squared_error(y, gbm.predict(x)))))"
   ]
  },
  {
   "cell_type": "markdown",
   "metadata": {},
   "source": [
    "### Residuals Plot"
   ]
  },
  {
   "cell_type": "code",
   "execution_count": 249,
   "metadata": {},
   "outputs": [],
   "source": [
    "from scipy import stats "
   ]
  },
  {
   "cell_type": "code",
   "execution_count": 319,
   "metadata": {},
   "outputs": [
    {
     "data": {
      "text/html": [
       "<div>\n",
       "<style scoped>\n",
       "    .dataframe tbody tr th:only-of-type {\n",
       "        vertical-align: middle;\n",
       "    }\n",
       "\n",
       "    .dataframe tbody tr th {\n",
       "        vertical-align: top;\n",
       "    }\n",
       "\n",
       "    .dataframe thead th {\n",
       "        text-align: right;\n",
       "    }\n",
       "</style>\n",
       "<table border=\"1\" class=\"dataframe\">\n",
       "  <thead>\n",
       "    <tr style=\"text-align: right;\">\n",
       "      <th></th>\n",
       "      <th>resid</th>\n",
       "      <th>y</th>\n",
       "      <th>LotFrontage</th>\n",
       "      <th>LotArea</th>\n",
       "      <th>YearBuilt</th>\n",
       "      <th>YearRemodAdd</th>\n",
       "      <th>MasVnrArea</th>\n",
       "      <th>BsmtFinSF1</th>\n",
       "      <th>BsmtFinSF2</th>\n",
       "      <th>BsmtUnfSF</th>\n",
       "      <th>...</th>\n",
       "      <th>SaleCondition_Normal</th>\n",
       "      <th>SaleCondition_Partial</th>\n",
       "      <th>LotGrBsmtArea</th>\n",
       "      <th>GrLivAreaSquare</th>\n",
       "      <th>GrLivAreaCubic</th>\n",
       "      <th>Q406</th>\n",
       "      <th>Q407</th>\n",
       "      <th>Q408</th>\n",
       "      <th>Q409</th>\n",
       "      <th>Q410</th>\n",
       "    </tr>\n",
       "  </thead>\n",
       "  <tbody>\n",
       "    <tr>\n",
       "      <th>30</th>\n",
       "      <td>-0.722433</td>\n",
       "      <td>10.596635</td>\n",
       "      <td>3.931826</td>\n",
       "      <td>9.047939</td>\n",
       "      <td>7.560601</td>\n",
       "      <td>7.576097</td>\n",
       "      <td>0.000000</td>\n",
       "      <td>0.000000</td>\n",
       "      <td>0.000000</td>\n",
       "      <td>6.476972</td>\n",
       "      <td>...</td>\n",
       "      <td>1</td>\n",
       "      <td>0</td>\n",
       "      <td>420.998181</td>\n",
       "      <td>51.607998</td>\n",
       "      <td>370.745189</td>\n",
       "      <td>False</td>\n",
       "      <td>False</td>\n",
       "      <td>False</td>\n",
       "      <td>False</td>\n",
       "      <td>False</td>\n",
       "    </tr>\n",
       "    <tr>\n",
       "      <th>462</th>\n",
       "      <td>-0.614572</td>\n",
       "      <td>11.041048</td>\n",
       "      <td>4.110874</td>\n",
       "      <td>9.021840</td>\n",
       "      <td>7.583756</td>\n",
       "      <td>7.583756</td>\n",
       "      <td>0.000000</td>\n",
       "      <td>6.317165</td>\n",
       "      <td>5.743003</td>\n",
       "      <td>0.000000</td>\n",
       "      <td>...</td>\n",
       "      <td>1</td>\n",
       "      <td>0</td>\n",
       "      <td>412.609424</td>\n",
       "      <td>45.734510</td>\n",
       "      <td>309.290123</td>\n",
       "      <td>False</td>\n",
       "      <td>False</td>\n",
       "      <td>False</td>\n",
       "      <td>False</td>\n",
       "      <td>False</td>\n",
       "    </tr>\n",
       "    <tr>\n",
       "      <th>495</th>\n",
       "      <td>-0.593084</td>\n",
       "      <td>10.460242</td>\n",
       "      <td>4.110874</td>\n",
       "      <td>8.972083</td>\n",
       "      <td>7.560601</td>\n",
       "      <td>7.576097</td>\n",
       "      <td>0.000000</td>\n",
       "      <td>6.206576</td>\n",
       "      <td>0.000000</td>\n",
       "      <td>5.420535</td>\n",
       "      <td>...</td>\n",
       "      <td>0</td>\n",
       "      <td>0</td>\n",
       "      <td>388.534371</td>\n",
       "      <td>43.304811</td>\n",
       "      <td>284.973337</td>\n",
       "      <td>False</td>\n",
       "      <td>False</td>\n",
       "      <td>False</td>\n",
       "      <td>False</td>\n",
       "      <td>False</td>\n",
       "    </tr>\n",
       "    <tr>\n",
       "      <th>588</th>\n",
       "      <td>-0.403810</td>\n",
       "      <td>11.870600</td>\n",
       "      <td>4.189655</td>\n",
       "      <td>10.130464</td>\n",
       "      <td>7.585281</td>\n",
       "      <td>7.602900</td>\n",
       "      <td>0.000000</td>\n",
       "      <td>7.189168</td>\n",
       "      <td>0.000000</td>\n",
       "      <td>4.736198</td>\n",
       "      <td>...</td>\n",
       "      <td>0</td>\n",
       "      <td>1</td>\n",
       "      <td>537.394277</td>\n",
       "      <td>53.227750</td>\n",
       "      <td>388.335564</td>\n",
       "      <td>False</td>\n",
       "      <td>False</td>\n",
       "      <td>False</td>\n",
       "      <td>False</td>\n",
       "      <td>False</td>\n",
       "    </tr>\n",
       "    <tr>\n",
       "      <th>632</th>\n",
       "      <td>-0.665650</td>\n",
       "      <td>11.320554</td>\n",
       "      <td>4.454347</td>\n",
       "      <td>9.384378</td>\n",
       "      <td>7.589842</td>\n",
       "      <td>7.589842</td>\n",
       "      <td>5.347108</td>\n",
       "      <td>6.712956</td>\n",
       "      <td>0.000000</td>\n",
       "      <td>6.336826</td>\n",
       "      <td>...</td>\n",
       "      <td>0</td>\n",
       "      <td>0</td>\n",
       "      <td>492.426446</td>\n",
       "      <td>52.602563</td>\n",
       "      <td>381.513890</td>\n",
       "      <td>False</td>\n",
       "      <td>False</td>\n",
       "      <td>False</td>\n",
       "      <td>False</td>\n",
       "      <td>False</td>\n",
       "    </tr>\n",
       "    <tr>\n",
       "      <th>812</th>\n",
       "      <td>-0.424005</td>\n",
       "      <td>10.932982</td>\n",
       "      <td>4.204693</td>\n",
       "      <td>9.072571</td>\n",
       "      <td>7.577122</td>\n",
       "      <td>7.577122</td>\n",
       "      <td>0.000000</td>\n",
       "      <td>0.000000</td>\n",
       "      <td>0.000000</td>\n",
       "      <td>6.293419</td>\n",
       "      <td>...</td>\n",
       "      <td>0</td>\n",
       "      <td>0</td>\n",
       "      <td>396.928784</td>\n",
       "      <td>48.327136</td>\n",
       "      <td>335.959240</td>\n",
       "      <td>False</td>\n",
       "      <td>False</td>\n",
       "      <td>False</td>\n",
       "      <td>False</td>\n",
       "      <td>False</td>\n",
       "    </tr>\n",
       "    <tr>\n",
       "      <th>916</th>\n",
       "      <td>-0.470163</td>\n",
       "      <td>10.471950</td>\n",
       "      <td>3.931826</td>\n",
       "      <td>9.105091</td>\n",
       "      <td>7.575585</td>\n",
       "      <td>7.576097</td>\n",
       "      <td>0.000000</td>\n",
       "      <td>3.931826</td>\n",
       "      <td>0.000000</td>\n",
       "      <td>6.066108</td>\n",
       "      <td>...</td>\n",
       "      <td>0</td>\n",
       "      <td>0</td>\n",
       "      <td>347.280339</td>\n",
       "      <td>38.141337</td>\n",
       "      <td>235.555832</td>\n",
       "      <td>False</td>\n",
       "      <td>False</td>\n",
       "      <td>False</td>\n",
       "      <td>False</td>\n",
       "      <td>False</td>\n",
       "    </tr>\n",
       "    <tr>\n",
       "      <th>968</th>\n",
       "      <td>-0.602810</td>\n",
       "      <td>10.542706</td>\n",
       "      <td>3.931826</td>\n",
       "      <td>8.687105</td>\n",
       "      <td>7.555382</td>\n",
       "      <td>7.576097</td>\n",
       "      <td>0.000000</td>\n",
       "      <td>0.000000</td>\n",
       "      <td>0.000000</td>\n",
       "      <td>6.398595</td>\n",
       "      <td>...</td>\n",
       "      <td>0</td>\n",
       "      <td>0</td>\n",
       "      <td>382.218986</td>\n",
       "      <td>47.283015</td>\n",
       "      <td>325.130523</td>\n",
       "      <td>False</td>\n",
       "      <td>False</td>\n",
       "      <td>False</td>\n",
       "      <td>False</td>\n",
       "      <td>False</td>\n",
       "    </tr>\n",
       "    <tr>\n",
       "      <th>1324</th>\n",
       "      <td>-0.622221</td>\n",
       "      <td>11.898188</td>\n",
       "      <td>4.330733</td>\n",
       "      <td>9.209040</td>\n",
       "      <td>7.604396</td>\n",
       "      <td>7.604894</td>\n",
       "      <td>6.061457</td>\n",
       "      <td>0.000000</td>\n",
       "      <td>0.000000</td>\n",
       "      <td>7.493317</td>\n",
       "      <td>...</td>\n",
       "      <td>0</td>\n",
       "      <td>1</td>\n",
       "      <td>517.085759</td>\n",
       "      <td>56.149803</td>\n",
       "      <td>420.748290</td>\n",
       "      <td>False</td>\n",
       "      <td>False</td>\n",
       "      <td>False</td>\n",
       "      <td>False</td>\n",
       "      <td>False</td>\n",
       "    </tr>\n",
       "    <tr>\n",
       "      <th>1432</th>\n",
       "      <td>-0.417554</td>\n",
       "      <td>11.074421</td>\n",
       "      <td>4.110874</td>\n",
       "      <td>9.287394</td>\n",
       "      <td>7.564238</td>\n",
       "      <td>7.604894</td>\n",
       "      <td>0.000000</td>\n",
       "      <td>0.000000</td>\n",
       "      <td>0.000000</td>\n",
       "      <td>6.487684</td>\n",
       "      <td>...</td>\n",
       "      <td>1</td>\n",
       "      <td>0</td>\n",
       "      <td>414.320231</td>\n",
       "      <td>47.283015</td>\n",
       "      <td>325.130523</td>\n",
       "      <td>False</td>\n",
       "      <td>False</td>\n",
       "      <td>False</td>\n",
       "      <td>False</td>\n",
       "      <td>False</td>\n",
       "    </tr>\n",
       "  </tbody>\n",
       "</table>\n",
       "<p>10 rows × 261 columns</p>\n",
       "</div>"
      ],
      "text/plain": [
       "         resid          y  LotFrontage    LotArea  YearBuilt  YearRemodAdd  \\\n",
       "30   -0.722433  10.596635     3.931826   9.047939   7.560601      7.576097   \n",
       "462  -0.614572  11.041048     4.110874   9.021840   7.583756      7.583756   \n",
       "495  -0.593084  10.460242     4.110874   8.972083   7.560601      7.576097   \n",
       "588  -0.403810  11.870600     4.189655  10.130464   7.585281      7.602900   \n",
       "632  -0.665650  11.320554     4.454347   9.384378   7.589842      7.589842   \n",
       "812  -0.424005  10.932982     4.204693   9.072571   7.577122      7.577122   \n",
       "916  -0.470163  10.471950     3.931826   9.105091   7.575585      7.576097   \n",
       "968  -0.602810  10.542706     3.931826   8.687105   7.555382      7.576097   \n",
       "1324 -0.622221  11.898188     4.330733   9.209040   7.604396      7.604894   \n",
       "1432 -0.417554  11.074421     4.110874   9.287394   7.564238      7.604894   \n",
       "\n",
       "      MasVnrArea  BsmtFinSF1  BsmtFinSF2  BsmtUnfSF  ...    \\\n",
       "30      0.000000    0.000000    0.000000   6.476972  ...     \n",
       "462     0.000000    6.317165    5.743003   0.000000  ...     \n",
       "495     0.000000    6.206576    0.000000   5.420535  ...     \n",
       "588     0.000000    7.189168    0.000000   4.736198  ...     \n",
       "632     5.347108    6.712956    0.000000   6.336826  ...     \n",
       "812     0.000000    0.000000    0.000000   6.293419  ...     \n",
       "916     0.000000    3.931826    0.000000   6.066108  ...     \n",
       "968     0.000000    0.000000    0.000000   6.398595  ...     \n",
       "1324    6.061457    0.000000    0.000000   7.493317  ...     \n",
       "1432    0.000000    0.000000    0.000000   6.487684  ...     \n",
       "\n",
       "      SaleCondition_Normal  SaleCondition_Partial  LotGrBsmtArea  \\\n",
       "30                       1                      0     420.998181   \n",
       "462                      1                      0     412.609424   \n",
       "495                      0                      0     388.534371   \n",
       "588                      0                      1     537.394277   \n",
       "632                      0                      0     492.426446   \n",
       "812                      0                      0     396.928784   \n",
       "916                      0                      0     347.280339   \n",
       "968                      0                      0     382.218986   \n",
       "1324                     0                      1     517.085759   \n",
       "1432                     1                      0     414.320231   \n",
       "\n",
       "      GrLivAreaSquare  GrLivAreaCubic   Q406   Q407   Q408   Q409   Q410  \n",
       "30          51.607998      370.745189  False  False  False  False  False  \n",
       "462         45.734510      309.290123  False  False  False  False  False  \n",
       "495         43.304811      284.973337  False  False  False  False  False  \n",
       "588         53.227750      388.335564  False  False  False  False  False  \n",
       "632         52.602563      381.513890  False  False  False  False  False  \n",
       "812         48.327136      335.959240  False  False  False  False  False  \n",
       "916         38.141337      235.555832  False  False  False  False  False  \n",
       "968         47.283015      325.130523  False  False  False  False  False  \n",
       "1324        56.149803      420.748290  False  False  False  False  False  \n",
       "1432        47.283015      325.130523  False  False  False  False  False  \n",
       "\n",
       "[10 rows x 261 columns]"
      ]
     },
     "execution_count": 319,
     "metadata": {},
     "output_type": "execute_result"
    }
   ],
   "source": [
    "test = pd.DataFrame({'y':y, 'resid':y - lasso.predict(x)})\n",
    "test = pd.concat([test, x], axis=1)\n",
    "\n",
    "test[test['resid'] < -0.4]"
   ]
  },
  {
   "cell_type": "code",
   "execution_count": 321,
   "metadata": {},
   "outputs": [],
   "source": [
    "import statsmodels.api as sm\n",
    "import pylab"
   ]
  },
  {
   "cell_type": "code",
   "execution_count": null,
   "metadata": {},
   "outputs": [],
   "source": []
  },
  {
   "cell_type": "code",
   "execution_count": 281,
   "metadata": {},
   "outputs": [
    {
     "name": "stdout",
     "output_type": "stream",
     "text": [
      "0.08254135588051738 -0.9924779779951165 0.3135556257096141\n"
     ]
    },
    {
     "data": {
      "text/plain": [
       "[<matplotlib.lines.Line2D at 0x12ae76b00>]"
      ]
     },
     "execution_count": 281,
     "metadata": {},
     "output_type": "execute_result"
    },
    {
     "data": {
      "image/png": "[encoded data removed]",
      "text/plain": [
       "<Figure size 432x288 with 1 Axes>"
      ]
     },
     "metadata": {},
     "output_type": "display_data"
    }
   ],
   "source": [
    "plt.scatter(test['y'], test['resid'], c=test['year'], alpha=0.3, label=test['year'])\n",
    "slope, intercept, r_value, p_value, std_err = stats.linregress(y, test['resid'])\n",
    "print(slope, intercept, r_value)\n",
    "y_fit = intercept + slope*y\n",
    "plt.plot(y, y_fit)"
   ]
  },
  {
   "cell_type": "code",
   "execution_count": 251,
   "metadata": {},
   "outputs": [
    {
     "name": "stdout",
     "output_type": "stream",
     "text": [
      "0.06210383880200998 -0.7464065359725621 0.30206740403251514\n"
     ]
    },
    {
     "data": {
      "text/plain": [
       "[<matplotlib.lines.Line2D at 0x129aa0588>]"
      ]
     },
     "execution_count": 251,
     "metadata": {},
     "output_type": "execute_result"
    },
    {
     "data": {
      "image/png": "[encoded data removed]",
      "text/plain": [
       "<Figure size 432x288 with 1 Axes>"
      ]
     },
     "metadata": {},
     "output_type": "display_data"
    }
   ],
   "source": [
    "plt.scatter(y, y - xgboost.predict(x), alpha=0.3)\n",
    "slope, intercept, r_value, p_value, std_err = stats.linregress(y, y - xgboost.predict(x))\n",
    "print(slope, intercept, r_value)\n",
    "y_fit = intercept + slope*y\n",
    "plt.plot(y, y_fit)"
   ]
  },
  {
   "cell_type": "code",
   "execution_count": 303,
   "metadata": {},
   "outputs": [
    {
     "name": "stdout",
     "output_type": "stream",
     "text": [
      "0.051304120426080305 -0.616737144538831 0.2815791097667614 5.621268309950351e-28\n"
     ]
    },
    {
     "data": {
      "text/plain": [
       "[<matplotlib.lines.Line2D at 0x12bef9eb8>]"
      ]
     },
     "execution_count": 303,
     "metadata": {},
     "output_type": "execute_result"
    },
    {
     "data": {
      "image/png": "[encoded data removed]",
      "text/plain": [
       "<Figure size 432x288 with 1 Axes>"
      ]
     },
     "metadata": {},
     "output_type": "display_data"
    }
   ],
   "source": [
    "plt.scatter(y, y - gbm.predict(x), alpha=0.3)\n",
    "slope, intercept, r_value, p_value, std_err = stats.linregress(y, y - gbm.predict(x))\n",
    "print(slope, intercept, r_value, p_value)\n",
    "y_fit = intercept + slope*y\n",
    "plt.plot(y, y_fit)"
   ]
  },
  {
   "cell_type": "markdown",
   "metadata": {},
   "source": [
    "### Ensemble"
   ]
  },
  {
   "cell_type": "code",
   "execution_count": 801,
   "metadata": {},
   "outputs": [],
   "source": [
    "y_gbm = gbm.predict(x)\n",
    "y_xgboost = xgboost.predict(x)\n",
    "y_lasso = lasso.predict(x)"
   ]
  },
  {
   "cell_type": "code",
   "execution_count": 802,
   "metadata": {},
   "outputs": [],
   "source": [
    "z = 0.5*y_gbm + 0.2*y_xgboost + 0.3*y_lasso"
   ]
  },
  {
   "cell_type": "code",
   "execution_count": null,
   "metadata": {},
   "outputs": [],
   "source": []
  },
  {
   "cell_type": "code",
   "execution_count": 803,
   "metadata": {},
   "outputs": [
    {
     "name": "stdout",
     "output_type": "stream",
     "text": [
      "RMSE Train = 0.07688419793529305\n"
     ]
    }
   ],
   "source": [
    "print('RMSE Train = {}'.format(np.sqrt(mean_squared_error(y, z))))"
   ]
  },
  {
   "cell_type": "code",
   "execution_count": 804,
   "metadata": {},
   "outputs": [
    {
     "name": "stdout",
     "output_type": "stream",
     "text": [
      "0.05799389654131518 -0.6971821939523148 0.30140316679103835 5.333506736786494e-32\n"
     ]
    },
    {
     "data": {
      "text/plain": [
       "[<matplotlib.lines.Line2D at 0x1312d5160>]"
      ]
     },
     "execution_count": 804,
     "metadata": {},
     "output_type": "execute_result"
    },
    {
     "data": {
      "image/png": "[encoded data removed]",
      "text/plain": [
       "<Figure size 432x288 with 1 Axes>"
      ]
     },
     "metadata": {},
     "output_type": "display_data"
    }
   ],
   "source": [
    "plt.scatter(y, y - z, alpha=0.3)\n",
    "slope, intercept, r_value, p_value, std_err = stats.linregress(y, y - z)\n",
    "print(slope, intercept, r_value, p_value)\n",
    "y_fit = intercept + slope*y\n",
    "plt.plot(y, y_fit)"
   ]
  },
  {
   "cell_type": "markdown",
   "metadata": {},
   "source": [
    "### Final Results"
   ]
  },
  {
   "cell_type": "code",
   "execution_count": 805,
   "metadata": {},
   "outputs": [],
   "source": [
    "test = pd.read_csv('../test_wo_missing_values.csv')"
   ]
  },
  {
   "cell_type": "code",
   "execution_count": 806,
   "metadata": {},
   "outputs": [],
   "source": [
    "%reload_ext autoreload"
   ]
  },
  {
   "cell_type": "code",
   "execution_count": 807,
   "metadata": {},
   "outputs": [],
   "source": [
    "from transform_full import transform_dataset_test"
   ]
  },
  {
   "cell_type": "code",
   "execution_count": 808,
   "metadata": {},
   "outputs": [],
   "source": [
    "test = transform_dataset_test(test)"
   ]
  },
  {
   "cell_type": "code",
   "execution_count": null,
   "metadata": {},
   "outputs": [],
   "source": []
  },
  {
   "cell_type": "code",
   "execution_count": 809,
   "metadata": {},
   "outputs": [
    {
     "data": {
      "text/plain": [
       "(1459, 323)"
      ]
     },
     "execution_count": 809,
     "metadata": {},
     "output_type": "execute_result"
    }
   ],
   "source": [
    "test1 = pd.DataFrame({}, columns=x.columns)\n",
    "test = pd.concat([test1, test], axis=0)\n",
    "test = test.loc[:,x.columns]\n",
    "test.shape"
   ]
  },
  {
   "cell_type": "code",
   "execution_count": 810,
   "metadata": {},
   "outputs": [],
   "source": [
    "test = test.fillna(False)"
   ]
  },
  {
   "cell_type": "code",
   "execution_count": 504,
   "metadata": {},
   "outputs": [],
   "source": [
    "test['LotGrBsmtArea'] = test['GrLivArea'] * test['LotArea'] * test['TotalBsmtSF']\n",
    "test['GrLivAreaSquare'] = test['GrLivArea']**2\n",
    "test['GrLivAreaCubic'] = test['GrLivArea']**3\n",
    "test['Q406'] = ((test['MoSold'] == 10) | (test['MoSold'] == 11) | (test['MoSold'] == 12) & (test['YrSold'] == 2006))\n",
    "test['Q407'] = ((test['MoSold'] == 10) | (test['MoSold'] == 11) | (test['MoSold'] == 12) & (test['YrSold'] == 2007))\n",
    "test['Q408'] = ((test['MoSold'] == 10) | (test['MoSold'] == 11) | (test['MoSold'] == 12) & (test['YrSold'] == 2008))\n",
    "test['Q409'] = ((test['MoSold'] == 10) | (test['MoSold'] == 11) | (test['MoSold'] == 12) & (test['YrSold'] == 2009))\n",
    "test['Q410'] = ((test['MoSold'] == 10) | (test['MoSold'] == 11) | (test['MoSold'] == 12) & (test['YrSold'] == 2010))"
   ]
  },
  {
   "cell_type": "code",
   "execution_count": 811,
   "metadata": {},
   "outputs": [
    {
     "data": {
      "text/plain": [
       "(1459, 323)"
      ]
     },
     "execution_count": 811,
     "metadata": {},
     "output_type": "execute_result"
    }
   ],
   "source": [
    "test.shape"
   ]
  },
  {
   "cell_type": "code",
   "execution_count": 812,
   "metadata": {},
   "outputs": [],
   "source": [
    "y_gbm = gbm.predict(test)\n",
    "y_xgboost = xgboost.predict(test)\n",
    "y_lasso = lasso.predict(test)"
   ]
  },
  {
   "cell_type": "code",
   "execution_count": 813,
   "metadata": {},
   "outputs": [],
   "source": [
    "z = 0.55*y_gbm + 0.45*y_lasso"
   ]
  },
  {
   "cell_type": "code",
   "execution_count": null,
   "metadata": {},
   "outputs": [],
   "source": []
  },
  {
   "cell_type": "code",
   "execution_count": 814,
   "metadata": {},
   "outputs": [],
   "source": [
    "test_original = pd.read_csv('../test.csv')"
   ]
  },
  {
   "cell_type": "code",
   "execution_count": 815,
   "metadata": {},
   "outputs": [],
   "source": [
    "final_df = pd.DataFrame({'Id':test_original['Id'], 'SalePrice':np.exp(z)})"
   ]
  },
  {
   "cell_type": "code",
   "execution_count": 816,
   "metadata": {},
   "outputs": [],
   "source": [
    "final_df.to_csv(\"../submit.csv\", float_format='%f', index=False) "
   ]
  },
  {
   "cell_type": "code",
   "execution_count": null,
   "metadata": {},
   "outputs": [],
   "source": []
  },
  {
   "cell_type": "code",
   "execution_count": 518,
   "metadata": {},
   "outputs": [],
   "source": [
    "from sklearn.model_selection import train_test_split"
   ]
  },
  {
   "cell_type": "code",
   "execution_count": 520,
   "metadata": {},
   "outputs": [
    {
     "data": {
      "text/plain": [
       "0.11040141128712413"
      ]
     },
     "execution_count": 520,
     "metadata": {},
     "output_type": "execute_result"
    }
   ],
   "source": [
    "x2 = pd.read_csv('../x2.csv')\n",
    "\n",
    "# Select x2 for GBM model\n",
    "gbrt_data = x2 # x2  CV best 0.11289845824788566 estimators 290\n",
    "               # CV 0.11729470546988634 and test 0.12720594564487064\n",
    "               # max_depth=2, n_estimators=500, learning_rate=0.069, random_state=42, min_samples_split = 2\n",
    "\n",
    "# GBM model staged to get best model\n",
    "from sklearn.ensemble import GradientBoostingRegressor\n",
    "\n",
    "gbrt = GradientBoostingRegressor(max_depth=2, n_estimators=500, learning_rate=0.069, random_state=42,\n",
    "                               min_samples_split = 2)\n",
    "X_train, X_val, y_train, y_val = train_test_split(gbrt_data, y, random_state=49)\n",
    "gbrt.fit(X_train, y_train)\n",
    "\n",
    "errors = [mean_squared_error(y_val, y_pred)\n",
    "         for y_pred in gbrt.staged_predict(X_val)]\n",
    "\n",
    "bst_n_estimators = np.argmin(errors)\n",
    "\n",
    "gbrt_best = GradientBoostingRegressor(max_depth=2,n_estimators=bst_n_estimators, random_state=42)\n",
    "gbrt_best.fit(X_train, y_train)\n",
    "\n",
    "# CV on GBM to get RMSE and R2\n",
    "from sklearn.model_selection import cross_val_score\n",
    "\n",
    "scores = cross_val_score(gbrt_best, X_train, y_train,\n",
    "                        scoring=\"neg_mean_squared_error\", cv=10)\n",
    "\n",
    "gbm_rmse_scores = np.sqrt(-scores)\n",
    "r2 = cross_val_score(gbrt_best, X_train, y_train, cv=10)\n",
    "# R2\n",
    "r2.mean()\n",
    "# mean of best run in CV\n",
    "gbm_rmse_scores.mean()"
   ]
  },
  {
   "cell_type": "code",
   "execution_count": 522,
   "metadata": {},
   "outputs": [
    {
     "name": "stdout",
     "output_type": "stream",
     "text": [
      "RMSE Train = 0.08851425341425455\n"
     ]
    }
   ],
   "source": [
    "print('RMSE Train = {}'.format(np.sqrt(mean_squared_error(y, gbrt_best.predict(x2)))))"
   ]
  },
  {
   "cell_type": "code",
   "execution_count": 562,
   "metadata": {},
   "outputs": [],
   "source": [
    "house_prices_dummy = pd.read_csv('../test_wo_missing_values.csv')"
   ]
  },
  {
   "cell_type": "code",
   "execution_count": 563,
   "metadata": {},
   "outputs": [],
   "source": [
    "house_prices_dummy = pd.get_dummies(house_prices_dummy, drop_first=True)"
   ]
  },
  {
   "cell_type": "code",
   "execution_count": 567,
   "metadata": {},
   "outputs": [
    {
     "data": {
      "text/html": [
       "<div>\n",
       "<style scoped>\n",
       "    .dataframe tbody tr th:only-of-type {\n",
       "        vertical-align: middle;\n",
       "    }\n",
       "\n",
       "    .dataframe tbody tr th {\n",
       "        vertical-align: top;\n",
       "    }\n",
       "\n",
       "    .dataframe thead th {\n",
       "        text-align: right;\n",
       "    }\n",
       "</style>\n",
       "<table border=\"1\" class=\"dataframe\">\n",
       "  <thead>\n",
       "    <tr style=\"text-align: right;\">\n",
       "      <th></th>\n",
       "      <th>Id</th>\n",
       "      <th>MSSubClass</th>\n",
       "      <th>LotFrontage</th>\n",
       "      <th>LotArea</th>\n",
       "      <th>OverallQual</th>\n",
       "      <th>OverallCond</th>\n",
       "      <th>YearBuilt</th>\n",
       "      <th>YearRemodAdd</th>\n",
       "      <th>MasVnrArea</th>\n",
       "      <th>BsmtFinSF1</th>\n",
       "      <th>...</th>\n",
       "      <th>SaleType_ConLw</th>\n",
       "      <th>SaleType_New</th>\n",
       "      <th>SaleType_No</th>\n",
       "      <th>SaleType_Oth</th>\n",
       "      <th>SaleType_WD</th>\n",
       "      <th>SaleCondition_AdjLand</th>\n",
       "      <th>SaleCondition_Alloca</th>\n",
       "      <th>SaleCondition_Family</th>\n",
       "      <th>SaleCondition_Normal</th>\n",
       "      <th>SaleCondition_Partial</th>\n",
       "    </tr>\n",
       "  </thead>\n",
       "  <tbody>\n",
       "    <tr>\n",
       "      <th>0</th>\n",
       "      <td>1461</td>\n",
       "      <td>20</td>\n",
       "      <td>80.0</td>\n",
       "      <td>11622</td>\n",
       "      <td>5</td>\n",
       "      <td>6</td>\n",
       "      <td>1961</td>\n",
       "      <td>1961</td>\n",
       "      <td>0.0</td>\n",
       "      <td>468.0</td>\n",
       "      <td>...</td>\n",
       "      <td>0</td>\n",
       "      <td>0</td>\n",
       "      <td>0</td>\n",
       "      <td>0</td>\n",
       "      <td>1</td>\n",
       "      <td>0</td>\n",
       "      <td>0</td>\n",
       "      <td>0</td>\n",
       "      <td>1</td>\n",
       "      <td>0</td>\n",
       "    </tr>\n",
       "    <tr>\n",
       "      <th>1</th>\n",
       "      <td>1462</td>\n",
       "      <td>20</td>\n",
       "      <td>81.0</td>\n",
       "      <td>14267</td>\n",
       "      <td>6</td>\n",
       "      <td>6</td>\n",
       "      <td>1958</td>\n",
       "      <td>1958</td>\n",
       "      <td>108.0</td>\n",
       "      <td>923.0</td>\n",
       "      <td>...</td>\n",
       "      <td>0</td>\n",
       "      <td>0</td>\n",
       "      <td>0</td>\n",
       "      <td>0</td>\n",
       "      <td>1</td>\n",
       "      <td>0</td>\n",
       "      <td>0</td>\n",
       "      <td>0</td>\n",
       "      <td>1</td>\n",
       "      <td>0</td>\n",
       "    </tr>\n",
       "    <tr>\n",
       "      <th>2</th>\n",
       "      <td>1463</td>\n",
       "      <td>60</td>\n",
       "      <td>74.0</td>\n",
       "      <td>13830</td>\n",
       "      <td>5</td>\n",
       "      <td>5</td>\n",
       "      <td>1997</td>\n",
       "      <td>1998</td>\n",
       "      <td>0.0</td>\n",
       "      <td>791.0</td>\n",
       "      <td>...</td>\n",
       "      <td>0</td>\n",
       "      <td>0</td>\n",
       "      <td>0</td>\n",
       "      <td>0</td>\n",
       "      <td>1</td>\n",
       "      <td>0</td>\n",
       "      <td>0</td>\n",
       "      <td>0</td>\n",
       "      <td>1</td>\n",
       "      <td>0</td>\n",
       "    </tr>\n",
       "    <tr>\n",
       "      <th>3</th>\n",
       "      <td>1464</td>\n",
       "      <td>60</td>\n",
       "      <td>78.0</td>\n",
       "      <td>9978</td>\n",
       "      <td>6</td>\n",
       "      <td>6</td>\n",
       "      <td>1998</td>\n",
       "      <td>1998</td>\n",
       "      <td>20.0</td>\n",
       "      <td>602.0</td>\n",
       "      <td>...</td>\n",
       "      <td>0</td>\n",
       "      <td>0</td>\n",
       "      <td>0</td>\n",
       "      <td>0</td>\n",
       "      <td>1</td>\n",
       "      <td>0</td>\n",
       "      <td>0</td>\n",
       "      <td>0</td>\n",
       "      <td>1</td>\n",
       "      <td>0</td>\n",
       "    </tr>\n",
       "    <tr>\n",
       "      <th>4</th>\n",
       "      <td>1465</td>\n",
       "      <td>120</td>\n",
       "      <td>43.0</td>\n",
       "      <td>5005</td>\n",
       "      <td>8</td>\n",
       "      <td>5</td>\n",
       "      <td>1992</td>\n",
       "      <td>1992</td>\n",
       "      <td>0.0</td>\n",
       "      <td>263.0</td>\n",
       "      <td>...</td>\n",
       "      <td>0</td>\n",
       "      <td>0</td>\n",
       "      <td>0</td>\n",
       "      <td>0</td>\n",
       "      <td>1</td>\n",
       "      <td>0</td>\n",
       "      <td>0</td>\n",
       "      <td>0</td>\n",
       "      <td>1</td>\n",
       "      <td>0</td>\n",
       "    </tr>\n",
       "  </tbody>\n",
       "</table>\n",
       "<p>5 rows × 218 columns</p>\n",
       "</div>"
      ],
      "text/plain": [
       "     Id  MSSubClass  LotFrontage  LotArea  OverallQual  OverallCond  \\\n",
       "0  1461          20         80.0    11622            5            6   \n",
       "1  1462          20         81.0    14267            6            6   \n",
       "2  1463          60         74.0    13830            5            5   \n",
       "3  1464          60         78.0     9978            6            6   \n",
       "4  1465         120         43.0     5005            8            5   \n",
       "\n",
       "   YearBuilt  YearRemodAdd  MasVnrArea  BsmtFinSF1          ...            \\\n",
       "0       1961          1961         0.0       468.0          ...             \n",
       "1       1958          1958       108.0       923.0          ...             \n",
       "2       1997          1998         0.0       791.0          ...             \n",
       "3       1998          1998        20.0       602.0          ...             \n",
       "4       1992          1992         0.0       263.0          ...             \n",
       "\n",
       "   SaleType_ConLw  SaleType_New  SaleType_No  SaleType_Oth  SaleType_WD  \\\n",
       "0               0             0            0             0            1   \n",
       "1               0             0            0             0            1   \n",
       "2               0             0            0             0            1   \n",
       "3               0             0            0             0            1   \n",
       "4               0             0            0             0            1   \n",
       "\n",
       "   SaleCondition_AdjLand  SaleCondition_Alloca  SaleCondition_Family  \\\n",
       "0                      0                     0                     0   \n",
       "1                      0                     0                     0   \n",
       "2                      0                     0                     0   \n",
       "3                      0                     0                     0   \n",
       "4                      0                     0                     0   \n",
       "\n",
       "   SaleCondition_Normal  SaleCondition_Partial  \n",
       "0                     1                      0  \n",
       "1                     1                      0  \n",
       "2                     1                      0  \n",
       "3                     1                      0  \n",
       "4                     1                      0  \n",
       "\n",
       "[5 rows x 218 columns]"
      ]
     },
     "execution_count": 567,
     "metadata": {},
     "output_type": "execute_result"
    }
   ],
   "source": [
    "house_prices_dummy.head()"
   ]
  },
  {
   "cell_type": "code",
   "execution_count": 568,
   "metadata": {},
   "outputs": [],
   "source": [
    "house_prices_dummy2['Q406'] = ((house_prices_dummy['MoSold'] == 10) | (house_prices_dummy['MoSold'] == 11) | (house_prices_dummy['MoSold'] == 12) & (house_prices_dummy['YrSold'] == 2006))\n",
    "house_prices_dummy2['Q407'] = ((house_prices_dummy['MoSold'] == 10) | (house_prices_dummy['MoSold'] == 11) | (house_prices_dummy['MoSold'] == 12) & (house_prices_dummy['YrSold'] == 2007))\n",
    "house_prices_dummy2['Q408'] = ((house_prices_dummy['MoSold'] == 10) | (house_prices_dummy['MoSold'] == 11) | (house_prices_dummy['MoSold'] == 12) & (house_prices_dummy['YrSold'] == 2008))\n",
    "\n",
    "house_prices_dummy2['Q409'] = ((house_prices_dummy['MoSold'] == 10) | (house_prices_dummy['MoSold'] == 11) | (house_prices_dummy['MoSold'] == 12) & (house_prices_dummy['YrSold'] == 2009))\n",
    "house_prices_dummy2['Q410'] = ((house_prices_dummy['MoSold'] == 10) | (house_prices_dummy['MoSold'] == 11) | (house_prices_dummy['MoSold'] == 12) & (house_prices_dummy['YrSold'] == 2010))\n",
    "result2= ['OverallQual','GrLivArea','YearBuilt','BsmtFinSF1','OverallCond','TotalBsmtSF','GarageCars','FireplaceQu_Gd','LotArea','Foundation_PConc','Neighborhood_Crawfor','SaleType_New','SaleCondition_Normal','CentralAir_Y','BsmtExposure_Gd','BldgType_Twnhs','Condition1_Norm','KitchenAbvGr','BsmtFullBath','Functional_Typ','ScreenPorch','Street_Pave','Neighborhood_NridgHt','Neighborhood_StoneBr','Neighborhood_Somerst','MSZoning_RL','Exterior1st_BrkFace','Neighborhood_MeadowV','WoodDeckSF','YearRemodAdd','Neighborhood_BrkSide','Q406','Q407','Q408','Q409','Q410']\n",
    "house_prices_dummy2 = house_prices_dummy2[result2]"
   ]
  },
  {
   "cell_type": "code",
   "execution_count": 569,
   "metadata": {},
   "outputs": [
    {
     "name": "stderr",
     "output_type": "stream",
     "text": [
      "/anaconda3/lib/python3.6/site-packages/ipykernel_launcher.py:3: FutureWarning: \n",
      "Passing list-likes to .loc or [] with any missing label will raise\n",
      "KeyError in the future, you can use .reindex() as an alternative.\n",
      "\n",
      "See the documentation here:\n",
      "http://pandas.pydata.org/pandas-docs/stable/indexing.html#deprecate-loc-reindex-listlike\n",
      "  This is separate from the ipykernel package so we can avoid doing imports until\n",
      "/anaconda3/lib/python3.6/site-packages/pandas/core/indexing.py:1367: FutureWarning: \n",
      "Passing list-likes to .loc or [] with any missing label will raise\n",
      "KeyError in the future, you can use .reindex() as an alternative.\n",
      "\n",
      "See the documentation here:\n",
      "http://pandas.pydata.org/pandas-docs/stable/indexing.html#deprecate-loc-reindex-listlike\n",
      "  return self._getitem_tuple(key)\n"
     ]
    },
    {
     "data": {
      "text/plain": [
       "(1459, 36)"
      ]
     },
     "execution_count": 569,
     "metadata": {},
     "output_type": "execute_result"
    }
   ],
   "source": [
    "test_1 = pd.DataFrame({}, columns=x2.columns)\n",
    "house_prices_dummy2 = pd.concat([test_1, house_prices_dummy], axis=0)\n",
    "house_prices_dummy2 = house_prices_dummy.loc[:,x2.columns]\n",
    "house_prices_dummy2.shape"
   ]
  },
  {
   "cell_type": "code",
   "execution_count": 572,
   "metadata": {},
   "outputs": [
    {
     "data": {
      "text/html": [
       "<div>\n",
       "<style scoped>\n",
       "    .dataframe tbody tr th:only-of-type {\n",
       "        vertical-align: middle;\n",
       "    }\n",
       "\n",
       "    .dataframe tbody tr th {\n",
       "        vertical-align: top;\n",
       "    }\n",
       "\n",
       "    .dataframe thead th {\n",
       "        text-align: right;\n",
       "    }\n",
       "</style>\n",
       "<table border=\"1\" class=\"dataframe\">\n",
       "  <thead>\n",
       "    <tr style=\"text-align: right;\">\n",
       "      <th></th>\n",
       "      <th>OverallQual</th>\n",
       "      <th>GrLivArea</th>\n",
       "      <th>YearBuilt</th>\n",
       "      <th>BsmtFinSF1</th>\n",
       "      <th>OverallCond</th>\n",
       "      <th>TotalBsmtSF</th>\n",
       "      <th>GarageCars</th>\n",
       "      <th>FireplaceQu_Gd</th>\n",
       "      <th>LotArea</th>\n",
       "      <th>Foundation_PConc</th>\n",
       "      <th>...</th>\n",
       "      <th>Exterior1st_BrkFace</th>\n",
       "      <th>Neighborhood_MeadowV</th>\n",
       "      <th>WoodDeckSF</th>\n",
       "      <th>YearRemodAdd</th>\n",
       "      <th>Neighborhood_BrkSide</th>\n",
       "      <th>Q406</th>\n",
       "      <th>Q407</th>\n",
       "      <th>Q408</th>\n",
       "      <th>Q409</th>\n",
       "      <th>Q410</th>\n",
       "    </tr>\n",
       "  </thead>\n",
       "  <tbody>\n",
       "    <tr>\n",
       "      <th>0</th>\n",
       "      <td>5</td>\n",
       "      <td>896</td>\n",
       "      <td>1961</td>\n",
       "      <td>468.0</td>\n",
       "      <td>6</td>\n",
       "      <td>882.0</td>\n",
       "      <td>1.0</td>\n",
       "      <td>0</td>\n",
       "      <td>11622</td>\n",
       "      <td>0</td>\n",
       "      <td>...</td>\n",
       "      <td>0</td>\n",
       "      <td>0</td>\n",
       "      <td>140</td>\n",
       "      <td>1961</td>\n",
       "      <td>0</td>\n",
       "      <td>NaN</td>\n",
       "      <td>NaN</td>\n",
       "      <td>NaN</td>\n",
       "      <td>NaN</td>\n",
       "      <td>NaN</td>\n",
       "    </tr>\n",
       "    <tr>\n",
       "      <th>1</th>\n",
       "      <td>6</td>\n",
       "      <td>1329</td>\n",
       "      <td>1958</td>\n",
       "      <td>923.0</td>\n",
       "      <td>6</td>\n",
       "      <td>1329.0</td>\n",
       "      <td>1.0</td>\n",
       "      <td>0</td>\n",
       "      <td>14267</td>\n",
       "      <td>0</td>\n",
       "      <td>...</td>\n",
       "      <td>0</td>\n",
       "      <td>0</td>\n",
       "      <td>393</td>\n",
       "      <td>1958</td>\n",
       "      <td>0</td>\n",
       "      <td>NaN</td>\n",
       "      <td>NaN</td>\n",
       "      <td>NaN</td>\n",
       "      <td>NaN</td>\n",
       "      <td>NaN</td>\n",
       "    </tr>\n",
       "    <tr>\n",
       "      <th>2</th>\n",
       "      <td>5</td>\n",
       "      <td>1629</td>\n",
       "      <td>1997</td>\n",
       "      <td>791.0</td>\n",
       "      <td>5</td>\n",
       "      <td>928.0</td>\n",
       "      <td>2.0</td>\n",
       "      <td>0</td>\n",
       "      <td>13830</td>\n",
       "      <td>1</td>\n",
       "      <td>...</td>\n",
       "      <td>0</td>\n",
       "      <td>0</td>\n",
       "      <td>212</td>\n",
       "      <td>1998</td>\n",
       "      <td>0</td>\n",
       "      <td>NaN</td>\n",
       "      <td>NaN</td>\n",
       "      <td>NaN</td>\n",
       "      <td>NaN</td>\n",
       "      <td>NaN</td>\n",
       "    </tr>\n",
       "    <tr>\n",
       "      <th>3</th>\n",
       "      <td>6</td>\n",
       "      <td>1604</td>\n",
       "      <td>1998</td>\n",
       "      <td>602.0</td>\n",
       "      <td>6</td>\n",
       "      <td>926.0</td>\n",
       "      <td>2.0</td>\n",
       "      <td>1</td>\n",
       "      <td>9978</td>\n",
       "      <td>1</td>\n",
       "      <td>...</td>\n",
       "      <td>0</td>\n",
       "      <td>0</td>\n",
       "      <td>360</td>\n",
       "      <td>1998</td>\n",
       "      <td>0</td>\n",
       "      <td>NaN</td>\n",
       "      <td>NaN</td>\n",
       "      <td>NaN</td>\n",
       "      <td>NaN</td>\n",
       "      <td>NaN</td>\n",
       "    </tr>\n",
       "    <tr>\n",
       "      <th>4</th>\n",
       "      <td>8</td>\n",
       "      <td>1280</td>\n",
       "      <td>1992</td>\n",
       "      <td>263.0</td>\n",
       "      <td>5</td>\n",
       "      <td>1280.0</td>\n",
       "      <td>2.0</td>\n",
       "      <td>0</td>\n",
       "      <td>5005</td>\n",
       "      <td>1</td>\n",
       "      <td>...</td>\n",
       "      <td>0</td>\n",
       "      <td>0</td>\n",
       "      <td>0</td>\n",
       "      <td>1992</td>\n",
       "      <td>0</td>\n",
       "      <td>NaN</td>\n",
       "      <td>NaN</td>\n",
       "      <td>NaN</td>\n",
       "      <td>NaN</td>\n",
       "      <td>NaN</td>\n",
       "    </tr>\n",
       "  </tbody>\n",
       "</table>\n",
       "<p>5 rows × 36 columns</p>\n",
       "</div>"
      ],
      "text/plain": [
       "   OverallQual  GrLivArea  YearBuilt  BsmtFinSF1  OverallCond  TotalBsmtSF  \\\n",
       "0            5        896       1961       468.0            6        882.0   \n",
       "1            6       1329       1958       923.0            6       1329.0   \n",
       "2            5       1629       1997       791.0            5        928.0   \n",
       "3            6       1604       1998       602.0            6        926.0   \n",
       "4            8       1280       1992       263.0            5       1280.0   \n",
       "\n",
       "   GarageCars  FireplaceQu_Gd  LotArea  Foundation_PConc  ...   \\\n",
       "0         1.0               0    11622                 0  ...    \n",
       "1         1.0               0    14267                 0  ...    \n",
       "2         2.0               0    13830                 1  ...    \n",
       "3         2.0               1     9978                 1  ...    \n",
       "4         2.0               0     5005                 1  ...    \n",
       "\n",
       "   Exterior1st_BrkFace  Neighborhood_MeadowV  WoodDeckSF  YearRemodAdd  \\\n",
       "0                    0                     0         140          1961   \n",
       "1                    0                     0         393          1958   \n",
       "2                    0                     0         212          1998   \n",
       "3                    0                     0         360          1998   \n",
       "4                    0                     0           0          1992   \n",
       "\n",
       "   Neighborhood_BrkSide  Q406  Q407  Q408  Q409  Q410  \n",
       "0                     0   NaN   NaN   NaN   NaN   NaN  \n",
       "1                     0   NaN   NaN   NaN   NaN   NaN  \n",
       "2                     0   NaN   NaN   NaN   NaN   NaN  \n",
       "3                     0   NaN   NaN   NaN   NaN   NaN  \n",
       "4                     0   NaN   NaN   NaN   NaN   NaN  \n",
       "\n",
       "[5 rows x 36 columns]"
      ]
     },
     "execution_count": 572,
     "metadata": {},
     "output_type": "execute_result"
    }
   ],
   "source": [
    "house_prices_dummy2.head()"
   ]
  },
  {
   "cell_type": "code",
   "execution_count": 573,
   "metadata": {},
   "outputs": [],
   "source": [
    "house_prices_dummy2.fillna(0, inplace=True)"
   ]
  },
  {
   "cell_type": "code",
   "execution_count": 574,
   "metadata": {},
   "outputs": [],
   "source": [
    "z = gbrt_best.predict(house_prices_dummy2)"
   ]
  },
  {
   "cell_type": "code",
   "execution_count": 649,
   "metadata": {},
   "outputs": [],
   "source": [
    "test_original = pd.read_csv('../test.csv')"
   ]
  },
  {
   "cell_type": "code",
   "execution_count": 576,
   "metadata": {},
   "outputs": [],
   "source": [
    "final_df = pd.DataFrame({'Id':test_original['Id'], 'SalePrice':np.exp(z)})"
   ]
  },
  {
   "cell_type": "code",
   "execution_count": 577,
   "metadata": {},
   "outputs": [],
   "source": [
    "final_df.to_csv(\"../submit.csv\", float_format='%f', index=False) "
   ]
  },
  {
   "cell_type": "code",
   "execution_count": null,
   "metadata": {},
   "outputs": [],
   "source": []
  },
  {
   "cell_type": "markdown",
   "metadata": {},
   "source": [
    "### Ensemble Final"
   ]
  },
  {
   "cell_type": "code",
   "execution_count": 753,
   "metadata": {},
   "outputs": [],
   "source": [
    "y_gbm_2 = gbrt_best.predict(x2)"
   ]
  },
  {
   "cell_type": "code",
   "execution_count": 754,
   "metadata": {},
   "outputs": [],
   "source": [
    "y_gbm = gbm.predict(x)\n",
    "y_xgboost = xgboost.predict(x)\n",
    "y_lasso = lasso.predict(x3)"
   ]
  },
  {
   "cell_type": "code",
   "execution_count": 755,
   "metadata": {},
   "outputs": [
    {
     "data": {
      "text/plain": [
       "<matplotlib.axes._subplots.AxesSubplot at 0x12e544d68>"
      ]
     },
     "execution_count": 755,
     "metadata": {},
     "output_type": "execute_result"
    },
    {
     "data": {
      "image/png": "[encoded data removed]",
      "text/plain": [
       "<Figure size 432x288 with 1 Axes>"
      ]
     },
     "metadata": {},
     "output_type": "display_data"
    }
   ],
   "source": [
    "predictions = pd.DataFrame({\"gbm\":y_gbm_2, \"lasso\":y_lasso, \"xgboost\":y_xgboost})\n",
    "predictions.plot(x = \"lasso\", y = \"xgboost\", kind = \"scatter\")"
   ]
  },
  {
   "cell_type": "code",
   "execution_count": null,
   "metadata": {},
   "outputs": [],
   "source": []
  },
  {
   "cell_type": "code",
   "execution_count": 707,
   "metadata": {},
   "outputs": [],
   "source": [
    "from sklearn.metrics import r2_score"
   ]
  },
  {
   "cell_type": "code",
   "execution_count": 769,
   "metadata": {},
   "outputs": [],
   "source": [
    "z = 0.5*y_gbm_2 + 0.5*y_lasso"
   ]
  },
  {
   "cell_type": "code",
   "execution_count": 770,
   "metadata": {},
   "outputs": [
    {
     "name": "stdout",
     "output_type": "stream",
     "text": [
      "R2 Score = 0.9482395716465755\n"
     ]
    }
   ],
   "source": [
    "print('R2 Score = {}'.format(r2_score(y, z)))"
   ]
  },
  {
   "cell_type": "code",
   "execution_count": 771,
   "metadata": {},
   "outputs": [
    {
     "name": "stdout",
     "output_type": "stream",
     "text": [
      "RMSE Train = 0.09090773806131212\n"
     ]
    }
   ],
   "source": [
    "print('RMSE Train = {}'.format(np.sqrt(mean_squared_error(y, z))))"
   ]
  },
  {
   "cell_type": "code",
   "execution_count": 711,
   "metadata": {},
   "outputs": [],
   "source": [
    "y_gbm = gbm.predict(test)\n",
    "y_xgboost = xgboost.predict(test)\n",
    "y_lasso = lasso.predict(test)"
   ]
  },
  {
   "cell_type": "code",
   "execution_count": 712,
   "metadata": {},
   "outputs": [],
   "source": [
    "y_gbm_2 = gbrt_best.predict(house_prices_dummy2)"
   ]
  },
  {
   "cell_type": "code",
   "execution_count": 713,
   "metadata": {},
   "outputs": [],
   "source": [
    "z = 0.45*y_gbm_2 + 0.35*y_lasso + 0.2*y_xgboost"
   ]
  },
  {
   "cell_type": "code",
   "execution_count": 714,
   "metadata": {},
   "outputs": [],
   "source": [
    "final_df = pd.DataFrame({'Id':test_original['Id'], 'SalePrice':np.exp(z)})"
   ]
  },
  {
   "cell_type": "code",
   "execution_count": 715,
   "metadata": {},
   "outputs": [],
   "source": [
    "final_df.to_csv(\"../submit.csv\", float_format='%f', index=False)"
   ]
  },
  {
   "cell_type": "code",
   "execution_count": null,
   "metadata": {},
   "outputs": [],
   "source": []
  }
 ],
 "metadata": {
  "kernelspec": {
   "display_name": "Python 3",
   "language": "python",
   "name": "python3"
  },
  "language_info": {
   "codemirror_mode": {
    "name": "ipython",
    "version": 3
   },
   "file_extension": ".py",
   "mimetype": "text/x-python",
   "name": "python",
   "nbconvert_exporter": "python",
   "pygments_lexer": "ipython3",
   "version": "3.6.4"
  }
 },
 "nbformat": 4,
 "nbformat_minor": 2
}
