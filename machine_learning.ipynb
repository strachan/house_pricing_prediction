{
 "cells": [
  {
   "cell_type": "code",
   "execution_count": 4,
   "metadata": {},
   "outputs": [],
   "source": [
    "import pandas as pd\n",
    "import numpy as np"
   ]
  },
  {
   "cell_type": "code",
   "execution_count": 5,
   "metadata": {},
   "outputs": [],
   "source": [
    "data = pd.read_csv('../train_wo_missing_values.csv')\n",
    "test = pd.read_csv('../test.csv')"
   ]
  },
  {
   "cell_type": "code",
   "execution_count": 3,
   "metadata": {},
   "outputs": [],
   "source": [
    "data.drop(index=[523,1298], inplace=True)"
   ]
  },
  {
   "cell_type": "code",
   "execution_count": 6,
   "metadata": {},
   "outputs": [],
   "source": [
    "from transform import transform_dataset"
   ]
  },
  {
   "cell_type": "code",
   "execution_count": 7,
   "metadata": {},
   "outputs": [],
   "source": [
    "x, y = transform_dataset(data)"
   ]
  },
  {
   "cell_type": "code",
   "execution_count": 8,
   "metadata": {},
   "outputs": [],
   "source": [
    "x.to_csv('../train_transf.csv', index=False)\n",
    "y.to_csv('../test_transf.csv', index=False, header=False)"
   ]
  },
  {
   "cell_type": "code",
   "execution_count": 580,
   "metadata": {},
   "outputs": [],
   "source": [
    "rand_variable = np.random.rand(x.shape[0])*100"
   ]
  },
  {
   "cell_type": "code",
   "execution_count": 129,
   "metadata": {},
   "outputs": [],
   "source": []
  },
  {
   "cell_type": "code",
   "execution_count": 581,
   "metadata": {},
   "outputs": [],
   "source": [
    "x = x.reset_index(drop=True)"
   ]
  },
  {
   "cell_type": "code",
   "execution_count": 582,
   "metadata": {},
   "outputs": [],
   "source": [
    "x = pd.concat([x, pd.Series(rand_variable, name='Rand_Var')], axis=1)"
   ]
  },
  {
   "cell_type": "code",
   "execution_count": 572,
   "metadata": {},
   "outputs": [],
   "source": [
    "pca_var = pd.read_csv('../x12d.csv', prefix='pca')"
   ]
  },
  {
   "cell_type": "code",
   "execution_count": 573,
   "metadata": {},
   "outputs": [
    {
     "data": {
      "text/plain": [
       "(1458, 12)"
      ]
     },
     "execution_count": 573,
     "metadata": {},
     "output_type": "execute_result"
    }
   ],
   "source": [
    "pca_var.shape"
   ]
  },
  {
   "cell_type": "code",
   "execution_count": 574,
   "metadata": {},
   "outputs": [],
   "source": [
    "x = pd.concat([x, pca_var], axis=1)"
   ]
  },
  {
   "cell_type": "code",
   "execution_count": 544,
   "metadata": {},
   "outputs": [
    {
     "data": {
      "text/html": [
       "<div>\n",
       "<style scoped>\n",
       "    .dataframe tbody tr th:only-of-type {\n",
       "        vertical-align: middle;\n",
       "    }\n",
       "\n",
       "    .dataframe tbody tr th {\n",
       "        vertical-align: top;\n",
       "    }\n",
       "\n",
       "    .dataframe thead th {\n",
       "        text-align: right;\n",
       "    }\n",
       "</style>\n",
       "<table border=\"1\" class=\"dataframe\">\n",
       "  <thead>\n",
       "    <tr style=\"text-align: right;\">\n",
       "      <th></th>\n",
       "      <th>LotFrontage</th>\n",
       "      <th>LotArea</th>\n",
       "      <th>YearBuilt</th>\n",
       "      <th>MasVnrArea</th>\n",
       "      <th>TotalBsmtSF</th>\n",
       "      <th>GrLivArea</th>\n",
       "      <th>GarageYrBlt</th>\n",
       "      <th>GarageArea</th>\n",
       "      <th>WoodDeckSF</th>\n",
       "      <th>OpenPorchSF</th>\n",
       "      <th>...</th>\n",
       "      <th>2</th>\n",
       "      <th>3</th>\n",
       "      <th>4</th>\n",
       "      <th>5</th>\n",
       "      <th>6</th>\n",
       "      <th>7</th>\n",
       "      <th>8</th>\n",
       "      <th>9</th>\n",
       "      <th>10</th>\n",
       "      <th>11</th>\n",
       "    </tr>\n",
       "  </thead>\n",
       "  <tbody>\n",
       "    <tr>\n",
       "      <th>0</th>\n",
       "      <td>13.754179</td>\n",
       "      <td>9.041922</td>\n",
       "      <td>2003</td>\n",
       "      <td>196.0</td>\n",
       "      <td>856</td>\n",
       "      <td>1710</td>\n",
       "      <td>2003.0</td>\n",
       "      <td>211.355516</td>\n",
       "      <td>0</td>\n",
       "      <td>61</td>\n",
       "      <td>...</td>\n",
       "      <td>0.489574</td>\n",
       "      <td>-0.070740</td>\n",
       "      <td>0.080191</td>\n",
       "      <td>-0.396822</td>\n",
       "      <td>0.819830</td>\n",
       "      <td>1.454054</td>\n",
       "      <td>-0.530810</td>\n",
       "      <td>-0.314133</td>\n",
       "      <td>0.675321</td>\n",
       "      <td>-0.309865</td>\n",
       "    </tr>\n",
       "    <tr>\n",
       "      <th>1</th>\n",
       "      <td>15.446997</td>\n",
       "      <td>9.169518</td>\n",
       "      <td>1976</td>\n",
       "      <td>0.0</td>\n",
       "      <td>1262</td>\n",
       "      <td>1262</td>\n",
       "      <td>1976.0</td>\n",
       "      <td>183.057985</td>\n",
       "      <td>298</td>\n",
       "      <td>0</td>\n",
       "      <td>...</td>\n",
       "      <td>-0.752644</td>\n",
       "      <td>0.198471</td>\n",
       "      <td>-0.047932</td>\n",
       "      <td>0.915364</td>\n",
       "      <td>-0.400408</td>\n",
       "      <td>-0.380815</td>\n",
       "      <td>-0.143054</td>\n",
       "      <td>0.270766</td>\n",
       "      <td>-1.185431</td>\n",
       "      <td>0.028497</td>\n",
       "    </tr>\n",
       "    <tr>\n",
       "      <th>2</th>\n",
       "      <td>14.107516</td>\n",
       "      <td>9.328123</td>\n",
       "      <td>2001</td>\n",
       "      <td>162.0</td>\n",
       "      <td>920</td>\n",
       "      <td>1786</td>\n",
       "      <td>2001.0</td>\n",
       "      <td>230.170899</td>\n",
       "      <td>0</td>\n",
       "      <td>42</td>\n",
       "      <td>...</td>\n",
       "      <td>0.333702</td>\n",
       "      <td>0.316951</td>\n",
       "      <td>0.334385</td>\n",
       "      <td>1.192629</td>\n",
       "      <td>0.223092</td>\n",
       "      <td>0.657625</td>\n",
       "      <td>-0.554016</td>\n",
       "      <td>0.348407</td>\n",
       "      <td>-0.566953</td>\n",
       "      <td>-0.760743</td>\n",
       "    </tr>\n",
       "    <tr>\n",
       "      <th>3</th>\n",
       "      <td>13.146282</td>\n",
       "      <td>9.164296</td>\n",
       "      <td>1915</td>\n",
       "      <td>0.0</td>\n",
       "      <td>756</td>\n",
       "      <td>1717</td>\n",
       "      <td>1998.0</td>\n",
       "      <td>240.681574</td>\n",
       "      <td>0</td>\n",
       "      <td>35</td>\n",
       "      <td>...</td>\n",
       "      <td>-0.382669</td>\n",
       "      <td>-1.279727</td>\n",
       "      <td>3.367146</td>\n",
       "      <td>-1.145491</td>\n",
       "      <td>-0.414045</td>\n",
       "      <td>-0.896113</td>\n",
       "      <td>-0.067543</td>\n",
       "      <td>0.869701</td>\n",
       "      <td>0.666970</td>\n",
       "      <td>-1.126284</td>\n",
       "    </tr>\n",
       "    <tr>\n",
       "      <th>4</th>\n",
       "      <td>15.870407</td>\n",
       "      <td>9.565214</td>\n",
       "      <td>2000</td>\n",
       "      <td>350.0</td>\n",
       "      <td>1145</td>\n",
       "      <td>2198</td>\n",
       "      <td>2000.0</td>\n",
       "      <td>298.887194</td>\n",
       "      <td>192</td>\n",
       "      <td>84</td>\n",
       "      <td>...</td>\n",
       "      <td>0.377549</td>\n",
       "      <td>0.281931</td>\n",
       "      <td>0.375355</td>\n",
       "      <td>1.157149</td>\n",
       "      <td>0.335261</td>\n",
       "      <td>0.444143</td>\n",
       "      <td>-0.367786</td>\n",
       "      <td>-0.198315</td>\n",
       "      <td>-0.038292</td>\n",
       "      <td>-0.898506</td>\n",
       "    </tr>\n",
       "  </tbody>\n",
       "</table>\n",
       "<p>5 rows × 66 columns</p>\n",
       "</div>"
      ],
      "text/plain": [
       "   LotFrontage   LotArea  YearBuilt  MasVnrArea  TotalBsmtSF  GrLivArea  \\\n",
       "0    13.754179  9.041922       2003       196.0          856       1710   \n",
       "1    15.446997  9.169518       1976         0.0         1262       1262   \n",
       "2    14.107516  9.328123       2001       162.0          920       1786   \n",
       "3    13.146282  9.164296       1915         0.0          756       1717   \n",
       "4    15.870407  9.565214       2000       350.0         1145       2198   \n",
       "\n",
       "   GarageYrBlt  GarageArea  WoodDeckSF  OpenPorchSF    ...            2  \\\n",
       "0       2003.0  211.355516           0           61    ...     0.489574   \n",
       "1       1976.0  183.057985         298            0    ...    -0.752644   \n",
       "2       2001.0  230.170899           0           42    ...     0.333702   \n",
       "3       1998.0  240.681574           0           35    ...    -0.382669   \n",
       "4       2000.0  298.887194         192           84    ...     0.377549   \n",
       "\n",
       "          3         4         5         6         7         8         9  \\\n",
       "0 -0.070740  0.080191 -0.396822  0.819830  1.454054 -0.530810 -0.314133   \n",
       "1  0.198471 -0.047932  0.915364 -0.400408 -0.380815 -0.143054  0.270766   \n",
       "2  0.316951  0.334385  1.192629  0.223092  0.657625 -0.554016  0.348407   \n",
       "3 -1.279727  3.367146 -1.145491 -0.414045 -0.896113 -0.067543  0.869701   \n",
       "4  0.281931  0.375355  1.157149  0.335261  0.444143 -0.367786 -0.198315   \n",
       "\n",
       "         10        11  \n",
       "0  0.675321 -0.309865  \n",
       "1 -1.185431  0.028497  \n",
       "2 -0.566953 -0.760743  \n",
       "3  0.666970 -1.126284  \n",
       "4 -0.038292 -0.898506  \n",
       "\n",
       "[5 rows x 66 columns]"
      ]
     },
     "execution_count": 544,
     "metadata": {},
     "output_type": "execute_result"
    }
   ],
   "source": [
    "x.head()"
   ]
  },
  {
   "cell_type": "code",
   "execution_count": 36,
   "metadata": {},
   "outputs": [],
   "source": [
    "from sklearn import ensemble\n",
    "randomForest = ensemble.RandomForestRegressor()"
   ]
  },
  {
   "cell_type": "code",
   "execution_count": 37,
   "metadata": {},
   "outputs": [
    {
     "data": {
      "text/plain": [
       "RandomForestRegressor(bootstrap=True, criterion='mse', max_depth=None,\n",
       "           max_features='auto', max_leaf_nodes=None,\n",
       "           min_impurity_decrease=0.0, min_impurity_split=None,\n",
       "           min_samples_leaf=1, min_samples_split=2,\n",
       "           min_weight_fraction_leaf=0.0, n_estimators=100, n_jobs=1,\n",
       "           oob_score=True, random_state=None, verbose=0, warm_start=False)"
      ]
     },
     "execution_count": 37,
     "metadata": {},
     "output_type": "execute_result"
    }
   ],
   "source": [
    "randomForest.set_params(n_estimators=100, oob_score=True)\n",
    "randomForest.fit(x, y)"
   ]
  },
  {
   "cell_type": "code",
   "execution_count": 38,
   "metadata": {},
   "outputs": [],
   "source": [
    "#param_test = {'max_features':range(7,20,2),\n",
    "#              'min_samples_split':range(80,301,20), 'min_samples_leaf':range(5,66,10),\n",
    "#              'max_depth':range(5,16,2), 'min_samples_split':range(20,101,20),\n",
    "#              'n_estimators':range(20,1001,10)}\n",
    "#gsearch = GridSearchCV(estimator = randomForest,\n",
    "#param_grid = param_test, scoring='neg_mean_squared_error',n_jobs=4,iid=False, cv=10)\n",
    "#gsearch.fit(x, y)\n",
    "#gsearch.grid_scores_, gsearch.best_params_, gsearch.best_score_"
   ]
  },
  {
   "cell_type": "code",
   "execution_count": 39,
   "metadata": {},
   "outputs": [
    {
     "data": {
      "text/plain": [
       "0.981003380347395"
      ]
     },
     "execution_count": 39,
     "metadata": {},
     "output_type": "execute_result"
    }
   ],
   "source": [
    "randomForest.score(x, y)"
   ]
  },
  {
   "cell_type": "code",
   "execution_count": 40,
   "metadata": {},
   "outputs": [
    {
     "data": {
      "text/plain": [
       "0.8642604799196224"
      ]
     },
     "execution_count": 40,
     "metadata": {},
     "output_type": "execute_result"
    }
   ],
   "source": [
    "randomForest.oob_score_"
   ]
  },
  {
   "cell_type": "code",
   "execution_count": 41,
   "metadata": {},
   "outputs": [
    {
     "data": {
      "text/plain": [
       "array([(b'LotGrBsmtArea', 0.36840096), (b'YearBuilt', 0.14253149),\n",
       "       (b'GrLivArea', 0.13529386), (b'ExterQual_TA', 0.0705841 ),\n",
       "       (b'GarageCars', 0.03252303), (b'CentralAir_Y', 0.02736767),\n",
       "       (b'TotalBsmtSF', 0.01742461), (b'GarageArea', 0.01641494),\n",
       "       (b'1stFlrSF', 0.01428137), (b'YearRemodAdd', 0.01344729),\n",
       "       (b'BsmtFinSF1', 0.01081224), (b'2ndFlrSF', 0.00847521),\n",
       "       (b'KitchenQual_TA', 0.00712818), (b'BsmtUnfSF', 0.00667557),\n",
       "       (b'LotFrontage', 0.00540119)],\n",
       "      dtype=[('feature', 'S30'), ('importance', '<f8')])"
      ]
     },
     "execution_count": 41,
     "metadata": {},
     "output_type": "execute_result"
    }
   ],
   "source": [
    "feature_importance = list(zip(x.columns, randomForest.feature_importances_))\n",
    "dtype = [('feature', 'S30'), ('importance', 'float')]\n",
    "feature_importance = np.array(feature_importance, dtype=dtype)\n",
    "feature_sort = np.sort(feature_importance, order='importance')[::-1]\n",
    "feature_sort[:15]"
   ]
  },
  {
   "cell_type": "code",
   "execution_count": null,
   "metadata": {},
   "outputs": [],
   "source": []
  },
  {
   "cell_type": "code",
   "execution_count": 42,
   "metadata": {},
   "outputs": [
    {
     "data": {
      "text/plain": [
       "[b'LotGrBsmtArea',\n",
       " b'YearBuilt',\n",
       " b'GrLivArea',\n",
       " b'ExterQual_TA',\n",
       " b'GarageCars',\n",
       " b'CentralAir_Y',\n",
       " b'TotalBsmtSF',\n",
       " b'GarageArea',\n",
       " b'1stFlrSF',\n",
       " b'YearRemodAdd',\n",
       " b'BsmtFinSF1',\n",
       " b'2ndFlrSF',\n",
       " b'KitchenQual_TA',\n",
       " b'BsmtUnfSF',\n",
       " b'LotFrontage']"
      ]
     },
     "execution_count": 42,
     "metadata": {},
     "output_type": "execute_result"
    }
   ],
   "source": [
    "[i for (i, j) in feature_sort[0:15]]"
   ]
  },
  {
   "cell_type": "code",
   "execution_count": 136,
   "metadata": {},
   "outputs": [],
   "source": [
    "data = pd.read_csv('../train_wo_missing_values.csv')\n",
    "x_, y_ = data.loc[:, data.columns != 'SalePrice'], data.loc[:,'SalePrice']"
   ]
  },
  {
   "cell_type": "code",
   "execution_count": 139,
   "metadata": {},
   "outputs": [],
   "source": [
    "from scipy import stats"
   ]
  },
  {
   "cell_type": "code",
   "execution_count": 137,
   "metadata": {},
   "outputs": [],
   "source": [
    "categorical_columns = ['MSSubClass','MSZoning','Street','LotShape','LandContour','LotConfig',\n",
    "                         'LandSlope','Neighborhood','Condition1','Condition2','BldgType','HouseStyle',\n",
    "                         'OverallQual','OverallCond','RoofStyle','RoofMatl','Exterior1st','Exterior2nd',\n",
    "                         'MasVnrType','ExterQual','ExterCond','Foundation','BsmtQual','BsmtExposure',\n",
    "                         'BsmtFinType1','Heating','HeatingQC','CentralAir','Electrical','KitchenQual',\n",
    "                         'Functional','FireplaceQu','GarageType','GarageFinish','PavedDrive',\n",
    "                         'SaleType','SaleCondition', 'Utilities']"
   ]
  },
  {
   "cell_type": "code",
   "execution_count": 140,
   "metadata": {},
   "outputs": [
    {
     "name": "stderr",
     "output_type": "stream",
     "text": [
      "/anaconda3/lib/python3.6/site-packages/ipykernel_launcher.py:6: SettingWithCopyWarning: \n",
      "A value is trying to be set on a copy of a slice from a DataFrame.\n",
      "Try using .loc[row_indexer,col_indexer] = value instead\n",
      "\n",
      "See the caveats in the documentation: http://pandas.pydata.org/pandas-docs/stable/indexing.html#indexing-view-versus-copy\n",
      "  \n"
     ]
    }
   ],
   "source": [
    "continuous_columns = x_.drop(columns=categorical_columns).columns\n",
    "\n",
    "for column in continuous_columns:\n",
    "    k, p = stats.normaltest(x_[column])\n",
    "    if p < 0.05:\n",
    "        x_[column] = np.log(x_[column] + 1)"
   ]
  },
  {
   "cell_type": "code",
   "execution_count": 23,
   "metadata": {},
   "outputs": [],
   "source": [
    "dummies = pd.get_dummies(x_.loc[:,categorical_columns], drop_first=True)"
   ]
  },
  {
   "cell_type": "code",
   "execution_count": 24,
   "metadata": {},
   "outputs": [
    {
     "data": {
      "text/html": [
       "<div>\n",
       "<style scoped>\n",
       "    .dataframe tbody tr th:only-of-type {\n",
       "        vertical-align: middle;\n",
       "    }\n",
       "\n",
       "    .dataframe tbody tr th {\n",
       "        vertical-align: top;\n",
       "    }\n",
       "\n",
       "    .dataframe thead th {\n",
       "        text-align: right;\n",
       "    }\n",
       "</style>\n",
       "<table border=\"1\" class=\"dataframe\">\n",
       "  <thead>\n",
       "    <tr style=\"text-align: right;\">\n",
       "      <th></th>\n",
       "      <th>MSSubClass_160</th>\n",
       "      <th>MSSubClass_180</th>\n",
       "      <th>MSSubClass_190</th>\n",
       "      <th>MSSubClass_20</th>\n",
       "      <th>MSSubClass_30</th>\n",
       "      <th>MSSubClass_40</th>\n",
       "      <th>MSSubClass_45</th>\n",
       "      <th>MSSubClass_50</th>\n",
       "      <th>MSSubClass_60</th>\n",
       "      <th>MSSubClass_70</th>\n",
       "      <th>...</th>\n",
       "      <th>SaleType_ConLw</th>\n",
       "      <th>SaleType_New</th>\n",
       "      <th>SaleType_Oth</th>\n",
       "      <th>SaleType_WD</th>\n",
       "      <th>SaleCondition_AdjLand</th>\n",
       "      <th>SaleCondition_Alloca</th>\n",
       "      <th>SaleCondition_Family</th>\n",
       "      <th>SaleCondition_Normal</th>\n",
       "      <th>SaleCondition_Partial</th>\n",
       "      <th>Utilities_NoSeWa</th>\n",
       "    </tr>\n",
       "  </thead>\n",
       "  <tbody>\n",
       "    <tr>\n",
       "      <th>0</th>\n",
       "      <td>0</td>\n",
       "      <td>0</td>\n",
       "      <td>0</td>\n",
       "      <td>0</td>\n",
       "      <td>0</td>\n",
       "      <td>0</td>\n",
       "      <td>0</td>\n",
       "      <td>0</td>\n",
       "      <td>1</td>\n",
       "      <td>0</td>\n",
       "      <td>...</td>\n",
       "      <td>0</td>\n",
       "      <td>0</td>\n",
       "      <td>0</td>\n",
       "      <td>1</td>\n",
       "      <td>0</td>\n",
       "      <td>0</td>\n",
       "      <td>0</td>\n",
       "      <td>1</td>\n",
       "      <td>0</td>\n",
       "      <td>0</td>\n",
       "    </tr>\n",
       "    <tr>\n",
       "      <th>1</th>\n",
       "      <td>0</td>\n",
       "      <td>0</td>\n",
       "      <td>0</td>\n",
       "      <td>1</td>\n",
       "      <td>0</td>\n",
       "      <td>0</td>\n",
       "      <td>0</td>\n",
       "      <td>0</td>\n",
       "      <td>0</td>\n",
       "      <td>0</td>\n",
       "      <td>...</td>\n",
       "      <td>0</td>\n",
       "      <td>0</td>\n",
       "      <td>0</td>\n",
       "      <td>1</td>\n",
       "      <td>0</td>\n",
       "      <td>0</td>\n",
       "      <td>0</td>\n",
       "      <td>1</td>\n",
       "      <td>0</td>\n",
       "      <td>0</td>\n",
       "    </tr>\n",
       "    <tr>\n",
       "      <th>2</th>\n",
       "      <td>0</td>\n",
       "      <td>0</td>\n",
       "      <td>0</td>\n",
       "      <td>0</td>\n",
       "      <td>0</td>\n",
       "      <td>0</td>\n",
       "      <td>0</td>\n",
       "      <td>0</td>\n",
       "      <td>1</td>\n",
       "      <td>0</td>\n",
       "      <td>...</td>\n",
       "      <td>0</td>\n",
       "      <td>0</td>\n",
       "      <td>0</td>\n",
       "      <td>1</td>\n",
       "      <td>0</td>\n",
       "      <td>0</td>\n",
       "      <td>0</td>\n",
       "      <td>1</td>\n",
       "      <td>0</td>\n",
       "      <td>0</td>\n",
       "    </tr>\n",
       "    <tr>\n",
       "      <th>3</th>\n",
       "      <td>0</td>\n",
       "      <td>0</td>\n",
       "      <td>0</td>\n",
       "      <td>0</td>\n",
       "      <td>0</td>\n",
       "      <td>0</td>\n",
       "      <td>0</td>\n",
       "      <td>0</td>\n",
       "      <td>0</td>\n",
       "      <td>1</td>\n",
       "      <td>...</td>\n",
       "      <td>0</td>\n",
       "      <td>0</td>\n",
       "      <td>0</td>\n",
       "      <td>1</td>\n",
       "      <td>0</td>\n",
       "      <td>0</td>\n",
       "      <td>0</td>\n",
       "      <td>0</td>\n",
       "      <td>0</td>\n",
       "      <td>0</td>\n",
       "    </tr>\n",
       "    <tr>\n",
       "      <th>4</th>\n",
       "      <td>0</td>\n",
       "      <td>0</td>\n",
       "      <td>0</td>\n",
       "      <td>0</td>\n",
       "      <td>0</td>\n",
       "      <td>0</td>\n",
       "      <td>0</td>\n",
       "      <td>0</td>\n",
       "      <td>1</td>\n",
       "      <td>0</td>\n",
       "      <td>...</td>\n",
       "      <td>0</td>\n",
       "      <td>0</td>\n",
       "      <td>0</td>\n",
       "      <td>1</td>\n",
       "      <td>0</td>\n",
       "      <td>0</td>\n",
       "      <td>0</td>\n",
       "      <td>1</td>\n",
       "      <td>0</td>\n",
       "      <td>0</td>\n",
       "    </tr>\n",
       "  </tbody>\n",
       "</table>\n",
       "<p>5 rows × 219 columns</p>\n",
       "</div>"
      ],
      "text/plain": [
       "   MSSubClass_160  MSSubClass_180  MSSubClass_190  MSSubClass_20  \\\n",
       "0               0               0               0              0   \n",
       "1               0               0               0              1   \n",
       "2               0               0               0              0   \n",
       "3               0               0               0              0   \n",
       "4               0               0               0              0   \n",
       "\n",
       "   MSSubClass_30  MSSubClass_40  MSSubClass_45  MSSubClass_50  MSSubClass_60  \\\n",
       "0              0              0              0              0              1   \n",
       "1              0              0              0              0              0   \n",
       "2              0              0              0              0              1   \n",
       "3              0              0              0              0              0   \n",
       "4              0              0              0              0              1   \n",
       "\n",
       "   MSSubClass_70        ...         SaleType_ConLw  SaleType_New  \\\n",
       "0              0        ...                      0             0   \n",
       "1              0        ...                      0             0   \n",
       "2              0        ...                      0             0   \n",
       "3              1        ...                      0             0   \n",
       "4              0        ...                      0             0   \n",
       "\n",
       "   SaleType_Oth  SaleType_WD  SaleCondition_AdjLand  SaleCondition_Alloca  \\\n",
       "0             0            1                      0                     0   \n",
       "1             0            1                      0                     0   \n",
       "2             0            1                      0                     0   \n",
       "3             0            1                      0                     0   \n",
       "4             0            1                      0                     0   \n",
       "\n",
       "   SaleCondition_Family  SaleCondition_Normal  SaleCondition_Partial  \\\n",
       "0                     0                     1                      0   \n",
       "1                     0                     1                      0   \n",
       "2                     0                     1                      0   \n",
       "3                     0                     0                      0   \n",
       "4                     0                     1                      0   \n",
       "\n",
       "   Utilities_NoSeWa  \n",
       "0                 0  \n",
       "1                 0  \n",
       "2                 0  \n",
       "3                 0  \n",
       "4                 0  \n",
       "\n",
       "[5 rows x 219 columns]"
      ]
     },
     "execution_count": 24,
     "metadata": {},
     "output_type": "execute_result"
    }
   ],
   "source": [
    "dummies.head()"
   ]
  },
  {
   "cell_type": "code",
   "execution_count": 25,
   "metadata": {},
   "outputs": [],
   "source": [
    "x = pd.concat([x_.drop(columns=categorical_columns), dummies], axis=1)"
   ]
  },
  {
   "cell_type": "code",
   "execution_count": 35,
   "metadata": {},
   "outputs": [],
   "source": [
    "x['LotGrBsmtArea'] = x['GrLivArea'] * x['LotArea'] * x['TotalBsmtSF']"
   ]
  },
  {
   "cell_type": "code",
   "execution_count": 26,
   "metadata": {},
   "outputs": [],
   "source": [
    "y = np.log(y_)"
   ]
  },
  {
   "cell_type": "code",
   "execution_count": 33,
   "metadata": {},
   "outputs": [
    {
     "data": {
      "text/html": [
       "<div>\n",
       "<style scoped>\n",
       "    .dataframe tbody tr th:only-of-type {\n",
       "        vertical-align: middle;\n",
       "    }\n",
       "\n",
       "    .dataframe tbody tr th {\n",
       "        vertical-align: top;\n",
       "    }\n",
       "\n",
       "    .dataframe thead th {\n",
       "        text-align: right;\n",
       "    }\n",
       "</style>\n",
       "<table border=\"1\" class=\"dataframe\">\n",
       "  <thead>\n",
       "    <tr style=\"text-align: right;\">\n",
       "      <th></th>\n",
       "      <th>LotFrontage</th>\n",
       "      <th>LotArea</th>\n",
       "      <th>YearBuilt</th>\n",
       "      <th>YearRemodAdd</th>\n",
       "      <th>MasVnrArea</th>\n",
       "      <th>BsmtFinSF1</th>\n",
       "      <th>BsmtFinSF2</th>\n",
       "      <th>BsmtUnfSF</th>\n",
       "      <th>TotalBsmtSF</th>\n",
       "      <th>1stFlrSF</th>\n",
       "      <th>...</th>\n",
       "      <th>SaleType_ConLw</th>\n",
       "      <th>SaleType_New</th>\n",
       "      <th>SaleType_Oth</th>\n",
       "      <th>SaleType_WD</th>\n",
       "      <th>SaleCondition_AdjLand</th>\n",
       "      <th>SaleCondition_Alloca</th>\n",
       "      <th>SaleCondition_Family</th>\n",
       "      <th>SaleCondition_Normal</th>\n",
       "      <th>SaleCondition_Partial</th>\n",
       "      <th>Utilities_NoSeWa</th>\n",
       "    </tr>\n",
       "  </thead>\n",
       "  <tbody>\n",
       "    <tr>\n",
       "      <th>0</th>\n",
       "      <td>65.0</td>\n",
       "      <td>8450</td>\n",
       "      <td>2003</td>\n",
       "      <td>2003</td>\n",
       "      <td>196.0</td>\n",
       "      <td>706</td>\n",
       "      <td>0</td>\n",
       "      <td>150</td>\n",
       "      <td>856</td>\n",
       "      <td>856</td>\n",
       "      <td>...</td>\n",
       "      <td>0</td>\n",
       "      <td>0</td>\n",
       "      <td>0</td>\n",
       "      <td>1</td>\n",
       "      <td>0</td>\n",
       "      <td>0</td>\n",
       "      <td>0</td>\n",
       "      <td>1</td>\n",
       "      <td>0</td>\n",
       "      <td>0</td>\n",
       "    </tr>\n",
       "    <tr>\n",
       "      <th>1</th>\n",
       "      <td>80.0</td>\n",
       "      <td>9600</td>\n",
       "      <td>1976</td>\n",
       "      <td>1976</td>\n",
       "      <td>0.0</td>\n",
       "      <td>978</td>\n",
       "      <td>0</td>\n",
       "      <td>284</td>\n",
       "      <td>1262</td>\n",
       "      <td>1262</td>\n",
       "      <td>...</td>\n",
       "      <td>0</td>\n",
       "      <td>0</td>\n",
       "      <td>0</td>\n",
       "      <td>1</td>\n",
       "      <td>0</td>\n",
       "      <td>0</td>\n",
       "      <td>0</td>\n",
       "      <td>1</td>\n",
       "      <td>0</td>\n",
       "      <td>0</td>\n",
       "    </tr>\n",
       "    <tr>\n",
       "      <th>2</th>\n",
       "      <td>68.0</td>\n",
       "      <td>11250</td>\n",
       "      <td>2001</td>\n",
       "      <td>2002</td>\n",
       "      <td>162.0</td>\n",
       "      <td>486</td>\n",
       "      <td>0</td>\n",
       "      <td>434</td>\n",
       "      <td>920</td>\n",
       "      <td>920</td>\n",
       "      <td>...</td>\n",
       "      <td>0</td>\n",
       "      <td>0</td>\n",
       "      <td>0</td>\n",
       "      <td>1</td>\n",
       "      <td>0</td>\n",
       "      <td>0</td>\n",
       "      <td>0</td>\n",
       "      <td>1</td>\n",
       "      <td>0</td>\n",
       "      <td>0</td>\n",
       "    </tr>\n",
       "    <tr>\n",
       "      <th>3</th>\n",
       "      <td>60.0</td>\n",
       "      <td>9550</td>\n",
       "      <td>1915</td>\n",
       "      <td>1970</td>\n",
       "      <td>0.0</td>\n",
       "      <td>216</td>\n",
       "      <td>0</td>\n",
       "      <td>540</td>\n",
       "      <td>756</td>\n",
       "      <td>961</td>\n",
       "      <td>...</td>\n",
       "      <td>0</td>\n",
       "      <td>0</td>\n",
       "      <td>0</td>\n",
       "      <td>1</td>\n",
       "      <td>0</td>\n",
       "      <td>0</td>\n",
       "      <td>0</td>\n",
       "      <td>0</td>\n",
       "      <td>0</td>\n",
       "      <td>0</td>\n",
       "    </tr>\n",
       "    <tr>\n",
       "      <th>4</th>\n",
       "      <td>84.0</td>\n",
       "      <td>14260</td>\n",
       "      <td>2000</td>\n",
       "      <td>2000</td>\n",
       "      <td>350.0</td>\n",
       "      <td>655</td>\n",
       "      <td>0</td>\n",
       "      <td>490</td>\n",
       "      <td>1145</td>\n",
       "      <td>1145</td>\n",
       "      <td>...</td>\n",
       "      <td>0</td>\n",
       "      <td>0</td>\n",
       "      <td>0</td>\n",
       "      <td>1</td>\n",
       "      <td>0</td>\n",
       "      <td>0</td>\n",
       "      <td>0</td>\n",
       "      <td>1</td>\n",
       "      <td>0</td>\n",
       "      <td>0</td>\n",
       "    </tr>\n",
       "  </tbody>\n",
       "</table>\n",
       "<p>5 rows × 252 columns</p>\n",
       "</div>"
      ],
      "text/plain": [
       "   LotFrontage  LotArea  YearBuilt  YearRemodAdd  MasVnrArea  BsmtFinSF1  \\\n",
       "0         65.0     8450       2003          2003       196.0         706   \n",
       "1         80.0     9600       1976          1976         0.0         978   \n",
       "2         68.0    11250       2001          2002       162.0         486   \n",
       "3         60.0     9550       1915          1970         0.0         216   \n",
       "4         84.0    14260       2000          2000       350.0         655   \n",
       "\n",
       "   BsmtFinSF2  BsmtUnfSF  TotalBsmtSF  1stFlrSF        ...         \\\n",
       "0           0        150          856       856        ...          \n",
       "1           0        284         1262      1262        ...          \n",
       "2           0        434          920       920        ...          \n",
       "3           0        540          756       961        ...          \n",
       "4           0        490         1145      1145        ...          \n",
       "\n",
       "   SaleType_ConLw  SaleType_New  SaleType_Oth  SaleType_WD  \\\n",
       "0               0             0             0            1   \n",
       "1               0             0             0            1   \n",
       "2               0             0             0            1   \n",
       "3               0             0             0            1   \n",
       "4               0             0             0            1   \n",
       "\n",
       "   SaleCondition_AdjLand  SaleCondition_Alloca  SaleCondition_Family  \\\n",
       "0                      0                     0                     0   \n",
       "1                      0                     0                     0   \n",
       "2                      0                     0                     0   \n",
       "3                      0                     0                     0   \n",
       "4                      0                     0                     0   \n",
       "\n",
       "   SaleCondition_Normal  SaleCondition_Partial  Utilities_NoSeWa  \n",
       "0                     1                      0                 0  \n",
       "1                     1                      0                 0  \n",
       "2                     1                      0                 0  \n",
       "3                     0                      0                 0  \n",
       "4                     1                      0                 0  \n",
       "\n",
       "[5 rows x 252 columns]"
      ]
     },
     "execution_count": 33,
     "metadata": {},
     "output_type": "execute_result"
    }
   ],
   "source": []
  },
  {
   "cell_type": "code",
   "execution_count": 43,
   "metadata": {},
   "outputs": [],
   "source": [
    "from xgboost import XGBRegressor"
   ]
  },
  {
   "cell_type": "code",
   "execution_count": 44,
   "metadata": {},
   "outputs": [],
   "source": [
    "from sklearn.preprocessing import StandardScaler"
   ]
  },
  {
   "cell_type": "code",
   "execution_count": 49,
   "metadata": {},
   "outputs": [],
   "source": [
    "from sklearn.model_selection import GridSearchCV"
   ]
  },
  {
   "cell_type": "code",
   "execution_count": 45,
   "metadata": {},
   "outputs": [
    {
     "data": {
      "text/plain": [
       "XGBRegressor(base_score=0.5, booster='gbtree', colsample_bylevel=1,\n",
       "       colsample_bytree=1, gamma=0, learning_rate=0.01, max_delta_step=0,\n",
       "       max_depth=3, min_child_weight=1, missing=None, n_estimators=1000,\n",
       "       n_jobs=1, nthread=None, objective='reg:linear', random_state=0,\n",
       "       reg_alpha=0, reg_lambda=1, scale_pos_weight=1, seed=None,\n",
       "       silent=True, subsample=1)"
      ]
     },
     "execution_count": 45,
     "metadata": {},
     "output_type": "execute_result"
    }
   ],
   "source": [
    "xgboost = XGBRegressor(learning_rate=0.01, n_estimators=1000)\n",
    "xgboost.fit(x, y)"
   ]
  },
  {
   "cell_type": "code",
   "execution_count": 46,
   "metadata": {},
   "outputs": [
    {
     "data": {
      "text/plain": [
       "0.9457035583231194"
      ]
     },
     "execution_count": 46,
     "metadata": {},
     "output_type": "execute_result"
    }
   ],
   "source": [
    "xgboost.score(x, y)"
   ]
  },
  {
   "cell_type": "code",
   "execution_count": 47,
   "metadata": {},
   "outputs": [],
   "source": [
    "param_test1 = {\n",
    " 'max_depth':range(3,10,2),\n",
    " 'min_child_weight':range(1,6,2)\n",
    "}"
   ]
  },
  {
   "cell_type": "code",
   "execution_count": 50,
   "metadata": {},
   "outputs": [
    {
     "data": {
      "text/plain": [
       "GridSearchCV(cv=10, error_score='raise',\n",
       "       estimator=XGBRegressor(base_score=0.5, booster='gbtree', colsample_bylevel=1,\n",
       "       colsample_bytree=1, gamma=0, learning_rate=0.01, max_delta_step=0,\n",
       "       max_depth=3, min_child_weight=1, missing=None, n_estimators=1000,\n",
       "       n_jobs=1, nthread=None, objective='reg:linear', random_state=0,\n",
       "       reg_alpha=0, reg_lambda=1, scale_pos_weight=1, seed=None,\n",
       "       silent=True, subsample=1),\n",
       "       fit_params=None, iid=False, n_jobs=-1,\n",
       "       param_grid={'max_depth': range(3, 10, 2), 'min_child_weight': range(1, 6, 2)},\n",
       "       pre_dispatch='2*n_jobs', refit=True, return_train_score='warn',\n",
       "       scoring='neg_mean_squared_error', verbose=0)"
      ]
     },
     "execution_count": 50,
     "metadata": {},
     "output_type": "execute_result"
    }
   ],
   "source": [
    "gsearch1 = GridSearchCV(xgboost, param_grid=param_test1, scoring='neg_mean_squared_error', n_jobs=-1, iid=False, cv=10)\n",
    "gsearch1.fit(x, y)"
   ]
  },
  {
   "cell_type": "code",
   "execution_count": 51,
   "metadata": {},
   "outputs": [
    {
     "name": "stderr",
     "output_type": "stream",
     "text": [
      "/anaconda3/lib/python3.6/site-packages/sklearn/model_selection/_search.py:761: DeprecationWarning: The grid_scores_ attribute was deprecated in version 0.18 in favor of the more elaborate cv_results_ attribute. The grid_scores_ attribute will not be available from 0.20\n",
      "  DeprecationWarning)\n"
     ]
    },
    {
     "data": {
      "text/plain": [
       "([mean: -0.01839, std: 0.00503, params: {'max_depth': 3, 'min_child_weight': 1},\n",
       "  mean: -0.01857, std: 0.00480, params: {'max_depth': 3, 'min_child_weight': 3},\n",
       "  mean: -0.01860, std: 0.00472, params: {'max_depth': 3, 'min_child_weight': 5},\n",
       "  mean: -0.01733, std: 0.00478, params: {'max_depth': 5, 'min_child_weight': 1},\n",
       "  mean: -0.01740, std: 0.00432, params: {'max_depth': 5, 'min_child_weight': 3},\n",
       "  mean: -0.01754, std: 0.00417, params: {'max_depth': 5, 'min_child_weight': 5},\n",
       "  mean: -0.01739, std: 0.00480, params: {'max_depth': 7, 'min_child_weight': 1},\n",
       "  mean: -0.01743, std: 0.00432, params: {'max_depth': 7, 'min_child_weight': 3},\n",
       "  mean: -0.01737, std: 0.00406, params: {'max_depth': 7, 'min_child_weight': 5},\n",
       "  mean: -0.01752, std: 0.00503, params: {'max_depth': 9, 'min_child_weight': 1},\n",
       "  mean: -0.01762, std: 0.00415, params: {'max_depth': 9, 'min_child_weight': 3},\n",
       "  mean: -0.01755, std: 0.00450, params: {'max_depth': 9, 'min_child_weight': 5}],\n",
       " {'max_depth': 5, 'min_child_weight': 1},\n",
       " -0.017332159032242406)"
      ]
     },
     "execution_count": 51,
     "metadata": {},
     "output_type": "execute_result"
    }
   ],
   "source": [
    "gsearch1.grid_scores_, gsearch1.best_params_, gsearch1.best_score_"
   ]
  },
  {
   "cell_type": "code",
   "execution_count": 52,
   "metadata": {},
   "outputs": [
    {
     "data": {
      "text/plain": [
       "0.9750444141812591"
      ]
     },
     "execution_count": 52,
     "metadata": {},
     "output_type": "execute_result"
    }
   ],
   "source": [
    "gsearch1.best_estimator_.score(x, y)"
   ]
  },
  {
   "cell_type": "code",
   "execution_count": 62,
   "metadata": {},
   "outputs": [
    {
     "data": {
      "text/plain": [
       "2.4103271197185485"
      ]
     },
     "execution_count": 62,
     "metadata": {},
     "output_type": "execute_result"
    }
   ],
   "source": [
    "np.sqrt(np.sum((np.array(y)-gsearch1.best_estimator_.predict(x))**2))"
   ]
  },
  {
   "cell_type": "code",
   "execution_count": 710,
   "metadata": {},
   "outputs": [
    {
     "name": "stderr",
     "output_type": "stream",
     "text": [
      "/anaconda3/lib/python3.6/site-packages/sklearn/model_selection/_search.py:761: DeprecationWarning: The grid_scores_ attribute was deprecated in version 0.18 in favor of the more elaborate cv_results_ attribute. The grid_scores_ attribute will not be available from 0.20\n",
      "  DeprecationWarning)\n"
     ]
    },
    {
     "data": {
      "text/plain": [
       "([mean: -0.01754, std: 0.00396, params: {'max_depth': 6, 'min_child_weight': 4},\n",
       "  mean: -0.01756, std: 0.00391, params: {'max_depth': 6, 'min_child_weight': 5},\n",
       "  mean: -0.01762, std: 0.00391, params: {'max_depth': 6, 'min_child_weight': 6},\n",
       "  mean: -0.01757, std: 0.00390, params: {'max_depth': 7, 'min_child_weight': 4},\n",
       "  mean: -0.01754, std: 0.00396, params: {'max_depth': 7, 'min_child_weight': 5},\n",
       "  mean: -0.01758, std: 0.00396, params: {'max_depth': 7, 'min_child_weight': 6},\n",
       "  mean: -0.01753, std: 0.00391, params: {'max_depth': 8, 'min_child_weight': 4},\n",
       "  mean: -0.01755, std: 0.00399, params: {'max_depth': 8, 'min_child_weight': 5},\n",
       "  mean: -0.01753, std: 0.00397, params: {'max_depth': 8, 'min_child_weight': 6}],\n",
       " {'max_depth': 8, 'min_child_weight': 6},\n",
       " -0.01752515006443246)"
      ]
     },
     "execution_count": 710,
     "metadata": {},
     "output_type": "execute_result"
    }
   ],
   "source": [
    "param_test2 = {\n",
    " 'max_depth':[6,7,8],\n",
    " 'min_child_weight':[4,5,6]\n",
    "}\n",
    "gsearch2 = GridSearchCV(estimator = XGBRegressor(learning_rate=0.01, n_estimators=1000, max_features='sqrt', subsample=0.8, random_state=10), \n",
    "param_grid = param_test2, scoring='neg_mean_squared_error',n_jobs=4,iid=False, cv=10)\n",
    "gsearch2.fit(x,y)\n",
    "gsearch2.grid_scores_, gsearch2.best_params_, gsearch2.best_score_"
   ]
  },
  {
   "cell_type": "code",
   "execution_count": 711,
   "metadata": {},
   "outputs": [
    {
     "data": {
      "text/plain": [
       "0.9842725719338103"
      ]
     },
     "execution_count": 711,
     "metadata": {},
     "output_type": "execute_result"
    }
   ],
   "source": [
    "gsearch2.best_estimator_.score(x, y)"
   ]
  },
  {
   "cell_type": "code",
   "execution_count": 714,
   "metadata": {},
   "outputs": [
    {
     "name": "stderr",
     "output_type": "stream",
     "text": [
      "/anaconda3/lib/python3.6/site-packages/sklearn/model_selection/_search.py:761: DeprecationWarning: The grid_scores_ attribute was deprecated in version 0.18 in favor of the more elaborate cv_results_ attribute. The grid_scores_ attribute will not be available from 0.20\n",
      "  DeprecationWarning)\n"
     ]
    },
    {
     "data": {
      "text/plain": [
       "([mean: -0.01762, std: 0.00395, params: {'max_depth': 9, 'min_child_weight': 6},\n",
       "  mean: -0.01744, std: 0.00378, params: {'max_depth': 9, 'min_child_weight': 8},\n",
       "  mean: -0.01756, std: 0.00389, params: {'max_depth': 9, 'min_child_weight': 10},\n",
       "  mean: -0.01772, std: 0.00384, params: {'max_depth': 9, 'min_child_weight': 12},\n",
       "  mean: -0.01760, std: 0.00385, params: {'max_depth': 10, 'min_child_weight': 6},\n",
       "  mean: -0.01751, std: 0.00377, params: {'max_depth': 10, 'min_child_weight': 8},\n",
       "  mean: -0.01756, std: 0.00388, params: {'max_depth': 10, 'min_child_weight': 10},\n",
       "  mean: -0.01769, std: 0.00379, params: {'max_depth': 10, 'min_child_weight': 12},\n",
       "  mean: -0.01765, std: 0.00388, params: {'max_depth': 11, 'min_child_weight': 6},\n",
       "  mean: -0.01755, std: 0.00379, params: {'max_depth': 11, 'min_child_weight': 8},\n",
       "  mean: -0.01760, std: 0.00383, params: {'max_depth': 11, 'min_child_weight': 10},\n",
       "  mean: -0.01771, std: 0.00388, params: {'max_depth': 11, 'min_child_weight': 12}],\n",
       " {'max_depth': 9, 'min_child_weight': 8},\n",
       " -0.017441126864919644)"
      ]
     },
     "execution_count": 714,
     "metadata": {},
     "output_type": "execute_result"
    }
   ],
   "source": [
    "param_test2b = {\n",
    " 'max_depth':[9,10,11],\n",
    " 'min_child_weight':[6,8,10,12]\n",
    "}\n",
    "gsearch2b = GridSearchCV(estimator = XGBRegressor(learning_rate=0.01, n_estimators=1000,max_depth=8,max_features='sqrt', subsample=0.8, random_state=10), \n",
    "param_grid = param_test2b, scoring='neg_mean_squared_error',n_jobs=4,iid=False, cv=10)\n",
    "gsearch2b.fit(x, y)\n",
    "gsearch2b.grid_scores_, gsearch2b.best_params_, gsearch2b.best_score_"
   ]
  },
  {
   "cell_type": "code",
   "execution_count": 716,
   "metadata": {},
   "outputs": [
    {
     "data": {
      "text/plain": [
       "0.9841403694051859"
      ]
     },
     "execution_count": 716,
     "metadata": {},
     "output_type": "execute_result"
    }
   ],
   "source": [
    "gsearch2b.best_estimator_.score(x, y)"
   ]
  },
  {
   "cell_type": "code",
   "execution_count": 63,
   "metadata": {},
   "outputs": [
    {
     "name": "stderr",
     "output_type": "stream",
     "text": [
      "/anaconda3/lib/python3.6/site-packages/sklearn/model_selection/_search.py:761: DeprecationWarning: The grid_scores_ attribute was deprecated in version 0.18 in favor of the more elaborate cv_results_ attribute. The grid_scores_ attribute will not be available from 0.20\n",
      "  DeprecationWarning)\n"
     ]
    },
    {
     "data": {
      "text/plain": [
       "([mean: -0.01708, std: 0.00481, params: {'gamma': 0.0},\n",
       "  mean: -0.01778, std: 0.00480, params: {'gamma': 0.1},\n",
       "  mean: -0.01906, std: 0.00488, params: {'gamma': 0.2},\n",
       "  mean: -0.02029, std: 0.00489, params: {'gamma': 0.3},\n",
       "  mean: -0.02138, std: 0.00499, params: {'gamma': 0.4}],\n",
       " {'gamma': 0.0},\n",
       " -0.017081281265834712)"
      ]
     },
     "execution_count": 63,
     "metadata": {},
     "output_type": "execute_result"
    }
   ],
   "source": [
    "param_test3 = {\n",
    " 'gamma':[i/10.0 for i in range(0,5)]\n",
    "}\n",
    "gsearch3 = GridSearchCV(estimator = XGBRegressor(learning_rate=0.01, n_estimators=1000,max_depth=5, min_child_weight=1, subsample=0.8, random_state=10),\n",
    "param_grid = param_test3, scoring='neg_mean_squared_error',n_jobs=4,iid=False, cv=10)\n",
    "gsearch3.fit(x, y)\n",
    "gsearch3.grid_scores_, gsearch3.best_params_, gsearch3.best_score_"
   ]
  },
  {
   "cell_type": "code",
   "execution_count": 66,
   "metadata": {},
   "outputs": [
    {
     "data": {
      "text/plain": [
       "array([(b'LotFrontage', 0.07589439), (b'LotArea', 0.06080695),\n",
       "       (b'YearBuilt', 0.05057721), (b'LotGrBsmtArea', 0.04343354),\n",
       "       (b'GrLivArea', 0.04251914), (b'BsmtUnfSF', 0.03909018),\n",
       "       (b'BsmtFinSF1', 0.03526117), (b'GarageArea', 0.03468968),\n",
       "       (b'YearRemodAdd', 0.03011773), (b'1stFlrSF', 0.02863184),\n",
       "       (b'TotalBsmtSF', 0.02726026), (b'OpenPorchSF', 0.02080238),\n",
       "       (b'GarageYrBlt', 0.02063093), (b'MoSold', 0.02057378),\n",
       "       (b'WoodDeckSF', 0.01903075)],\n",
       "      dtype=[('feature', 'S30'), ('importance', '<f8')])"
      ]
     },
     "execution_count": 66,
     "metadata": {},
     "output_type": "execute_result"
    }
   ],
   "source": [
    "feature_importance = list(zip(x.columns, gsearch3.best_estimator_.feature_importances_))\n",
    "dtype = [('feature', 'S30'), ('importance', 'float')]\n",
    "feature_importance = np.array(feature_importance, dtype=dtype)\n",
    "feature_sort = np.sort(feature_importance, order='importance')[::-1]\n",
    "feature_sort[:15]"
   ]
  },
  {
   "cell_type": "code",
   "execution_count": 67,
   "metadata": {},
   "outputs": [
    {
     "name": "stderr",
     "output_type": "stream",
     "text": [
      "/anaconda3/lib/python3.6/site-packages/sklearn/model_selection/_search.py:761: DeprecationWarning: The grid_scores_ attribute was deprecated in version 0.18 in favor of the more elaborate cv_results_ attribute. The grid_scores_ attribute will not be available from 0.20\n",
      "  DeprecationWarning)\n"
     ]
    },
    {
     "data": {
      "text/plain": [
       "([mean: -0.01669, std: 0.00488, params: {'colsample_bytree': 0.6, 'subsample': 0.6},\n",
       "  mean: -0.01677, std: 0.00505, params: {'colsample_bytree': 0.6, 'subsample': 0.7},\n",
       "  mean: -0.01675, std: 0.00456, params: {'colsample_bytree': 0.6, 'subsample': 0.8},\n",
       "  mean: -0.01694, std: 0.00473, params: {'colsample_bytree': 0.6, 'subsample': 0.9},\n",
       "  mean: -0.01650, std: 0.00474, params: {'colsample_bytree': 0.7, 'subsample': 0.6},\n",
       "  mean: -0.01672, std: 0.00489, params: {'colsample_bytree': 0.7, 'subsample': 0.7},\n",
       "  mean: -0.01694, std: 0.00471, params: {'colsample_bytree': 0.7, 'subsample': 0.8},\n",
       "  mean: -0.01688, std: 0.00461, params: {'colsample_bytree': 0.7, 'subsample': 0.9},\n",
       "  mean: -0.01660, std: 0.00469, params: {'colsample_bytree': 0.8, 'subsample': 0.6},\n",
       "  mean: -0.01689, std: 0.00479, params: {'colsample_bytree': 0.8, 'subsample': 0.7},\n",
       "  mean: -0.01692, std: 0.00476, params: {'colsample_bytree': 0.8, 'subsample': 0.8},\n",
       "  mean: -0.01707, std: 0.00487, params: {'colsample_bytree': 0.8, 'subsample': 0.9},\n",
       "  mean: -0.01668, std: 0.00476, params: {'colsample_bytree': 0.9, 'subsample': 0.6},\n",
       "  mean: -0.01700, std: 0.00484, params: {'colsample_bytree': 0.9, 'subsample': 0.7},\n",
       "  mean: -0.01700, std: 0.00473, params: {'colsample_bytree': 0.9, 'subsample': 0.8},\n",
       "  mean: -0.01708, std: 0.00471, params: {'colsample_bytree': 0.9, 'subsample': 0.9}],\n",
       " {'colsample_bytree': 0.7, 'subsample': 0.6},\n",
       " -0.016499334040826544)"
      ]
     },
     "execution_count": 67,
     "metadata": {},
     "output_type": "execute_result"
    }
   ],
   "source": [
    "param_test4 = {\n",
    " 'subsample':[i/10.0 for i in range(6,10)],\n",
    " 'colsample_bytree':[i/10.0 for i in range(6,10)]\n",
    "}\n",
    "gsearch4 = GridSearchCV(estimator = XGBRegressor(learning_rate=0.01, n_estimators=1000, max_depth=5, min_child_weight=1, subsample=0.8, random_state=10,max_features=7),\n",
    "param_grid = param_test4, scoring='neg_mean_squared_error',n_jobs=4,iid=False, cv=10)\n",
    "gsearch4.fit(x, y)\n",
    "gsearch4.grid_scores_, gsearch4.best_params_, gsearch4.best_score_"
   ]
  },
  {
   "cell_type": "code",
   "execution_count": 68,
   "metadata": {},
   "outputs": [
    {
     "data": {
      "text/plain": [
       "0.9745673075008306"
      ]
     },
     "execution_count": 68,
     "metadata": {},
     "output_type": "execute_result"
    }
   ],
   "source": [
    "gsearch4.best_estimator_.score(x, y)"
   ]
  },
  {
   "cell_type": "code",
   "execution_count": 69,
   "metadata": {},
   "outputs": [
    {
     "name": "stderr",
     "output_type": "stream",
     "text": [
      "/anaconda3/lib/python3.6/site-packages/sklearn/model_selection/_search.py:761: DeprecationWarning: The grid_scores_ attribute was deprecated in version 0.18 in favor of the more elaborate cv_results_ attribute. The grid_scores_ attribute will not be available from 0.20\n",
      "  DeprecationWarning)\n"
     ]
    },
    {
     "data": {
      "text/plain": [
       "([mean: -0.01650, std: 0.00474, params: {'reg_alpha': 0},\n",
       "  mean: -0.01648, std: 0.00474, params: {'reg_alpha': 0.001},\n",
       "  mean: -0.01647, std: 0.00475, params: {'reg_alpha': 0.005},\n",
       "  mean: -0.01650, std: 0.00480, params: {'reg_alpha': 0.01},\n",
       "  mean: -0.01655, std: 0.00473, params: {'reg_alpha': 0.05}],\n",
       " {'reg_alpha': 0.005},\n",
       " -0.01647236110034047)"
      ]
     },
     "execution_count": 69,
     "metadata": {},
     "output_type": "execute_result"
    }
   ],
   "source": [
    "param_test5 = {\n",
    " 'reg_alpha':[0, 0.001, 0.005, 0.01, 0.05]\n",
    "}\n",
    "gsearch5 = GridSearchCV(estimator = XGBRegressor(learning_rate=0.01, n_estimators=1000,max_depth=5,min_child_weight=1, colsample_bytree=0.7, subsample=0.6, random_state=10),\n",
    "param_grid = param_test5, scoring='neg_mean_squared_error',n_jobs=4,iid=False, cv=10)\n",
    "gsearch5.fit(x, y)\n",
    "gsearch5.grid_scores_, gsearch5.best_params_, gsearch5.best_score_"
   ]
  },
  {
   "cell_type": "code",
   "execution_count": 70,
   "metadata": {},
   "outputs": [
    {
     "data": {
      "text/plain": [
       "0.9743529795551161"
      ]
     },
     "execution_count": 70,
     "metadata": {},
     "output_type": "execute_result"
    }
   ],
   "source": [
    "gsearch5.best_estimator_.score(x, y)"
   ]
  },
  {
   "cell_type": "code",
   "execution_count": 71,
   "metadata": {},
   "outputs": [
    {
     "data": {
      "text/plain": [
       "array([(b'LotFrontage', 0.06753598), (b'LotArea', 0.06132366),\n",
       "       (b'YearBuilt', 0.04594661), (b'GrLivArea', 0.04551606),\n",
       "       (b'LotGrBsmtArea', 0.04496248), (b'BsmtUnfSF', 0.03672038),\n",
       "       (b'BsmtFinSF1', 0.03512117), (b'GarageArea', 0.03346045),\n",
       "       (b'1stFlrSF', 0.03333743), (b'YearRemodAdd', 0.03063107),\n",
       "       (b'TotalBsmtSF', 0.03013901), (b'GarageYrBlt', 0.02429573),\n",
       "       (b'OpenPorchSF', 0.02208144), (b'2ndFlrSF', 0.01912904),\n",
       "       (b'MoSold', 0.01845245)],\n",
       "      dtype=[('feature', 'S30'), ('importance', '<f8')])"
      ]
     },
     "execution_count": 71,
     "metadata": {},
     "output_type": "execute_result"
    }
   ],
   "source": [
    "feature_importance = list(zip(x.columns, gsearch5.best_estimator_.feature_importances_))\n",
    "dtype = [('feature', 'S30'), ('importance', 'float')]\n",
    "feature_importance = np.array(feature_importance, dtype=dtype)\n",
    "feature_sort = np.sort(feature_importance, order='importance')[::-1]\n",
    "feature_sort[:15]"
   ]
  },
  {
   "cell_type": "code",
   "execution_count": 72,
   "metadata": {},
   "outputs": [],
   "source": [
    "xgboost = gsearch5.best_estimator_"
   ]
  },
  {
   "cell_type": "code",
   "execution_count": 115,
   "metadata": {},
   "outputs": [
    {
     "data": {
      "text/plain": [
       "2.4434899755604422"
      ]
     },
     "execution_count": 115,
     "metadata": {},
     "output_type": "execute_result"
    }
   ],
   "source": [
    "np.sqrt(np.sum((np.array(y)-xgboost.predict(x))**2))"
   ]
  },
  {
   "cell_type": "code",
   "execution_count": 73,
   "metadata": {},
   "outputs": [],
   "source": [
    "feature_importance_xgboost = list(zip(x.columns, xgboost.feature_importances_))\n",
    "dtype = [('feature', 'S30'), ('importance', 'float')]\n",
    "feature_importance_xgboost = np.array(feature_importance_xgboost, dtype=dtype)\n",
    "feature_sort_xgboost = np.sort(feature_importance_xgboost, order='importance')[::-1]"
   ]
  },
  {
   "cell_type": "code",
   "execution_count": 74,
   "metadata": {},
   "outputs": [
    {
     "data": {
      "text/plain": [
       "array([(b'LotFrontage', 0.06753598), (b'LotArea', 0.06132366),\n",
       "       (b'YearBuilt', 0.04594661), (b'GrLivArea', 0.04551606),\n",
       "       (b'LotGrBsmtArea', 0.04496248), (b'BsmtUnfSF', 0.03672038),\n",
       "       (b'BsmtFinSF1', 0.03512117), (b'GarageArea', 0.03346045),\n",
       "       (b'1stFlrSF', 0.03333743), (b'YearRemodAdd', 0.03063107)],\n",
       "      dtype=[('feature', 'S30'), ('importance', '<f8')])"
      ]
     },
     "execution_count": 74,
     "metadata": {},
     "output_type": "execute_result"
    }
   ],
   "source": [
    "feature_sort_xgboost[0:10]"
   ]
  },
  {
   "cell_type": "code",
   "execution_count": 75,
   "metadata": {},
   "outputs": [
    {
     "data": {
      "text/plain": [
       "[b'LotFrontage',\n",
       " b'LotArea',\n",
       " b'YearBuilt',\n",
       " b'GrLivArea',\n",
       " b'LotGrBsmtArea',\n",
       " b'BsmtUnfSF',\n",
       " b'BsmtFinSF1',\n",
       " b'GarageArea',\n",
       " b'1stFlrSF',\n",
       " b'YearRemodAdd']"
      ]
     },
     "execution_count": 75,
     "metadata": {},
     "output_type": "execute_result"
    }
   ],
   "source": [
    "[i for (i, j) in feature_sort_xgboost[0:10]]"
   ]
  },
  {
   "cell_type": "code",
   "execution_count": null,
   "metadata": {},
   "outputs": [],
   "source": []
  },
  {
   "cell_type": "code",
   "execution_count": 76,
   "metadata": {},
   "outputs": [],
   "source": [
    "from sklearn.ensemble import GradientBoostingRegressor"
   ]
  },
  {
   "cell_type": "code",
   "execution_count": 77,
   "metadata": {},
   "outputs": [
    {
     "data": {
      "text/plain": [
       "GradientBoostingRegressor(alpha=0.9, criterion='friedman_mse', init=None,\n",
       "             learning_rate=0.001, loss='ls', max_depth=3, max_features=15,\n",
       "             max_leaf_nodes=None, min_impurity_decrease=0.0,\n",
       "             min_impurity_split=None, min_samples_leaf=1,\n",
       "             min_samples_split=2, min_weight_fraction_leaf=0.0,\n",
       "             n_estimators=10000, presort='auto', random_state=None,\n",
       "             subsample=0.8, verbose=0, warm_start=False)"
      ]
     },
     "execution_count": 77,
     "metadata": {},
     "output_type": "execute_result"
    }
   ],
   "source": [
    "gbm = GradientBoostingRegressor(n_estimators=10000, max_features=int(np.sqrt(x.shape[1])), subsample=0.8, learning_rate=0.001)\n",
    "gbm.fit(x, y)"
   ]
  },
  {
   "cell_type": "code",
   "execution_count": null,
   "metadata": {},
   "outputs": [],
   "source": []
  },
  {
   "cell_type": "code",
   "execution_count": null,
   "metadata": {},
   "outputs": [],
   "source": []
  },
  {
   "cell_type": "code",
   "execution_count": 78,
   "metadata": {},
   "outputs": [],
   "source": [
    "feature_importance_gbm = list(zip(x.columns, gbm.feature_importances_))\n",
    "dtype = [('feature', 'S30'), ('importance', 'float')]\n",
    "feature_importance_gbm = np.array(feature_importance_gbm, dtype=dtype)\n",
    "feature_sort_gbm = np.sort(feature_importance_gbm, order='importance')[::-1]"
   ]
  },
  {
   "cell_type": "code",
   "execution_count": 79,
   "metadata": {},
   "outputs": [
    {
     "data": {
      "text/plain": [
       "array([(b'LotGrBsmtArea', 0.06512314), (b'GrLivArea', 0.06483426),\n",
       "       (b'1stFlrSF', 0.03836505), (b'BsmtFinSF1', 0.03352232),\n",
       "       (b'TotalBsmtSF', 0.03239922), (b'GarageArea', 0.02671204),\n",
       "       (b'2ndFlrSF', 0.02523467), (b'YearRemodAdd', 0.02521222),\n",
       "       (b'YearBuilt', 0.02373082), (b'GarageYrBlt', 0.0227098 )],\n",
       "      dtype=[('feature', 'S30'), ('importance', '<f8')])"
      ]
     },
     "execution_count": 79,
     "metadata": {},
     "output_type": "execute_result"
    }
   ],
   "source": [
    "feature_sort_gbm[:10]"
   ]
  },
  {
   "cell_type": "code",
   "execution_count": 80,
   "metadata": {},
   "outputs": [
    {
     "data": {
      "text/plain": [
       "[b'LotGrBsmtArea',\n",
       " b'GrLivArea',\n",
       " b'1stFlrSF',\n",
       " b'BsmtFinSF1',\n",
       " b'TotalBsmtSF',\n",
       " b'GarageArea',\n",
       " b'2ndFlrSF',\n",
       " b'YearRemodAdd',\n",
       " b'YearBuilt',\n",
       " b'GarageYrBlt']"
      ]
     },
     "execution_count": 80,
     "metadata": {},
     "output_type": "execute_result"
    }
   ],
   "source": [
    "[i for (i, j) in feature_sort_gbm[0:10]]"
   ]
  },
  {
   "cell_type": "code",
   "execution_count": 81,
   "metadata": {},
   "outputs": [
    {
     "data": {
      "text/plain": [
       "GradientBoostingRegressor(alpha=0.9, criterion='friedman_mse', init=None,\n",
       "             learning_rate=0.1, loss='ls', max_depth=6, max_features=15,\n",
       "             max_leaf_nodes=None, min_impurity_decrease=0.0,\n",
       "             min_impurity_split=None, min_samples_leaf=10,\n",
       "             min_samples_split=20, min_weight_fraction_leaf=0.0,\n",
       "             n_estimators=10000, presort='auto', random_state=None,\n",
       "             subsample=0.8, verbose=0, warm_start=False)"
      ]
     },
     "execution_count": 81,
     "metadata": {},
     "output_type": "execute_result"
    }
   ],
   "source": [
    "gbm = GradientBoostingRegressor(n_estimators=10000, max_features=int(np.sqrt(x.shape[1])), subsample=0.8, learning_rate=0.1, min_samples_split=20, min_samples_leaf=10, max_depth=6)\n",
    "gbm.fit(x, y)"
   ]
  },
  {
   "cell_type": "code",
   "execution_count": 82,
   "metadata": {},
   "outputs": [
    {
     "data": {
      "text/plain": [
       "0.9999994798442423"
      ]
     },
     "execution_count": 82,
     "metadata": {},
     "output_type": "execute_result"
    }
   ],
   "source": [
    "gbm.score(x, y)"
   ]
  },
  {
   "cell_type": "code",
   "execution_count": 83,
   "metadata": {},
   "outputs": [],
   "source": [
    "param_test1 = {'n_estimators':range(20,1001,10)}"
   ]
  },
  {
   "cell_type": "code",
   "execution_count": 85,
   "metadata": {},
   "outputs": [
    {
     "data": {
      "text/plain": [
       "GridSearchCV(cv=10, error_score='raise',\n",
       "       estimator=GradientBoostingRegressor(alpha=0.9, criterion='friedman_mse', init=None,\n",
       "             learning_rate=0.1, loss='ls', max_depth=6, max_features=15,\n",
       "             max_leaf_nodes=None, min_impurity_decrease=0.0,\n",
       "             min_impurity_split=None, min_samples_leaf=10,\n",
       "             min_samples_split=20, min_weight_fraction_leaf=0.0,\n",
       "             n_estimators=10000, presort='auto', random_state=None,\n",
       "             subsample=0.8, verbose=0, warm_start=False),\n",
       "       fit_params=None, iid=False, n_jobs=-1,\n",
       "       param_grid={'n_estimators': range(20, 1001, 10)},\n",
       "       pre_dispatch='2*n_jobs', refit=True, return_train_score='warn',\n",
       "       scoring='neg_mean_squared_error', verbose=0)"
      ]
     },
     "execution_count": 85,
     "metadata": {},
     "output_type": "execute_result"
    }
   ],
   "source": [
    "gsearch1 = GridSearchCV(gbm, param_grid=param_test1, scoring='neg_mean_squared_error', n_jobs=-1, iid=False, cv=10)\n",
    "gsearch1.fit(x, y)"
   ]
  },
  {
   "cell_type": "code",
   "execution_count": 86,
   "metadata": {},
   "outputs": [
    {
     "name": "stderr",
     "output_type": "stream",
     "text": [
      "/anaconda3/lib/python3.6/site-packages/sklearn/model_selection/_search.py:761: DeprecationWarning: The grid_scores_ attribute was deprecated in version 0.18 in favor of the more elaborate cv_results_ attribute. The grid_scores_ attribute will not be available from 0.20\n",
      "  DeprecationWarning)\n"
     ]
    },
    {
     "data": {
      "text/plain": [
       "([mean: -0.02854, std: 0.00578, params: {'n_estimators': 20},\n",
       "  mean: -0.02235, std: 0.00564, params: {'n_estimators': 30},\n",
       "  mean: -0.02014, std: 0.00480, params: {'n_estimators': 40},\n",
       "  mean: -0.01906, std: 0.00545, params: {'n_estimators': 50},\n",
       "  mean: -0.01875, std: 0.00513, params: {'n_estimators': 60},\n",
       "  mean: -0.01792, std: 0.00455, params: {'n_estimators': 70},\n",
       "  mean: -0.01801, std: 0.00491, params: {'n_estimators': 80},\n",
       "  mean: -0.01777, std: 0.00527, params: {'n_estimators': 90},\n",
       "  mean: -0.01702, std: 0.00373, params: {'n_estimators': 100},\n",
       "  mean: -0.01754, std: 0.00524, params: {'n_estimators': 110},\n",
       "  mean: -0.01696, std: 0.00478, params: {'n_estimators': 120},\n",
       "  mean: -0.01682, std: 0.00504, params: {'n_estimators': 130},\n",
       "  mean: -0.01675, std: 0.00467, params: {'n_estimators': 140},\n",
       "  mean: -0.01676, std: 0.00409, params: {'n_estimators': 150},\n",
       "  mean: -0.01728, std: 0.00490, params: {'n_estimators': 160},\n",
       "  mean: -0.01727, std: 0.00477, params: {'n_estimators': 170},\n",
       "  mean: -0.01723, std: 0.00506, params: {'n_estimators': 180},\n",
       "  mean: -0.01730, std: 0.00454, params: {'n_estimators': 190},\n",
       "  mean: -0.01735, std: 0.00519, params: {'n_estimators': 200},\n",
       "  mean: -0.01698, std: 0.00405, params: {'n_estimators': 210},\n",
       "  mean: -0.01644, std: 0.00488, params: {'n_estimators': 220},\n",
       "  mean: -0.01643, std: 0.00444, params: {'n_estimators': 230},\n",
       "  mean: -0.01669, std: 0.00517, params: {'n_estimators': 240},\n",
       "  mean: -0.01704, std: 0.00450, params: {'n_estimators': 250},\n",
       "  mean: -0.01655, std: 0.00387, params: {'n_estimators': 260},\n",
       "  mean: -0.01657, std: 0.00407, params: {'n_estimators': 270},\n",
       "  mean: -0.01745, std: 0.00418, params: {'n_estimators': 280},\n",
       "  mean: -0.01683, std: 0.00441, params: {'n_estimators': 290},\n",
       "  mean: -0.01607, std: 0.00407, params: {'n_estimators': 300},\n",
       "  mean: -0.01661, std: 0.00446, params: {'n_estimators': 310},\n",
       "  mean: -0.01643, std: 0.00378, params: {'n_estimators': 320},\n",
       "  mean: -0.01645, std: 0.00480, params: {'n_estimators': 330},\n",
       "  mean: -0.01666, std: 0.00449, params: {'n_estimators': 340},\n",
       "  mean: -0.01611, std: 0.00426, params: {'n_estimators': 350},\n",
       "  mean: -0.01679, std: 0.00529, params: {'n_estimators': 360},\n",
       "  mean: -0.01661, std: 0.00407, params: {'n_estimators': 370},\n",
       "  mean: -0.01660, std: 0.00408, params: {'n_estimators': 380},\n",
       "  mean: -0.01678, std: 0.00457, params: {'n_estimators': 390},\n",
       "  mean: -0.01634, std: 0.00438, params: {'n_estimators': 400},\n",
       "  mean: -0.01724, std: 0.00464, params: {'n_estimators': 410},\n",
       "  mean: -0.01667, std: 0.00408, params: {'n_estimators': 420},\n",
       "  mean: -0.01574, std: 0.00420, params: {'n_estimators': 430},\n",
       "  mean: -0.01679, std: 0.00465, params: {'n_estimators': 440},\n",
       "  mean: -0.01675, std: 0.00440, params: {'n_estimators': 450},\n",
       "  mean: -0.01673, std: 0.00520, params: {'n_estimators': 460},\n",
       "  mean: -0.01632, std: 0.00421, params: {'n_estimators': 470},\n",
       "  mean: -0.01681, std: 0.00452, params: {'n_estimators': 480},\n",
       "  mean: -0.01678, std: 0.00451, params: {'n_estimators': 490},\n",
       "  mean: -0.01687, std: 0.00440, params: {'n_estimators': 500},\n",
       "  mean: -0.01697, std: 0.00417, params: {'n_estimators': 510},\n",
       "  mean: -0.01694, std: 0.00429, params: {'n_estimators': 520},\n",
       "  mean: -0.01729, std: 0.00438, params: {'n_estimators': 530},\n",
       "  mean: -0.01660, std: 0.00445, params: {'n_estimators': 540},\n",
       "  mean: -0.01691, std: 0.00458, params: {'n_estimators': 550},\n",
       "  mean: -0.01711, std: 0.00459, params: {'n_estimators': 560},\n",
       "  mean: -0.01713, std: 0.00477, params: {'n_estimators': 570},\n",
       "  mean: -0.01666, std: 0.00391, params: {'n_estimators': 580},\n",
       "  mean: -0.01725, std: 0.00439, params: {'n_estimators': 590},\n",
       "  mean: -0.01640, std: 0.00379, params: {'n_estimators': 600},\n",
       "  mean: -0.01673, std: 0.00397, params: {'n_estimators': 610},\n",
       "  mean: -0.01717, std: 0.00461, params: {'n_estimators': 620},\n",
       "  mean: -0.01669, std: 0.00459, params: {'n_estimators': 630},\n",
       "  mean: -0.01692, std: 0.00417, params: {'n_estimators': 640},\n",
       "  mean: -0.01684, std: 0.00433, params: {'n_estimators': 650},\n",
       "  mean: -0.01694, std: 0.00388, params: {'n_estimators': 660},\n",
       "  mean: -0.01688, std: 0.00373, params: {'n_estimators': 670},\n",
       "  mean: -0.01703, std: 0.00401, params: {'n_estimators': 680},\n",
       "  mean: -0.01707, std: 0.00438, params: {'n_estimators': 690},\n",
       "  mean: -0.01723, std: 0.00481, params: {'n_estimators': 700},\n",
       "  mean: -0.01708, std: 0.00575, params: {'n_estimators': 710},\n",
       "  mean: -0.01685, std: 0.00423, params: {'n_estimators': 720},\n",
       "  mean: -0.01726, std: 0.00423, params: {'n_estimators': 730},\n",
       "  mean: -0.01723, std: 0.00442, params: {'n_estimators': 740},\n",
       "  mean: -0.01726, std: 0.00483, params: {'n_estimators': 750},\n",
       "  mean: -0.01662, std: 0.00423, params: {'n_estimators': 760},\n",
       "  mean: -0.01632, std: 0.00453, params: {'n_estimators': 770},\n",
       "  mean: -0.01722, std: 0.00412, params: {'n_estimators': 780},\n",
       "  mean: -0.01708, std: 0.00452, params: {'n_estimators': 790},\n",
       "  mean: -0.01726, std: 0.00444, params: {'n_estimators': 800},\n",
       "  mean: -0.01654, std: 0.00404, params: {'n_estimators': 810},\n",
       "  mean: -0.01735, std: 0.00451, params: {'n_estimators': 820},\n",
       "  mean: -0.01639, std: 0.00447, params: {'n_estimators': 830},\n",
       "  mean: -0.01770, std: 0.00472, params: {'n_estimators': 840},\n",
       "  mean: -0.01703, std: 0.00466, params: {'n_estimators': 850},\n",
       "  mean: -0.01668, std: 0.00418, params: {'n_estimators': 860},\n",
       "  mean: -0.01715, std: 0.00459, params: {'n_estimators': 870},\n",
       "  mean: -0.01635, std: 0.00378, params: {'n_estimators': 880},\n",
       "  mean: -0.01681, std: 0.00408, params: {'n_estimators': 890},\n",
       "  mean: -0.01705, std: 0.00499, params: {'n_estimators': 900},\n",
       "  mean: -0.01691, std: 0.00425, params: {'n_estimators': 910},\n",
       "  mean: -0.01659, std: 0.00415, params: {'n_estimators': 920},\n",
       "  mean: -0.01690, std: 0.00392, params: {'n_estimators': 930},\n",
       "  mean: -0.01727, std: 0.00425, params: {'n_estimators': 940},\n",
       "  mean: -0.01792, std: 0.00406, params: {'n_estimators': 950},\n",
       "  mean: -0.01638, std: 0.00445, params: {'n_estimators': 960},\n",
       "  mean: -0.01681, std: 0.00386, params: {'n_estimators': 970},\n",
       "  mean: -0.01643, std: 0.00471, params: {'n_estimators': 980},\n",
       "  mean: -0.01649, std: 0.00363, params: {'n_estimators': 990},\n",
       "  mean: -0.01700, std: 0.00455, params: {'n_estimators': 1000}],\n",
       " {'n_estimators': 430},\n",
       " -0.015737181508322238)"
      ]
     },
     "execution_count": 86,
     "metadata": {},
     "output_type": "execute_result"
    }
   ],
   "source": [
    "gsearch1.grid_scores_, gsearch1.best_params_, gsearch1.best_score_"
   ]
  },
  {
   "cell_type": "code",
   "execution_count": 87,
   "metadata": {},
   "outputs": [
    {
     "data": {
      "text/plain": [
       "GradientBoostingRegressor(alpha=0.9, criterion='friedman_mse', init=None,\n",
       "             learning_rate=0.1, loss='ls', max_depth=6, max_features=15,\n",
       "             max_leaf_nodes=None, min_impurity_decrease=0.0,\n",
       "             min_impurity_split=None, min_samples_leaf=10,\n",
       "             min_samples_split=20, min_weight_fraction_leaf=0.0,\n",
       "             n_estimators=430, presort='auto', random_state=None,\n",
       "             subsample=0.8, verbose=0, warm_start=False)"
      ]
     },
     "execution_count": 87,
     "metadata": {},
     "output_type": "execute_result"
    }
   ],
   "source": [
    "gsearch1.best_estimator_"
   ]
  },
  {
   "cell_type": "code",
   "execution_count": 88,
   "metadata": {},
   "outputs": [
    {
     "data": {
      "text/plain": [
       "array([(b'GrLivArea', 0.04866399), (b'1stFlrSF', 0.04477908),\n",
       "       (b'GarageArea', 0.04418076), (b'BsmtUnfSF', 0.04162607),\n",
       "       (b'LotGrBsmtArea', 0.04028268), (b'LotArea', 0.04004367),\n",
       "       (b'GarageYrBlt', 0.03294611), (b'TotalBsmtSF', 0.03151499),\n",
       "       (b'LotFrontage', 0.03126566), (b'YearBuilt', 0.03110655),\n",
       "       (b'OpenPorchSF', 0.03079572), (b'YearRemodAdd', 0.02916912),\n",
       "       (b'BsmtFinSF1', 0.02895574), (b'MoSold', 0.02094234),\n",
       "       (b'MasVnrArea', 0.01858362)],\n",
       "      dtype=[('feature', 'S30'), ('importance', '<f8')])"
      ]
     },
     "execution_count": 88,
     "metadata": {},
     "output_type": "execute_result"
    }
   ],
   "source": [
    "feature_importance_gbm = list(zip(x.columns, gsearch1.best_estimator_.feature_importances_))\n",
    "dtype = [('feature', 'S30'), ('importance', 'float')]\n",
    "feature_importance_gbm = np.array(feature_importance_gbm, dtype=dtype)\n",
    "feature_sort_gbm = np.sort(feature_importance_gbm, order='importance')[::-1]\n",
    "feature_sort_gbm[:15]"
   ]
  },
  {
   "cell_type": "code",
   "execution_count": 89,
   "metadata": {},
   "outputs": [
    {
     "data": {
      "text/plain": [
       "0.993680838344135"
      ]
     },
     "execution_count": 89,
     "metadata": {},
     "output_type": "execute_result"
    }
   ],
   "source": [
    "gsearch1.best_estimator_.score(x, y)"
   ]
  },
  {
   "cell_type": "code",
   "execution_count": 90,
   "metadata": {},
   "outputs": [
    {
     "name": "stderr",
     "output_type": "stream",
     "text": [
      "/anaconda3/lib/python3.6/site-packages/sklearn/model_selection/_search.py:761: DeprecationWarning: The grid_scores_ attribute was deprecated in version 0.18 in favor of the more elaborate cv_results_ attribute. The grid_scores_ attribute will not be available from 0.20\n",
      "  DeprecationWarning)\n"
     ]
    },
    {
     "data": {
      "text/plain": [
       "([mean: -0.01684, std: 0.00489, params: {'max_depth': 5, 'min_samples_split': 20},\n",
       "  mean: -0.01674, std: 0.00480, params: {'max_depth': 5, 'min_samples_split': 40},\n",
       "  mean: -0.01705, std: 0.00539, params: {'max_depth': 5, 'min_samples_split': 60},\n",
       "  mean: -0.01639, std: 0.00522, params: {'max_depth': 5, 'min_samples_split': 80},\n",
       "  mean: -0.01641, std: 0.00506, params: {'max_depth': 5, 'min_samples_split': 100},\n",
       "  mean: -0.01719, std: 0.00515, params: {'max_depth': 7, 'min_samples_split': 20},\n",
       "  mean: -0.01751, std: 0.00519, params: {'max_depth': 7, 'min_samples_split': 40},\n",
       "  mean: -0.01704, std: 0.00510, params: {'max_depth': 7, 'min_samples_split': 60},\n",
       "  mean: -0.01600, std: 0.00520, params: {'max_depth': 7, 'min_samples_split': 80},\n",
       "  mean: -0.01662, std: 0.00539, params: {'max_depth': 7, 'min_samples_split': 100},\n",
       "  mean: -0.01803, std: 0.00518, params: {'max_depth': 9, 'min_samples_split': 20},\n",
       "  mean: -0.01695, std: 0.00437, params: {'max_depth': 9, 'min_samples_split': 40},\n",
       "  mean: -0.01686, std: 0.00483, params: {'max_depth': 9, 'min_samples_split': 60},\n",
       "  mean: -0.01717, std: 0.00503, params: {'max_depth': 9, 'min_samples_split': 80},\n",
       "  mean: -0.01666, std: 0.00501, params: {'max_depth': 9, 'min_samples_split': 100},\n",
       "  mean: -0.01814, std: 0.00517, params: {'max_depth': 11, 'min_samples_split': 20},\n",
       "  mean: -0.01739, std: 0.00527, params: {'max_depth': 11, 'min_samples_split': 40},\n",
       "  mean: -0.01751, std: 0.00504, params: {'max_depth': 11, 'min_samples_split': 60},\n",
       "  mean: -0.01704, std: 0.00521, params: {'max_depth': 11, 'min_samples_split': 80},\n",
       "  mean: -0.01741, std: 0.00582, params: {'max_depth': 11, 'min_samples_split': 100},\n",
       "  mean: -0.01859, std: 0.00492, params: {'max_depth': 13, 'min_samples_split': 20},\n",
       "  mean: -0.01819, std: 0.00521, params: {'max_depth': 13, 'min_samples_split': 40},\n",
       "  mean: -0.01743, std: 0.00571, params: {'max_depth': 13, 'min_samples_split': 60},\n",
       "  mean: -0.01785, std: 0.00546, params: {'max_depth': 13, 'min_samples_split': 80},\n",
       "  mean: -0.01735, std: 0.00571, params: {'max_depth': 13, 'min_samples_split': 100},\n",
       "  mean: -0.01874, std: 0.00535, params: {'max_depth': 15, 'min_samples_split': 20},\n",
       "  mean: -0.01797, std: 0.00555, params: {'max_depth': 15, 'min_samples_split': 40},\n",
       "  mean: -0.01705, std: 0.00438, params: {'max_depth': 15, 'min_samples_split': 60},\n",
       "  mean: -0.01797, std: 0.00595, params: {'max_depth': 15, 'min_samples_split': 80},\n",
       "  mean: -0.01773, std: 0.00602, params: {'max_depth': 15, 'min_samples_split': 100}],\n",
       " {'max_depth': 7, 'min_samples_split': 80},\n",
       " -0.016001165706461866)"
      ]
     },
     "execution_count": 90,
     "metadata": {},
     "output_type": "execute_result"
    }
   ],
   "source": [
    "param_test2 = {'max_depth':range(5,16,2), 'min_samples_split':range(20,101,20)}\n",
    "gsearch2 = GridSearchCV(estimator = GradientBoostingRegressor(learning_rate=0.1, n_estimators=430, max_features='sqrt', subsample=0.8, random_state=10), \n",
    "param_grid = param_test2, scoring='neg_mean_squared_error',n_jobs=4,iid=False, cv=10)\n",
    "gsearch2.fit(x,y)\n",
    "gsearch2.grid_scores_, gsearch2.best_params_, gsearch2.best_score_"
   ]
  },
  {
   "cell_type": "code",
   "execution_count": 91,
   "metadata": {},
   "outputs": [
    {
     "data": {
      "text/plain": [
       "0.9950559924492098"
      ]
     },
     "execution_count": 91,
     "metadata": {},
     "output_type": "execute_result"
    }
   ],
   "source": [
    "gsearch2.best_estimator_.score(x, y)"
   ]
  },
  {
   "cell_type": "code",
   "execution_count": 92,
   "metadata": {},
   "outputs": [
    {
     "data": {
      "text/plain": [
       "array([(b'GrLivArea', 0.04389743), (b'1stFlrSF', 0.040267  ),\n",
       "       (b'BsmtUnfSF', 0.03894935), (b'LotArea', 0.0379041 ),\n",
       "       (b'LotGrBsmtArea', 0.03660855), (b'GarageArea', 0.03331146),\n",
       "       (b'TotalBsmtSF', 0.0299803 ), (b'YearBuilt', 0.02510116),\n",
       "       (b'BsmtFinSF1', 0.02426434), (b'GarageYrBlt', 0.02410392),\n",
       "       (b'LotFrontage', 0.02266381), (b'YearRemodAdd', 0.02176239),\n",
       "       (b'EnclosedPorch', 0.02032139), (b'OpenPorchSF', 0.02002309),\n",
       "       (b'MasVnrArea', 0.01872157)],\n",
       "      dtype=[('feature', 'S30'), ('importance', '<f8')])"
      ]
     },
     "execution_count": 92,
     "metadata": {},
     "output_type": "execute_result"
    }
   ],
   "source": [
    "feature_importance_gbm = list(zip(x.columns, gsearch2.best_estimator_.feature_importances_))\n",
    "dtype = [('feature', 'S30'), ('importance', 'float')]\n",
    "feature_importance_gbm = np.array(feature_importance_gbm, dtype=dtype)\n",
    "feature_sort_gbm = np.sort(feature_importance_gbm, order='importance')[::-1]\n",
    "feature_sort_gbm[:15]"
   ]
  },
  {
   "cell_type": "code",
   "execution_count": 97,
   "metadata": {},
   "outputs": [
    {
     "name": "stderr",
     "output_type": "stream",
     "text": [
      "/anaconda3/lib/python3.6/site-packages/sklearn/model_selection/_search.py:761: DeprecationWarning: The grid_scores_ attribute was deprecated in version 0.18 in favor of the more elaborate cv_results_ attribute. The grid_scores_ attribute will not be available from 0.20\n",
      "  DeprecationWarning)\n"
     ]
    },
    {
     "data": {
      "text/plain": [
       "([mean: -0.01695, std: 0.00425, params: {'min_samples_leaf': 5, 'min_samples_split': 80},\n",
       "  mean: -0.01687, std: 0.00405, params: {'min_samples_leaf': 5, 'min_samples_split': 100},\n",
       "  mean: -0.01666, std: 0.00444, params: {'min_samples_leaf': 5, 'min_samples_split': 120},\n",
       "  mean: -0.01677, std: 0.00503, params: {'min_samples_leaf': 5, 'min_samples_split': 140},\n",
       "  mean: -0.01654, std: 0.00463, params: {'min_samples_leaf': 5, 'min_samples_split': 160},\n",
       "  mean: -0.01604, std: 0.00443, params: {'min_samples_leaf': 5, 'min_samples_split': 180},\n",
       "  mean: -0.01625, std: 0.00449, params: {'min_samples_leaf': 5, 'min_samples_split': 200},\n",
       "  mean: -0.01707, std: 0.00478, params: {'min_samples_leaf': 5, 'min_samples_split': 220},\n",
       "  mean: -0.01669, std: 0.00428, params: {'min_samples_leaf': 5, 'min_samples_split': 240},\n",
       "  mean: -0.01695, std: 0.00502, params: {'min_samples_leaf': 5, 'min_samples_split': 260},\n",
       "  mean: -0.01644, std: 0.00446, params: {'min_samples_leaf': 5, 'min_samples_split': 280},\n",
       "  mean: -0.01593, std: 0.00437, params: {'min_samples_leaf': 5, 'min_samples_split': 300},\n",
       "  mean: -0.01660, std: 0.00381, params: {'min_samples_leaf': 15, 'min_samples_split': 80},\n",
       "  mean: -0.01677, std: 0.00425, params: {'min_samples_leaf': 15, 'min_samples_split': 100},\n",
       "  mean: -0.01660, std: 0.00363, params: {'min_samples_leaf': 15, 'min_samples_split': 120},\n",
       "  mean: -0.01640, std: 0.00402, params: {'min_samples_leaf': 15, 'min_samples_split': 140},\n",
       "  mean: -0.01665, std: 0.00445, params: {'min_samples_leaf': 15, 'min_samples_split': 160},\n",
       "  mean: -0.01635, std: 0.00385, params: {'min_samples_leaf': 15, 'min_samples_split': 180},\n",
       "  mean: -0.01632, std: 0.00399, params: {'min_samples_leaf': 15, 'min_samples_split': 200},\n",
       "  mean: -0.01660, std: 0.00425, params: {'min_samples_leaf': 15, 'min_samples_split': 220},\n",
       "  mean: -0.01653, std: 0.00379, params: {'min_samples_leaf': 15, 'min_samples_split': 240},\n",
       "  mean: -0.01648, std: 0.00393, params: {'min_samples_leaf': 15, 'min_samples_split': 260},\n",
       "  mean: -0.01615, std: 0.00399, params: {'min_samples_leaf': 15, 'min_samples_split': 280},\n",
       "  mean: -0.01582, std: 0.00397, params: {'min_samples_leaf': 15, 'min_samples_split': 300},\n",
       "  mean: -0.01711, std: 0.00397, params: {'min_samples_leaf': 25, 'min_samples_split': 80},\n",
       "  mean: -0.01704, std: 0.00388, params: {'min_samples_leaf': 25, 'min_samples_split': 100},\n",
       "  mean: -0.01757, std: 0.00440, params: {'min_samples_leaf': 25, 'min_samples_split': 120},\n",
       "  mean: -0.01724, std: 0.00463, params: {'min_samples_leaf': 25, 'min_samples_split': 140},\n",
       "  mean: -0.01757, std: 0.00448, params: {'min_samples_leaf': 25, 'min_samples_split': 160},\n",
       "  mean: -0.01725, std: 0.00420, params: {'min_samples_leaf': 25, 'min_samples_split': 180},\n",
       "  mean: -0.01724, std: 0.00429, params: {'min_samples_leaf': 25, 'min_samples_split': 200},\n",
       "  mean: -0.01728, std: 0.00454, params: {'min_samples_leaf': 25, 'min_samples_split': 220},\n",
       "  mean: -0.01729, std: 0.00469, params: {'min_samples_leaf': 25, 'min_samples_split': 240},\n",
       "  mean: -0.01721, std: 0.00454, params: {'min_samples_leaf': 25, 'min_samples_split': 260},\n",
       "  mean: -0.01722, std: 0.00479, params: {'min_samples_leaf': 25, 'min_samples_split': 280},\n",
       "  mean: -0.01702, std: 0.00429, params: {'min_samples_leaf': 25, 'min_samples_split': 300},\n",
       "  mean: -0.01828, std: 0.00461, params: {'min_samples_leaf': 35, 'min_samples_split': 80},\n",
       "  mean: -0.01807, std: 0.00455, params: {'min_samples_leaf': 35, 'min_samples_split': 100},\n",
       "  mean: -0.01795, std: 0.00450, params: {'min_samples_leaf': 35, 'min_samples_split': 120},\n",
       "  mean: -0.01815, std: 0.00470, params: {'min_samples_leaf': 35, 'min_samples_split': 140},\n",
       "  mean: -0.01778, std: 0.00393, params: {'min_samples_leaf': 35, 'min_samples_split': 160},\n",
       "  mean: -0.01780, std: 0.00411, params: {'min_samples_leaf': 35, 'min_samples_split': 180},\n",
       "  mean: -0.01750, std: 0.00425, params: {'min_samples_leaf': 35, 'min_samples_split': 200},\n",
       "  mean: -0.01750, std: 0.00459, params: {'min_samples_leaf': 35, 'min_samples_split': 220},\n",
       "  mean: -0.01773, std: 0.00468, params: {'min_samples_leaf': 35, 'min_samples_split': 240},\n",
       "  mean: -0.01748, std: 0.00454, params: {'min_samples_leaf': 35, 'min_samples_split': 260},\n",
       "  mean: -0.01748, std: 0.00449, params: {'min_samples_leaf': 35, 'min_samples_split': 280},\n",
       "  mean: -0.01718, std: 0.00451, params: {'min_samples_leaf': 35, 'min_samples_split': 300},\n",
       "  mean: -0.01836, std: 0.00450, params: {'min_samples_leaf': 45, 'min_samples_split': 80},\n",
       "  mean: -0.01840, std: 0.00452, params: {'min_samples_leaf': 45, 'min_samples_split': 100},\n",
       "  mean: -0.01918, std: 0.00471, params: {'min_samples_leaf': 45, 'min_samples_split': 120},\n",
       "  mean: -0.01883, std: 0.00448, params: {'min_samples_leaf': 45, 'min_samples_split': 140},\n",
       "  mean: -0.01869, std: 0.00455, params: {'min_samples_leaf': 45, 'min_samples_split': 160},\n",
       "  mean: -0.01909, std: 0.00431, params: {'min_samples_leaf': 45, 'min_samples_split': 180},\n",
       "  mean: -0.01863, std: 0.00461, params: {'min_samples_leaf': 45, 'min_samples_split': 200},\n",
       "  mean: -0.01879, std: 0.00475, params: {'min_samples_leaf': 45, 'min_samples_split': 220},\n",
       "  mean: -0.01854, std: 0.00457, params: {'min_samples_leaf': 45, 'min_samples_split': 240},\n",
       "  mean: -0.01852, std: 0.00498, params: {'min_samples_leaf': 45, 'min_samples_split': 260},\n",
       "  mean: -0.01803, std: 0.00489, params: {'min_samples_leaf': 45, 'min_samples_split': 280},\n",
       "  mean: -0.01815, std: 0.00477, params: {'min_samples_leaf': 45, 'min_samples_split': 300},\n",
       "  mean: -0.01905, std: 0.00473, params: {'min_samples_leaf': 55, 'min_samples_split': 80},\n",
       "  mean: -0.01905, std: 0.00473, params: {'min_samples_leaf': 55, 'min_samples_split': 100},\n",
       "  mean: -0.01950, std: 0.00454, params: {'min_samples_leaf': 55, 'min_samples_split': 120},\n",
       "  mean: -0.01923, std: 0.00490, params: {'min_samples_leaf': 55, 'min_samples_split': 140},\n",
       "  mean: -0.01900, std: 0.00457, params: {'min_samples_leaf': 55, 'min_samples_split': 160},\n",
       "  mean: -0.01885, std: 0.00449, params: {'min_samples_leaf': 55, 'min_samples_split': 180},\n",
       "  mean: -0.01900, std: 0.00461, params: {'min_samples_leaf': 55, 'min_samples_split': 200},\n",
       "  mean: -0.01925, std: 0.00428, params: {'min_samples_leaf': 55, 'min_samples_split': 220},\n",
       "  mean: -0.01898, std: 0.00509, params: {'min_samples_leaf': 55, 'min_samples_split': 240},\n",
       "  mean: -0.01899, std: 0.00508, params: {'min_samples_leaf': 55, 'min_samples_split': 260},\n",
       "  mean: -0.01901, std: 0.00480, params: {'min_samples_leaf': 55, 'min_samples_split': 280},\n",
       "  mean: -0.01898, std: 0.00482, params: {'min_samples_leaf': 55, 'min_samples_split': 300},\n",
       "  mean: -0.01963, std: 0.00428, params: {'min_samples_leaf': 65, 'min_samples_split': 80},\n",
       "  mean: -0.01963, std: 0.00428, params: {'min_samples_leaf': 65, 'min_samples_split': 100},\n",
       "  mean: -0.01963, std: 0.00428, params: {'min_samples_leaf': 65, 'min_samples_split': 120},\n",
       "  mean: -0.01944, std: 0.00419, params: {'min_samples_leaf': 65, 'min_samples_split': 140},\n",
       "  mean: -0.01966, std: 0.00461, params: {'min_samples_leaf': 65, 'min_samples_split': 160},\n",
       "  mean: -0.01952, std: 0.00461, params: {'min_samples_leaf': 65, 'min_samples_split': 180},\n",
       "  mean: -0.01935, std: 0.00427, params: {'min_samples_leaf': 65, 'min_samples_split': 200},\n",
       "  mean: -0.01931, std: 0.00450, params: {'min_samples_leaf': 65, 'min_samples_split': 220},\n",
       "  mean: -0.01932, std: 0.00452, params: {'min_samples_leaf': 65, 'min_samples_split': 240},\n",
       "  mean: -0.01918, std: 0.00455, params: {'min_samples_leaf': 65, 'min_samples_split': 260},\n",
       "  mean: -0.01934, std: 0.00480, params: {'min_samples_leaf': 65, 'min_samples_split': 280},\n",
       "  mean: -0.01954, std: 0.00482, params: {'min_samples_leaf': 65, 'min_samples_split': 300}],\n",
       " {'min_samples_leaf': 15, 'min_samples_split': 300},\n",
       " -0.015818974374064494)"
      ]
     },
     "execution_count": 97,
     "metadata": {},
     "output_type": "execute_result"
    }
   ],
   "source": [
    "param_test3 = {'min_samples_split':range(80,301,20), 'min_samples_leaf':range(5,66,10)}\n",
    "gsearch3 = GridSearchCV(estimator = GradientBoostingRegressor(learning_rate=0.1, n_estimators=430,max_depth=7,max_features='sqrt', subsample=0.8, random_state=10), \n",
    "param_grid = param_test3, scoring='neg_mean_squared_error',n_jobs=4,iid=False, cv=10)\n",
    "gsearch3.fit(x, y)\n",
    "gsearch3.grid_scores_, gsearch3.best_params_, gsearch3.best_score_"
   ]
  },
  {
   "cell_type": "code",
   "execution_count": 95,
   "metadata": {},
   "outputs": [
    {
     "data": {
      "text/plain": [
       "0.9664839328231478"
      ]
     },
     "execution_count": 95,
     "metadata": {},
     "output_type": "execute_result"
    }
   ],
   "source": [
    "gsearch3.best_estimator_.score(x, y)"
   ]
  },
  {
   "cell_type": "code",
   "execution_count": 96,
   "metadata": {},
   "outputs": [
    {
     "data": {
      "text/plain": [
       "array([(b'GrLivArea', 0.05953713), (b'LotGrBsmtArea', 0.04871912),\n",
       "       (b'1stFlrSF', 0.04864057), (b'GarageArea', 0.0367574 ),\n",
       "       (b'TotalBsmtSF', 0.03451568), (b'YearBuilt', 0.0303207 ),\n",
       "       (b'GarageYrBlt', 0.02870639), (b'BsmtFinSF1', 0.02708215),\n",
       "       (b'OpenPorchSF', 0.02386098), (b'BsmtUnfSF', 0.02073961),\n",
       "       (b'LotArea', 0.01992681), (b'2ndFlrSF', 0.01902843),\n",
       "       (b'YearRemodAdd', 0.01724819), (b'LotFrontage', 0.01676905),\n",
       "       (b'EnclosedPorch', 0.01454544)],\n",
       "      dtype=[('feature', 'S30'), ('importance', '<f8')])"
      ]
     },
     "execution_count": 96,
     "metadata": {},
     "output_type": "execute_result"
    }
   ],
   "source": [
    "feature_importance_gbm = list(zip(x.columns, gsearch3.best_estimator_.feature_importances_))\n",
    "dtype = [('feature', 'S30'), ('importance', 'float')]\n",
    "feature_importance_gbm = np.array(feature_importance_gbm, dtype=dtype)\n",
    "feature_sort_gbm = np.sort(feature_importance_gbm, order='importance')[::-1]\n",
    "feature_sort_gbm[:15]"
   ]
  },
  {
   "cell_type": "code",
   "execution_count": 98,
   "metadata": {},
   "outputs": [
    {
     "name": "stderr",
     "output_type": "stream",
     "text": [
      "/anaconda3/lib/python3.6/site-packages/sklearn/model_selection/_search.py:761: DeprecationWarning: The grid_scores_ attribute was deprecated in version 0.18 in favor of the more elaborate cv_results_ attribute. The grid_scores_ attribute will not be available from 0.20\n",
      "  DeprecationWarning)\n"
     ]
    },
    {
     "data": {
      "text/plain": [
       "([mean: -0.01670, std: 0.00431, params: {'max_features': 7},\n",
       "  mean: -0.01620, std: 0.00386, params: {'max_features': 9},\n",
       "  mean: -0.01608, std: 0.00398, params: {'max_features': 11},\n",
       "  mean: -0.01623, std: 0.00438, params: {'max_features': 13},\n",
       "  mean: -0.01582, std: 0.00397, params: {'max_features': 15},\n",
       "  mean: -0.01584, std: 0.00389, params: {'max_features': 17},\n",
       "  mean: -0.01605, std: 0.00428, params: {'max_features': 19}],\n",
       " {'max_features': 15},\n",
       " -0.015818974374064494)"
      ]
     },
     "execution_count": 98,
     "metadata": {},
     "output_type": "execute_result"
    }
   ],
   "source": [
    "param_test4 = {'max_features':range(7,20,2)}\n",
    "gsearch4 = GridSearchCV(estimator = GradientBoostingRegressor(learning_rate=0.1, n_estimators=430,max_depth=7, min_samples_split=300, min_samples_leaf=15, subsample=0.8, random_state=10),\n",
    "param_grid = param_test4, scoring='neg_mean_squared_error',n_jobs=4,iid=False, cv=10)\n",
    "gsearch4.fit(x, y)\n",
    "gsearch4.grid_scores_, gsearch4.best_params_, gsearch4.best_score_"
   ]
  },
  {
   "cell_type": "code",
   "execution_count": 99,
   "metadata": {},
   "outputs": [
    {
     "data": {
      "text/plain": [
       "0.9714572063105971"
      ]
     },
     "execution_count": 99,
     "metadata": {},
     "output_type": "execute_result"
    }
   ],
   "source": [
    "gsearch4.best_estimator_.score(x, y)"
   ]
  },
  {
   "cell_type": "code",
   "execution_count": 100,
   "metadata": {},
   "outputs": [
    {
     "data": {
      "text/plain": [
       "array([(b'LotGrBsmtArea', 0.0552617 ), (b'GrLivArea', 0.04816826),\n",
       "       (b'1stFlrSF', 0.04382393), (b'TotalBsmtSF', 0.04070361),\n",
       "       (b'LotArea', 0.03891458), (b'GarageYrBlt', 0.03502873),\n",
       "       (b'GarageArea', 0.0347187 ), (b'YearBuilt', 0.03269052),\n",
       "       (b'BsmtFinSF1', 0.02972023), (b'LotFrontage', 0.02753231),\n",
       "       (b'BsmtUnfSF', 0.02642578), (b'OpenPorchSF', 0.02453964),\n",
       "       (b'MasVnrArea', 0.02000579), (b'EnclosedPorch', 0.01936245),\n",
       "       (b'YearRemodAdd', 0.01870962)],\n",
       "      dtype=[('feature', 'S30'), ('importance', '<f8')])"
      ]
     },
     "execution_count": 100,
     "metadata": {},
     "output_type": "execute_result"
    }
   ],
   "source": [
    "feature_importance_gbm = list(zip(x.columns, gsearch4.best_estimator_.feature_importances_))\n",
    "dtype = [('feature', 'S30'), ('importance', 'float')]\n",
    "feature_importance_gbm = np.array(feature_importance_gbm, dtype=dtype)\n",
    "feature_sort_gbm = np.sort(feature_importance_gbm, order='importance')[::-1]\n",
    "feature_sort_gbm[:15]"
   ]
  },
  {
   "cell_type": "code",
   "execution_count": 101,
   "metadata": {},
   "outputs": [
    {
     "name": "stderr",
     "output_type": "stream",
     "text": [
      "/anaconda3/lib/python3.6/site-packages/sklearn/model_selection/_search.py:761: DeprecationWarning: The grid_scores_ attribute was deprecated in version 0.18 in favor of the more elaborate cv_results_ attribute. The grid_scores_ attribute will not be available from 0.20\n",
      "  DeprecationWarning)\n"
     ]
    },
    {
     "data": {
      "text/plain": [
       "([mean: -0.01710, std: 0.00421, params: {'subsample': 0.6},\n",
       "  mean: -0.01632, std: 0.00423, params: {'subsample': 0.7},\n",
       "  mean: -0.01627, std: 0.00483, params: {'subsample': 0.75},\n",
       "  mean: -0.01582, std: 0.00397, params: {'subsample': 0.8},\n",
       "  mean: -0.01591, std: 0.00390, params: {'subsample': 0.85},\n",
       "  mean: -0.01612, std: 0.00436, params: {'subsample': 0.9}],\n",
       " {'subsample': 0.8},\n",
       " -0.015818974374064494)"
      ]
     },
     "execution_count": 101,
     "metadata": {},
     "output_type": "execute_result"
    }
   ],
   "source": [
    "param_test5 = {'subsample':[0.6,0.7,0.75,0.8,0.85,0.9]}\n",
    "gsearch5 = GridSearchCV(estimator = GradientBoostingRegressor(learning_rate=0.1, n_estimators=430,max_depth=7,min_samples_split=300, min_samples_leaf=15, subsample=0.8, random_state=10,max_features=15),\n",
    "param_grid = param_test5, scoring='neg_mean_squared_error',n_jobs=4,iid=False, cv=10)\n",
    "gsearch5.fit(x, y)\n",
    "gsearch5.grid_scores_, gsearch5.best_params_, gsearch5.best_score_"
   ]
  },
  {
   "cell_type": "code",
   "execution_count": 112,
   "metadata": {},
   "outputs": [
    {
     "data": {
      "text/plain": [
       "0.9715827477620639"
      ]
     },
     "execution_count": 112,
     "metadata": {},
     "output_type": "execute_result"
    }
   ],
   "source": [
    "gbm = GradientBoostingRegressor(learning_rate=0.05, n_estimators=860,max_depth=7,min_samples_split=300, min_samples_leaf=15, subsample=0.8, random_state=10,max_features=15)\n",
    "gbm.fit(x, y)\n",
    "gbm.score(x, y)"
   ]
  },
  {
   "cell_type": "code",
   "execution_count": 113,
   "metadata": {},
   "outputs": [
    {
     "data": {
      "text/plain": [
       "2.5720721311110704"
      ]
     },
     "execution_count": 113,
     "metadata": {},
     "output_type": "execute_result"
    }
   ],
   "source": [
    "np.sqrt(np.sum((np.array(y)-gbm.predict(x))**2))"
   ]
  },
  {
   "cell_type": "code",
   "execution_count": 114,
   "metadata": {},
   "outputs": [
    {
     "data": {
      "text/plain": [
       "array([(b'1stFlrSF', 0.05134955), (b'GrLivArea', 0.04750567),\n",
       "       (b'LotGrBsmtArea', 0.0474258 ), (b'GarageArea', 0.04162692),\n",
       "       (b'LotArea', 0.03917006), (b'TotalBsmtSF', 0.03882459),\n",
       "       (b'GarageYrBlt', 0.03535059), (b'BsmtFinSF1', 0.03190583),\n",
       "       (b'YearBuilt', 0.03166757), (b'OpenPorchSF', 0.02909522),\n",
       "       (b'LotFrontage', 0.02613004), (b'BsmtUnfSF', 0.02389583),\n",
       "       (b'EnclosedPorch', 0.02255974), (b'MasVnrArea', 0.021806  ),\n",
       "       (b'YearRemodAdd', 0.01831336)],\n",
       "      dtype=[('feature', 'S30'), ('importance', '<f8')])"
      ]
     },
     "execution_count": 114,
     "metadata": {},
     "output_type": "execute_result"
    }
   ],
   "source": [
    "feature_importance_gbm = list(zip(x.columns, gbm.feature_importances_))\n",
    "dtype = [('feature', 'S30'), ('importance', 'float')]\n",
    "feature_importance_gbm = np.array(feature_importance_gbm, dtype=dtype)\n",
    "feature_sort_gbm = np.sort(feature_importance_gbm, order='importance')[::-1]\n",
    "feature_sort_gbm[:15]"
   ]
  },
  {
   "cell_type": "code",
   "execution_count": null,
   "metadata": {},
   "outputs": [],
   "source": []
  },
  {
   "cell_type": "code",
   "execution_count": null,
   "metadata": {},
   "outputs": [],
   "source": []
  },
  {
   "cell_type": "code",
   "execution_count": null,
   "metadata": {},
   "outputs": [],
   "source": []
  },
  {
   "cell_type": "code",
   "execution_count": 559,
   "metadata": {},
   "outputs": [
    {
     "name": "stdout",
     "output_type": "stream",
     "text": [
      "0.8819479424951305\n"
     ]
    },
    {
     "data": {
      "text/plain": [
       "Index(['YearBuilt', 'MasVnrArea', 'TotalBsmtSF', 'GrLivArea', 'GarageArea',\n",
       "       'WoodDeckSF', 'OpenPorchSF', 'Rand_Var', '0', '2', '4', '8'],\n",
       "      dtype='object')"
      ]
     },
     "execution_count": 559,
     "metadata": {},
     "output_type": "execute_result"
    }
   ],
   "source": [
    "from sklearn.linear_model import Lasso\n",
    "from sklearn.feature_selection import SelectFromModel\n",
    "\n",
    "lsvc = Lasso(alpha=0.01).fit(x, y)\n",
    "model = SelectFromModel(lsvc, prefit=True)\n",
    "X_new = model.transform(x)\n",
    "print(lsvc.score(x, y))\n",
    "x.columns[model.get_support()]"
   ]
  },
  {
   "cell_type": "code",
   "execution_count": 127,
   "metadata": {},
   "outputs": [
    {
     "name": "stderr",
     "output_type": "stream",
     "text": [
      "/anaconda3/lib/python3.6/site-packages/sklearn/linear_model/coordinate_descent.py:491: ConvergenceWarning: Objective did not converge. You might want to increase the number of iterations. Fitting data with very small alpha may cause precision problems.\n",
      "  ConvergenceWarning)\n"
     ]
    }
   ],
   "source": [
    "from sklearn.linear_model import LassoCV\n",
    "from sklearn.model_selection import cross_val_score\n",
    "model_lasso = LassoCV(alphas = [1, 0.1, 0.001, 0.0005]).fit(x, y)"
   ]
  },
  {
   "cell_type": "code",
   "execution_count": 133,
   "metadata": {},
   "outputs": [
    {
     "data": {
      "text/html": [
       "<div>\n",
       "<style scoped>\n",
       "    .dataframe tbody tr th:only-of-type {\n",
       "        vertical-align: middle;\n",
       "    }\n",
       "\n",
       "    .dataframe tbody tr th {\n",
       "        vertical-align: top;\n",
       "    }\n",
       "\n",
       "    .dataframe thead th {\n",
       "        text-align: right;\n",
       "    }\n",
       "</style>\n",
       "<table border=\"1\" class=\"dataframe\">\n",
       "  <thead>\n",
       "    <tr style=\"text-align: right;\">\n",
       "      <th></th>\n",
       "      <th>LotFrontage</th>\n",
       "      <th>LotArea</th>\n",
       "      <th>YearBuilt</th>\n",
       "      <th>YearRemodAdd</th>\n",
       "      <th>MasVnrArea</th>\n",
       "      <th>BsmtFinSF1</th>\n",
       "      <th>BsmtFinSF2</th>\n",
       "      <th>BsmtUnfSF</th>\n",
       "      <th>TotalBsmtSF</th>\n",
       "      <th>1stFlrSF</th>\n",
       "      <th>...</th>\n",
       "      <th>SaleType_New</th>\n",
       "      <th>SaleType_Oth</th>\n",
       "      <th>SaleType_WD</th>\n",
       "      <th>SaleCondition_AdjLand</th>\n",
       "      <th>SaleCondition_Alloca</th>\n",
       "      <th>SaleCondition_Family</th>\n",
       "      <th>SaleCondition_Normal</th>\n",
       "      <th>SaleCondition_Partial</th>\n",
       "      <th>Utilities_NoSeWa</th>\n",
       "      <th>LotGrBsmtArea</th>\n",
       "    </tr>\n",
       "  </thead>\n",
       "  <tbody>\n",
       "    <tr>\n",
       "      <th>0</th>\n",
       "      <td>65.0</td>\n",
       "      <td>8450</td>\n",
       "      <td>2003</td>\n",
       "      <td>2003</td>\n",
       "      <td>196.0</td>\n",
       "      <td>706</td>\n",
       "      <td>0</td>\n",
       "      <td>150</td>\n",
       "      <td>856</td>\n",
       "      <td>856</td>\n",
       "      <td>...</td>\n",
       "      <td>0</td>\n",
       "      <td>0</td>\n",
       "      <td>1</td>\n",
       "      <td>0</td>\n",
       "      <td>0</td>\n",
       "      <td>0</td>\n",
       "      <td>1</td>\n",
       "      <td>0</td>\n",
       "      <td>0</td>\n",
       "      <td>12368772000</td>\n",
       "    </tr>\n",
       "    <tr>\n",
       "      <th>1</th>\n",
       "      <td>80.0</td>\n",
       "      <td>9600</td>\n",
       "      <td>1976</td>\n",
       "      <td>1976</td>\n",
       "      <td>0.0</td>\n",
       "      <td>978</td>\n",
       "      <td>0</td>\n",
       "      <td>284</td>\n",
       "      <td>1262</td>\n",
       "      <td>1262</td>\n",
       "      <td>...</td>\n",
       "      <td>0</td>\n",
       "      <td>0</td>\n",
       "      <td>1</td>\n",
       "      <td>0</td>\n",
       "      <td>0</td>\n",
       "      <td>0</td>\n",
       "      <td>1</td>\n",
       "      <td>0</td>\n",
       "      <td>0</td>\n",
       "      <td>15289382400</td>\n",
       "    </tr>\n",
       "    <tr>\n",
       "      <th>2</th>\n",
       "      <td>68.0</td>\n",
       "      <td>11250</td>\n",
       "      <td>2001</td>\n",
       "      <td>2002</td>\n",
       "      <td>162.0</td>\n",
       "      <td>486</td>\n",
       "      <td>0</td>\n",
       "      <td>434</td>\n",
       "      <td>920</td>\n",
       "      <td>920</td>\n",
       "      <td>...</td>\n",
       "      <td>0</td>\n",
       "      <td>0</td>\n",
       "      <td>1</td>\n",
       "      <td>0</td>\n",
       "      <td>0</td>\n",
       "      <td>0</td>\n",
       "      <td>1</td>\n",
       "      <td>0</td>\n",
       "      <td>0</td>\n",
       "      <td>18485100000</td>\n",
       "    </tr>\n",
       "    <tr>\n",
       "      <th>3</th>\n",
       "      <td>60.0</td>\n",
       "      <td>9550</td>\n",
       "      <td>1915</td>\n",
       "      <td>1970</td>\n",
       "      <td>0.0</td>\n",
       "      <td>216</td>\n",
       "      <td>0</td>\n",
       "      <td>540</td>\n",
       "      <td>756</td>\n",
       "      <td>961</td>\n",
       "      <td>...</td>\n",
       "      <td>0</td>\n",
       "      <td>0</td>\n",
       "      <td>1</td>\n",
       "      <td>0</td>\n",
       "      <td>0</td>\n",
       "      <td>0</td>\n",
       "      <td>0</td>\n",
       "      <td>0</td>\n",
       "      <td>0</td>\n",
       "      <td>12396396600</td>\n",
       "    </tr>\n",
       "    <tr>\n",
       "      <th>4</th>\n",
       "      <td>84.0</td>\n",
       "      <td>14260</td>\n",
       "      <td>2000</td>\n",
       "      <td>2000</td>\n",
       "      <td>350.0</td>\n",
       "      <td>655</td>\n",
       "      <td>0</td>\n",
       "      <td>490</td>\n",
       "      <td>1145</td>\n",
       "      <td>1145</td>\n",
       "      <td>...</td>\n",
       "      <td>0</td>\n",
       "      <td>0</td>\n",
       "      <td>1</td>\n",
       "      <td>0</td>\n",
       "      <td>0</td>\n",
       "      <td>0</td>\n",
       "      <td>1</td>\n",
       "      <td>0</td>\n",
       "      <td>0</td>\n",
       "      <td>35888284600</td>\n",
       "    </tr>\n",
       "  </tbody>\n",
       "</table>\n",
       "<p>5 rows × 253 columns</p>\n",
       "</div>"
      ],
      "text/plain": [
       "   LotFrontage  LotArea  YearBuilt  YearRemodAdd  MasVnrArea  BsmtFinSF1  \\\n",
       "0         65.0     8450       2003          2003       196.0         706   \n",
       "1         80.0     9600       1976          1976         0.0         978   \n",
       "2         68.0    11250       2001          2002       162.0         486   \n",
       "3         60.0     9550       1915          1970         0.0         216   \n",
       "4         84.0    14260       2000          2000       350.0         655   \n",
       "\n",
       "   BsmtFinSF2  BsmtUnfSF  TotalBsmtSF  1stFlrSF      ...        SaleType_New  \\\n",
       "0           0        150          856       856      ...                   0   \n",
       "1           0        284         1262      1262      ...                   0   \n",
       "2           0        434          920       920      ...                   0   \n",
       "3           0        540          756       961      ...                   0   \n",
       "4           0        490         1145      1145      ...                   0   \n",
       "\n",
       "   SaleType_Oth  SaleType_WD  SaleCondition_AdjLand  SaleCondition_Alloca  \\\n",
       "0             0            1                      0                     0   \n",
       "1             0            1                      0                     0   \n",
       "2             0            1                      0                     0   \n",
       "3             0            1                      0                     0   \n",
       "4             0            1                      0                     0   \n",
       "\n",
       "   SaleCondition_Family  SaleCondition_Normal  SaleCondition_Partial  \\\n",
       "0                     0                     1                      0   \n",
       "1                     0                     1                      0   \n",
       "2                     0                     1                      0   \n",
       "3                     0                     0                      0   \n",
       "4                     0                     1                      0   \n",
       "\n",
       "   Utilities_NoSeWa  LotGrBsmtArea  \n",
       "0                 0    12368772000  \n",
       "1                 0    15289382400  \n",
       "2                 0    18485100000  \n",
       "3                 0    12396396600  \n",
       "4                 0    35888284600  \n",
       "\n",
       "[5 rows x 253 columns]"
      ]
     },
     "execution_count": 133,
     "metadata": {},
     "output_type": "execute_result"
    }
   ],
   "source": [
    "x.head()"
   ]
  },
  {
   "cell_type": "code",
   "execution_count": 131,
   "metadata": {},
   "outputs": [],
   "source": [
    "def rmse_cv(model):\n",
    "    rmse= np.sqrt(-cross_val_score(model, x, y, scoring=\"neg_mean_squared_error\", cv = 10))\n",
    "    return(rmse)"
   ]
  },
  {
   "cell_type": "code",
   "execution_count": 132,
   "metadata": {},
   "outputs": [
    {
     "name": "stderr",
     "output_type": "stream",
     "text": [
      "/anaconda3/lib/python3.6/site-packages/sklearn/linear_model/coordinate_descent.py:491: ConvergenceWarning: Objective did not converge. You might want to increase the number of iterations. Fitting data with very small alpha may cause precision problems.\n",
      "  ConvergenceWarning)\n",
      "/anaconda3/lib/python3.6/site-packages/sklearn/linear_model/coordinate_descent.py:491: ConvergenceWarning: Objective did not converge. You might want to increase the number of iterations. Fitting data with very small alpha may cause precision problems.\n",
      "  ConvergenceWarning)\n",
      "/anaconda3/lib/python3.6/site-packages/sklearn/linear_model/coordinate_descent.py:491: ConvergenceWarning: Objective did not converge. You might want to increase the number of iterations. Fitting data with very small alpha may cause precision problems.\n",
      "  ConvergenceWarning)\n",
      "/anaconda3/lib/python3.6/site-packages/sklearn/linear_model/coordinate_descent.py:491: ConvergenceWarning: Objective did not converge. You might want to increase the number of iterations. Fitting data with very small alpha may cause precision problems.\n",
      "  ConvergenceWarning)\n",
      "/anaconda3/lib/python3.6/site-packages/sklearn/linear_model/coordinate_descent.py:491: ConvergenceWarning: Objective did not converge. You might want to increase the number of iterations. Fitting data with very small alpha may cause precision problems.\n",
      "  ConvergenceWarning)\n",
      "/anaconda3/lib/python3.6/site-packages/sklearn/linear_model/coordinate_descent.py:491: ConvergenceWarning: Objective did not converge. You might want to increase the number of iterations. Fitting data with very small alpha may cause precision problems.\n",
      "  ConvergenceWarning)\n",
      "/anaconda3/lib/python3.6/site-packages/sklearn/linear_model/coordinate_descent.py:491: ConvergenceWarning: Objective did not converge. You might want to increase the number of iterations. Fitting data with very small alpha may cause precision problems.\n",
      "  ConvergenceWarning)\n",
      "/anaconda3/lib/python3.6/site-packages/sklearn/linear_model/coordinate_descent.py:491: ConvergenceWarning: Objective did not converge. You might want to increase the number of iterations. Fitting data with very small alpha may cause precision problems.\n",
      "  ConvergenceWarning)\n",
      "/anaconda3/lib/python3.6/site-packages/sklearn/linear_model/coordinate_descent.py:491: ConvergenceWarning: Objective did not converge. You might want to increase the number of iterations. Fitting data with very small alpha may cause precision problems.\n",
      "  ConvergenceWarning)\n",
      "/anaconda3/lib/python3.6/site-packages/sklearn/linear_model/coordinate_descent.py:491: ConvergenceWarning: Objective did not converge. You might want to increase the number of iterations. Fitting data with very small alpha may cause precision problems.\n",
      "  ConvergenceWarning)\n",
      "/anaconda3/lib/python3.6/site-packages/sklearn/linear_model/coordinate_descent.py:491: ConvergenceWarning: Objective did not converge. You might want to increase the number of iterations. Fitting data with very small alpha may cause precision problems.\n",
      "  ConvergenceWarning)\n"
     ]
    },
    {
     "data": {
      "text/plain": [
       "0.12809888994660168"
      ]
     },
     "execution_count": 132,
     "metadata": {},
     "output_type": "execute_result"
    }
   ],
   "source": [
    "rmse_cv(model_lasso).mean()"
   ]
  },
  {
   "cell_type": "code",
   "execution_count": 26,
   "metadata": {},
   "outputs": [],
   "source": [
    "from sklearn.svm import SVR"
   ]
  },
  {
   "cell_type": "code",
   "execution_count": 27,
   "metadata": {},
   "outputs": [
    {
     "data": {
      "text/plain": [
       "0.8106612936700603"
      ]
     },
     "execution_count": 27,
     "metadata": {},
     "output_type": "execute_result"
    }
   ],
   "source": [
    "clf = SVR(C=1.0, epsilon=0.2)\n",
    "clf.fit(x, y)\n",
    "clf.score(x, y)"
   ]
  },
  {
   "cell_type": "code",
   "execution_count": 116,
   "metadata": {},
   "outputs": [],
   "source": [
    "y_gbm = gbm.predict(x)\n",
    "y_xgboost = xgboost.predict(x)\n",
    "y_rf = randomForest.predict(x)"
   ]
  },
  {
   "cell_type": "code",
   "execution_count": 122,
   "metadata": {},
   "outputs": [
    {
     "data": {
      "text/html": [
       "<div>\n",
       "<style scoped>\n",
       "    .dataframe tbody tr th:only-of-type {\n",
       "        vertical-align: middle;\n",
       "    }\n",
       "\n",
       "    .dataframe tbody tr th {\n",
       "        vertical-align: top;\n",
       "    }\n",
       "\n",
       "    .dataframe thead th {\n",
       "        text-align: right;\n",
       "    }\n",
       "</style>\n",
       "<table border=\"1\" class=\"dataframe\">\n",
       "  <thead>\n",
       "    <tr style=\"text-align: right;\">\n",
       "      <th></th>\n",
       "      <th>LotFrontage</th>\n",
       "      <th>LotArea</th>\n",
       "      <th>YearBuilt</th>\n",
       "      <th>YearRemodAdd</th>\n",
       "      <th>MasVnrArea</th>\n",
       "      <th>BsmtFinSF1</th>\n",
       "      <th>BsmtFinSF2</th>\n",
       "      <th>BsmtUnfSF</th>\n",
       "      <th>TotalBsmtSF</th>\n",
       "      <th>1stFlrSF</th>\n",
       "      <th>...</th>\n",
       "      <th>SaleType_New</th>\n",
       "      <th>SaleType_Oth</th>\n",
       "      <th>SaleType_WD</th>\n",
       "      <th>SaleCondition_AdjLand</th>\n",
       "      <th>SaleCondition_Alloca</th>\n",
       "      <th>SaleCondition_Family</th>\n",
       "      <th>SaleCondition_Normal</th>\n",
       "      <th>SaleCondition_Partial</th>\n",
       "      <th>Utilities_NoSeWa</th>\n",
       "      <th>LotGrBsmtArea</th>\n",
       "    </tr>\n",
       "  </thead>\n",
       "  <tbody>\n",
       "    <tr>\n",
       "      <th>0</th>\n",
       "      <td>65.0</td>\n",
       "      <td>8450</td>\n",
       "      <td>2003</td>\n",
       "      <td>2003</td>\n",
       "      <td>196.0</td>\n",
       "      <td>706</td>\n",
       "      <td>0</td>\n",
       "      <td>150</td>\n",
       "      <td>856</td>\n",
       "      <td>856</td>\n",
       "      <td>...</td>\n",
       "      <td>0</td>\n",
       "      <td>0</td>\n",
       "      <td>1</td>\n",
       "      <td>0</td>\n",
       "      <td>0</td>\n",
       "      <td>0</td>\n",
       "      <td>1</td>\n",
       "      <td>0</td>\n",
       "      <td>0</td>\n",
       "      <td>12368772000</td>\n",
       "    </tr>\n",
       "    <tr>\n",
       "      <th>1</th>\n",
       "      <td>80.0</td>\n",
       "      <td>9600</td>\n",
       "      <td>1976</td>\n",
       "      <td>1976</td>\n",
       "      <td>0.0</td>\n",
       "      <td>978</td>\n",
       "      <td>0</td>\n",
       "      <td>284</td>\n",
       "      <td>1262</td>\n",
       "      <td>1262</td>\n",
       "      <td>...</td>\n",
       "      <td>0</td>\n",
       "      <td>0</td>\n",
       "      <td>1</td>\n",
       "      <td>0</td>\n",
       "      <td>0</td>\n",
       "      <td>0</td>\n",
       "      <td>1</td>\n",
       "      <td>0</td>\n",
       "      <td>0</td>\n",
       "      <td>15289382400</td>\n",
       "    </tr>\n",
       "    <tr>\n",
       "      <th>2</th>\n",
       "      <td>68.0</td>\n",
       "      <td>11250</td>\n",
       "      <td>2001</td>\n",
       "      <td>2002</td>\n",
       "      <td>162.0</td>\n",
       "      <td>486</td>\n",
       "      <td>0</td>\n",
       "      <td>434</td>\n",
       "      <td>920</td>\n",
       "      <td>920</td>\n",
       "      <td>...</td>\n",
       "      <td>0</td>\n",
       "      <td>0</td>\n",
       "      <td>1</td>\n",
       "      <td>0</td>\n",
       "      <td>0</td>\n",
       "      <td>0</td>\n",
       "      <td>1</td>\n",
       "      <td>0</td>\n",
       "      <td>0</td>\n",
       "      <td>18485100000</td>\n",
       "    </tr>\n",
       "    <tr>\n",
       "      <th>3</th>\n",
       "      <td>60.0</td>\n",
       "      <td>9550</td>\n",
       "      <td>1915</td>\n",
       "      <td>1970</td>\n",
       "      <td>0.0</td>\n",
       "      <td>216</td>\n",
       "      <td>0</td>\n",
       "      <td>540</td>\n",
       "      <td>756</td>\n",
       "      <td>961</td>\n",
       "      <td>...</td>\n",
       "      <td>0</td>\n",
       "      <td>0</td>\n",
       "      <td>1</td>\n",
       "      <td>0</td>\n",
       "      <td>0</td>\n",
       "      <td>0</td>\n",
       "      <td>0</td>\n",
       "      <td>0</td>\n",
       "      <td>0</td>\n",
       "      <td>12396396600</td>\n",
       "    </tr>\n",
       "    <tr>\n",
       "      <th>4</th>\n",
       "      <td>84.0</td>\n",
       "      <td>14260</td>\n",
       "      <td>2000</td>\n",
       "      <td>2000</td>\n",
       "      <td>350.0</td>\n",
       "      <td>655</td>\n",
       "      <td>0</td>\n",
       "      <td>490</td>\n",
       "      <td>1145</td>\n",
       "      <td>1145</td>\n",
       "      <td>...</td>\n",
       "      <td>0</td>\n",
       "      <td>0</td>\n",
       "      <td>1</td>\n",
       "      <td>0</td>\n",
       "      <td>0</td>\n",
       "      <td>0</td>\n",
       "      <td>1</td>\n",
       "      <td>0</td>\n",
       "      <td>0</td>\n",
       "      <td>35888284600</td>\n",
       "    </tr>\n",
       "  </tbody>\n",
       "</table>\n",
       "<p>5 rows × 253 columns</p>\n",
       "</div>"
      ],
      "text/plain": [
       "   LotFrontage  LotArea  YearBuilt  YearRemodAdd  MasVnrArea  BsmtFinSF1  \\\n",
       "0         65.0     8450       2003          2003       196.0         706   \n",
       "1         80.0     9600       1976          1976         0.0         978   \n",
       "2         68.0    11250       2001          2002       162.0         486   \n",
       "3         60.0     9550       1915          1970         0.0         216   \n",
       "4         84.0    14260       2000          2000       350.0         655   \n",
       "\n",
       "   BsmtFinSF2  BsmtUnfSF  TotalBsmtSF  1stFlrSF      ...        SaleType_New  \\\n",
       "0           0        150          856       856      ...                   0   \n",
       "1           0        284         1262      1262      ...                   0   \n",
       "2           0        434          920       920      ...                   0   \n",
       "3           0        540          756       961      ...                   0   \n",
       "4           0        490         1145      1145      ...                   0   \n",
       "\n",
       "   SaleType_Oth  SaleType_WD  SaleCondition_AdjLand  SaleCondition_Alloca  \\\n",
       "0             0            1                      0                     0   \n",
       "1             0            1                      0                     0   \n",
       "2             0            1                      0                     0   \n",
       "3             0            1                      0                     0   \n",
       "4             0            1                      0                     0   \n",
       "\n",
       "   SaleCondition_Family  SaleCondition_Normal  SaleCondition_Partial  \\\n",
       "0                     0                     1                      0   \n",
       "1                     0                     1                      0   \n",
       "2                     0                     1                      0   \n",
       "3                     0                     0                      0   \n",
       "4                     0                     1                      0   \n",
       "\n",
       "   Utilities_NoSeWa  LotGrBsmtArea  \n",
       "0                 0    12368772000  \n",
       "1                 0    15289382400  \n",
       "2                 0    18485100000  \n",
       "3                 0    12396396600  \n",
       "4                 0    35888284600  \n",
       "\n",
       "[5 rows x 253 columns]"
      ]
     },
     "execution_count": 122,
     "metadata": {},
     "output_type": "execute_result"
    }
   ],
   "source": []
  },
  {
   "cell_type": "code",
   "execution_count": 117,
   "metadata": {},
   "outputs": [],
   "source": [
    "from sklearn.neural_network import MLPRegressor\n"
   ]
  },
  {
   "cell_type": "code",
   "execution_count": 118,
   "metadata": {},
   "outputs": [],
   "source": [
    "clf = MLPRegressor(hidden_layer_sizes=(1,), max_iter=1000, solver='lbfgs', validation_fraction=0.2)"
   ]
  },
  {
   "cell_type": "code",
   "execution_count": 119,
   "metadata": {},
   "outputs": [],
   "source": [
    "ensemble_ = pd.DataFrame([y_gbm, y_xgboost, y_rf]).T"
   ]
  },
  {
   "cell_type": "code",
   "execution_count": 120,
   "metadata": {},
   "outputs": [
    {
     "data": {
      "text/plain": [
       "(1460, 3)"
      ]
     },
     "execution_count": 120,
     "metadata": {},
     "output_type": "execute_result"
    }
   ],
   "source": [
    "ensemble_.shape"
   ]
  },
  {
   "cell_type": "code",
   "execution_count": 121,
   "metadata": {},
   "outputs": [],
   "source": [
    "best_clf = 0\n",
    "best_score = 0\n",
    "for i in range(1000):\n",
    "    clf.fit(ensemble_, y)\n",
    "    score = clf.score(ensemble_, y)\n",
    "    if score > best_score:\n",
    "        best_score = score\n",
    "        best_clf = clf"
   ]
  },
  {
   "cell_type": "code",
   "execution_count": 735,
   "metadata": {},
   "outputs": [
    {
     "data": {
      "text/plain": [
       "[(3, 1), (1, 1)]"
      ]
     },
     "execution_count": 735,
     "metadata": {},
     "output_type": "execute_result"
    }
   ],
   "source": [
    "[coef.shape for coef in best_clf.coefs_]"
   ]
  },
  {
   "cell_type": "code",
   "execution_count": 736,
   "metadata": {},
   "outputs": [
    {
     "data": {
      "text/plain": [
       "[array([[ 0.90837805],\n",
       "        [-0.45611193],\n",
       "        [-1.10160745]]), array([[0.72028207]])]"
      ]
     },
     "execution_count": 736,
     "metadata": {},
     "output_type": "execute_result"
    }
   ],
   "source": [
    "best_clf.coefs_"
   ]
  },
  {
   "cell_type": "code",
   "execution_count": 737,
   "metadata": {},
   "outputs": [],
   "source": [
    "from sklearn.linear_model import LinearRegression"
   ]
  },
  {
   "cell_type": "code",
   "execution_count": 738,
   "metadata": {},
   "outputs": [],
   "source": [
    "lm = LinearRegression(fit_intercept=False)"
   ]
  },
  {
   "cell_type": "code",
   "execution_count": 739,
   "metadata": {},
   "outputs": [
    {
     "data": {
      "text/plain": [
       "LinearRegression(copy_X=True, fit_intercept=False, n_jobs=1, normalize=False)"
      ]
     },
     "execution_count": 739,
     "metadata": {},
     "output_type": "execute_result"
    }
   ],
   "source": [
    "lm.fit(ensemble_, y)"
   ]
  },
  {
   "cell_type": "code",
   "execution_count": 740,
   "metadata": {},
   "outputs": [
    {
     "data": {
      "text/plain": [
       "0.991074161238352"
      ]
     },
     "execution_count": 740,
     "metadata": {},
     "output_type": "execute_result"
    }
   ],
   "source": [
    "lm.score(ensemble_, y)"
   ]
  },
  {
   "cell_type": "code",
   "execution_count": 741,
   "metadata": {},
   "outputs": [
    {
     "data": {
      "text/plain": [
       "array([-0.72165436,  1.02183541,  0.69995415])"
      ]
     },
     "execution_count": 741,
     "metadata": {},
     "output_type": "execute_result"
    }
   ],
   "source": [
    "lm.coef_"
   ]
  },
  {
   "cell_type": "code",
   "execution_count": 778,
   "metadata": {},
   "outputs": [],
   "source": [
    "test = pd.read_csv('../x_test.csv')"
   ]
  },
  {
   "cell_type": "code",
   "execution_count": 779,
   "metadata": {},
   "outputs": [
    {
     "data": {
      "text/html": [
       "<div>\n",
       "<style scoped>\n",
       "    .dataframe tbody tr th:only-of-type {\n",
       "        vertical-align: middle;\n",
       "    }\n",
       "\n",
       "    .dataframe tbody tr th {\n",
       "        vertical-align: top;\n",
       "    }\n",
       "\n",
       "    .dataframe thead th {\n",
       "        text-align: right;\n",
       "    }\n",
       "</style>\n",
       "<table border=\"1\" class=\"dataframe\">\n",
       "  <thead>\n",
       "    <tr style=\"text-align: right;\">\n",
       "      <th></th>\n",
       "      <th>LotFrontage</th>\n",
       "      <th>LotArea</th>\n",
       "      <th>YearBuilt</th>\n",
       "      <th>MasVnrArea</th>\n",
       "      <th>TotalBsmtSF</th>\n",
       "      <th>GrLivArea</th>\n",
       "      <th>GarageYrBlt</th>\n",
       "      <th>GarageArea</th>\n",
       "      <th>WoodDeckSF</th>\n",
       "      <th>OpenPorchSF</th>\n",
       "      <th>...</th>\n",
       "      <th>CentralAirBinary</th>\n",
       "      <th>Has2ndFlr</th>\n",
       "      <th>GarageCarsBinary</th>\n",
       "      <th>FireplacesBinary</th>\n",
       "      <th>TotRmsAbvGrdBinary1</th>\n",
       "      <th>TotRmsAbvGrdBinary2</th>\n",
       "      <th>KitchenAbvGrBinary</th>\n",
       "      <th>BedroomAbvGrBinary</th>\n",
       "      <th>NewHouse</th>\n",
       "      <th>OldHouse</th>\n",
       "    </tr>\n",
       "  </thead>\n",
       "  <tbody>\n",
       "    <tr>\n",
       "      <th>0</th>\n",
       "      <td>28.286562</td>\n",
       "      <td>9.360655</td>\n",
       "      <td>1961</td>\n",
       "      <td>0.0</td>\n",
       "      <td>882.0</td>\n",
       "      <td>896</td>\n",
       "      <td>1961.0</td>\n",
       "      <td>230.312454</td>\n",
       "      <td>140</td>\n",
       "      <td>0</td>\n",
       "      <td>...</td>\n",
       "      <td>False</td>\n",
       "      <td>False</td>\n",
       "      <td>False</td>\n",
       "      <td>False</td>\n",
       "      <td>False</td>\n",
       "      <td>False</td>\n",
       "      <td>True</td>\n",
       "      <td>False</td>\n",
       "      <td>False</td>\n",
       "      <td>True</td>\n",
       "    </tr>\n",
       "    <tr>\n",
       "      <th>1</th>\n",
       "      <td>28.542266</td>\n",
       "      <td>9.565704</td>\n",
       "      <td>1958</td>\n",
       "      <td>108.0</td>\n",
       "      <td>1329.0</td>\n",
       "      <td>1329</td>\n",
       "      <td>1958.0</td>\n",
       "      <td>117.231873</td>\n",
       "      <td>393</td>\n",
       "      <td>36</td>\n",
       "      <td>...</td>\n",
       "      <td>False</td>\n",
       "      <td>False</td>\n",
       "      <td>False</td>\n",
       "      <td>False</td>\n",
       "      <td>True</td>\n",
       "      <td>False</td>\n",
       "      <td>True</td>\n",
       "      <td>False</td>\n",
       "      <td>False</td>\n",
       "      <td>True</td>\n",
       "    </tr>\n",
       "    <tr>\n",
       "      <th>2</th>\n",
       "      <td>26.730835</td>\n",
       "      <td>9.534595</td>\n",
       "      <td>1997</td>\n",
       "      <td>0.0</td>\n",
       "      <td>928.0</td>\n",
       "      <td>1629</td>\n",
       "      <td>1997.0</td>\n",
       "      <td>165.664191</td>\n",
       "      <td>212</td>\n",
       "      <td>34</td>\n",
       "      <td>...</td>\n",
       "      <td>False</td>\n",
       "      <td>True</td>\n",
       "      <td>True</td>\n",
       "      <td>True</td>\n",
       "      <td>True</td>\n",
       "      <td>False</td>\n",
       "      <td>True</td>\n",
       "      <td>False</td>\n",
       "      <td>True</td>\n",
       "      <td>False</td>\n",
       "    </tr>\n",
       "    <tr>\n",
       "      <th>3</th>\n",
       "      <td>27.772150</td>\n",
       "      <td>9.208138</td>\n",
       "      <td>1998</td>\n",
       "      <td>20.0</td>\n",
       "      <td>926.0</td>\n",
       "      <td>1604</td>\n",
       "      <td>1998.0</td>\n",
       "      <td>162.379466</td>\n",
       "      <td>360</td>\n",
       "      <td>36</td>\n",
       "      <td>...</td>\n",
       "      <td>False</td>\n",
       "      <td>True</td>\n",
       "      <td>True</td>\n",
       "      <td>True</td>\n",
       "      <td>True</td>\n",
       "      <td>False</td>\n",
       "      <td>True</td>\n",
       "      <td>False</td>\n",
       "      <td>True</td>\n",
       "      <td>False</td>\n",
       "    </tr>\n",
       "    <tr>\n",
       "      <th>4</th>\n",
       "      <td>17.934396</td>\n",
       "      <td>8.518193</td>\n",
       "      <td>1992</td>\n",
       "      <td>0.0</td>\n",
       "      <td>1280.0</td>\n",
       "      <td>1280</td>\n",
       "      <td>1992.0</td>\n",
       "      <td>172.182838</td>\n",
       "      <td>0</td>\n",
       "      <td>82</td>\n",
       "      <td>...</td>\n",
       "      <td>False</td>\n",
       "      <td>False</td>\n",
       "      <td>True</td>\n",
       "      <td>False</td>\n",
       "      <td>False</td>\n",
       "      <td>False</td>\n",
       "      <td>True</td>\n",
       "      <td>False</td>\n",
       "      <td>True</td>\n",
       "      <td>False</td>\n",
       "    </tr>\n",
       "  </tbody>\n",
       "</table>\n",
       "<p>5 rows × 53 columns</p>\n",
       "</div>"
      ],
      "text/plain": [
       "   LotFrontage   LotArea  YearBuilt  MasVnrArea  TotalBsmtSF  GrLivArea  \\\n",
       "0    28.286562  9.360655       1961         0.0        882.0        896   \n",
       "1    28.542266  9.565704       1958       108.0       1329.0       1329   \n",
       "2    26.730835  9.534595       1997         0.0        928.0       1629   \n",
       "3    27.772150  9.208138       1998        20.0        926.0       1604   \n",
       "4    17.934396  8.518193       1992         0.0       1280.0       1280   \n",
       "\n",
       "   GarageYrBlt  GarageArea  WoodDeckSF  OpenPorchSF    ...     \\\n",
       "0       1961.0  230.312454         140            0    ...      \n",
       "1       1958.0  117.231873         393           36    ...      \n",
       "2       1997.0  165.664191         212           34    ...      \n",
       "3       1998.0  162.379466         360           36    ...      \n",
       "4       1992.0  172.182838           0           82    ...      \n",
       "\n",
       "   CentralAirBinary  Has2ndFlr  GarageCarsBinary  FireplacesBinary  \\\n",
       "0             False      False             False             False   \n",
       "1             False      False             False             False   \n",
       "2             False       True              True              True   \n",
       "3             False       True              True              True   \n",
       "4             False      False              True             False   \n",
       "\n",
       "   TotRmsAbvGrdBinary1  TotRmsAbvGrdBinary2  KitchenAbvGrBinary  \\\n",
       "0                False                False                True   \n",
       "1                 True                False                True   \n",
       "2                 True                False                True   \n",
       "3                 True                False                True   \n",
       "4                False                False                True   \n",
       "\n",
       "   BedroomAbvGrBinary  NewHouse  OldHouse  \n",
       "0               False     False      True  \n",
       "1               False     False      True  \n",
       "2               False      True     False  \n",
       "3               False      True     False  \n",
       "4               False      True     False  \n",
       "\n",
       "[5 rows x 53 columns]"
      ]
     },
     "execution_count": 779,
     "metadata": {},
     "output_type": "execute_result"
    }
   ],
   "source": [
    "test.head()"
   ]
  },
  {
   "cell_type": "code",
   "execution_count": 780,
   "metadata": {},
   "outputs": [],
   "source": [
    "x = x.drop(columns=['Rand_Var'])"
   ]
  },
  {
   "cell_type": "code",
   "execution_count": 781,
   "metadata": {},
   "outputs": [
    {
     "data": {
      "text/plain": [
       "RandomForestRegressor(bootstrap=True, criterion='mse', max_depth=None,\n",
       "           max_features='auto', max_leaf_nodes=None,\n",
       "           min_impurity_decrease=0.0, min_impurity_split=None,\n",
       "           min_samples_leaf=1, min_samples_split=2,\n",
       "           min_weight_fraction_leaf=0.0, n_estimators=100, n_jobs=1,\n",
       "           oob_score=True, random_state=None, verbose=0, warm_start=False)"
      ]
     },
     "execution_count": 781,
     "metadata": {},
     "output_type": "execute_result"
    }
   ],
   "source": [
    "gbm.fit(x, y)\n",
    "xgboost.fit(x, y)\n",
    "randomForest.fit(x, y)"
   ]
  },
  {
   "cell_type": "code",
   "execution_count": 782,
   "metadata": {},
   "outputs": [],
   "source": [
    "y_gbm_ = gbm.predict(test)\n",
    "y_xgboost_ = xgboost.predict(test)\n",
    "y_rf_ = randomForest.predict(test)"
   ]
  },
  {
   "cell_type": "code",
   "execution_count": 783,
   "metadata": {},
   "outputs": [],
   "source": [
    "z = lm.coef_[0]*y_gbm_ + lm.coef_[1]*y_xgboost_ + lm.coef_[2]*y_rf_"
   ]
  },
  {
   "cell_type": "code",
   "execution_count": 775,
   "metadata": {},
   "outputs": [],
   "source": [
    "z = 0.5*y_gbm_ + 0.4*y_xgboost_ + 0.1*y_rf_"
   ]
  },
  {
   "cell_type": "code",
   "execution_count": 784,
   "metadata": {},
   "outputs": [],
   "source": [
    "test_original = pd.read_csv('../test.csv')"
   ]
  },
  {
   "cell_type": "code",
   "execution_count": 785,
   "metadata": {},
   "outputs": [],
   "source": [
    "final_df = pd.DataFrame({'Id':test_original['Id'], 'SalePrice':np.exp(z)})"
   ]
  },
  {
   "cell_type": "code",
   "execution_count": 786,
   "metadata": {},
   "outputs": [],
   "source": [
    "final_df.to_csv(\"../submit.csv\", float_format='%f', index=False) #np.savetxt(\"../submit.csv\", np.exp(z), delimiter=\"\\n\", fmt='%f')"
   ]
  },
  {
   "cell_type": "code",
   "execution_count": 755,
   "metadata": {},
   "outputs": [
    {
     "data": {
      "text/plain": [
       "0    12.247694\n",
       "1    12.109011\n",
       "2    12.317167\n",
       "3    11.849398\n",
       "4    12.429216\n",
       "Name: SalePrice, dtype: float64"
      ]
     },
     "execution_count": 755,
     "metadata": {},
     "output_type": "execute_result"
    }
   ],
   "source": [
    "y.head()"
   ]
  },
  {
   "cell_type": "code",
   "execution_count": 759,
   "metadata": {},
   "outputs": [
    {
     "data": {
      "text/html": [
       "<div>\n",
       "<style scoped>\n",
       "    .dataframe tbody tr th:only-of-type {\n",
       "        vertical-align: middle;\n",
       "    }\n",
       "\n",
       "    .dataframe tbody tr th {\n",
       "        vertical-align: top;\n",
       "    }\n",
       "\n",
       "    .dataframe thead th {\n",
       "        text-align: right;\n",
       "    }\n",
       "</style>\n",
       "<table border=\"1\" class=\"dataframe\">\n",
       "  <thead>\n",
       "    <tr style=\"text-align: right;\">\n",
       "      <th></th>\n",
       "      <th>LotFrontage</th>\n",
       "      <th>LotArea</th>\n",
       "      <th>YearBuilt</th>\n",
       "      <th>MasVnrArea</th>\n",
       "      <th>TotalBsmtSF</th>\n",
       "      <th>GrLivArea</th>\n",
       "      <th>GarageYrBlt</th>\n",
       "      <th>GarageArea</th>\n",
       "      <th>WoodDeckSF</th>\n",
       "      <th>OpenPorchSF</th>\n",
       "      <th>...</th>\n",
       "      <th>Has2ndFlr</th>\n",
       "      <th>GarageCarsBinary</th>\n",
       "      <th>FireplacesBinary</th>\n",
       "      <th>TotRmsAbvGrdBinary1</th>\n",
       "      <th>TotRmsAbvGrdBinary2</th>\n",
       "      <th>KitchenAbvGrBinary</th>\n",
       "      <th>BedroomAbvGrBinary</th>\n",
       "      <th>NewHouse</th>\n",
       "      <th>OldHouse</th>\n",
       "      <th>Rand_Var</th>\n",
       "    </tr>\n",
       "  </thead>\n",
       "  <tbody>\n",
       "    <tr>\n",
       "      <th>0</th>\n",
       "      <td>28.286562</td>\n",
       "      <td>9.360655</td>\n",
       "      <td>1961</td>\n",
       "      <td>0.0</td>\n",
       "      <td>882.0</td>\n",
       "      <td>896</td>\n",
       "      <td>1961.0</td>\n",
       "      <td>230.312454</td>\n",
       "      <td>140</td>\n",
       "      <td>0</td>\n",
       "      <td>...</td>\n",
       "      <td>False</td>\n",
       "      <td>False</td>\n",
       "      <td>False</td>\n",
       "      <td>False</td>\n",
       "      <td>False</td>\n",
       "      <td>True</td>\n",
       "      <td>False</td>\n",
       "      <td>False</td>\n",
       "      <td>True</td>\n",
       "      <td>69.595973</td>\n",
       "    </tr>\n",
       "    <tr>\n",
       "      <th>1</th>\n",
       "      <td>28.542266</td>\n",
       "      <td>9.565704</td>\n",
       "      <td>1958</td>\n",
       "      <td>108.0</td>\n",
       "      <td>1329.0</td>\n",
       "      <td>1329</td>\n",
       "      <td>1958.0</td>\n",
       "      <td>117.231873</td>\n",
       "      <td>393</td>\n",
       "      <td>36</td>\n",
       "      <td>...</td>\n",
       "      <td>False</td>\n",
       "      <td>False</td>\n",
       "      <td>False</td>\n",
       "      <td>True</td>\n",
       "      <td>False</td>\n",
       "      <td>True</td>\n",
       "      <td>False</td>\n",
       "      <td>False</td>\n",
       "      <td>True</td>\n",
       "      <td>40.933021</td>\n",
       "    </tr>\n",
       "    <tr>\n",
       "      <th>2</th>\n",
       "      <td>26.730835</td>\n",
       "      <td>9.534595</td>\n",
       "      <td>1997</td>\n",
       "      <td>0.0</td>\n",
       "      <td>928.0</td>\n",
       "      <td>1629</td>\n",
       "      <td>1997.0</td>\n",
       "      <td>165.664191</td>\n",
       "      <td>212</td>\n",
       "      <td>34</td>\n",
       "      <td>...</td>\n",
       "      <td>True</td>\n",
       "      <td>True</td>\n",
       "      <td>True</td>\n",
       "      <td>True</td>\n",
       "      <td>False</td>\n",
       "      <td>True</td>\n",
       "      <td>False</td>\n",
       "      <td>True</td>\n",
       "      <td>False</td>\n",
       "      <td>15.394041</td>\n",
       "    </tr>\n",
       "    <tr>\n",
       "      <th>3</th>\n",
       "      <td>27.772150</td>\n",
       "      <td>9.208138</td>\n",
       "      <td>1998</td>\n",
       "      <td>20.0</td>\n",
       "      <td>926.0</td>\n",
       "      <td>1604</td>\n",
       "      <td>1998.0</td>\n",
       "      <td>162.379466</td>\n",
       "      <td>360</td>\n",
       "      <td>36</td>\n",
       "      <td>...</td>\n",
       "      <td>True</td>\n",
       "      <td>True</td>\n",
       "      <td>True</td>\n",
       "      <td>True</td>\n",
       "      <td>False</td>\n",
       "      <td>True</td>\n",
       "      <td>False</td>\n",
       "      <td>True</td>\n",
       "      <td>False</td>\n",
       "      <td>27.638262</td>\n",
       "    </tr>\n",
       "    <tr>\n",
       "      <th>4</th>\n",
       "      <td>17.934396</td>\n",
       "      <td>8.518193</td>\n",
       "      <td>1992</td>\n",
       "      <td>0.0</td>\n",
       "      <td>1280.0</td>\n",
       "      <td>1280</td>\n",
       "      <td>1992.0</td>\n",
       "      <td>172.182838</td>\n",
       "      <td>0</td>\n",
       "      <td>82</td>\n",
       "      <td>...</td>\n",
       "      <td>False</td>\n",
       "      <td>True</td>\n",
       "      <td>False</td>\n",
       "      <td>False</td>\n",
       "      <td>False</td>\n",
       "      <td>True</td>\n",
       "      <td>False</td>\n",
       "      <td>True</td>\n",
       "      <td>False</td>\n",
       "      <td>35.952043</td>\n",
       "    </tr>\n",
       "  </tbody>\n",
       "</table>\n",
       "<p>5 rows × 54 columns</p>\n",
       "</div>"
      ],
      "text/plain": [
       "   LotFrontage   LotArea  YearBuilt  MasVnrArea  TotalBsmtSF  GrLivArea  \\\n",
       "0    28.286562  9.360655       1961         0.0        882.0        896   \n",
       "1    28.542266  9.565704       1958       108.0       1329.0       1329   \n",
       "2    26.730835  9.534595       1997         0.0        928.0       1629   \n",
       "3    27.772150  9.208138       1998        20.0        926.0       1604   \n",
       "4    17.934396  8.518193       1992         0.0       1280.0       1280   \n",
       "\n",
       "   GarageYrBlt  GarageArea  WoodDeckSF  OpenPorchSF    ...      Has2ndFlr  \\\n",
       "0       1961.0  230.312454         140            0    ...          False   \n",
       "1       1958.0  117.231873         393           36    ...          False   \n",
       "2       1997.0  165.664191         212           34    ...           True   \n",
       "3       1998.0  162.379466         360           36    ...           True   \n",
       "4       1992.0  172.182838           0           82    ...          False   \n",
       "\n",
       "   GarageCarsBinary  FireplacesBinary  TotRmsAbvGrdBinary1  \\\n",
       "0             False             False                False   \n",
       "1             False             False                 True   \n",
       "2              True              True                 True   \n",
       "3              True              True                 True   \n",
       "4              True             False                False   \n",
       "\n",
       "   TotRmsAbvGrdBinary2  KitchenAbvGrBinary  BedroomAbvGrBinary  NewHouse  \\\n",
       "0                False                True               False     False   \n",
       "1                False                True               False     False   \n",
       "2                False                True               False      True   \n",
       "3                False                True               False      True   \n",
       "4                False                True               False      True   \n",
       "\n",
       "   OldHouse   Rand_Var  \n",
       "0      True  69.595973  \n",
       "1      True  40.933021  \n",
       "2     False  15.394041  \n",
       "3     False  27.638262  \n",
       "4     False  35.952043  \n",
       "\n",
       "[5 rows x 54 columns]"
      ]
     },
     "execution_count": 759,
     "metadata": {},
     "output_type": "execute_result"
    }
   ],
   "source": [
    "test.head()"
   ]
  },
  {
   "cell_type": "code",
   "execution_count": null,
   "metadata": {},
   "outputs": [],
   "source": []
  }
 ],
 "metadata": {
  "kernelspec": {
   "display_name": "Python 3",
   "language": "python",
   "name": "python3"
  },
  "language_info": {
   "codemirror_mode": {
    "name": "ipython",
    "version": 3
   },
   "file_extension": ".py",
   "mimetype": "text/x-python",
   "name": "python",
   "nbconvert_exporter": "python",
   "pygments_lexer": "ipython3",
   "version": "3.6.4"
  }
 },
 "nbformat": 4,
 "nbformat_minor": 2
}
