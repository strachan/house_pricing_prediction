{
 "cells": [
  {
   "cell_type": "code",
   "execution_count": 455,
   "metadata": {},
   "outputs": [],
   "source": [
    "import pandas as pd\n",
    "import numpy as np"
   ]
  },
  {
   "cell_type": "code",
   "execution_count": 533,
   "metadata": {},
   "outputs": [],
   "source": [
    "data = pd.read_csv('../train_wo_missing_values.csv')\n",
    "test = pd.read_csv('../test.csv')"
   ]
  },
  {
   "cell_type": "code",
   "execution_count": 534,
   "metadata": {},
   "outputs": [],
   "source": [
    "data.drop(index=[523,1298], inplace=True)"
   ]
  },
  {
   "cell_type": "code",
   "execution_count": 535,
   "metadata": {},
   "outputs": [],
   "source": [
    "from transform import transform_dataset"
   ]
  },
  {
   "cell_type": "code",
   "execution_count": 536,
   "metadata": {},
   "outputs": [],
   "source": [
    "x, y = transform_dataset(data)"
   ]
  },
  {
   "cell_type": "code",
   "execution_count": 537,
   "metadata": {},
   "outputs": [],
   "source": [
    "x.to_csv('../train_transf.csv', index=False)\n",
    "y.to_csv('../test_transf.csv', index=False, header=False)"
   ]
  },
  {
   "cell_type": "code",
   "execution_count": 538,
   "metadata": {},
   "outputs": [],
   "source": [
    "rand_variable = np.random.rand(x.shape[0])*100"
   ]
  },
  {
   "cell_type": "code",
   "execution_count": 539,
   "metadata": {},
   "outputs": [],
   "source": [
    "x = x.reset_index(drop=True)"
   ]
  },
  {
   "cell_type": "code",
   "execution_count": 540,
   "metadata": {},
   "outputs": [],
   "source": [
    "x = pd.concat([x, pd.Series(rand_variable, name='Rand_Var')], axis=1)"
   ]
  },
  {
   "cell_type": "code",
   "execution_count": 541,
   "metadata": {},
   "outputs": [],
   "source": [
    "pca_var = pd.read_csv('../x12d.csv', prefix='pca')"
   ]
  },
  {
   "cell_type": "code",
   "execution_count": 542,
   "metadata": {},
   "outputs": [
    {
     "data": {
      "text/plain": [
       "(1458, 12)"
      ]
     },
     "execution_count": 542,
     "metadata": {},
     "output_type": "execute_result"
    }
   ],
   "source": [
    "pca_var.shape"
   ]
  },
  {
   "cell_type": "code",
   "execution_count": 543,
   "metadata": {},
   "outputs": [],
   "source": [
    "x = pd.concat([x, pca_var], axis=1)"
   ]
  },
  {
   "cell_type": "code",
   "execution_count": 544,
   "metadata": {},
   "outputs": [
    {
     "data": {
      "text/html": [
       "<div>\n",
       "<style scoped>\n",
       "    .dataframe tbody tr th:only-of-type {\n",
       "        vertical-align: middle;\n",
       "    }\n",
       "\n",
       "    .dataframe tbody tr th {\n",
       "        vertical-align: top;\n",
       "    }\n",
       "\n",
       "    .dataframe thead th {\n",
       "        text-align: right;\n",
       "    }\n",
       "</style>\n",
       "<table border=\"1\" class=\"dataframe\">\n",
       "  <thead>\n",
       "    <tr style=\"text-align: right;\">\n",
       "      <th></th>\n",
       "      <th>LotFrontage</th>\n",
       "      <th>LotArea</th>\n",
       "      <th>YearBuilt</th>\n",
       "      <th>MasVnrArea</th>\n",
       "      <th>TotalBsmtSF</th>\n",
       "      <th>GrLivArea</th>\n",
       "      <th>GarageYrBlt</th>\n",
       "      <th>GarageArea</th>\n",
       "      <th>WoodDeckSF</th>\n",
       "      <th>OpenPorchSF</th>\n",
       "      <th>...</th>\n",
       "      <th>2</th>\n",
       "      <th>3</th>\n",
       "      <th>4</th>\n",
       "      <th>5</th>\n",
       "      <th>6</th>\n",
       "      <th>7</th>\n",
       "      <th>8</th>\n",
       "      <th>9</th>\n",
       "      <th>10</th>\n",
       "      <th>11</th>\n",
       "    </tr>\n",
       "  </thead>\n",
       "  <tbody>\n",
       "    <tr>\n",
       "      <th>0</th>\n",
       "      <td>13.754179</td>\n",
       "      <td>9.041922</td>\n",
       "      <td>2003</td>\n",
       "      <td>196.0</td>\n",
       "      <td>856</td>\n",
       "      <td>1710</td>\n",
       "      <td>2003.0</td>\n",
       "      <td>211.355516</td>\n",
       "      <td>0</td>\n",
       "      <td>61</td>\n",
       "      <td>...</td>\n",
       "      <td>0.489574</td>\n",
       "      <td>-0.070740</td>\n",
       "      <td>0.080191</td>\n",
       "      <td>-0.396822</td>\n",
       "      <td>0.819830</td>\n",
       "      <td>1.454054</td>\n",
       "      <td>-0.530810</td>\n",
       "      <td>-0.314133</td>\n",
       "      <td>0.675321</td>\n",
       "      <td>-0.309865</td>\n",
       "    </tr>\n",
       "    <tr>\n",
       "      <th>1</th>\n",
       "      <td>15.446997</td>\n",
       "      <td>9.169518</td>\n",
       "      <td>1976</td>\n",
       "      <td>0.0</td>\n",
       "      <td>1262</td>\n",
       "      <td>1262</td>\n",
       "      <td>1976.0</td>\n",
       "      <td>183.057985</td>\n",
       "      <td>298</td>\n",
       "      <td>0</td>\n",
       "      <td>...</td>\n",
       "      <td>-0.752644</td>\n",
       "      <td>0.198471</td>\n",
       "      <td>-0.047932</td>\n",
       "      <td>0.915364</td>\n",
       "      <td>-0.400408</td>\n",
       "      <td>-0.380815</td>\n",
       "      <td>-0.143054</td>\n",
       "      <td>0.270766</td>\n",
       "      <td>-1.185431</td>\n",
       "      <td>0.028497</td>\n",
       "    </tr>\n",
       "    <tr>\n",
       "      <th>2</th>\n",
       "      <td>14.107516</td>\n",
       "      <td>9.328123</td>\n",
       "      <td>2001</td>\n",
       "      <td>162.0</td>\n",
       "      <td>920</td>\n",
       "      <td>1786</td>\n",
       "      <td>2001.0</td>\n",
       "      <td>230.170899</td>\n",
       "      <td>0</td>\n",
       "      <td>42</td>\n",
       "      <td>...</td>\n",
       "      <td>0.333702</td>\n",
       "      <td>0.316951</td>\n",
       "      <td>0.334385</td>\n",
       "      <td>1.192629</td>\n",
       "      <td>0.223092</td>\n",
       "      <td>0.657625</td>\n",
       "      <td>-0.554016</td>\n",
       "      <td>0.348407</td>\n",
       "      <td>-0.566953</td>\n",
       "      <td>-0.760743</td>\n",
       "    </tr>\n",
       "    <tr>\n",
       "      <th>3</th>\n",
       "      <td>13.146282</td>\n",
       "      <td>9.164296</td>\n",
       "      <td>1915</td>\n",
       "      <td>0.0</td>\n",
       "      <td>756</td>\n",
       "      <td>1717</td>\n",
       "      <td>1998.0</td>\n",
       "      <td>240.681574</td>\n",
       "      <td>0</td>\n",
       "      <td>35</td>\n",
       "      <td>...</td>\n",
       "      <td>-0.382669</td>\n",
       "      <td>-1.279727</td>\n",
       "      <td>3.367146</td>\n",
       "      <td>-1.145491</td>\n",
       "      <td>-0.414045</td>\n",
       "      <td>-0.896113</td>\n",
       "      <td>-0.067543</td>\n",
       "      <td>0.869701</td>\n",
       "      <td>0.666970</td>\n",
       "      <td>-1.126284</td>\n",
       "    </tr>\n",
       "    <tr>\n",
       "      <th>4</th>\n",
       "      <td>15.870407</td>\n",
       "      <td>9.565214</td>\n",
       "      <td>2000</td>\n",
       "      <td>350.0</td>\n",
       "      <td>1145</td>\n",
       "      <td>2198</td>\n",
       "      <td>2000.0</td>\n",
       "      <td>298.887194</td>\n",
       "      <td>192</td>\n",
       "      <td>84</td>\n",
       "      <td>...</td>\n",
       "      <td>0.377549</td>\n",
       "      <td>0.281931</td>\n",
       "      <td>0.375355</td>\n",
       "      <td>1.157149</td>\n",
       "      <td>0.335261</td>\n",
       "      <td>0.444143</td>\n",
       "      <td>-0.367786</td>\n",
       "      <td>-0.198315</td>\n",
       "      <td>-0.038292</td>\n",
       "      <td>-0.898506</td>\n",
       "    </tr>\n",
       "  </tbody>\n",
       "</table>\n",
       "<p>5 rows × 66 columns</p>\n",
       "</div>"
      ],
      "text/plain": [
       "   LotFrontage   LotArea  YearBuilt  MasVnrArea  TotalBsmtSF  GrLivArea  \\\n",
       "0    13.754179  9.041922       2003       196.0          856       1710   \n",
       "1    15.446997  9.169518       1976         0.0         1262       1262   \n",
       "2    14.107516  9.328123       2001       162.0          920       1786   \n",
       "3    13.146282  9.164296       1915         0.0          756       1717   \n",
       "4    15.870407  9.565214       2000       350.0         1145       2198   \n",
       "\n",
       "   GarageYrBlt  GarageArea  WoodDeckSF  OpenPorchSF    ...            2  \\\n",
       "0       2003.0  211.355516           0           61    ...     0.489574   \n",
       "1       1976.0  183.057985         298            0    ...    -0.752644   \n",
       "2       2001.0  230.170899           0           42    ...     0.333702   \n",
       "3       1998.0  240.681574           0           35    ...    -0.382669   \n",
       "4       2000.0  298.887194         192           84    ...     0.377549   \n",
       "\n",
       "          3         4         5         6         7         8         9  \\\n",
       "0 -0.070740  0.080191 -0.396822  0.819830  1.454054 -0.530810 -0.314133   \n",
       "1  0.198471 -0.047932  0.915364 -0.400408 -0.380815 -0.143054  0.270766   \n",
       "2  0.316951  0.334385  1.192629  0.223092  0.657625 -0.554016  0.348407   \n",
       "3 -1.279727  3.367146 -1.145491 -0.414045 -0.896113 -0.067543  0.869701   \n",
       "4  0.281931  0.375355  1.157149  0.335261  0.444143 -0.367786 -0.198315   \n",
       "\n",
       "         10        11  \n",
       "0  0.675321 -0.309865  \n",
       "1 -1.185431  0.028497  \n",
       "2 -0.566953 -0.760743  \n",
       "3  0.666970 -1.126284  \n",
       "4 -0.038292 -0.898506  \n",
       "\n",
       "[5 rows x 66 columns]"
      ]
     },
     "execution_count": 544,
     "metadata": {},
     "output_type": "execute_result"
    }
   ],
   "source": [
    "x.head()"
   ]
  },
  {
   "cell_type": "code",
   "execution_count": 519,
   "metadata": {},
   "outputs": [],
   "source": [
    "from sklearn import ensemble\n",
    "randomForest = ensemble.RandomForestRegressor()"
   ]
  },
  {
   "cell_type": "code",
   "execution_count": 520,
   "metadata": {},
   "outputs": [
    {
     "data": {
      "text/plain": [
       "RandomForestRegressor(bootstrap=True, criterion='mse', max_depth=None,\n",
       "           max_features='auto', max_leaf_nodes=None,\n",
       "           min_impurity_decrease=0.0, min_impurity_split=None,\n",
       "           min_samples_leaf=1, min_samples_split=2,\n",
       "           min_weight_fraction_leaf=0.0, n_estimators=100, n_jobs=1,\n",
       "           oob_score=True, random_state=None, verbose=0, warm_start=False)"
      ]
     },
     "execution_count": 520,
     "metadata": {},
     "output_type": "execute_result"
    }
   ],
   "source": [
    "randomForest.set_params(n_estimators=100, oob_score=True)\n",
    "randomForest.fit(x, y)"
   ]
  },
  {
   "cell_type": "code",
   "execution_count": 521,
   "metadata": {},
   "outputs": [],
   "source": [
    "#param_test = {'max_features':range(7,20,2),\n",
    "#              'min_samples_split':range(80,301,20), 'min_samples_leaf':range(5,66,10),\n",
    "#              'max_depth':range(5,16,2), 'min_samples_split':range(20,101,20),\n",
    "#              'n_estimators':range(20,1001,10)}\n",
    "#gsearch = GridSearchCV(estimator = randomForest,\n",
    "#param_grid = param_test, scoring='neg_mean_squared_error',n_jobs=4,iid=False, cv=10)\n",
    "#gsearch.fit(x, y)\n",
    "#gsearch.grid_scores_, gsearch.best_params_, gsearch.best_score_"
   ]
  },
  {
   "cell_type": "code",
   "execution_count": 522,
   "metadata": {},
   "outputs": [
    {
     "data": {
      "text/plain": [
       "0.9813704358061975"
      ]
     },
     "execution_count": 522,
     "metadata": {},
     "output_type": "execute_result"
    }
   ],
   "source": [
    "randomForest.score(x, y)"
   ]
  },
  {
   "cell_type": "code",
   "execution_count": 523,
   "metadata": {},
   "outputs": [
    {
     "data": {
      "text/plain": [
       "0.8630521099837666"
      ]
     },
     "execution_count": 523,
     "metadata": {},
     "output_type": "execute_result"
    }
   ],
   "source": [
    "randomForest.oob_score_"
   ]
  },
  {
   "cell_type": "code",
   "execution_count": 525,
   "metadata": {},
   "outputs": [
    {
     "data": {
      "text/plain": [
       "array([(b'ExterQualBinary', 0.32385795), (b'GrLivArea', 0.24573852),\n",
       "       (b'TotalBsmtSF', 0.08474739), (b'GarageArea', 0.0775832 ),\n",
       "       (b'NeighborhoodPoor', 0.03696422), (b'YearBuilt', 0.03234286),\n",
       "       (b'LotArea', 0.02158274), (b'KitchenQualBinary1', 0.01880624),\n",
       "       (b'CentralAirBinary', 0.01875944),\n",
       "       (b'OverallQualBinary', 0.01610338), (b'GarageYrBlt', 0.01220436),\n",
       "       (b'MSSubClassBinary1', 0.00974318),\n",
       "       (b'OverallCondBinary', 0.00893713), (b'LotFrontage', 0.00882944),\n",
       "       (b'Rand_Var', 0.0081561 )],\n",
       "      dtype=[('feature', 'S30'), ('importance', '<f8')])"
      ]
     },
     "execution_count": 525,
     "metadata": {},
     "output_type": "execute_result"
    }
   ],
   "source": [
    "feature_importance = list(zip(x.columns, randomForest.feature_importances_))\n",
    "dtype = [('feature', 'S30'), ('importance', 'float')]\n",
    "feature_importance = np.array(feature_importance, dtype=dtype)\n",
    "feature_sort = np.sort(feature_importance, order='importance')[::-1]\n",
    "feature_sort[:15]"
   ]
  },
  {
   "cell_type": "code",
   "execution_count": null,
   "metadata": {},
   "outputs": [],
   "source": []
  },
  {
   "cell_type": "code",
   "execution_count": 526,
   "metadata": {},
   "outputs": [
    {
     "data": {
      "text/plain": [
       "[b'ExterQualBinary',\n",
       " b'GrLivArea',\n",
       " b'TotalBsmtSF',\n",
       " b'GarageArea',\n",
       " b'NeighborhoodPoor',\n",
       " b'YearBuilt',\n",
       " b'LotArea',\n",
       " b'KitchenQualBinary1',\n",
       " b'CentralAirBinary',\n",
       " b'OverallQualBinary',\n",
       " b'GarageYrBlt',\n",
       " b'MSSubClassBinary1',\n",
       " b'OverallCondBinary',\n",
       " b'LotFrontage',\n",
       " b'Rand_Var']"
      ]
     },
     "execution_count": 526,
     "metadata": {},
     "output_type": "execute_result"
    }
   ],
   "source": [
    "[i for (i, j) in feature_sort[0:15]]"
   ]
  },
  {
   "cell_type": "code",
   "execution_count": 97,
   "metadata": {},
   "outputs": [],
   "source": [
    "#data = pd.read_csv('../train_wo_missing_values.csv')\n",
    "#x_, y_ = data.loc[:, data.columns != 'SalePrice'], data.loc[:,'SalePrice']"
   ]
  },
  {
   "cell_type": "code",
   "execution_count": 98,
   "metadata": {},
   "outputs": [],
   "source": [
    "#categorical_columns = ['MSSubClass','MSZoning','Street','LotShape','LandContour','LotConfig',\n",
    "#                         'LandSlope','Neighborhood','Condition1','Condition2','BldgType','HouseStyle',\n",
    "#                         'OverallQual','OverallCond','RoofStyle','RoofMatl','Exterior1st','Exterior2nd',\n",
    "#                         'MasVnrType','ExterQual','ExterCond','Foundation','BsmtQual','BsmtExposure',\n",
    "#                         'BsmtFinType1','Heating','HeatingQC','CentralAir','Electrical','KitchenQual',\n",
    "#                         'Functional','FireplaceQu','GarageType','GarageFinish','PavedDrive',\n",
    "#                         'SaleType','SaleCondition', 'Utilities']"
   ]
  },
  {
   "cell_type": "code",
   "execution_count": 99,
   "metadata": {},
   "outputs": [
    {
     "name": "stderr",
     "output_type": "stream",
     "text": [
      "/anaconda3/lib/python3.6/site-packages/pandas/core/frame.py:2540: SettingWithCopyWarning: \n",
      "A value is trying to be set on a copy of a slice from a DataFrame.\n",
      "Try using .loc[row_indexer,col_indexer] = value instead\n",
      "\n",
      "See the caveats in the documentation: http://pandas.pydata.org/pandas-docs/stable/indexing.html#indexing-view-versus-copy\n",
      "  self[k1] = value[k2]\n"
     ]
    }
   ],
   "source": [
    "#x_[categorical_columns] = x_[categorical_columns].astype(str)"
   ]
  },
  {
   "cell_type": "code",
   "execution_count": 100,
   "metadata": {},
   "outputs": [],
   "source": [
    "#dummies = pd.get_dummies(x_.loc[:,categorical_columns], drop_first=True)"
   ]
  },
  {
   "cell_type": "code",
   "execution_count": 101,
   "metadata": {},
   "outputs": [
    {
     "data": {
      "text/html": [
       "<div>\n",
       "<style scoped>\n",
       "    .dataframe tbody tr th:only-of-type {\n",
       "        vertical-align: middle;\n",
       "    }\n",
       "\n",
       "    .dataframe tbody tr th {\n",
       "        vertical-align: top;\n",
       "    }\n",
       "\n",
       "    .dataframe thead th {\n",
       "        text-align: right;\n",
       "    }\n",
       "</style>\n",
       "<table border=\"1\" class=\"dataframe\">\n",
       "  <thead>\n",
       "    <tr style=\"text-align: right;\">\n",
       "      <th></th>\n",
       "      <th>MSSubClass_160</th>\n",
       "      <th>MSSubClass_180</th>\n",
       "      <th>MSSubClass_190</th>\n",
       "      <th>MSSubClass_20</th>\n",
       "      <th>MSSubClass_30</th>\n",
       "      <th>MSSubClass_40</th>\n",
       "      <th>MSSubClass_45</th>\n",
       "      <th>MSSubClass_50</th>\n",
       "      <th>MSSubClass_60</th>\n",
       "      <th>MSSubClass_70</th>\n",
       "      <th>...</th>\n",
       "      <th>SaleType_ConLw</th>\n",
       "      <th>SaleType_New</th>\n",
       "      <th>SaleType_Oth</th>\n",
       "      <th>SaleType_WD</th>\n",
       "      <th>SaleCondition_AdjLand</th>\n",
       "      <th>SaleCondition_Alloca</th>\n",
       "      <th>SaleCondition_Family</th>\n",
       "      <th>SaleCondition_Normal</th>\n",
       "      <th>SaleCondition_Partial</th>\n",
       "      <th>Utilities_NoSeWa</th>\n",
       "    </tr>\n",
       "  </thead>\n",
       "  <tbody>\n",
       "    <tr>\n",
       "      <th>0</th>\n",
       "      <td>0</td>\n",
       "      <td>0</td>\n",
       "      <td>0</td>\n",
       "      <td>0</td>\n",
       "      <td>0</td>\n",
       "      <td>0</td>\n",
       "      <td>0</td>\n",
       "      <td>0</td>\n",
       "      <td>1</td>\n",
       "      <td>0</td>\n",
       "      <td>...</td>\n",
       "      <td>0</td>\n",
       "      <td>0</td>\n",
       "      <td>0</td>\n",
       "      <td>1</td>\n",
       "      <td>0</td>\n",
       "      <td>0</td>\n",
       "      <td>0</td>\n",
       "      <td>1</td>\n",
       "      <td>0</td>\n",
       "      <td>0</td>\n",
       "    </tr>\n",
       "    <tr>\n",
       "      <th>1</th>\n",
       "      <td>0</td>\n",
       "      <td>0</td>\n",
       "      <td>0</td>\n",
       "      <td>1</td>\n",
       "      <td>0</td>\n",
       "      <td>0</td>\n",
       "      <td>0</td>\n",
       "      <td>0</td>\n",
       "      <td>0</td>\n",
       "      <td>0</td>\n",
       "      <td>...</td>\n",
       "      <td>0</td>\n",
       "      <td>0</td>\n",
       "      <td>0</td>\n",
       "      <td>1</td>\n",
       "      <td>0</td>\n",
       "      <td>0</td>\n",
       "      <td>0</td>\n",
       "      <td>1</td>\n",
       "      <td>0</td>\n",
       "      <td>0</td>\n",
       "    </tr>\n",
       "    <tr>\n",
       "      <th>2</th>\n",
       "      <td>0</td>\n",
       "      <td>0</td>\n",
       "      <td>0</td>\n",
       "      <td>0</td>\n",
       "      <td>0</td>\n",
       "      <td>0</td>\n",
       "      <td>0</td>\n",
       "      <td>0</td>\n",
       "      <td>1</td>\n",
       "      <td>0</td>\n",
       "      <td>...</td>\n",
       "      <td>0</td>\n",
       "      <td>0</td>\n",
       "      <td>0</td>\n",
       "      <td>1</td>\n",
       "      <td>0</td>\n",
       "      <td>0</td>\n",
       "      <td>0</td>\n",
       "      <td>1</td>\n",
       "      <td>0</td>\n",
       "      <td>0</td>\n",
       "    </tr>\n",
       "    <tr>\n",
       "      <th>3</th>\n",
       "      <td>0</td>\n",
       "      <td>0</td>\n",
       "      <td>0</td>\n",
       "      <td>0</td>\n",
       "      <td>0</td>\n",
       "      <td>0</td>\n",
       "      <td>0</td>\n",
       "      <td>0</td>\n",
       "      <td>0</td>\n",
       "      <td>1</td>\n",
       "      <td>...</td>\n",
       "      <td>0</td>\n",
       "      <td>0</td>\n",
       "      <td>0</td>\n",
       "      <td>1</td>\n",
       "      <td>0</td>\n",
       "      <td>0</td>\n",
       "      <td>0</td>\n",
       "      <td>0</td>\n",
       "      <td>0</td>\n",
       "      <td>0</td>\n",
       "    </tr>\n",
       "    <tr>\n",
       "      <th>4</th>\n",
       "      <td>0</td>\n",
       "      <td>0</td>\n",
       "      <td>0</td>\n",
       "      <td>0</td>\n",
       "      <td>0</td>\n",
       "      <td>0</td>\n",
       "      <td>0</td>\n",
       "      <td>0</td>\n",
       "      <td>1</td>\n",
       "      <td>0</td>\n",
       "      <td>...</td>\n",
       "      <td>0</td>\n",
       "      <td>0</td>\n",
       "      <td>0</td>\n",
       "      <td>1</td>\n",
       "      <td>0</td>\n",
       "      <td>0</td>\n",
       "      <td>0</td>\n",
       "      <td>1</td>\n",
       "      <td>0</td>\n",
       "      <td>0</td>\n",
       "    </tr>\n",
       "  </tbody>\n",
       "</table>\n",
       "<p>5 rows × 219 columns</p>\n",
       "</div>"
      ],
      "text/plain": [
       "   MSSubClass_160  MSSubClass_180  MSSubClass_190  MSSubClass_20  \\\n",
       "0               0               0               0              0   \n",
       "1               0               0               0              1   \n",
       "2               0               0               0              0   \n",
       "3               0               0               0              0   \n",
       "4               0               0               0              0   \n",
       "\n",
       "   MSSubClass_30  MSSubClass_40  MSSubClass_45  MSSubClass_50  MSSubClass_60  \\\n",
       "0              0              0              0              0              1   \n",
       "1              0              0              0              0              0   \n",
       "2              0              0              0              0              1   \n",
       "3              0              0              0              0              0   \n",
       "4              0              0              0              0              1   \n",
       "\n",
       "   MSSubClass_70        ...         SaleType_ConLw  SaleType_New  \\\n",
       "0              0        ...                      0             0   \n",
       "1              0        ...                      0             0   \n",
       "2              0        ...                      0             0   \n",
       "3              1        ...                      0             0   \n",
       "4              0        ...                      0             0   \n",
       "\n",
       "   SaleType_Oth  SaleType_WD  SaleCondition_AdjLand  SaleCondition_Alloca  \\\n",
       "0             0            1                      0                     0   \n",
       "1             0            1                      0                     0   \n",
       "2             0            1                      0                     0   \n",
       "3             0            1                      0                     0   \n",
       "4             0            1                      0                     0   \n",
       "\n",
       "   SaleCondition_Family  SaleCondition_Normal  SaleCondition_Partial  \\\n",
       "0                     0                     1                      0   \n",
       "1                     0                     1                      0   \n",
       "2                     0                     1                      0   \n",
       "3                     0                     0                      0   \n",
       "4                     0                     1                      0   \n",
       "\n",
       "   Utilities_NoSeWa  \n",
       "0                 0  \n",
       "1                 0  \n",
       "2                 0  \n",
       "3                 0  \n",
       "4                 0  \n",
       "\n",
       "[5 rows x 219 columns]"
      ]
     },
     "execution_count": 101,
     "metadata": {},
     "output_type": "execute_result"
    }
   ],
   "source": [
    "#dummies.head()"
   ]
  },
  {
   "cell_type": "code",
   "execution_count": 102,
   "metadata": {},
   "outputs": [],
   "source": [
    "#x_ = pd.concat([x_.drop(columns=categorical_columns), dummies, pd.Series(rand_variable, name='Rand_Var')], axis=1)"
   ]
  },
  {
   "cell_type": "code",
   "execution_count": null,
   "metadata": {},
   "outputs": [],
   "source": []
  },
  {
   "cell_type": "code",
   "execution_count": 273,
   "metadata": {},
   "outputs": [],
   "source": [
    "import xgboost as xgb"
   ]
  },
  {
   "cell_type": "code",
   "execution_count": 274,
   "metadata": {},
   "outputs": [],
   "source": [
    "from sklearn.preprocessing import StandardScaler"
   ]
  },
  {
   "cell_type": "code",
   "execution_count": 289,
   "metadata": {},
   "outputs": [],
   "source": []
  },
  {
   "cell_type": "code",
   "execution_count": 527,
   "metadata": {},
   "outputs": [
    {
     "data": {
      "text/plain": [
       "XGBRegressor(base_score=0.5, booster='gbtree', colsample_bylevel=1,\n",
       "       colsample_bytree=1, gamma=0, learning_rate=0.1, max_delta_step=0,\n",
       "       max_depth=3, min_child_weight=1, missing=None, n_estimators=100,\n",
       "       n_jobs=1, nthread=None, objective='reg:linear', random_state=0,\n",
       "       reg_alpha=0, reg_lambda=1, scale_pos_weight=1, seed=None,\n",
       "       silent=True, subsample=1)"
      ]
     },
     "execution_count": 527,
     "metadata": {},
     "output_type": "execute_result"
    }
   ],
   "source": [
    "xgboost = xgb.XGBRegressor()\n",
    "xgboost.fit(x, y)"
   ]
  },
  {
   "cell_type": "code",
   "execution_count": 528,
   "metadata": {},
   "outputs": [
    {
     "data": {
      "text/plain": [
       "0.9320365148125098"
      ]
     },
     "execution_count": 528,
     "metadata": {},
     "output_type": "execute_result"
    }
   ],
   "source": [
    "xgboost.score(x, y)"
   ]
  },
  {
   "cell_type": "code",
   "execution_count": 529,
   "metadata": {},
   "outputs": [],
   "source": [
    "feature_importance_xgboost = list(zip(x.columns, xgboost.feature_importances_))\n",
    "dtype = [('feature', 'S30'), ('importance', 'float')]\n",
    "feature_importance_xgboost = np.array(feature_importance_xgboost, dtype=dtype)\n",
    "feature_sort_xgboost = np.sort(feature_importance_xgboost, order='importance')[::-1]"
   ]
  },
  {
   "cell_type": "code",
   "execution_count": 530,
   "metadata": {},
   "outputs": [
    {
     "data": {
      "text/plain": [
       "array([(b'GrLivArea', 0.16521738), (b'LotArea', 0.10956522),\n",
       "       (b'TotalBsmtSF', 0.09043478), (b'Rand_Var', 0.0626087 ),\n",
       "       (b'GarageArea', 0.05913043), (b'GarageYrBlt', 0.05217391),\n",
       "       (b'YearBuilt', 0.03652174), (b'OverallCondBinary', 0.03478261),\n",
       "       (b'OpenPorchSF', 0.03478261), (b'WoodDeckSF', 0.02956522)],\n",
       "      dtype=[('feature', 'S30'), ('importance', '<f8')])"
      ]
     },
     "execution_count": 530,
     "metadata": {},
     "output_type": "execute_result"
    }
   ],
   "source": [
    "feature_sort_xgboost[0:10]"
   ]
  },
  {
   "cell_type": "code",
   "execution_count": 531,
   "metadata": {},
   "outputs": [
    {
     "data": {
      "text/plain": [
       "[b'GrLivArea',\n",
       " b'LotArea',\n",
       " b'TotalBsmtSF',\n",
       " b'Rand_Var',\n",
       " b'GarageArea',\n",
       " b'GarageYrBlt',\n",
       " b'YearBuilt',\n",
       " b'OverallCondBinary',\n",
       " b'OpenPorchSF',\n",
       " b'WoodDeckSF']"
      ]
     },
     "execution_count": 531,
     "metadata": {},
     "output_type": "execute_result"
    }
   ],
   "source": [
    "[i for (i, j) in feature_sort_xgboost[0:10]]"
   ]
  },
  {
   "cell_type": "code",
   "execution_count": null,
   "metadata": {},
   "outputs": [],
   "source": []
  },
  {
   "cell_type": "code",
   "execution_count": 545,
   "metadata": {},
   "outputs": [],
   "source": [
    "from sklearn.ensemble import GradientBoostingRegressor"
   ]
  },
  {
   "cell_type": "code",
   "execution_count": 547,
   "metadata": {},
   "outputs": [
    {
     "data": {
      "text/plain": [
       "GradientBoostingRegressor(alpha=0.9, criterion='friedman_mse', init=None,\n",
       "             learning_rate=0.001, loss='ls', max_depth=3, max_features=8,\n",
       "             max_leaf_nodes=None, min_impurity_decrease=0.0,\n",
       "             min_impurity_split=None, min_samples_leaf=1,\n",
       "             min_samples_split=2, min_weight_fraction_leaf=0.0,\n",
       "             n_estimators=10000, presort='auto', random_state=None,\n",
       "             subsample=0.8, verbose=0, warm_start=False)"
      ]
     },
     "execution_count": 547,
     "metadata": {},
     "output_type": "execute_result"
    }
   ],
   "source": [
    "gbm = GradientBoostingRegressor(n_estimators=10000, max_features=int(np.sqrt(x.shape[1])), subsample=0.8, learning_rate=0.001)\n",
    "gbm.fit(x, y)"
   ]
  },
  {
   "cell_type": "code",
   "execution_count": 296,
   "metadata": {},
   "outputs": [],
   "source": [
    "feature_importance_gbm = list(zip(x.columns, gbm.feature_importances_))\n",
    "dtype = [('feature', 'S30'), ('importance', 'float')]\n",
    "feature_importance_gbm = np.array(feature_importance_gbm, dtype=dtype)\n",
    "feature_sort_gbm = np.sort(feature_importance_gbm, order='importance')[::-1]"
   ]
  },
  {
   "cell_type": "code",
   "execution_count": 297,
   "metadata": {},
   "outputs": [
    {
     "data": {
      "text/plain": [
       "array([(b'GrLivArea', 0.17578132), (b'TotalBsmtSF', 0.10138314),\n",
       "       (b'LotArea', 0.0771276 ), (b'GarageArea', 0.06339343),\n",
       "       (b'GarageYrBlt', 0.04692268), (b'YearBuilt', 0.04231704),\n",
       "       (b'OpenPorchSF', 0.03931287), (b'OverallCondBinary', 0.03324023),\n",
       "       (b'Rand_Var', 0.03126577), (b'LotFrontage', 0.02498936)],\n",
       "      dtype=[('feature', 'S30'), ('importance', '<f8')])"
      ]
     },
     "execution_count": 297,
     "metadata": {},
     "output_type": "execute_result"
    }
   ],
   "source": [
    "feature_sort_gbm[:10]"
   ]
  },
  {
   "cell_type": "code",
   "execution_count": 298,
   "metadata": {},
   "outputs": [
    {
     "data": {
      "text/plain": [
       "[b'GrLivArea',\n",
       " b'TotalBsmtSF',\n",
       " b'LotArea',\n",
       " b'GarageArea',\n",
       " b'GarageYrBlt',\n",
       " b'YearBuilt',\n",
       " b'OpenPorchSF',\n",
       " b'OverallCondBinary',\n",
       " b'Rand_Var',\n",
       " b'LotFrontage']"
      ]
     },
     "execution_count": 298,
     "metadata": {},
     "output_type": "execute_result"
    }
   ],
   "source": [
    "[i for (i, j) in feature_sort_gbm[0:10]]"
   ]
  },
  {
   "cell_type": "code",
   "execution_count": 549,
   "metadata": {},
   "outputs": [
    {
     "data": {
      "text/plain": [
       "GradientBoostingRegressor(alpha=0.9, criterion='friedman_mse', init=None,\n",
       "             learning_rate=0.1, loss='ls', max_depth=6, max_features=8,\n",
       "             max_leaf_nodes=None, min_impurity_decrease=0.0,\n",
       "             min_impurity_split=None, min_samples_leaf=10,\n",
       "             min_samples_split=20, min_weight_fraction_leaf=0.0,\n",
       "             n_estimators=10000, presort='auto', random_state=None,\n",
       "             subsample=0.8, verbose=0, warm_start=False)"
      ]
     },
     "execution_count": 549,
     "metadata": {},
     "output_type": "execute_result"
    }
   ],
   "source": [
    "gbm = GradientBoostingRegressor(n_estimators=10000, max_features=int(np.sqrt(x.shape[1])), subsample=0.8, learning_rate=0.1, min_samples_split=20, min_samples_leaf=10, max_depth=6)\n",
    "gbm.fit(x, y)"
   ]
  },
  {
   "cell_type": "code",
   "execution_count": 550,
   "metadata": {},
   "outputs": [
    {
     "data": {
      "text/plain": [
       "0.9999994576793632"
      ]
     },
     "execution_count": 550,
     "metadata": {},
     "output_type": "execute_result"
    }
   ],
   "source": [
    "gbm.score(x, y)"
   ]
  },
  {
   "cell_type": "code",
   "execution_count": 300,
   "metadata": {},
   "outputs": [],
   "source": [
    "param_test1 = {'n_estimators':range(20,1001,10)}"
   ]
  },
  {
   "cell_type": "code",
   "execution_count": 302,
   "metadata": {},
   "outputs": [
    {
     "ename": "KeyboardInterrupt",
     "evalue": "",
     "output_type": "error",
     "traceback": [
      "\u001b[0;31m---------------------------------------------------------------------------\u001b[0m",
      "\u001b[0;31mKeyboardInterrupt\u001b[0m                         Traceback (most recent call last)",
      "\u001b[0;32m<ipython-input-302-748b84e024dd>\u001b[0m in \u001b[0;36m<module>\u001b[0;34m()\u001b[0m\n\u001b[1;32m      1\u001b[0m \u001b[0mgsearch1\u001b[0m \u001b[0;34m=\u001b[0m \u001b[0mGridSearchCV\u001b[0m\u001b[0;34m(\u001b[0m\u001b[0mgbm\u001b[0m\u001b[0;34m,\u001b[0m \u001b[0mparam_grid\u001b[0m\u001b[0;34m=\u001b[0m\u001b[0mparam_test1\u001b[0m\u001b[0;34m,\u001b[0m \u001b[0mscoring\u001b[0m\u001b[0;34m=\u001b[0m\u001b[0;34m'neg_mean_squared_error'\u001b[0m\u001b[0;34m,\u001b[0m \u001b[0mn_jobs\u001b[0m\u001b[0;34m=\u001b[0m\u001b[0;34m-\u001b[0m\u001b[0;36m1\u001b[0m\u001b[0;34m,\u001b[0m \u001b[0miid\u001b[0m\u001b[0;34m=\u001b[0m\u001b[0;32mFalse\u001b[0m\u001b[0;34m,\u001b[0m \u001b[0mcv\u001b[0m\u001b[0;34m=\u001b[0m\u001b[0;36m10\u001b[0m\u001b[0;34m)\u001b[0m\u001b[0;34m\u001b[0m\u001b[0m\n\u001b[0;32m----> 2\u001b[0;31m \u001b[0mgsearch1\u001b[0m\u001b[0;34m.\u001b[0m\u001b[0mfit\u001b[0m\u001b[0;34m(\u001b[0m\u001b[0mz\u001b[0m\u001b[0;34m,\u001b[0m \u001b[0my\u001b[0m\u001b[0;34m)\u001b[0m\u001b[0;34m\u001b[0m\u001b[0m\n\u001b[0m",
      "\u001b[0;32m/anaconda3/lib/python3.6/site-packages/sklearn/model_selection/_search.py\u001b[0m in \u001b[0;36mfit\u001b[0;34m(self, X, y, groups, **fit_params)\u001b[0m\n\u001b[1;32m    637\u001b[0m                                   error_score=self.error_score)\n\u001b[1;32m    638\u001b[0m           for parameters, (train, test) in product(candidate_params,\n\u001b[0;32m--> 639\u001b[0;31m                                                    cv.split(X, y, groups)))\n\u001b[0m\u001b[1;32m    640\u001b[0m \u001b[0;34m\u001b[0m\u001b[0m\n\u001b[1;32m    641\u001b[0m         \u001b[0;31m# if one choose to see train score, \"out\" will contain train score info\u001b[0m\u001b[0;34m\u001b[0m\u001b[0;34m\u001b[0m\u001b[0m\n",
      "\u001b[0;32m/anaconda3/lib/python3.6/site-packages/sklearn/externals/joblib/parallel.py\u001b[0m in \u001b[0;36m__call__\u001b[0;34m(self, iterable)\u001b[0m\n\u001b[1;32m    787\u001b[0m                 \u001b[0;31m# consumption.\u001b[0m\u001b[0;34m\u001b[0m\u001b[0;34m\u001b[0m\u001b[0m\n\u001b[1;32m    788\u001b[0m                 \u001b[0mself\u001b[0m\u001b[0;34m.\u001b[0m\u001b[0m_iterating\u001b[0m \u001b[0;34m=\u001b[0m \u001b[0;32mFalse\u001b[0m\u001b[0;34m\u001b[0m\u001b[0m\n\u001b[0;32m--> 789\u001b[0;31m             \u001b[0mself\u001b[0m\u001b[0;34m.\u001b[0m\u001b[0mretrieve\u001b[0m\u001b[0;34m(\u001b[0m\u001b[0;34m)\u001b[0m\u001b[0;34m\u001b[0m\u001b[0m\n\u001b[0m\u001b[1;32m    790\u001b[0m             \u001b[0;31m# Make sure that we get a last message telling us we are done\u001b[0m\u001b[0;34m\u001b[0m\u001b[0;34m\u001b[0m\u001b[0m\n\u001b[1;32m    791\u001b[0m             \u001b[0melapsed_time\u001b[0m \u001b[0;34m=\u001b[0m \u001b[0mtime\u001b[0m\u001b[0;34m.\u001b[0m\u001b[0mtime\u001b[0m\u001b[0;34m(\u001b[0m\u001b[0;34m)\u001b[0m \u001b[0;34m-\u001b[0m \u001b[0mself\u001b[0m\u001b[0;34m.\u001b[0m\u001b[0m_start_time\u001b[0m\u001b[0;34m\u001b[0m\u001b[0m\n",
      "\u001b[0;32m/anaconda3/lib/python3.6/site-packages/sklearn/externals/joblib/parallel.py\u001b[0m in \u001b[0;36mretrieve\u001b[0;34m(self)\u001b[0m\n\u001b[1;32m    697\u001b[0m             \u001b[0;32mtry\u001b[0m\u001b[0;34m:\u001b[0m\u001b[0;34m\u001b[0m\u001b[0m\n\u001b[1;32m    698\u001b[0m                 \u001b[0;32mif\u001b[0m \u001b[0mgetattr\u001b[0m\u001b[0;34m(\u001b[0m\u001b[0mself\u001b[0m\u001b[0;34m.\u001b[0m\u001b[0m_backend\u001b[0m\u001b[0;34m,\u001b[0m \u001b[0;34m'supports_timeout'\u001b[0m\u001b[0;34m,\u001b[0m \u001b[0;32mFalse\u001b[0m\u001b[0;34m)\u001b[0m\u001b[0;34m:\u001b[0m\u001b[0;34m\u001b[0m\u001b[0m\n\u001b[0;32m--> 699\u001b[0;31m                     \u001b[0mself\u001b[0m\u001b[0;34m.\u001b[0m\u001b[0m_output\u001b[0m\u001b[0;34m.\u001b[0m\u001b[0mextend\u001b[0m\u001b[0;34m(\u001b[0m\u001b[0mjob\u001b[0m\u001b[0;34m.\u001b[0m\u001b[0mget\u001b[0m\u001b[0;34m(\u001b[0m\u001b[0mtimeout\u001b[0m\u001b[0;34m=\u001b[0m\u001b[0mself\u001b[0m\u001b[0;34m.\u001b[0m\u001b[0mtimeout\u001b[0m\u001b[0;34m)\u001b[0m\u001b[0;34m)\u001b[0m\u001b[0;34m\u001b[0m\u001b[0m\n\u001b[0m\u001b[1;32m    700\u001b[0m                 \u001b[0;32melse\u001b[0m\u001b[0;34m:\u001b[0m\u001b[0;34m\u001b[0m\u001b[0m\n\u001b[1;32m    701\u001b[0m                     \u001b[0mself\u001b[0m\u001b[0;34m.\u001b[0m\u001b[0m_output\u001b[0m\u001b[0;34m.\u001b[0m\u001b[0mextend\u001b[0m\u001b[0;34m(\u001b[0m\u001b[0mjob\u001b[0m\u001b[0;34m.\u001b[0m\u001b[0mget\u001b[0m\u001b[0;34m(\u001b[0m\u001b[0;34m)\u001b[0m\u001b[0;34m)\u001b[0m\u001b[0;34m\u001b[0m\u001b[0m\n",
      "\u001b[0;32m/anaconda3/lib/python3.6/multiprocessing/pool.py\u001b[0m in \u001b[0;36mget\u001b[0;34m(self, timeout)\u001b[0m\n\u001b[1;32m    636\u001b[0m \u001b[0;34m\u001b[0m\u001b[0m\n\u001b[1;32m    637\u001b[0m     \u001b[0;32mdef\u001b[0m \u001b[0mget\u001b[0m\u001b[0;34m(\u001b[0m\u001b[0mself\u001b[0m\u001b[0;34m,\u001b[0m \u001b[0mtimeout\u001b[0m\u001b[0;34m=\u001b[0m\u001b[0;32mNone\u001b[0m\u001b[0;34m)\u001b[0m\u001b[0;34m:\u001b[0m\u001b[0;34m\u001b[0m\u001b[0m\n\u001b[0;32m--> 638\u001b[0;31m         \u001b[0mself\u001b[0m\u001b[0;34m.\u001b[0m\u001b[0mwait\u001b[0m\u001b[0;34m(\u001b[0m\u001b[0mtimeout\u001b[0m\u001b[0;34m)\u001b[0m\u001b[0;34m\u001b[0m\u001b[0m\n\u001b[0m\u001b[1;32m    639\u001b[0m         \u001b[0;32mif\u001b[0m \u001b[0;32mnot\u001b[0m \u001b[0mself\u001b[0m\u001b[0;34m.\u001b[0m\u001b[0mready\u001b[0m\u001b[0;34m(\u001b[0m\u001b[0;34m)\u001b[0m\u001b[0;34m:\u001b[0m\u001b[0;34m\u001b[0m\u001b[0m\n\u001b[1;32m    640\u001b[0m             \u001b[0;32mraise\u001b[0m \u001b[0mTimeoutError\u001b[0m\u001b[0;34m\u001b[0m\u001b[0m\n",
      "\u001b[0;32m/anaconda3/lib/python3.6/multiprocessing/pool.py\u001b[0m in \u001b[0;36mwait\u001b[0;34m(self, timeout)\u001b[0m\n\u001b[1;32m    633\u001b[0m \u001b[0;34m\u001b[0m\u001b[0m\n\u001b[1;32m    634\u001b[0m     \u001b[0;32mdef\u001b[0m \u001b[0mwait\u001b[0m\u001b[0;34m(\u001b[0m\u001b[0mself\u001b[0m\u001b[0;34m,\u001b[0m \u001b[0mtimeout\u001b[0m\u001b[0;34m=\u001b[0m\u001b[0;32mNone\u001b[0m\u001b[0;34m)\u001b[0m\u001b[0;34m:\u001b[0m\u001b[0;34m\u001b[0m\u001b[0m\n\u001b[0;32m--> 635\u001b[0;31m         \u001b[0mself\u001b[0m\u001b[0;34m.\u001b[0m\u001b[0m_event\u001b[0m\u001b[0;34m.\u001b[0m\u001b[0mwait\u001b[0m\u001b[0;34m(\u001b[0m\u001b[0mtimeout\u001b[0m\u001b[0;34m)\u001b[0m\u001b[0;34m\u001b[0m\u001b[0m\n\u001b[0m\u001b[1;32m    636\u001b[0m \u001b[0;34m\u001b[0m\u001b[0m\n\u001b[1;32m    637\u001b[0m     \u001b[0;32mdef\u001b[0m \u001b[0mget\u001b[0m\u001b[0;34m(\u001b[0m\u001b[0mself\u001b[0m\u001b[0;34m,\u001b[0m \u001b[0mtimeout\u001b[0m\u001b[0;34m=\u001b[0m\u001b[0;32mNone\u001b[0m\u001b[0;34m)\u001b[0m\u001b[0;34m:\u001b[0m\u001b[0;34m\u001b[0m\u001b[0m\n",
      "\u001b[0;32m/anaconda3/lib/python3.6/threading.py\u001b[0m in \u001b[0;36mwait\u001b[0;34m(self, timeout)\u001b[0m\n\u001b[1;32m    549\u001b[0m             \u001b[0msignaled\u001b[0m \u001b[0;34m=\u001b[0m \u001b[0mself\u001b[0m\u001b[0;34m.\u001b[0m\u001b[0m_flag\u001b[0m\u001b[0;34m\u001b[0m\u001b[0m\n\u001b[1;32m    550\u001b[0m             \u001b[0;32mif\u001b[0m \u001b[0;32mnot\u001b[0m \u001b[0msignaled\u001b[0m\u001b[0;34m:\u001b[0m\u001b[0;34m\u001b[0m\u001b[0m\n\u001b[0;32m--> 551\u001b[0;31m                 \u001b[0msignaled\u001b[0m \u001b[0;34m=\u001b[0m \u001b[0mself\u001b[0m\u001b[0;34m.\u001b[0m\u001b[0m_cond\u001b[0m\u001b[0;34m.\u001b[0m\u001b[0mwait\u001b[0m\u001b[0;34m(\u001b[0m\u001b[0mtimeout\u001b[0m\u001b[0;34m)\u001b[0m\u001b[0;34m\u001b[0m\u001b[0m\n\u001b[0m\u001b[1;32m    552\u001b[0m             \u001b[0;32mreturn\u001b[0m \u001b[0msignaled\u001b[0m\u001b[0;34m\u001b[0m\u001b[0m\n\u001b[1;32m    553\u001b[0m \u001b[0;34m\u001b[0m\u001b[0m\n",
      "\u001b[0;32m/anaconda3/lib/python3.6/threading.py\u001b[0m in \u001b[0;36mwait\u001b[0;34m(self, timeout)\u001b[0m\n\u001b[1;32m    293\u001b[0m         \u001b[0;32mtry\u001b[0m\u001b[0;34m:\u001b[0m    \u001b[0;31m# restore state no matter what (e.g., KeyboardInterrupt)\u001b[0m\u001b[0;34m\u001b[0m\u001b[0m\n\u001b[1;32m    294\u001b[0m             \u001b[0;32mif\u001b[0m \u001b[0mtimeout\u001b[0m \u001b[0;32mis\u001b[0m \u001b[0;32mNone\u001b[0m\u001b[0;34m:\u001b[0m\u001b[0;34m\u001b[0m\u001b[0m\n\u001b[0;32m--> 295\u001b[0;31m                 \u001b[0mwaiter\u001b[0m\u001b[0;34m.\u001b[0m\u001b[0macquire\u001b[0m\u001b[0;34m(\u001b[0m\u001b[0;34m)\u001b[0m\u001b[0;34m\u001b[0m\u001b[0m\n\u001b[0m\u001b[1;32m    296\u001b[0m                 \u001b[0mgotit\u001b[0m \u001b[0;34m=\u001b[0m \u001b[0;32mTrue\u001b[0m\u001b[0;34m\u001b[0m\u001b[0m\n\u001b[1;32m    297\u001b[0m             \u001b[0;32melse\u001b[0m\u001b[0;34m:\u001b[0m\u001b[0;34m\u001b[0m\u001b[0m\n",
      "\u001b[0;31mKeyboardInterrupt\u001b[0m: "
     ]
    }
   ],
   "source": [
    "gsearch1 = GridSearchCV(gbm, param_grid=param_test1, scoring='neg_mean_squared_error', n_jobs=-1, iid=False, cv=10)\n",
    "gsearch1.fit(z, y)"
   ]
  },
  {
   "cell_type": "code",
   "execution_count": 225,
   "metadata": {},
   "outputs": [
    {
     "name": "stderr",
     "output_type": "stream",
     "text": [
      "/anaconda3/lib/python3.6/site-packages/sklearn/model_selection/_search.py:761: DeprecationWarning: The grid_scores_ attribute was deprecated in version 0.18 in favor of the more elaborate cv_results_ attribute. The grid_scores_ attribute will not be available from 0.20\n",
      "  DeprecationWarning)\n"
     ]
    },
    {
     "data": {
      "text/plain": [
       "([mean: -0.02693, std: 0.00619, params: {'n_estimators': 20},\n",
       "  mean: -0.02224, std: 0.00559, params: {'n_estimators': 30},\n",
       "  mean: -0.02078, std: 0.00490, params: {'n_estimators': 40},\n",
       "  mean: -0.01994, std: 0.00447, params: {'n_estimators': 50},\n",
       "  mean: -0.01991, std: 0.00457, params: {'n_estimators': 60},\n",
       "  mean: -0.01990, std: 0.00449, params: {'n_estimators': 70},\n",
       "  mean: -0.01886, std: 0.00435, params: {'n_estimators': 80},\n",
       "  mean: -0.01945, std: 0.00510, params: {'n_estimators': 90},\n",
       "  mean: -0.01943, std: 0.00384, params: {'n_estimators': 100},\n",
       "  mean: -0.01889, std: 0.00461, params: {'n_estimators': 110},\n",
       "  mean: -0.01920, std: 0.00410, params: {'n_estimators': 120},\n",
       "  mean: -0.01931, std: 0.00420, params: {'n_estimators': 130},\n",
       "  mean: -0.01979, std: 0.00382, params: {'n_estimators': 140},\n",
       "  mean: -0.01870, std: 0.00374, params: {'n_estimators': 150},\n",
       "  mean: -0.01851, std: 0.00391, params: {'n_estimators': 160},\n",
       "  mean: -0.01851, std: 0.00390, params: {'n_estimators': 170},\n",
       "  mean: -0.01892, std: 0.00373, params: {'n_estimators': 180},\n",
       "  mean: -0.01896, std: 0.00387, params: {'n_estimators': 190},\n",
       "  mean: -0.01847, std: 0.00457, params: {'n_estimators': 200},\n",
       "  mean: -0.01921, std: 0.00441, params: {'n_estimators': 210},\n",
       "  mean: -0.01906, std: 0.00447, params: {'n_estimators': 220},\n",
       "  mean: -0.01900, std: 0.00401, params: {'n_estimators': 230},\n",
       "  mean: -0.01866, std: 0.00419, params: {'n_estimators': 240},\n",
       "  mean: -0.01883, std: 0.00408, params: {'n_estimators': 250},\n",
       "  mean: -0.01939, std: 0.00421, params: {'n_estimators': 260},\n",
       "  mean: -0.01825, std: 0.00414, params: {'n_estimators': 270},\n",
       "  mean: -0.01946, std: 0.00441, params: {'n_estimators': 280},\n",
       "  mean: -0.01930, std: 0.00395, params: {'n_estimators': 290},\n",
       "  mean: -0.01887, std: 0.00423, params: {'n_estimators': 300},\n",
       "  mean: -0.01888, std: 0.00416, params: {'n_estimators': 310},\n",
       "  mean: -0.01876, std: 0.00394, params: {'n_estimators': 320},\n",
       "  mean: -0.01891, std: 0.00395, params: {'n_estimators': 330},\n",
       "  mean: -0.01915, std: 0.00348, params: {'n_estimators': 340},\n",
       "  mean: -0.01903, std: 0.00421, params: {'n_estimators': 350},\n",
       "  mean: -0.01896, std: 0.00389, params: {'n_estimators': 360},\n",
       "  mean: -0.01883, std: 0.00386, params: {'n_estimators': 370},\n",
       "  mean: -0.01914, std: 0.00383, params: {'n_estimators': 380},\n",
       "  mean: -0.02022, std: 0.00356, params: {'n_estimators': 390},\n",
       "  mean: -0.01889, std: 0.00334, params: {'n_estimators': 400},\n",
       "  mean: -0.01900, std: 0.00381, params: {'n_estimators': 410},\n",
       "  mean: -0.01900, std: 0.00448, params: {'n_estimators': 420},\n",
       "  mean: -0.01959, std: 0.00476, params: {'n_estimators': 430},\n",
       "  mean: -0.01889, std: 0.00407, params: {'n_estimators': 440},\n",
       "  mean: -0.01895, std: 0.00462, params: {'n_estimators': 450},\n",
       "  mean: -0.01998, std: 0.00391, params: {'n_estimators': 460},\n",
       "  mean: -0.01941, std: 0.00392, params: {'n_estimators': 470},\n",
       "  mean: -0.01912, std: 0.00380, params: {'n_estimators': 480},\n",
       "  mean: -0.01968, std: 0.00387, params: {'n_estimators': 490},\n",
       "  mean: -0.01901, std: 0.00342, params: {'n_estimators': 500},\n",
       "  mean: -0.01903, std: 0.00441, params: {'n_estimators': 510},\n",
       "  mean: -0.01939, std: 0.00344, params: {'n_estimators': 520},\n",
       "  mean: -0.01917, std: 0.00384, params: {'n_estimators': 530},\n",
       "  mean: -0.01957, std: 0.00388, params: {'n_estimators': 540},\n",
       "  mean: -0.01896, std: 0.00361, params: {'n_estimators': 550},\n",
       "  mean: -0.01928, std: 0.00417, params: {'n_estimators': 560},\n",
       "  mean: -0.01916, std: 0.00357, params: {'n_estimators': 570},\n",
       "  mean: -0.01899, std: 0.00351, params: {'n_estimators': 580},\n",
       "  mean: -0.01931, std: 0.00357, params: {'n_estimators': 590},\n",
       "  mean: -0.01883, std: 0.00430, params: {'n_estimators': 600},\n",
       "  mean: -0.01985, std: 0.00416, params: {'n_estimators': 610},\n",
       "  mean: -0.01970, std: 0.00379, params: {'n_estimators': 620},\n",
       "  mean: -0.01936, std: 0.00410, params: {'n_estimators': 630},\n",
       "  mean: -0.01957, std: 0.00397, params: {'n_estimators': 640},\n",
       "  mean: -0.01930, std: 0.00354, params: {'n_estimators': 650},\n",
       "  mean: -0.01980, std: 0.00409, params: {'n_estimators': 660},\n",
       "  mean: -0.01990, std: 0.00375, params: {'n_estimators': 670},\n",
       "  mean: -0.01966, std: 0.00391, params: {'n_estimators': 680},\n",
       "  mean: -0.01914, std: 0.00350, params: {'n_estimators': 690},\n",
       "  mean: -0.01958, std: 0.00412, params: {'n_estimators': 700},\n",
       "  mean: -0.01947, std: 0.00430, params: {'n_estimators': 710},\n",
       "  mean: -0.01886, std: 0.00413, params: {'n_estimators': 720},\n",
       "  mean: -0.01877, std: 0.00419, params: {'n_estimators': 730},\n",
       "  mean: -0.01896, std: 0.00383, params: {'n_estimators': 740},\n",
       "  mean: -0.01938, std: 0.00435, params: {'n_estimators': 750},\n",
       "  mean: -0.01890, std: 0.00338, params: {'n_estimators': 760},\n",
       "  mean: -0.01906, std: 0.00313, params: {'n_estimators': 770},\n",
       "  mean: -0.01939, std: 0.00404, params: {'n_estimators': 780},\n",
       "  mean: -0.01936, std: 0.00411, params: {'n_estimators': 790},\n",
       "  mean: -0.01892, std: 0.00365, params: {'n_estimators': 800},\n",
       "  mean: -0.01914, std: 0.00369, params: {'n_estimators': 810},\n",
       "  mean: -0.01950, std: 0.00376, params: {'n_estimators': 820},\n",
       "  mean: -0.01944, std: 0.00362, params: {'n_estimators': 830},\n",
       "  mean: -0.01921, std: 0.00411, params: {'n_estimators': 840},\n",
       "  mean: -0.01875, std: 0.00360, params: {'n_estimators': 850},\n",
       "  mean: -0.01923, std: 0.00386, params: {'n_estimators': 860},\n",
       "  mean: -0.01948, std: 0.00383, params: {'n_estimators': 870},\n",
       "  mean: -0.01930, std: 0.00380, params: {'n_estimators': 880},\n",
       "  mean: -0.01953, std: 0.00434, params: {'n_estimators': 890},\n",
       "  mean: -0.01935, std: 0.00363, params: {'n_estimators': 900},\n",
       "  mean: -0.01941, std: 0.00371, params: {'n_estimators': 910},\n",
       "  mean: -0.01952, std: 0.00376, params: {'n_estimators': 920},\n",
       "  mean: -0.01943, std: 0.00363, params: {'n_estimators': 930},\n",
       "  mean: -0.01930, std: 0.00417, params: {'n_estimators': 940},\n",
       "  mean: -0.01947, std: 0.00451, params: {'n_estimators': 950},\n",
       "  mean: -0.01900, std: 0.00388, params: {'n_estimators': 960},\n",
       "  mean: -0.01951, std: 0.00403, params: {'n_estimators': 970},\n",
       "  mean: -0.01962, std: 0.00390, params: {'n_estimators': 980},\n",
       "  mean: -0.01954, std: 0.00395, params: {'n_estimators': 990},\n",
       "  mean: -0.01957, std: 0.00427, params: {'n_estimators': 1000}],\n",
       " {'n_estimators': 270},\n",
       " -0.018251823855481217)"
      ]
     },
     "execution_count": 225,
     "metadata": {},
     "output_type": "execute_result"
    }
   ],
   "source": [
    "gsearch1.grid_scores_, gsearch1.best_params_, gsearch1.best_score_"
   ]
  },
  {
   "cell_type": "code",
   "execution_count": 211,
   "metadata": {},
   "outputs": [
    {
     "data": {
      "text/plain": [
       "GradientBoostingRegressor(alpha=0.9, criterion='friedman_mse', init=None,\n",
       "             learning_rate=0.01, loss='ls', max_depth=6, max_features=7,\n",
       "             max_leaf_nodes=None, min_impurity_decrease=0.0,\n",
       "             min_impurity_split=None, min_samples_leaf=10,\n",
       "             min_samples_split=20, min_weight_fraction_leaf=0.0,\n",
       "             n_estimators=970, presort='auto', random_state=None,\n",
       "             subsample=0.8, verbose=0, warm_start=False)"
      ]
     },
     "execution_count": 211,
     "metadata": {},
     "output_type": "execute_result"
    }
   ],
   "source": [
    "gsearch1.best_estimator_"
   ]
  },
  {
   "cell_type": "code",
   "execution_count": 228,
   "metadata": {},
   "outputs": [
    {
     "data": {
      "text/plain": [
       "array([(b'GrLivArea', 0.09937365), (b'TotalBsmtSF', 0.08958185),\n",
       "       (b'LotArea', 0.08888454), (b'Rand_Var', 0.07703054),\n",
       "       (b'GarageArea', 0.07124028), (b'YearBuilt', 0.06173909),\n",
       "       (b'LotFrontage', 0.06148287), (b'GarageYrBlt', 0.05483404),\n",
       "       (b'OpenPorchSF', 0.05390781), (b'MasVnrArea', 0.03995123),\n",
       "       (b'WoodDeckSF', 0.03563799), (b'ExterQualBinary', 0.01200575),\n",
       "       (b'OverallCondBinary', 0.01188319),\n",
       "       (b'OverallQualBinary', 0.01179675),\n",
       "       (b'SaleConditionBinary2', 0.01159049)],\n",
       "      dtype=[('feature', 'S30'), ('importance', '<f8')])"
      ]
     },
     "execution_count": 228,
     "metadata": {},
     "output_type": "execute_result"
    }
   ],
   "source": [
    "feature_importance_gbm = list(zip(x.columns, gsearch1.best_estimator_.feature_importances_))\n",
    "dtype = [('feature', 'S30'), ('importance', 'float')]\n",
    "feature_importance_gbm = np.array(feature_importance_gbm, dtype=dtype)\n",
    "feature_sort_gbm = np.sort(feature_importance_gbm, order='importance')[::-1]\n",
    "feature_sort_gbm[:15]"
   ]
  },
  {
   "cell_type": "code",
   "execution_count": 212,
   "metadata": {},
   "outputs": [
    {
     "data": {
      "text/plain": [
       "0.9623001547493379"
      ]
     },
     "execution_count": 212,
     "metadata": {},
     "output_type": "execute_result"
    }
   ],
   "source": [
    "gsearch1.best_estimator_.score(x, y)"
   ]
  },
  {
   "cell_type": "code",
   "execution_count": 230,
   "metadata": {},
   "outputs": [
    {
     "name": "stderr",
     "output_type": "stream",
     "text": [
      "/anaconda3/lib/python3.6/site-packages/sklearn/model_selection/_search.py:761: DeprecationWarning: The grid_scores_ attribute was deprecated in version 0.18 in favor of the more elaborate cv_results_ attribute. The grid_scores_ attribute will not be available from 0.20\n",
      "  DeprecationWarning)\n"
     ]
    },
    {
     "data": {
      "text/plain": [
       "([mean: -0.01882, std: 0.00432, params: {'max_depth': 5, 'min_samples_split': 20},\n",
       "  mean: -0.01855, std: 0.00552, params: {'max_depth': 5, 'min_samples_split': 40},\n",
       "  mean: -0.01881, std: 0.00446, params: {'max_depth': 5, 'min_samples_split': 60},\n",
       "  mean: -0.01877, std: 0.00456, params: {'max_depth': 5, 'min_samples_split': 80},\n",
       "  mean: -0.01842, std: 0.00456, params: {'max_depth': 5, 'min_samples_split': 100},\n",
       "  mean: -0.01906, std: 0.00398, params: {'max_depth': 7, 'min_samples_split': 20},\n",
       "  mean: -0.01902, std: 0.00370, params: {'max_depth': 7, 'min_samples_split': 40},\n",
       "  mean: -0.01849, std: 0.00366, params: {'max_depth': 7, 'min_samples_split': 60},\n",
       "  mean: -0.01888, std: 0.00513, params: {'max_depth': 7, 'min_samples_split': 80},\n",
       "  mean: -0.01878, std: 0.00401, params: {'max_depth': 7, 'min_samples_split': 100},\n",
       "  mean: -0.01939, std: 0.00365, params: {'max_depth': 9, 'min_samples_split': 20},\n",
       "  mean: -0.01912, std: 0.00425, params: {'max_depth': 9, 'min_samples_split': 40},\n",
       "  mean: -0.01950, std: 0.00413, params: {'max_depth': 9, 'min_samples_split': 60},\n",
       "  mean: -0.01888, std: 0.00447, params: {'max_depth': 9, 'min_samples_split': 80},\n",
       "  mean: -0.01908, std: 0.00408, params: {'max_depth': 9, 'min_samples_split': 100},\n",
       "  mean: -0.01958, std: 0.00406, params: {'max_depth': 11, 'min_samples_split': 20},\n",
       "  mean: -0.01977, std: 0.00481, params: {'max_depth': 11, 'min_samples_split': 40},\n",
       "  mean: -0.01905, std: 0.00393, params: {'max_depth': 11, 'min_samples_split': 60},\n",
       "  mean: -0.01919, std: 0.00442, params: {'max_depth': 11, 'min_samples_split': 80},\n",
       "  mean: -0.01915, std: 0.00365, params: {'max_depth': 11, 'min_samples_split': 100},\n",
       "  mean: -0.01965, std: 0.00458, params: {'max_depth': 13, 'min_samples_split': 20},\n",
       "  mean: -0.01979, std: 0.00510, params: {'max_depth': 13, 'min_samples_split': 40},\n",
       "  mean: -0.01877, std: 0.00403, params: {'max_depth': 13, 'min_samples_split': 60},\n",
       "  mean: -0.01906, std: 0.00444, params: {'max_depth': 13, 'min_samples_split': 80},\n",
       "  mean: -0.01872, std: 0.00431, params: {'max_depth': 13, 'min_samples_split': 100},\n",
       "  mean: -0.02001, std: 0.00420, params: {'max_depth': 15, 'min_samples_split': 20},\n",
       "  mean: -0.01974, std: 0.00458, params: {'max_depth': 15, 'min_samples_split': 40},\n",
       "  mean: -0.01919, std: 0.00398, params: {'max_depth': 15, 'min_samples_split': 60},\n",
       "  mean: -0.01948, std: 0.00464, params: {'max_depth': 15, 'min_samples_split': 80},\n",
       "  mean: -0.01901, std: 0.00439, params: {'max_depth': 15, 'min_samples_split': 100}],\n",
       " {'max_depth': 5, 'min_samples_split': 100},\n",
       " -0.01842017357820812)"
      ]
     },
     "execution_count": 230,
     "metadata": {},
     "output_type": "execute_result"
    }
   ],
   "source": [
    "param_test2 = {'max_depth':range(5,16,2), 'min_samples_split':range(20,101,20)}\n",
    "gsearch2 = GridSearchCV(estimator = GradientBoostingRegressor(learning_rate=0.1, n_estimators=270, max_features='sqrt', subsample=0.8, random_state=10), \n",
    "param_grid = param_test2, scoring='neg_mean_squared_error',n_jobs=4,iid=False, cv=10)\n",
    "gsearch2.fit(x,y)\n",
    "gsearch2.grid_scores_, gsearch2.best_params_, gsearch2.best_score_"
   ]
  },
  {
   "cell_type": "code",
   "execution_count": 233,
   "metadata": {},
   "outputs": [
    {
     "data": {
      "text/plain": [
       "0.9659521021026289"
      ]
     },
     "execution_count": 233,
     "metadata": {},
     "output_type": "execute_result"
    }
   ],
   "source": [
    "gsearch2.best_estimator_.score(x, y)"
   ]
  },
  {
   "cell_type": "code",
   "execution_count": 231,
   "metadata": {},
   "outputs": [
    {
     "data": {
      "text/plain": [
       "array([(b'GrLivArea', 0.1395117 ), (b'TotalBsmtSF', 0.10272045),\n",
       "       (b'LotArea', 0.0754619 ), (b'GarageArea', 0.06993353),\n",
       "       (b'GarageYrBlt', 0.06962887), (b'YearBuilt', 0.05905611),\n",
       "       (b'Rand_Var', 0.0559587 ), (b'OpenPorchSF', 0.04666464),\n",
       "       (b'LotFrontage', 0.04657094), (b'MasVnrArea', 0.0391836 ),\n",
       "       (b'WoodDeckSF', 0.02927102), (b'ExterCondBinary', 0.02321556),\n",
       "       (b'CentralAirBinary', 0.01915601),\n",
       "       (b'OverallCondBinary', 0.01526515),\n",
       "       (b'SaleConditionBinary2', 0.01247549)],\n",
       "      dtype=[('feature', 'S30'), ('importance', '<f8')])"
      ]
     },
     "execution_count": 231,
     "metadata": {},
     "output_type": "execute_result"
    }
   ],
   "source": [
    "feature_importance_gbm = list(zip(x.columns, gsearch2.best_estimator_.feature_importances_))\n",
    "dtype = [('feature', 'S30'), ('importance', 'float')]\n",
    "feature_importance_gbm = np.array(feature_importance_gbm, dtype=dtype)\n",
    "feature_sort_gbm = np.sort(feature_importance_gbm, order='importance')[::-1]\n",
    "feature_sort_gbm[:15]"
   ]
  },
  {
   "cell_type": "code",
   "execution_count": 237,
   "metadata": {},
   "outputs": [
    {
     "name": "stderr",
     "output_type": "stream",
     "text": [
      "/anaconda3/lib/python3.6/site-packages/sklearn/model_selection/_search.py:761: DeprecationWarning: The grid_scores_ attribute was deprecated in version 0.18 in favor of the more elaborate cv_results_ attribute. The grid_scores_ attribute will not be available from 0.20\n",
      "  DeprecationWarning)\n"
     ]
    },
    {
     "data": {
      "text/plain": [
       "([mean: -0.01877, std: 0.00398, params: {'min_samples_leaf': 5, 'min_samples_split': 80},\n",
       "  mean: -0.01821, std: 0.00391, params: {'min_samples_leaf': 5, 'min_samples_split': 100},\n",
       "  mean: -0.01900, std: 0.00409, params: {'min_samples_leaf': 5, 'min_samples_split': 120},\n",
       "  mean: -0.01895, std: 0.00427, params: {'min_samples_leaf': 5, 'min_samples_split': 140},\n",
       "  mean: -0.01884, std: 0.00425, params: {'min_samples_leaf': 5, 'min_samples_split': 160},\n",
       "  mean: -0.01860, std: 0.00443, params: {'min_samples_leaf': 5, 'min_samples_split': 180},\n",
       "  mean: -0.01883, std: 0.00435, params: {'min_samples_leaf': 5, 'min_samples_split': 200},\n",
       "  mean: -0.01956, std: 0.00473, params: {'min_samples_leaf': 5, 'min_samples_split': 220},\n",
       "  mean: -0.01900, std: 0.00454, params: {'min_samples_leaf': 5, 'min_samples_split': 240},\n",
       "  mean: -0.01934, std: 0.00464, params: {'min_samples_leaf': 5, 'min_samples_split': 260},\n",
       "  mean: -0.01908, std: 0.00474, params: {'min_samples_leaf': 5, 'min_samples_split': 280},\n",
       "  mean: -0.01935, std: 0.00443, params: {'min_samples_leaf': 5, 'min_samples_split': 300},\n",
       "  mean: -0.01875, std: 0.00402, params: {'min_samples_leaf': 15, 'min_samples_split': 80},\n",
       "  mean: -0.01838, std: 0.00383, params: {'min_samples_leaf': 15, 'min_samples_split': 100},\n",
       "  mean: -0.01875, std: 0.00405, params: {'min_samples_leaf': 15, 'min_samples_split': 120},\n",
       "  mean: -0.01872, std: 0.00412, params: {'min_samples_leaf': 15, 'min_samples_split': 140},\n",
       "  mean: -0.01842, std: 0.00432, params: {'min_samples_leaf': 15, 'min_samples_split': 160},\n",
       "  mean: -0.01856, std: 0.00409, params: {'min_samples_leaf': 15, 'min_samples_split': 180},\n",
       "  mean: -0.01863, std: 0.00425, params: {'min_samples_leaf': 15, 'min_samples_split': 200},\n",
       "  mean: -0.01883, std: 0.00431, params: {'min_samples_leaf': 15, 'min_samples_split': 220},\n",
       "  mean: -0.01859, std: 0.00429, params: {'min_samples_leaf': 15, 'min_samples_split': 240},\n",
       "  mean: -0.01885, std: 0.00440, params: {'min_samples_leaf': 15, 'min_samples_split': 260},\n",
       "  mean: -0.01901, std: 0.00455, params: {'min_samples_leaf': 15, 'min_samples_split': 280},\n",
       "  mean: -0.01913, std: 0.00437, params: {'min_samples_leaf': 15, 'min_samples_split': 300},\n",
       "  mean: -0.01888, std: 0.00408, params: {'min_samples_leaf': 25, 'min_samples_split': 80},\n",
       "  mean: -0.01902, std: 0.00395, params: {'min_samples_leaf': 25, 'min_samples_split': 100},\n",
       "  mean: -0.01849, std: 0.00382, params: {'min_samples_leaf': 25, 'min_samples_split': 120},\n",
       "  mean: -0.01886, std: 0.00381, params: {'min_samples_leaf': 25, 'min_samples_split': 140},\n",
       "  mean: -0.01865, std: 0.00402, params: {'min_samples_leaf': 25, 'min_samples_split': 160},\n",
       "  mean: -0.01899, std: 0.00393, params: {'min_samples_leaf': 25, 'min_samples_split': 180},\n",
       "  mean: -0.01878, std: 0.00449, params: {'min_samples_leaf': 25, 'min_samples_split': 200},\n",
       "  mean: -0.01931, std: 0.00454, params: {'min_samples_leaf': 25, 'min_samples_split': 220},\n",
       "  mean: -0.01893, std: 0.00451, params: {'min_samples_leaf': 25, 'min_samples_split': 240},\n",
       "  mean: -0.01905, std: 0.00461, params: {'min_samples_leaf': 25, 'min_samples_split': 260},\n",
       "  mean: -0.01917, std: 0.00480, params: {'min_samples_leaf': 25, 'min_samples_split': 280},\n",
       "  mean: -0.01917, std: 0.00462, params: {'min_samples_leaf': 25, 'min_samples_split': 300},\n",
       "  mean: -0.01888, std: 0.00439, params: {'min_samples_leaf': 35, 'min_samples_split': 80},\n",
       "  mean: -0.01916, std: 0.00431, params: {'min_samples_leaf': 35, 'min_samples_split': 100},\n",
       "  mean: -0.01893, std: 0.00413, params: {'min_samples_leaf': 35, 'min_samples_split': 120},\n",
       "  mean: -0.01904, std: 0.00410, params: {'min_samples_leaf': 35, 'min_samples_split': 140},\n",
       "  mean: -0.01900, std: 0.00426, params: {'min_samples_leaf': 35, 'min_samples_split': 160},\n",
       "  mean: -0.01914, std: 0.00410, params: {'min_samples_leaf': 35, 'min_samples_split': 180},\n",
       "  mean: -0.01900, std: 0.00423, params: {'min_samples_leaf': 35, 'min_samples_split': 200},\n",
       "  mean: -0.01921, std: 0.00448, params: {'min_samples_leaf': 35, 'min_samples_split': 220},\n",
       "  mean: -0.01913, std: 0.00431, params: {'min_samples_leaf': 35, 'min_samples_split': 240},\n",
       "  mean: -0.01947, std: 0.00485, params: {'min_samples_leaf': 35, 'min_samples_split': 260},\n",
       "  mean: -0.01933, std: 0.00489, params: {'min_samples_leaf': 35, 'min_samples_split': 280},\n",
       "  mean: -0.01945, std: 0.00472, params: {'min_samples_leaf': 35, 'min_samples_split': 300},\n",
       "  mean: -0.01961, std: 0.00390, params: {'min_samples_leaf': 45, 'min_samples_split': 80},\n",
       "  mean: -0.01970, std: 0.00445, params: {'min_samples_leaf': 45, 'min_samples_split': 100},\n",
       "  mean: -0.01973, std: 0.00392, params: {'min_samples_leaf': 45, 'min_samples_split': 120},\n",
       "  mean: -0.01959, std: 0.00450, params: {'min_samples_leaf': 45, 'min_samples_split': 140},\n",
       "  mean: -0.01967, std: 0.00451, params: {'min_samples_leaf': 45, 'min_samples_split': 160},\n",
       "  mean: -0.01965, std: 0.00408, params: {'min_samples_leaf': 45, 'min_samples_split': 180},\n",
       "  mean: -0.01969, std: 0.00446, params: {'min_samples_leaf': 45, 'min_samples_split': 200},\n",
       "  mean: -0.01975, std: 0.00448, params: {'min_samples_leaf': 45, 'min_samples_split': 220},\n",
       "  mean: -0.01969, std: 0.00453, params: {'min_samples_leaf': 45, 'min_samples_split': 240},\n",
       "  mean: -0.01961, std: 0.00492, params: {'min_samples_leaf': 45, 'min_samples_split': 260},\n",
       "  mean: -0.01934, std: 0.00490, params: {'min_samples_leaf': 45, 'min_samples_split': 280},\n",
       "  mean: -0.01980, std: 0.00499, params: {'min_samples_leaf': 45, 'min_samples_split': 300},\n",
       "  mean: -0.01950, std: 0.00423, params: {'min_samples_leaf': 55, 'min_samples_split': 80},\n",
       "  mean: -0.01950, std: 0.00423, params: {'min_samples_leaf': 55, 'min_samples_split': 100},\n",
       "  mean: -0.01953, std: 0.00422, params: {'min_samples_leaf': 55, 'min_samples_split': 120},\n",
       "  mean: -0.01961, std: 0.00435, params: {'min_samples_leaf': 55, 'min_samples_split': 140},\n",
       "  mean: -0.01969, std: 0.00412, params: {'min_samples_leaf': 55, 'min_samples_split': 160},\n",
       "  mean: -0.01967, std: 0.00429, params: {'min_samples_leaf': 55, 'min_samples_split': 180},\n",
       "  mean: -0.01967, std: 0.00468, params: {'min_samples_leaf': 55, 'min_samples_split': 200},\n",
       "  mean: -0.01990, std: 0.00454, params: {'min_samples_leaf': 55, 'min_samples_split': 220},\n",
       "  mean: -0.01983, std: 0.00450, params: {'min_samples_leaf': 55, 'min_samples_split': 240},\n",
       "  mean: -0.01989, std: 0.00516, params: {'min_samples_leaf': 55, 'min_samples_split': 260},\n",
       "  mean: -0.01965, std: 0.00498, params: {'min_samples_leaf': 55, 'min_samples_split': 280},\n",
       "  mean: -0.01988, std: 0.00504, params: {'min_samples_leaf': 55, 'min_samples_split': 300},\n",
       "  mean: -0.01996, std: 0.00388, params: {'min_samples_leaf': 65, 'min_samples_split': 80},\n",
       "  mean: -0.01996, std: 0.00388, params: {'min_samples_leaf': 65, 'min_samples_split': 100},\n",
       "  mean: -0.01996, std: 0.00388, params: {'min_samples_leaf': 65, 'min_samples_split': 120},\n",
       "  mean: -0.02039, std: 0.00411, params: {'min_samples_leaf': 65, 'min_samples_split': 140},\n",
       "  mean: -0.02029, std: 0.00413, params: {'min_samples_leaf': 65, 'min_samples_split': 160},\n",
       "  mean: -0.02047, std: 0.00398, params: {'min_samples_leaf': 65, 'min_samples_split': 180},\n",
       "  mean: -0.02037, std: 0.00403, params: {'min_samples_leaf': 65, 'min_samples_split': 200},\n",
       "  mean: -0.02034, std: 0.00428, params: {'min_samples_leaf': 65, 'min_samples_split': 220},\n",
       "  mean: -0.02043, std: 0.00427, params: {'min_samples_leaf': 65, 'min_samples_split': 240},\n",
       "  mean: -0.02046, std: 0.00438, params: {'min_samples_leaf': 65, 'min_samples_split': 260},\n",
       "  mean: -0.02031, std: 0.00436, params: {'min_samples_leaf': 65, 'min_samples_split': 280},\n",
       "  mean: -0.02025, std: 0.00435, params: {'min_samples_leaf': 65, 'min_samples_split': 300}],\n",
       " {'min_samples_leaf': 5, 'min_samples_split': 100},\n",
       " -0.018214793335008455)"
      ]
     },
     "execution_count": 237,
     "metadata": {},
     "output_type": "execute_result"
    }
   ],
   "source": [
    "param_test3 = {'min_samples_split':range(80,301,20), 'min_samples_leaf':range(5,66,10)}\n",
    "gsearch3 = GridSearchCV(estimator = GradientBoostingRegressor(learning_rate=0.1, n_estimators=270,max_depth=5,max_features='sqrt', subsample=0.8, random_state=10), \n",
    "param_grid = param_test3, scoring='v',n_jobs=4,iid=False, cv=10)\n",
    "gsearch3.fit(x, y)\n",
    "gsearch3.grid_scores_, gsearch3.best_params_, gsearch3.best_score_"
   ]
  },
  {
   "cell_type": "code",
   "execution_count": 241,
   "metadata": {},
   "outputs": [
    {
     "data": {
      "text/plain": [
       "0.9611365013315731"
      ]
     },
     "execution_count": 241,
     "metadata": {},
     "output_type": "execute_result"
    }
   ],
   "source": [
    "gsearch3.best_estimator_.score(x, y)"
   ]
  },
  {
   "cell_type": "code",
   "execution_count": 239,
   "metadata": {},
   "outputs": [
    {
     "data": {
      "text/plain": [
       "array([(b'GrLivArea', 0.13121384), (b'TotalBsmtSF', 0.1114015 ),\n",
       "       (b'GarageArea', 0.07164409), (b'LotArea', 0.07092367),\n",
       "       (b'YearBuilt', 0.06058123), (b'GarageYrBlt', 0.05786832),\n",
       "       (b'OpenPorchSF', 0.05477668), (b'LotFrontage', 0.05353149),\n",
       "       (b'Rand_Var', 0.04832145), (b'MasVnrArea', 0.04229633),\n",
       "       (b'WoodDeckSF', 0.02922249), (b'ExterCondBinary', 0.01939933),\n",
       "       (b'CentralAirBinary', 0.01918167),\n",
       "       (b'OverallCondBinary', 0.01714515),\n",
       "       (b'SaleConditionBinary2', 0.01653209)],\n",
       "      dtype=[('feature', 'S30'), ('importance', '<f8')])"
      ]
     },
     "execution_count": 239,
     "metadata": {},
     "output_type": "execute_result"
    }
   ],
   "source": [
    "feature_importance_gbm = list(zip(x.columns, gsearch3.best_estimator_.feature_importances_))\n",
    "dtype = [('feature', 'S30'), ('importance', 'float')]\n",
    "feature_importance_gbm = np.array(feature_importance_gbm, dtype=dtype)\n",
    "feature_sort_gbm = np.sort(feature_importance_gbm, order='importance')[::-1]\n",
    "feature_sort_gbm[:15]"
   ]
  },
  {
   "cell_type": "code",
   "execution_count": 240,
   "metadata": {},
   "outputs": [
    {
     "name": "stderr",
     "output_type": "stream",
     "text": [
      "/anaconda3/lib/python3.6/site-packages/sklearn/model_selection/_search.py:761: DeprecationWarning: The grid_scores_ attribute was deprecated in version 0.18 in favor of the more elaborate cv_results_ attribute. The grid_scores_ attribute will not be available from 0.20\n",
      "  DeprecationWarning)\n"
     ]
    },
    {
     "data": {
      "text/plain": [
       "([mean: -0.01821, std: 0.00391, params: {'max_features': 7},\n",
       "  mean: -0.01961, std: 0.00426, params: {'max_features': 9},\n",
       "  mean: -0.01936, std: 0.00411, params: {'max_features': 11},\n",
       "  mean: -0.01915, std: 0.00437, params: {'max_features': 13},\n",
       "  mean: -0.01981, std: 0.00434, params: {'max_features': 15},\n",
       "  mean: -0.01949, std: 0.00465, params: {'max_features': 17},\n",
       "  mean: -0.01959, std: 0.00388, params: {'max_features': 19}],\n",
       " {'max_features': 7},\n",
       " -0.018214793335008455)"
      ]
     },
     "execution_count": 240,
     "metadata": {},
     "output_type": "execute_result"
    }
   ],
   "source": [
    "param_test4 = {'max_features':range(7,20,2)}\n",
    "gsearch4 = GridSearchCV(estimator = GradientBoostingRegressor(learning_rate=0.1, n_estimators=270,max_depth=5, min_samples_split=100, min_samples_leaf=5, subsample=0.8, random_state=10),\n",
    "param_grid = param_test4, scoring='neg_mean_squared_error',n_jobs=4,iid=False, cv=10)\n",
    "gsearch4.fit(x, y)\n",
    "gsearch4.grid_scores_, gsearch4.best_params_, gsearch4.best_score_"
   ]
  },
  {
   "cell_type": "code",
   "execution_count": 242,
   "metadata": {},
   "outputs": [
    {
     "data": {
      "text/plain": [
       "0.9611365013315731"
      ]
     },
     "execution_count": 242,
     "metadata": {},
     "output_type": "execute_result"
    }
   ],
   "source": [
    "gsearch4.best_estimator_.score(x, y)"
   ]
  },
  {
   "cell_type": "code",
   "execution_count": 243,
   "metadata": {},
   "outputs": [
    {
     "data": {
      "text/plain": [
       "array([(b'GrLivArea', 0.13121384), (b'TotalBsmtSF', 0.1114015 ),\n",
       "       (b'GarageArea', 0.07164409), (b'LotArea', 0.07092367),\n",
       "       (b'YearBuilt', 0.06058123), (b'GarageYrBlt', 0.05786832),\n",
       "       (b'OpenPorchSF', 0.05477668), (b'LotFrontage', 0.05353149),\n",
       "       (b'Rand_Var', 0.04832145), (b'MasVnrArea', 0.04229633),\n",
       "       (b'WoodDeckSF', 0.02922249), (b'ExterCondBinary', 0.01939933),\n",
       "       (b'CentralAirBinary', 0.01918167),\n",
       "       (b'OverallCondBinary', 0.01714515),\n",
       "       (b'SaleConditionBinary2', 0.01653209)],\n",
       "      dtype=[('feature', 'S30'), ('importance', '<f8')])"
      ]
     },
     "execution_count": 243,
     "metadata": {},
     "output_type": "execute_result"
    }
   ],
   "source": [
    "feature_importance_gbm = list(zip(x.columns, gsearch4.best_estimator_.feature_importances_))\n",
    "dtype = [('feature', 'S30'), ('importance', 'float')]\n",
    "feature_importance_gbm = np.array(feature_importance_gbm, dtype=dtype)\n",
    "feature_sort_gbm = np.sort(feature_importance_gbm, order='importance')[::-1]\n",
    "feature_sort_gbm[:15]"
   ]
  },
  {
   "cell_type": "code",
   "execution_count": 244,
   "metadata": {},
   "outputs": [
    {
     "name": "stderr",
     "output_type": "stream",
     "text": [
      "/anaconda3/lib/python3.6/site-packages/sklearn/model_selection/_search.py:761: DeprecationWarning: The grid_scores_ attribute was deprecated in version 0.18 in favor of the more elaborate cv_results_ attribute. The grid_scores_ attribute will not be available from 0.20\n",
      "  DeprecationWarning)\n"
     ]
    },
    {
     "data": {
      "text/plain": [
       "([mean: -0.01914, std: 0.00462, params: {'subsample': 0.6},\n",
       "  mean: -0.01895, std: 0.00452, params: {'subsample': 0.7},\n",
       "  mean: -0.01905, std: 0.00377, params: {'subsample': 0.75},\n",
       "  mean: -0.01821, std: 0.00391, params: {'subsample': 0.8},\n",
       "  mean: -0.01833, std: 0.00433, params: {'subsample': 0.85},\n",
       "  mean: -0.01902, std: 0.00429, params: {'subsample': 0.9}],\n",
       " {'subsample': 0.8},\n",
       " -0.018214793335008455)"
      ]
     },
     "execution_count": 244,
     "metadata": {},
     "output_type": "execute_result"
    }
   ],
   "source": [
    "param_test5 = {'subsample':[0.6,0.7,0.75,0.8,0.85,0.9]}\n",
    "gsearch5 = GridSearchCV(estimator = GradientBoostingRegressor(learning_rate=0.1, n_estimators=270,max_depth=5,min_samples_split=100, min_samples_leaf=5, subsample=0.8, random_state=10,max_features=7),\n",
    "param_grid = param_test5, scoring='neg_mean_squared_error',n_jobs=4,iid=False, cv=10)\n",
    "gsearch5.fit(x, y)\n",
    "gsearch5.grid_scores_, gsearch5.best_params_, gsearch5.best_score_"
   ]
  },
  {
   "cell_type": "code",
   "execution_count": 251,
   "metadata": {},
   "outputs": [
    {
     "data": {
      "text/plain": [
       "0.9641196935611226"
      ]
     },
     "execution_count": 251,
     "metadata": {},
     "output_type": "execute_result"
    }
   ],
   "source": [
    "gbm = GradientBoostingRegressor(learning_rate=0.05, n_estimators=540,max_depth=5,min_samples_split=100, min_samples_leaf=5, subsample=0.8, random_state=10,max_features=7)\n",
    "gbm.fit(x, y)\n",
    "gbm.score(x, y)"
   ]
  },
  {
   "cell_type": "code",
   "execution_count": 252,
   "metadata": {},
   "outputs": [
    {
     "data": {
      "text/plain": [
       "array([(b'GrLivArea', 0.1217761 ), (b'TotalBsmtSF', 0.10177729),\n",
       "       (b'LotArea', 0.07726483), (b'GarageArea', 0.07507747),\n",
       "       (b'GarageYrBlt', 0.06767952), (b'YearBuilt', 0.06034558),\n",
       "       (b'OpenPorchSF', 0.05809184), (b'Rand_Var', 0.05632859),\n",
       "       (b'LotFrontage', 0.05363976), (b'MasVnrArea', 0.02999669),\n",
       "       (b'WoodDeckSF', 0.02692323), (b'ExterCondBinary', 0.0212214 ),\n",
       "       (b'CentralAirBinary', 0.02069086),\n",
       "       (b'SaleConditionBinary2', 0.01769614),\n",
       "       (b'OverallCondBinary', 0.01688534)],\n",
       "      dtype=[('feature', 'S30'), ('importance', '<f8')])"
      ]
     },
     "execution_count": 252,
     "metadata": {},
     "output_type": "execute_result"
    }
   ],
   "source": [
    "feature_importance_gbm = list(zip(x.columns, gbm.feature_importances_))\n",
    "dtype = [('feature', 'S30'), ('importance', 'float')]\n",
    "feature_importance_gbm = np.array(feature_importance_gbm, dtype=dtype)\n",
    "feature_sort_gbm = np.sort(feature_importance_gbm, order='importance')[::-1]\n",
    "feature_sort_gbm[:15]"
   ]
  },
  {
   "cell_type": "code",
   "execution_count": null,
   "metadata": {},
   "outputs": [],
   "source": []
  },
  {
   "cell_type": "code",
   "execution_count": null,
   "metadata": {},
   "outputs": [],
   "source": []
  },
  {
   "cell_type": "code",
   "execution_count": null,
   "metadata": {},
   "outputs": [],
   "source": []
  },
  {
   "cell_type": "code",
   "execution_count": 191,
   "metadata": {},
   "outputs": [
    {
     "data": {
      "text/plain": [
       "Index(['YearBuilt', 'MasVnrArea', 'TotalBsmtSF', 'GrLivArea', 'GarageArea',\n",
       "       'WoodDeckSF', 'OpenPorchSF', 'Rand_Var'],\n",
       "      dtype='object')"
      ]
     },
     "execution_count": 191,
     "metadata": {},
     "output_type": "execute_result"
    }
   ],
   "source": [
    "from sklearn.linear_model import Lasso\n",
    "from sklearn.feature_selection import SelectFromModel\n",
    "\n",
    "lsvc = Lasso(alpha=0.1).fit(x, y)\n",
    "model = SelectFromModel(lsvc, prefit=True)\n",
    "X_new = model.transform(x)\n",
    "x.columns[model.get_support()]"
   ]
  },
  {
   "cell_type": "code",
   "execution_count": 26,
   "metadata": {},
   "outputs": [],
   "source": [
    "from sklearn.svm import SVR"
   ]
  },
  {
   "cell_type": "code",
   "execution_count": 27,
   "metadata": {},
   "outputs": [
    {
     "data": {
      "text/plain": [
       "0.8106612936700603"
      ]
     },
     "execution_count": 27,
     "metadata": {},
     "output_type": "execute_result"
    }
   ],
   "source": [
    "clf = SVR(C=1.0, epsilon=0.2)\n",
    "clf.fit(x, y)\n",
    "clf.score(x, y)"
   ]
  },
  {
   "cell_type": "code",
   "execution_count": null,
   "metadata": {},
   "outputs": [],
   "source": []
  },
  {
   "cell_type": "code",
   "execution_count": 552,
   "metadata": {},
   "outputs": [],
   "source": []
  },
  {
   "cell_type": "code",
   "execution_count": null,
   "metadata": {},
   "outputs": [],
   "source": []
  },
  {
   "cell_type": "code",
   "execution_count": null,
   "metadata": {},
   "outputs": [],
   "source": []
  }
 ],
 "metadata": {
  "kernelspec": {
   "display_name": "Python 3",
   "language": "python",
   "name": "python3"
  },
  "language_info": {
   "codemirror_mode": {
    "name": "ipython",
    "version": 3
   },
   "file_extension": ".py",
   "mimetype": "text/x-python",
   "name": "python",
   "nbconvert_exporter": "python",
   "pygments_lexer": "ipython3",
   "version": "3.6.4"
  }
 },
 "nbformat": 4,
 "nbformat_minor": 2
}
