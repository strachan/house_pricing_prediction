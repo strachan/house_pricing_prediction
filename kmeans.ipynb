{
 "cells": [
  {
   "cell_type": "code",
   "execution_count": 1,
   "metadata": {},
   "outputs": [],
   "source": [
    "import numpy as np\n",
    "import scipy.stats as stats\n",
    "import seaborn as sns\n",
    "import matplotlib.pyplot as plt\n",
    "import pandas as pd\n",
    "%matplotlib inline\n",
    "from scipy import stats\n",
    "import seaborn as sns\n",
    "from sklearn import linear_model\n",
    "from sklearn.preprocessing import StandardScaler\n",
    "from wordcloud import WordCloud\n",
    "import random\n",
    "from random import shuffle\n",
    "from sklearn.cluster import KMeans"
   ]
  },
  {
   "cell_type": "code",
   "execution_count": 2,
   "metadata": {},
   "outputs": [],
   "source": [
    "def marca_base(Perc, x):\n",
    "    if x >= Perc[(len(Perc)-1)]:\n",
    "        return len(Perc) +1\n",
    "    else:\n",
    "        for i in range(len(Perc)):\n",
    "            if x < Perc[i]:\n",
    "                return i + 1"
   ]
  },
  {
   "cell_type": "code",
   "execution_count": 3,
   "metadata": {},
   "outputs": [],
   "source": [
    "#/Users/felipesantos/Desktop/BootcampNY/ProjetoCasas\n",
    "df = pd.read_csv('./train.csv')"
   ]
  },
  {
   "cell_type": "code",
   "execution_count": 4,
   "metadata": {},
   "outputs": [
    {
     "data": {
      "text/html": [
       "<div>\n",
       "<style scoped>\n",
       "    .dataframe tbody tr th:only-of-type {\n",
       "        vertical-align: middle;\n",
       "    }\n",
       "\n",
       "    .dataframe tbody tr th {\n",
       "        vertical-align: top;\n",
       "    }\n",
       "\n",
       "    .dataframe thead th {\n",
       "        text-align: right;\n",
       "    }\n",
       "</style>\n",
       "<table border=\"1\" class=\"dataframe\">\n",
       "  <thead>\n",
       "    <tr style=\"text-align: right;\">\n",
       "      <th></th>\n",
       "      <th>Id</th>\n",
       "      <th>MSSubClass</th>\n",
       "      <th>MSZoning</th>\n",
       "      <th>LotFrontage</th>\n",
       "      <th>LotArea</th>\n",
       "      <th>Street</th>\n",
       "      <th>Alley</th>\n",
       "      <th>LotShape</th>\n",
       "      <th>LandContour</th>\n",
       "      <th>Utilities</th>\n",
       "      <th>...</th>\n",
       "      <th>PoolArea</th>\n",
       "      <th>PoolQC</th>\n",
       "      <th>Fence</th>\n",
       "      <th>MiscFeature</th>\n",
       "      <th>MiscVal</th>\n",
       "      <th>MoSold</th>\n",
       "      <th>YrSold</th>\n",
       "      <th>SaleType</th>\n",
       "      <th>SaleCondition</th>\n",
       "      <th>SalePrice</th>\n",
       "    </tr>\n",
       "  </thead>\n",
       "  <tbody>\n",
       "    <tr>\n",
       "      <th>1361</th>\n",
       "      <td>1362</td>\n",
       "      <td>20</td>\n",
       "      <td>RL</td>\n",
       "      <td>124.0</td>\n",
       "      <td>16158</td>\n",
       "      <td>Pave</td>\n",
       "      <td>NaN</td>\n",
       "      <td>IR1</td>\n",
       "      <td>Low</td>\n",
       "      <td>AllPub</td>\n",
       "      <td>...</td>\n",
       "      <td>0</td>\n",
       "      <td>NaN</td>\n",
       "      <td>NaN</td>\n",
       "      <td>NaN</td>\n",
       "      <td>0</td>\n",
       "      <td>6</td>\n",
       "      <td>2009</td>\n",
       "      <td>WD</td>\n",
       "      <td>Normal</td>\n",
       "      <td>260000</td>\n",
       "    </tr>\n",
       "    <tr>\n",
       "      <th>284</th>\n",
       "      <td>285</td>\n",
       "      <td>120</td>\n",
       "      <td>RL</td>\n",
       "      <td>50.0</td>\n",
       "      <td>8012</td>\n",
       "      <td>Pave</td>\n",
       "      <td>NaN</td>\n",
       "      <td>Reg</td>\n",
       "      <td>Lvl</td>\n",
       "      <td>AllPub</td>\n",
       "      <td>...</td>\n",
       "      <td>0</td>\n",
       "      <td>NaN</td>\n",
       "      <td>NaN</td>\n",
       "      <td>NaN</td>\n",
       "      <td>0</td>\n",
       "      <td>7</td>\n",
       "      <td>2007</td>\n",
       "      <td>WD</td>\n",
       "      <td>Normal</td>\n",
       "      <td>179200</td>\n",
       "    </tr>\n",
       "    <tr>\n",
       "      <th>981</th>\n",
       "      <td>982</td>\n",
       "      <td>60</td>\n",
       "      <td>RL</td>\n",
       "      <td>98.0</td>\n",
       "      <td>12203</td>\n",
       "      <td>Pave</td>\n",
       "      <td>NaN</td>\n",
       "      <td>IR1</td>\n",
       "      <td>Lvl</td>\n",
       "      <td>AllPub</td>\n",
       "      <td>...</td>\n",
       "      <td>0</td>\n",
       "      <td>NaN</td>\n",
       "      <td>NaN</td>\n",
       "      <td>NaN</td>\n",
       "      <td>0</td>\n",
       "      <td>7</td>\n",
       "      <td>2009</td>\n",
       "      <td>WD</td>\n",
       "      <td>Normal</td>\n",
       "      <td>336000</td>\n",
       "    </tr>\n",
       "    <tr>\n",
       "      <th>1263</th>\n",
       "      <td>1264</td>\n",
       "      <td>70</td>\n",
       "      <td>RL</td>\n",
       "      <td>60.0</td>\n",
       "      <td>13515</td>\n",
       "      <td>Pave</td>\n",
       "      <td>Pave</td>\n",
       "      <td>Reg</td>\n",
       "      <td>Lvl</td>\n",
       "      <td>AllPub</td>\n",
       "      <td>...</td>\n",
       "      <td>0</td>\n",
       "      <td>NaN</td>\n",
       "      <td>GdPrv</td>\n",
       "      <td>NaN</td>\n",
       "      <td>0</td>\n",
       "      <td>7</td>\n",
       "      <td>2007</td>\n",
       "      <td>WD</td>\n",
       "      <td>Normal</td>\n",
       "      <td>180500</td>\n",
       "    </tr>\n",
       "    <tr>\n",
       "      <th>603</th>\n",
       "      <td>604</td>\n",
       "      <td>160</td>\n",
       "      <td>FV</td>\n",
       "      <td>30.0</td>\n",
       "      <td>3182</td>\n",
       "      <td>Pave</td>\n",
       "      <td>Pave</td>\n",
       "      <td>Reg</td>\n",
       "      <td>Lvl</td>\n",
       "      <td>AllPub</td>\n",
       "      <td>...</td>\n",
       "      <td>0</td>\n",
       "      <td>NaN</td>\n",
       "      <td>NaN</td>\n",
       "      <td>NaN</td>\n",
       "      <td>0</td>\n",
       "      <td>6</td>\n",
       "      <td>2010</td>\n",
       "      <td>WD</td>\n",
       "      <td>Normal</td>\n",
       "      <td>151000</td>\n",
       "    </tr>\n",
       "  </tbody>\n",
       "</table>\n",
       "<p>5 rows × 81 columns</p>\n",
       "</div>"
      ],
      "text/plain": [
       "        Id  MSSubClass MSZoning  LotFrontage  LotArea Street Alley LotShape  \\\n",
       "1361  1362          20       RL        124.0    16158   Pave   NaN      IR1   \n",
       "284    285         120       RL         50.0     8012   Pave   NaN      Reg   \n",
       "981    982          60       RL         98.0    12203   Pave   NaN      IR1   \n",
       "1263  1264          70       RL         60.0    13515   Pave  Pave      Reg   \n",
       "603    604         160       FV         30.0     3182   Pave  Pave      Reg   \n",
       "\n",
       "     LandContour Utilities    ...     PoolArea PoolQC  Fence MiscFeature  \\\n",
       "1361         Low    AllPub    ...            0    NaN    NaN         NaN   \n",
       "284          Lvl    AllPub    ...            0    NaN    NaN         NaN   \n",
       "981          Lvl    AllPub    ...            0    NaN    NaN         NaN   \n",
       "1263         Lvl    AllPub    ...            0    NaN  GdPrv         NaN   \n",
       "603          Lvl    AllPub    ...            0    NaN    NaN         NaN   \n",
       "\n",
       "     MiscVal MoSold YrSold  SaleType  SaleCondition  SalePrice  \n",
       "1361       0      6   2009        WD         Normal     260000  \n",
       "284        0      7   2007        WD         Normal     179200  \n",
       "981        0      7   2009        WD         Normal     336000  \n",
       "1263       0      7   2007        WD         Normal     180500  \n",
       "603        0      6   2010        WD         Normal     151000  \n",
       "\n",
       "[5 rows x 81 columns]"
      ]
     },
     "execution_count": 4,
     "metadata": {},
     "output_type": "execute_result"
    }
   ],
   "source": [
    "df.sample(5)"
   ]
  },
  {
   "cell_type": "code",
   "execution_count": 5,
   "metadata": {},
   "outputs": [
    {
     "name": "stdout",
     "output_type": "stream",
     "text": [
      "(black line) median= 163000.0\n",
      "(red line) mean= 180921.0\n"
     ]
    },
    {
     "data": {
      "image/png": "[encoded data removed]",
      "text/plain": [
       "<matplotlib.figure.Figure at 0x1a17331358>"
      ]
     },
     "metadata": {},
     "output_type": "display_data"
    }
   ],
   "source": [
    "aux = plt.hist(df.SalePrice, bins='auto')\n",
    "plt.title('SalePrice Hist')\n",
    "plt.axvline(df.SalePrice.median(), color='k', linestyle='dashed', linewidth=1)\n",
    "plt.axvline(df.SalePrice.mean(), color='red', linestyle='dashed', linewidth=1)\n",
    "print('(black line) median= '+str(round(df.SalePrice.median(),0)))\n",
    "print('(red line) mean= '+str(round(df.SalePrice.mean(),0)))"
   ]
  },
  {
   "cell_type": "raw",
   "metadata": {},
   "source": [
    "Problemas para Regressao Multipla\n",
    "❖ Transformations are most helpful in some cases when the following assumptions are violated:\n",
    "➢ Linearity\n",
    "➢ Constant Variance ➢ Normality"
   ]
  },
  {
   "cell_type": "code",
   "execution_count": 6,
   "metadata": {},
   "outputs": [
    {
     "name": "stdout",
     "output_type": "stream",
     "text": [
      "(black line) median= 12.0\n",
      "(red line) mean= 12.0\n"
     ]
    },
    {
     "data": {
      "image/png": "[encoded data removed]",
      "text/plain": [
       "<matplotlib.figure.Figure at 0x1101bd4a8>"
      ]
     },
     "metadata": {},
     "output_type": "display_data"
    }
   ],
   "source": [
    "log_response = pd.Series(np.log(df.SalePrice))\n",
    "aux = plt.hist(log_response, bins='auto')\n",
    "plt.title('SalePrice - Box-Cox transformation Hist')\n",
    "plt.axvline(log_response.median(), color='k', linestyle='dashed', linewidth=1)\n",
    "plt.axvline(log_response.mean(), color='red', linestyle='dashed', linewidth=1)\n",
    "print('(black line) median= '+str(round(log_response.median(),0)))\n",
    "print('(red line) mean= '+str(round(log_response.mean(),0)))"
   ]
  },
  {
   "cell_type": "code",
   "execution_count": 7,
   "metadata": {},
   "outputs": [],
   "source": [
    "colunas_type = list(df.dtypes)[1:-2]\n",
    "colunas_description = list(df.columns)[1:-2]"
   ]
  },
  {
   "cell_type": "raw",
   "metadata": {},
   "source": [
    "colunas_categoric = []\n",
    "for c in range(len(colunas_type)):\n",
    "    if str(colunas_type[c]) == 'object':\n",
    "        colunas_categoric.append(colunas_description[c])"
   ]
  },
  {
   "cell_type": "raw",
   "metadata": {},
   "source": [
    "colunas_type = list(df.dtypes)[1:-1]\n",
    "colunas_description = list(df.columns)[1:-1]\n",
    "colunas_numeric = []\n",
    "for c in range(len(colunas_type)):\n",
    "    if str(colunas_type[c]) != 'object':\n",
    "        colunas_numeric.append(colunas_description[c])"
   ]
  },
  {
   "cell_type": "markdown",
   "metadata": {},
   "source": [
    "#    "
   ]
  },
  {
   "cell_type": "code",
   "execution_count": 8,
   "metadata": {},
   "outputs": [
    {
     "name": "stdout",
     "output_type": "stream",
     "text": [
      "-------------------\n",
      "GrLivArea\n",
      "#NAs= 0\n",
      "\n",
      "R2= 0.5021486502718042\n",
      "\n",
      "Scatter Drop any NA\n"
     ]
    },
    {
     "name": "stderr",
     "output_type": "stream",
     "text": [
      "/anaconda3/lib/python3.6/site-packages/ipykernel_launcher.py:3: FutureWarning: reshape is deprecated and will raise in a subsequent release. Please use .values.reshape(...) instead\n",
      "  This is separate from the ipykernel package so we can avoid doing imports until\n"
     ]
    },
    {
     "data": {
      "image/png": "[encoded data removed]",
      "text/plain": [
       "<matplotlib.figure.Figure at 0x1a179a1438>"
      ]
     },
     "metadata": {},
     "output_type": "display_data"
    }
   ],
   "source": [
    "variavel='GrLivArea'\n",
    "ols = linear_model.LinearRegression()\n",
    "X = df[variavel].reshape(-1,1)\n",
    "Y = df.SalePrice\n",
    "ols.fit(X, Y)\n",
    "print('-------------------')\n",
    "print(variavel)\n",
    "print('#NAs= '+str(df[variavel].isnull().sum()))\n",
    "print('')\n",
    "print('R2= '+str(ols.score(X, Y)))\n",
    "plt.figure(figsize=(9, 6))\n",
    "plt.plot(X, ols.predict(X), c='r', lw=1.5, label='Predicted relation')\n",
    "plt.scatter(X, Y, color='blue')\n",
    "plt.xlabel('x')\n",
    "plt.ylabel('y')\n",
    "plt.legend(loc=2)\n",
    "print('')\n",
    "print('Scatter Drop any NA')\n",
    "plt.show()"
   ]
  },
  {
   "cell_type": "code",
   "execution_count": 9,
   "metadata": {},
   "outputs": [],
   "source": [
    "Perc = list(np.percentile(df.SalePrice, [10, 20, 30, 40, 50, 60, 70, 80, 90]) )"
   ]
  },
  {
   "cell_type": "code",
   "execution_count": 10,
   "metadata": {},
   "outputs": [],
   "source": [
    "df['SalePrice_percentil'] = [marca_base(Perc, x) for x in df.SalePrice]"
   ]
  },
  {
   "cell_type": "code",
   "execution_count": 11,
   "metadata": {},
   "outputs": [],
   "source": [
    "aux = pd.DataFrame(df.SalePrice_percentil.value_counts()).reset_index().sort_values('index', ascending=True)\n",
    "aux.columns = ['percentil', 'SalePrice_percentil']"
   ]
  },
  {
   "cell_type": "code",
   "execution_count": 12,
   "metadata": {},
   "outputs": [],
   "source": [
    "aux_na = pd.DataFrame(df.isnull().sum(), columns=['conta_NA']).sort_values('conta_NA', ascending=False)#.reset_index().rename(columns={'index':'feature'})"
   ]
  },
  {
   "cell_type": "code",
   "execution_count": 13,
   "metadata": {},
   "outputs": [],
   "source": [
    "lista_na = list(aux_na.head(19).T.columns)"
   ]
  },
  {
   "cell_type": "markdown",
   "metadata": {},
   "source": [
    "#   "
   ]
  },
  {
   "cell_type": "code",
   "execution_count": 14,
   "metadata": {},
   "outputs": [
    {
     "name": "stdout",
     "output_type": "stream",
     "text": [
      "-------------------\n",
      "#NAs= 8\n",
      "MasVnrType\n",
      "AxesSubplot(0.125,0.125;0.62x0.755)\n"
     ]
    },
    {
     "data": {
      "image/png": "[encoded data removed]",
      "text/plain": [
       "<matplotlib.figure.Figure at 0x1a1fdf86a0>"
      ]
     },
     "metadata": {},
     "output_type": "display_data"
    }
   ],
   "source": [
    "variavel = 'MasVnrType'\n",
    "agg_dict = {'Id' : 'count'}\n",
    "heatmap = df.groupby([variavel,'SalePrice_percentil']).agg(agg_dict).copy()\n",
    "heatmap.reset_index(inplace= True)\n",
    "heatmap = heatmap.pivot(variavel,'SalePrice_percentil', 'Id').copy()\n",
    "print('-------------------')\n",
    "print('#NAs= '+str(df[variavel].isnull().sum()))\n",
    "print(variavel)\n",
    "print(sns.heatmap(heatmap, linewidths=.5, fmt='g',annot=True) )"
   ]
  },
  {
   "cell_type": "code",
   "execution_count": 15,
   "metadata": {},
   "outputs": [
    {
     "name": "stdout",
     "output_type": "stream",
     "text": [
      "-------------------\n",
      "#NAs= 8\n",
      "MasVnrType\n",
      "AxesSubplot(0.125,0.125;0.62x0.755)\n"
     ]
    },
    {
     "data": {
      "image/png": "[encoded data removed]",
      "text/plain": [
       "<matplotlib.figure.Figure at 0x1113226d8>"
      ]
     },
     "metadata": {},
     "output_type": "display_data"
    }
   ],
   "source": [
    "teste = df[['MasVnrType','SalePrice_percentil','Id']].copy()\n",
    "teste.fillna('nAAA', inplace=True)\n",
    "\n",
    "variavel = 'MasVnrType'\n",
    "agg_dict = {'Id' : 'count'}\n",
    "heatmap = teste.groupby([variavel,'SalePrice_percentil']).agg(agg_dict).copy()\n",
    "heatmap.reset_index(inplace= True)\n",
    "heatmap = heatmap.pivot(variavel,'SalePrice_percentil', 'Id').copy()\n",
    "print('-------------------')\n",
    "print('#NAs= '+str(df[variavel].isnull().sum()))\n",
    "print(variavel)\n",
    "print(sns.heatmap(heatmap, linewidths=.5, fmt='g',annot=True) )"
   ]
  },
  {
   "cell_type": "raw",
   "metadata": {},
   "source": [
    "Variables to be drop:\n",
    "\n",
    "Alley PoolQC Utility MiscFeature\n",
    "\n",
    "Variables we are in doubt: Fence LotFrontage -> fill missing values\n",
    "\n",
    "Variables to workout: FireplaceQu -> make it a binary variable (there is or isn't a fireplace) MasVnrType -> prediction using the year\n",
    "\n",
    "Variables to create: NumberOfExcellentFeatures -> sum all the categorical variable that has quality values to see if that is relevant Clustering?"
   ]
  },
  {
   "cell_type": "code",
   "execution_count": 16,
   "metadata": {},
   "outputs": [
    {
     "data": {
      "text/plain": [
       "NaN    690\n",
       "Gd     380\n",
       "TA     313\n",
       "Fa      33\n",
       "Ex      24\n",
       "Po      20\n",
       "Name: FireplaceQu, dtype: int64"
      ]
     },
     "execution_count": 16,
     "metadata": {},
     "output_type": "execute_result"
    }
   ],
   "source": [
    "df.FireplaceQu.value_counts(dropna=False)"
   ]
  },
  {
   "cell_type": "code",
   "execution_count": 17,
   "metadata": {},
   "outputs": [],
   "source": [
    "colunas_categoric = []\n",
    "for c in range(len(colunas_type)):\n",
    "    if str(colunas_type[c]) == 'object':\n",
    "        colunas_categoric.append(colunas_description[c])"
   ]
  },
  {
   "cell_type": "code",
   "execution_count": 18,
   "metadata": {},
   "outputs": [],
   "source": [
    "df_cluster_ohe = pd.get_dummies(df[colunas_categoric].fillna(0), columns = colunas_categoric)"
   ]
  },
  {
   "cell_type": "code",
   "execution_count": 19,
   "metadata": {},
   "outputs": [],
   "source": [
    "k_means = KMeans(n_clusters = 5)\n",
    "k_means.fit(df_cluster_ohe)\n",
    "df_cluster_ = pd.DataFrame(k_means.labels_, index = df_cluster_ohe.index, columns = ['cluster'])"
   ]
  },
  {
   "cell_type": "code",
   "execution_count": 20,
   "metadata": {},
   "outputs": [
    {
     "data": {
      "text/plain": [
       "0     81\n",
       "1    524\n",
       "2    289\n",
       "3    340\n",
       "4    226\n",
       "Name: cluster, dtype: int64"
      ]
     },
     "execution_count": 20,
     "metadata": {},
     "output_type": "execute_result"
    }
   ],
   "source": [
    "df_cluster_.cluster.value_counts().sort_index()"
   ]
  },
  {
   "cell_type": "markdown",
   "metadata": {},
   "source": [
    "#  "
   ]
  },
  {
   "cell_type": "code",
   "execution_count": 21,
   "metadata": {},
   "outputs": [],
   "source": [
    "colunas = ['LotFrontage', 'LotArea', 'MasVnrArea', 'BsmtFinSF1', 'BsmtFinSF2', 'BsmtUnfSF', \n",
    "           'TotalBsmtSF', '1stFlrSF', '2ndFlrSF', 'LowQualFinSF','GrLivArea','GarageArea', \n",
    "           'WoodDeckSF','OpenPorchSF', 'EnclosedPorch','3SsnPorch', 'ScreenPorch', 'PoolArea', 'MiscVal','SalePrice']"
   ]
  },
  {
   "cell_type": "code",
   "execution_count": 22,
   "metadata": {},
   "outputs": [],
   "source": [
    "df_clusters_compara = pd.concat([df[colunas],df_cluster_],axis=1)"
   ]
  },
  {
   "cell_type": "code",
   "execution_count": 23,
   "metadata": {},
   "outputs": [],
   "source": [
    "df_clusters_compara.fillna(0, inplace=True)"
   ]
  },
  {
   "cell_type": "code",
   "execution_count": 24,
   "metadata": {},
   "outputs": [],
   "source": [
    "dict_ = {str(i): 'mean' for i in colunas}"
   ]
  },
  {
   "cell_type": "code",
   "execution_count": 25,
   "metadata": {},
   "outputs": [
    {
     "data": {
      "text/html": [
       "<div>\n",
       "<style scoped>\n",
       "    .dataframe tbody tr th:only-of-type {\n",
       "        vertical-align: middle;\n",
       "    }\n",
       "\n",
       "    .dataframe tbody tr th {\n",
       "        vertical-align: top;\n",
       "    }\n",
       "\n",
       "    .dataframe thead th {\n",
       "        text-align: right;\n",
       "    }\n",
       "</style>\n",
       "<table border=\"1\" class=\"dataframe\">\n",
       "  <thead>\n",
       "    <tr style=\"text-align: right;\">\n",
       "      <th>cluster</th>\n",
       "      <th>0</th>\n",
       "      <th>3</th>\n",
       "      <th>4</th>\n",
       "      <th>2</th>\n",
       "      <th>1</th>\n",
       "    </tr>\n",
       "  </thead>\n",
       "  <tbody>\n",
       "    <tr>\n",
       "      <th>LotFrontage</th>\n",
       "      <td>55.185185</td>\n",
       "      <td>58.026471</td>\n",
       "      <td>55.893805</td>\n",
       "      <td>49.508651</td>\n",
       "      <td>62.959924</td>\n",
       "    </tr>\n",
       "    <tr>\n",
       "      <th>LotArea</th>\n",
       "      <td>7469.679012</td>\n",
       "      <td>9430.776471</td>\n",
       "      <td>8802.973451</td>\n",
       "      <td>14474.411765</td>\n",
       "      <td>10249.015267</td>\n",
       "    </tr>\n",
       "    <tr>\n",
       "      <th>MasVnrArea</th>\n",
       "      <td>13.777778</td>\n",
       "      <td>61.967647</td>\n",
       "      <td>19.792035</td>\n",
       "      <td>129.003460</td>\n",
       "      <td>165.288168</td>\n",
       "    </tr>\n",
       "    <tr>\n",
       "      <th>BsmtFinSF1</th>\n",
       "      <td>240.382716</td>\n",
       "      <td>435.788235</td>\n",
       "      <td>150.982301</td>\n",
       "      <td>591.674740</td>\n",
       "      <td>524.730916</td>\n",
       "    </tr>\n",
       "    <tr>\n",
       "      <th>BsmtFinSF2</th>\n",
       "      <td>20.111111</td>\n",
       "      <td>79.123529</td>\n",
       "      <td>17.703540</td>\n",
       "      <td>91.467128</td>\n",
       "      <td>17.167939</td>\n",
       "    </tr>\n",
       "    <tr>\n",
       "      <th>BsmtUnfSF</th>\n",
       "      <td>507.234568</td>\n",
       "      <td>398.285294</td>\n",
       "      <td>634.880531</td>\n",
       "      <td>428.508651</td>\n",
       "      <td>733.484733</td>\n",
       "    </tr>\n",
       "    <tr>\n",
       "      <th>TotalBsmtSF</th>\n",
       "      <td>767.728395</td>\n",
       "      <td>913.197059</td>\n",
       "      <td>803.566372</td>\n",
       "      <td>1111.650519</td>\n",
       "      <td>1275.383588</td>\n",
       "    </tr>\n",
       "    <tr>\n",
       "      <th>1stFlrSF</th>\n",
       "      <td>915.716049</td>\n",
       "      <td>1045.502941</td>\n",
       "      <td>960.216814</td>\n",
       "      <td>1291.719723</td>\n",
       "      <td>1292.891221</td>\n",
       "    </tr>\n",
       "    <tr>\n",
       "      <th>2ndFlrSF</th>\n",
       "      <td>237.481481</td>\n",
       "      <td>131.355882</td>\n",
       "      <td>481.756637</td>\n",
       "      <td>329.636678</td>\n",
       "      <td>455.286260</td>\n",
       "    </tr>\n",
       "    <tr>\n",
       "      <th>LowQualFinSF</th>\n",
       "      <td>34.950617</td>\n",
       "      <td>0.682353</td>\n",
       "      <td>21.504425</td>\n",
       "      <td>1.557093</td>\n",
       "      <td>0.305344</td>\n",
       "    </tr>\n",
       "    <tr>\n",
       "      <th>GrLivArea</th>\n",
       "      <td>1188.148148</td>\n",
       "      <td>1177.541176</td>\n",
       "      <td>1463.477876</td>\n",
       "      <td>1622.913495</td>\n",
       "      <td>1748.482824</td>\n",
       "    </tr>\n",
       "    <tr>\n",
       "      <th>GarageArea</th>\n",
       "      <td>0.000000</td>\n",
       "      <td>420.558824</td>\n",
       "      <td>384.712389</td>\n",
       "      <td>487.498270</td>\n",
       "      <td>610.169847</td>\n",
       "    </tr>\n",
       "    <tr>\n",
       "      <th>WoodDeckSF</th>\n",
       "      <td>39.555556</td>\n",
       "      <td>61.620588</td>\n",
       "      <td>52.446903</td>\n",
       "      <td>123.501730</td>\n",
       "      <td>125.757634</td>\n",
       "    </tr>\n",
       "    <tr>\n",
       "      <th>OpenPorchSF</th>\n",
       "      <td>36.172840</td>\n",
       "      <td>21.811765</td>\n",
       "      <td>31.238938</td>\n",
       "      <td>49.363322</td>\n",
       "      <td>69.564885</td>\n",
       "    </tr>\n",
       "    <tr>\n",
       "      <th>EnclosedPorch</th>\n",
       "      <td>37.530864</td>\n",
       "      <td>16.602941</td>\n",
       "      <td>69.907080</td>\n",
       "      <td>16.366782</td>\n",
       "      <td>5.417939</td>\n",
       "    </tr>\n",
       "    <tr>\n",
       "      <th>3SsnPorch</th>\n",
       "      <td>0.000000</td>\n",
       "      <td>0.529412</td>\n",
       "      <td>1.256637</td>\n",
       "      <td>9.297578</td>\n",
       "      <td>3.486641</td>\n",
       "    </tr>\n",
       "    <tr>\n",
       "      <th>ScreenPorch</th>\n",
       "      <td>0.000000</td>\n",
       "      <td>11.876471</td>\n",
       "      <td>16.265487</td>\n",
       "      <td>32.463668</td>\n",
       "      <td>9.337786</td>\n",
       "    </tr>\n",
       "    <tr>\n",
       "      <th>PoolArea</th>\n",
       "      <td>0.000000</td>\n",
       "      <td>0.000000</td>\n",
       "      <td>2.265487</td>\n",
       "      <td>8.584775</td>\n",
       "      <td>1.975191</td>\n",
       "    </tr>\n",
       "    <tr>\n",
       "      <th>MiscVal</th>\n",
       "      <td>53.703704</td>\n",
       "      <td>70.852941</td>\n",
       "      <td>33.955752</td>\n",
       "      <td>81.660900</td>\n",
       "      <td>7.213740</td>\n",
       "    </tr>\n",
       "    <tr>\n",
       "      <th>SalePrice</th>\n",
       "      <td>103317.283951</td>\n",
       "      <td>131765.058824</td>\n",
       "      <td>133806.632743</td>\n",
       "      <td>184687.003460</td>\n",
       "      <td>243055.883588</td>\n",
       "    </tr>\n",
       "  </tbody>\n",
       "</table>\n",
       "</div>"
      ],
      "text/plain": [
       "cluster                    0              3              4              2  \\\n",
       "LotFrontage        55.185185      58.026471      55.893805      49.508651   \n",
       "LotArea          7469.679012    9430.776471    8802.973451   14474.411765   \n",
       "MasVnrArea         13.777778      61.967647      19.792035     129.003460   \n",
       "BsmtFinSF1        240.382716     435.788235     150.982301     591.674740   \n",
       "BsmtFinSF2         20.111111      79.123529      17.703540      91.467128   \n",
       "BsmtUnfSF         507.234568     398.285294     634.880531     428.508651   \n",
       "TotalBsmtSF       767.728395     913.197059     803.566372    1111.650519   \n",
       "1stFlrSF          915.716049    1045.502941     960.216814    1291.719723   \n",
       "2ndFlrSF          237.481481     131.355882     481.756637     329.636678   \n",
       "LowQualFinSF       34.950617       0.682353      21.504425       1.557093   \n",
       "GrLivArea        1188.148148    1177.541176    1463.477876    1622.913495   \n",
       "GarageArea          0.000000     420.558824     384.712389     487.498270   \n",
       "WoodDeckSF         39.555556      61.620588      52.446903     123.501730   \n",
       "OpenPorchSF        36.172840      21.811765      31.238938      49.363322   \n",
       "EnclosedPorch      37.530864      16.602941      69.907080      16.366782   \n",
       "3SsnPorch           0.000000       0.529412       1.256637       9.297578   \n",
       "ScreenPorch         0.000000      11.876471      16.265487      32.463668   \n",
       "PoolArea            0.000000       0.000000       2.265487       8.584775   \n",
       "MiscVal            53.703704      70.852941      33.955752      81.660900   \n",
       "SalePrice      103317.283951  131765.058824  133806.632743  184687.003460   \n",
       "\n",
       "cluster                    1  \n",
       "LotFrontage        62.959924  \n",
       "LotArea         10249.015267  \n",
       "MasVnrArea        165.288168  \n",
       "BsmtFinSF1        524.730916  \n",
       "BsmtFinSF2         17.167939  \n",
       "BsmtUnfSF         733.484733  \n",
       "TotalBsmtSF      1275.383588  \n",
       "1stFlrSF         1292.891221  \n",
       "2ndFlrSF          455.286260  \n",
       "LowQualFinSF        0.305344  \n",
       "GrLivArea        1748.482824  \n",
       "GarageArea        610.169847  \n",
       "WoodDeckSF        125.757634  \n",
       "OpenPorchSF        69.564885  \n",
       "EnclosedPorch       5.417939  \n",
       "3SsnPorch           3.486641  \n",
       "ScreenPorch         9.337786  \n",
       "PoolArea            1.975191  \n",
       "MiscVal             7.213740  \n",
       "SalePrice      243055.883588  "
      ]
     },
     "execution_count": 25,
     "metadata": {},
     "output_type": "execute_result"
    }
   ],
   "source": [
    "df_clusters_centers = df_clusters_compara.groupby('cluster').agg(dict_).sort_values('SalePrice')\n",
    "df_clusters_centers.T"
   ]
  },
  {
   "cell_type": "code",
   "execution_count": 26,
   "metadata": {},
   "outputs": [],
   "source": [
    "# normalizando features\n",
    "from sklearn.preprocessing import StandardScaler\n",
    "scaler = StandardScaler()\n",
    "X = scaler.fit_transform(df_clusters_compara.groupby('cluster').agg(dict_).sort_values('SalePrice'))"
   ]
  },
  {
   "cell_type": "code",
   "execution_count": 27,
   "metadata": {},
   "outputs": [
    {
     "name": "stdout",
     "output_type": "stream",
     "text": [
      "AxesSubplot(0.125,0.125;0.62x0.755)\n"
     ]
    },
    {
     "data": {
      "image/png": "[encoded data removed]",
      "text/plain": [
       "<matplotlib.figure.Figure at 0x1a204969e8>"
      ]
     },
     "metadata": {},
     "output_type": "display_data"
    }
   ],
   "source": [
    "print(sns.heatmap(pd.DataFrame(X, columns=colunas).T))"
   ]
  },
  {
   "cell_type": "code",
   "execution_count": 28,
   "metadata": {},
   "outputs": [],
   "source": [
    "colunas = ['LotFrontage', 'LotArea', 'MasVnrArea', 'BsmtFinSF1', 'BsmtFinSF2',\n",
    "           'BsmtUnfSF', 'TotalBsmtSF', '1stFlrSF', '2ndFlrSF', 'LowQualFinSF',\n",
    "           'GrLivArea', 'GarageArea', 'WoodDeckSF', 'OpenPorchSF', 'EnclosedPorch',\n",
    "           '3SsnPorch', 'ScreenPorch', 'PoolArea', 'MiscVal']"
   ]
  },
  {
   "cell_type": "code",
   "execution_count": 29,
   "metadata": {},
   "outputs": [
    {
     "data": {
      "text/plain": [
       "(1460, 19)"
      ]
     },
     "execution_count": 29,
     "metadata": {},
     "output_type": "execute_result"
    }
   ],
   "source": [
    "df[colunas].shape"
   ]
  },
  {
   "cell_type": "code",
   "execution_count": 30,
   "metadata": {},
   "outputs": [
    {
     "data": {
      "text/html": [
       "<div>\n",
       "<style scoped>\n",
       "    .dataframe tbody tr th:only-of-type {\n",
       "        vertical-align: middle;\n",
       "    }\n",
       "\n",
       "    .dataframe tbody tr th {\n",
       "        vertical-align: top;\n",
       "    }\n",
       "\n",
       "    .dataframe thead th {\n",
       "        text-align: right;\n",
       "    }\n",
       "</style>\n",
       "<table border=\"1\" class=\"dataframe\">\n",
       "  <thead>\n",
       "    <tr style=\"text-align: right;\">\n",
       "      <th></th>\n",
       "      <th>LotFrontage</th>\n",
       "      <th>LotArea</th>\n",
       "      <th>MasVnrArea</th>\n",
       "      <th>BsmtFinSF1</th>\n",
       "      <th>BsmtFinSF2</th>\n",
       "      <th>BsmtUnfSF</th>\n",
       "      <th>TotalBsmtSF</th>\n",
       "      <th>1stFlrSF</th>\n",
       "      <th>2ndFlrSF</th>\n",
       "      <th>LowQualFinSF</th>\n",
       "      <th>GrLivArea</th>\n",
       "      <th>GarageArea</th>\n",
       "      <th>WoodDeckSF</th>\n",
       "      <th>OpenPorchSF</th>\n",
       "      <th>EnclosedPorch</th>\n",
       "      <th>3SsnPorch</th>\n",
       "      <th>ScreenPorch</th>\n",
       "      <th>PoolArea</th>\n",
       "      <th>MiscVal</th>\n",
       "    </tr>\n",
       "  </thead>\n",
       "  <tbody>\n",
       "    <tr>\n",
       "      <th>0</th>\n",
       "      <td>65.0</td>\n",
       "      <td>8450</td>\n",
       "      <td>196.0</td>\n",
       "      <td>706</td>\n",
       "      <td>0</td>\n",
       "      <td>150</td>\n",
       "      <td>856</td>\n",
       "      <td>856</td>\n",
       "      <td>854</td>\n",
       "      <td>0</td>\n",
       "      <td>1710</td>\n",
       "      <td>548</td>\n",
       "      <td>0</td>\n",
       "      <td>61</td>\n",
       "      <td>0</td>\n",
       "      <td>0</td>\n",
       "      <td>0</td>\n",
       "      <td>0</td>\n",
       "      <td>0</td>\n",
       "    </tr>\n",
       "    <tr>\n",
       "      <th>1</th>\n",
       "      <td>80.0</td>\n",
       "      <td>9600</td>\n",
       "      <td>0.0</td>\n",
       "      <td>978</td>\n",
       "      <td>0</td>\n",
       "      <td>284</td>\n",
       "      <td>1262</td>\n",
       "      <td>1262</td>\n",
       "      <td>0</td>\n",
       "      <td>0</td>\n",
       "      <td>1262</td>\n",
       "      <td>460</td>\n",
       "      <td>298</td>\n",
       "      <td>0</td>\n",
       "      <td>0</td>\n",
       "      <td>0</td>\n",
       "      <td>0</td>\n",
       "      <td>0</td>\n",
       "      <td>0</td>\n",
       "    </tr>\n",
       "  </tbody>\n",
       "</table>\n",
       "</div>"
      ],
      "text/plain": [
       "   LotFrontage  LotArea  MasVnrArea  BsmtFinSF1  BsmtFinSF2  BsmtUnfSF  \\\n",
       "0         65.0     8450       196.0         706           0        150   \n",
       "1         80.0     9600         0.0         978           0        284   \n",
       "\n",
       "   TotalBsmtSF  1stFlrSF  2ndFlrSF  LowQualFinSF  GrLivArea  GarageArea  \\\n",
       "0          856       856       854             0       1710         548   \n",
       "1         1262      1262         0             0       1262         460   \n",
       "\n",
       "   WoodDeckSF  OpenPorchSF  EnclosedPorch  3SsnPorch  ScreenPorch  PoolArea  \\\n",
       "0           0           61              0          0            0         0   \n",
       "1         298            0              0          0            0         0   \n",
       "\n",
       "   MiscVal  \n",
       "0        0  \n",
       "1        0  "
      ]
     },
     "execution_count": 30,
     "metadata": {},
     "output_type": "execute_result"
    }
   ],
   "source": [
    "df[colunas].head(2)"
   ]
  },
  {
   "cell_type": "code",
   "execution_count": 31,
   "metadata": {},
   "outputs": [],
   "source": [
    "colunas = ['LotFrontage','LotArea','YearBuilt','YearRemodAdd','MasVnrArea','BsmtFinSF1', \n",
    "          'BsmtFinSF2','BsmtUnfSF','TotalBsmtSF','1stFlrSF','2ndFlrSF','LowQualFinSF', \n",
    "          'GrLivArea','BsmtFullBath','BsmtHalfBath','FullBath','HalfBath','TotRmsAbvGrd',\n",
    "           'Fireplaces','GarageYrBlt','GarageCars','GarageArea', \n",
    "          'WoodDeckSF','OpenPorchSF','EnclosedPorch','3SsnPorch','ScreenPorch','PoolArea','MiscVal']"
   ]
  },
  {
   "cell_type": "code",
   "execution_count": 32,
   "metadata": {},
   "outputs": [
    {
     "data": {
      "text/plain": [
       "(1460, 29)"
      ]
     },
     "execution_count": 32,
     "metadata": {},
     "output_type": "execute_result"
    }
   ],
   "source": [
    "df[colunas].shape"
   ]
  },
  {
   "cell_type": "code",
   "execution_count": 33,
   "metadata": {},
   "outputs": [
    {
     "data": {
      "text/plain": [
       "(1460, 262)"
      ]
     },
     "execution_count": 33,
     "metadata": {},
     "output_type": "execute_result"
    }
   ],
   "source": [
    "df_cluster_ohe.shape"
   ]
  },
  {
   "cell_type": "code",
   "execution_count": 34,
   "metadata": {},
   "outputs": [],
   "source": [
    "result = pd.concat([df[colunas], df_cluster_ohe], axis=1)"
   ]
  },
  {
   "cell_type": "code",
   "execution_count": 35,
   "metadata": {},
   "outputs": [
    {
     "data": {
      "text/plain": [
       "(1460, 291)"
      ]
     },
     "execution_count": 35,
     "metadata": {},
     "output_type": "execute_result"
    }
   ],
   "source": [
    "result.shape"
   ]
  },
  {
   "cell_type": "code",
   "execution_count": 36,
   "metadata": {},
   "outputs": [
    {
     "data": {
      "text/plain": [
       "291"
      ]
     },
     "execution_count": 36,
     "metadata": {},
     "output_type": "execute_result"
    }
   ],
   "source": [
    "len(set(result.columns))"
   ]
  },
  {
   "cell_type": "code",
   "execution_count": 37,
   "metadata": {},
   "outputs": [],
   "source": [
    "from sklearn.model_selection import train_test_split\n",
    "import sklearn.metrics as metrics"
   ]
  },
  {
   "cell_type": "code",
   "execution_count": 38,
   "metadata": {},
   "outputs": [],
   "source": [
    "X_train, X_test, y_train, y_test = train_test_split(result.fillna(0), df_cluster_.cluster, random_state = 0,test_size=0.20)"
   ]
  },
  {
   "cell_type": "code",
   "execution_count": 39,
   "metadata": {},
   "outputs": [
    {
     "name": "stdout",
     "output_type": "stream",
     "text": [
      "Train\n",
      "0.6001712328767124\n",
      " \n",
      "Test\n",
      "0.5856164383561644\n"
     ]
    }
   ],
   "source": [
    "from sklearn.naive_bayes import MultinomialNB\n",
    "\n",
    "clf = MultinomialNB().fit(X_train, y_train)\n",
    "\n",
    "predicted_y = clf.predict(X_train)\n",
    "print(\"Train\")\n",
    "print(metrics.accuracy_score(y_train, predicted_y))\n",
    "print(\" \")\n",
    "\n",
    "predicted_y = clf.predict(X_test)\n",
    "print(\"Test\")\n",
    "print(metrics.accuracy_score(y_test, predicted_y))"
   ]
  },
  {
   "cell_type": "code",
   "execution_count": 40,
   "metadata": {},
   "outputs": [
    {
     "name": "stdout",
     "output_type": "stream",
     "text": [
      "Train\n",
      "0.9118150684931506\n",
      " \n",
      "Test\n",
      "0.8767123287671232\n"
     ]
    }
   ],
   "source": [
    "from sklearn.linear_model import LogisticRegression\n",
    "\n",
    "X = X_train\n",
    "y = y_train.values\n",
    "lr = LogisticRegression(random_state=0)\n",
    "lr.fit(X, y)\n",
    "\n",
    "predicted_y = lr.predict(X_train)\n",
    "print(\"Train\")\n",
    "print(metrics.accuracy_score(y_train.values, predicted_y))\n",
    "print(\" \")\n",
    "\n",
    "predicted_y = lr.predict(X_test)\n",
    "print(\"Test\")\n",
    "print(metrics.accuracy_score(y_test.values, predicted_y))"
   ]
  },
  {
   "cell_type": "code",
   "execution_count": 41,
   "metadata": {},
   "outputs": [
    {
     "name": "stdout",
     "output_type": "stream",
     "text": [
      "Train\n",
      "0.9991438356164384\n",
      " \n",
      "Test\n",
      "0.9006849315068494\n"
     ]
    }
   ],
   "source": [
    "from sklearn.ensemble import RandomForestClassifier\n",
    "\n",
    "rf = RandomForestClassifier(n_estimators=17, max_depth=60, random_state=0)\n",
    "rf.fit(X_train.values, y_train.values)\n",
    "\n",
    "predicted_y  = rf.predict(X_train.values)\n",
    "print(\"Train\")\n",
    "print(metrics.accuracy_score(y_train.values, predicted_y))\n",
    "print(\" \")\n",
    "\n",
    "predicted_y = rf.predict(X_test.values)\n",
    "print(\"Test\")\n",
    "print(metrics.accuracy_score(y_test.values, predicted_y))"
   ]
  },
  {
   "cell_type": "code",
   "execution_count": 42,
   "metadata": {},
   "outputs": [],
   "source": [
    "predict = rf.predict(result.fillna(0).values)"
   ]
  },
  {
   "cell_type": "code",
   "execution_count": 43,
   "metadata": {},
   "outputs": [],
   "source": [
    "d = {'predict': predict, 'real_cluster': df_cluster_.cluster}\n",
    "confere = pd.DataFrame(data=d)\n",
    "confere['aux'] = 1"
   ]
  },
  {
   "cell_type": "code",
   "execution_count": 44,
   "metadata": {},
   "outputs": [
    {
     "data": {
      "text/html": [
       "<div>\n",
       "<style scoped>\n",
       "    .dataframe tbody tr th:only-of-type {\n",
       "        vertical-align: middle;\n",
       "    }\n",
       "\n",
       "    .dataframe tbody tr th {\n",
       "        vertical-align: top;\n",
       "    }\n",
       "\n",
       "    .dataframe thead th {\n",
       "        text-align: right;\n",
       "    }\n",
       "</style>\n",
       "<table border=\"1\" class=\"dataframe\">\n",
       "  <thead>\n",
       "    <tr style=\"text-align: right;\">\n",
       "      <th></th>\n",
       "      <th>predict</th>\n",
       "      <th>real_cluster</th>\n",
       "      <th>aux</th>\n",
       "    </tr>\n",
       "  </thead>\n",
       "  <tbody>\n",
       "    <tr>\n",
       "      <th>0</th>\n",
       "      <td>1</td>\n",
       "      <td>1</td>\n",
       "      <td>1</td>\n",
       "    </tr>\n",
       "    <tr>\n",
       "      <th>1</th>\n",
       "      <td>2</td>\n",
       "      <td>2</td>\n",
       "      <td>1</td>\n",
       "    </tr>\n",
       "    <tr>\n",
       "      <th>2</th>\n",
       "      <td>1</td>\n",
       "      <td>1</td>\n",
       "      <td>1</td>\n",
       "    </tr>\n",
       "    <tr>\n",
       "      <th>3</th>\n",
       "      <td>4</td>\n",
       "      <td>4</td>\n",
       "      <td>1</td>\n",
       "    </tr>\n",
       "    <tr>\n",
       "      <th>4</th>\n",
       "      <td>1</td>\n",
       "      <td>1</td>\n",
       "      <td>1</td>\n",
       "    </tr>\n",
       "  </tbody>\n",
       "</table>\n",
       "</div>"
      ],
      "text/plain": [
       "   predict  real_cluster  aux\n",
       "0        1             1    1\n",
       "1        2             2    1\n",
       "2        1             1    1\n",
       "3        4             4    1\n",
       "4        1             1    1"
      ]
     },
     "execution_count": 44,
     "metadata": {},
     "output_type": "execute_result"
    }
   ],
   "source": [
    "confere.head()"
   ]
  },
  {
   "cell_type": "code",
   "execution_count": 45,
   "metadata": {},
   "outputs": [
    {
     "data": {
      "text/plain": [
       "<matplotlib.axes._subplots.AxesSubplot at 0x1a2056b160>"
      ]
     },
     "execution_count": 45,
     "metadata": {},
     "output_type": "execute_result"
    },
    {
     "data": {
      "image/png": "[encoded data removed]",
      "text/plain": [
       "<matplotlib.figure.Figure at 0x1a1fe4c240>"
      ]
     },
     "metadata": {},
     "output_type": "display_data"
    }
   ],
   "source": [
    "agg_dict = {'aux' : 'sum'}\n",
    "heatmap = confere.groupby(['real_cluster','predict'],as_index=False).agg(agg_dict).copy()\n",
    "heatmap = heatmap.pivot('real_cluster','predict', 'aux').copy()\n",
    "sns.heatmap(heatmap, linewidths=.5, fmt='g',annot=True)"
   ]
  },
  {
   "cell_type": "code",
   "execution_count": null,
   "metadata": {},
   "outputs": [],
   "source": []
  },
  {
   "cell_type": "code",
   "execution_count": null,
   "metadata": {},
   "outputs": [],
   "source": []
  },
  {
   "cell_type": "code",
   "execution_count": null,
   "metadata": {},
   "outputs": [],
   "source": []
  },
  {
   "cell_type": "code",
   "execution_count": null,
   "metadata": {},
   "outputs": [],
   "source": []
  }
 ],
 "metadata": {
  "kernelspec": {
   "display_name": "Python 3",
   "language": "python",
   "name": "python3"
  },
  "language_info": {
   "codemirror_mode": {
    "name": "ipython",
    "version": 3
   },
   "file_extension": ".py",
   "mimetype": "text/x-python",
   "name": "python",
   "nbconvert_exporter": "python",
   "pygments_lexer": "ipython3",
   "version": "3.6.4"
  }
 },
 "nbformat": 4,
 "nbformat_minor": 2
}
